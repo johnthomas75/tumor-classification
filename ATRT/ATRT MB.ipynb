{
 "cells": [
  {
   "cell_type": "markdown",
   "metadata": {},
   "source": [
    "# Tumors"
   ]
  },
  {
   "cell_type": "code",
   "execution_count": 57,
   "metadata": {},
   "outputs": [],
   "source": [
    "import numpy as np\n",
    "import pandas as pd\n",
    "from sklearn import svm\n",
    "from sklearn import preprocessing\n",
    "from sklearn.linear_model import LogisticRegression\n",
    "from sklearn.neighbors import KNeighborsClassifier\n",
    "from sklearn.ensemble import RandomForestClassifier\n",
    "from sklearn.neural_network import MLPClassifier\n",
    "from xgboost import XGBClassifier\n",
    "from sklearn.multiclass import OneVsRestClassifier\n",
    "from sklearn.multiclass import OneVsOneClassifier\n",
    "from sklearn.model_selection import train_test_split\n",
    "from sklearn.model_selection import GridSearchCV\n",
    "from sklearn.model_selection import cross_val_score\n",
    "from sklearn.utils import resample\n",
    "from sklearn.svm import LinearSVC\n",
    "from sklearn.metrics import accuracy_score, precision_score, recall_score, f1_score, roc_curve, roc_auc_score, plot_confusion_matrix\n",
    "from sklearn.preprocessing import label_binarize\n",
    "import matplotlib.pyplot as plt\n",
    "import matplotlib.pyplot as plt\n",
    "import matplotlib.ticker as mtick"
   ]
  },
  {
   "cell_type": "code",
   "execution_count": 58,
   "metadata": {},
   "outputs": [],
   "source": [
    "import seaborn as sns\n",
    "sns.set()"
   ]
  },
  {
   "cell_type": "code",
   "execution_count": 59,
   "metadata": {},
   "outputs": [],
   "source": [
    "df = pd.read_excel(\"/Users/samwwong/Desktop/Michael Zhang/atrt_mb_features.xlsx\")"
   ]
  },
  {
   "cell_type": "code",
   "execution_count": 60,
   "metadata": {},
   "outputs": [
    {
     "data": {
      "text/html": [
       "<div>\n",
       "<style scoped>\n",
       "    .dataframe tbody tr th:only-of-type {\n",
       "        vertical-align: middle;\n",
       "    }\n",
       "\n",
       "    .dataframe tbody tr th {\n",
       "        vertical-align: top;\n",
       "    }\n",
       "\n",
       "    .dataframe thead th {\n",
       "        text-align: right;\n",
       "    }\n",
       "</style>\n",
       "<table border=\"1\" class=\"dataframe\">\n",
       "  <thead>\n",
       "    <tr style=\"text-align: right;\">\n",
       "      <th></th>\n",
       "      <th>id</th>\n",
       "      <th>molec</th>\n",
       "      <th>path</th>\n",
       "      <th>inst</th>\n",
       "      <th>t1_log-sigma-1-mm-3D_firstorder_10Percentile</th>\n",
       "      <th>t1_log-sigma-1-mm-3D_firstorder_90Percentile</th>\n",
       "      <th>t1_log-sigma-1-mm-3D_firstorder_Energy</th>\n",
       "      <th>t1_log-sigma-1-mm-3D_firstorder_Entropy</th>\n",
       "      <th>t1_log-sigma-1-mm-3D_firstorder_InterquartileRange</th>\n",
       "      <th>t1_log-sigma-1-mm-3D_firstorder_Kurtosis</th>\n",
       "      <th>...</th>\n",
       "      <th>t2_wavelet-LLL_glszm_LargeAreaLowGrayLevelEmphasis</th>\n",
       "      <th>t2_wavelet-LLL_glszm_LowGrayLevelZoneEmphasis</th>\n",
       "      <th>t2_wavelet-LLL_glszm_SizeZoneNonUniformity</th>\n",
       "      <th>t2_wavelet-LLL_glszm_SizeZoneNonUniformityNormalized</th>\n",
       "      <th>t2_wavelet-LLL_glszm_SmallAreaEmphasis</th>\n",
       "      <th>t2_wavelet-LLL_glszm_SmallAreaHighGrayLevelEmphasis</th>\n",
       "      <th>t2_wavelet-LLL_glszm_SmallAreaLowGrayLevelEmphasis</th>\n",
       "      <th>t2_wavelet-LLL_glszm_ZoneEntropy</th>\n",
       "      <th>t2_wavelet-LLL_glszm_ZonePercentage</th>\n",
       "      <th>t2_wavelet-LLL_glszm_ZoneVariance</th>\n",
       "    </tr>\n",
       "  </thead>\n",
       "  <tbody>\n",
       "    <tr>\n",
       "      <th>0</th>\n",
       "      <td>CG_PF-MB_M_0001_</td>\n",
       "      <td>other</td>\n",
       "      <td>mb</td>\n",
       "      <td>CG</td>\n",
       "      <td>-25.219442</td>\n",
       "      <td>16.497916</td>\n",
       "      <td>8891508.15</td>\n",
       "      <td>2.832741</td>\n",
       "      <td>21.553029</td>\n",
       "      <td>4.665331</td>\n",
       "      <td>...</td>\n",
       "      <td>2.046358</td>\n",
       "      <td>0.001964</td>\n",
       "      <td>2285.615615</td>\n",
       "      <td>0.379670</td>\n",
       "      <td>0.639573</td>\n",
       "      <td>857.481874</td>\n",
       "      <td>0.001500</td>\n",
       "      <td>7.542019</td>\n",
       "      <td>0.202339</td>\n",
       "      <td>1846.198652</td>\n",
       "    </tr>\n",
       "    <tr>\n",
       "      <th>1</th>\n",
       "      <td>CG_PF-MB_U_0002_</td>\n",
       "      <td>other</td>\n",
       "      <td>mb</td>\n",
       "      <td>CG</td>\n",
       "      <td>-19.829551</td>\n",
       "      <td>17.167626</td>\n",
       "      <td>13099908.90</td>\n",
       "      <td>2.613348</td>\n",
       "      <td>14.634901</td>\n",
       "      <td>11.210612</td>\n",
       "      <td>...</td>\n",
       "      <td>7.071965</td>\n",
       "      <td>0.000995</td>\n",
       "      <td>2960.526102</td>\n",
       "      <td>0.400396</td>\n",
       "      <td>0.657135</td>\n",
       "      <td>1573.328026</td>\n",
       "      <td>0.000558</td>\n",
       "      <td>7.841823</td>\n",
       "      <td>0.165532</td>\n",
       "      <td>7393.889573</td>\n",
       "    </tr>\n",
       "    <tr>\n",
       "      <th>2</th>\n",
       "      <td>CG_PF-MB_U_0003_</td>\n",
       "      <td>other</td>\n",
       "      <td>mb</td>\n",
       "      <td>CG</td>\n",
       "      <td>-26.324259</td>\n",
       "      <td>23.843131</td>\n",
       "      <td>16202381.50</td>\n",
       "      <td>3.072182</td>\n",
       "      <td>25.340992</td>\n",
       "      <td>3.710662</td>\n",
       "      <td>...</td>\n",
       "      <td>2.189343</td>\n",
       "      <td>0.001461</td>\n",
       "      <td>3107.165961</td>\n",
       "      <td>0.375852</td>\n",
       "      <td>0.636253</td>\n",
       "      <td>1069.732546</td>\n",
       "      <td>0.000904</td>\n",
       "      <td>7.893590</td>\n",
       "      <td>0.218912</td>\n",
       "      <td>1332.374317</td>\n",
       "    </tr>\n",
       "    <tr>\n",
       "      <th>3</th>\n",
       "      <td>CG_PF-MB_U_0004_</td>\n",
       "      <td>shh</td>\n",
       "      <td>mb</td>\n",
       "      <td>CG</td>\n",
       "      <td>-10.286191</td>\n",
       "      <td>7.504317</td>\n",
       "      <td>2369243.46</td>\n",
       "      <td>1.763421</td>\n",
       "      <td>8.596255</td>\n",
       "      <td>6.002950</td>\n",
       "      <td>...</td>\n",
       "      <td>0.735240</td>\n",
       "      <td>0.000488</td>\n",
       "      <td>3587.985098</td>\n",
       "      <td>0.408143</td>\n",
       "      <td>0.664023</td>\n",
       "      <td>4133.253093</td>\n",
       "      <td>0.000387</td>\n",
       "      <td>8.606348</td>\n",
       "      <td>0.208807</td>\n",
       "      <td>2774.748606</td>\n",
       "    </tr>\n",
       "    <tr>\n",
       "      <th>4</th>\n",
       "      <td>CG_PF-MB_U_0005_</td>\n",
       "      <td>other</td>\n",
       "      <td>mb</td>\n",
       "      <td>CG</td>\n",
       "      <td>-12.364784</td>\n",
       "      <td>9.052869</td>\n",
       "      <td>3973511.62</td>\n",
       "      <td>1.988826</td>\n",
       "      <td>10.305779</td>\n",
       "      <td>8.252516</td>\n",
       "      <td>...</td>\n",
       "      <td>1.899261</td>\n",
       "      <td>0.000787</td>\n",
       "      <td>4415.729118</td>\n",
       "      <td>0.426888</td>\n",
       "      <td>0.679228</td>\n",
       "      <td>1934.967931</td>\n",
       "      <td>0.000548</td>\n",
       "      <td>7.895451</td>\n",
       "      <td>0.225139</td>\n",
       "      <td>2351.904374</td>\n",
       "    </tr>\n",
       "  </tbody>\n",
       "</table>\n",
       "<p>5 rows × 1804 columns</p>\n",
       "</div>"
      ],
      "text/plain": [
       "                 id  molec path inst  \\\n",
       "0  CG_PF-MB_M_0001_  other   mb   CG   \n",
       "1  CG_PF-MB_U_0002_  other   mb   CG   \n",
       "2  CG_PF-MB_U_0003_  other   mb   CG   \n",
       "3  CG_PF-MB_U_0004_    shh   mb   CG   \n",
       "4  CG_PF-MB_U_0005_  other   mb   CG   \n",
       "\n",
       "   t1_log-sigma-1-mm-3D_firstorder_10Percentile  \\\n",
       "0                                    -25.219442   \n",
       "1                                    -19.829551   \n",
       "2                                    -26.324259   \n",
       "3                                    -10.286191   \n",
       "4                                    -12.364784   \n",
       "\n",
       "   t1_log-sigma-1-mm-3D_firstorder_90Percentile  \\\n",
       "0                                     16.497916   \n",
       "1                                     17.167626   \n",
       "2                                     23.843131   \n",
       "3                                      7.504317   \n",
       "4                                      9.052869   \n",
       "\n",
       "   t1_log-sigma-1-mm-3D_firstorder_Energy  \\\n",
       "0                              8891508.15   \n",
       "1                             13099908.90   \n",
       "2                             16202381.50   \n",
       "3                              2369243.46   \n",
       "4                              3973511.62   \n",
       "\n",
       "   t1_log-sigma-1-mm-3D_firstorder_Entropy  \\\n",
       "0                                 2.832741   \n",
       "1                                 2.613348   \n",
       "2                                 3.072182   \n",
       "3                                 1.763421   \n",
       "4                                 1.988826   \n",
       "\n",
       "   t1_log-sigma-1-mm-3D_firstorder_InterquartileRange  \\\n",
       "0                                          21.553029    \n",
       "1                                          14.634901    \n",
       "2                                          25.340992    \n",
       "3                                           8.596255    \n",
       "4                                          10.305779    \n",
       "\n",
       "   t1_log-sigma-1-mm-3D_firstorder_Kurtosis  ...  \\\n",
       "0                                  4.665331  ...   \n",
       "1                                 11.210612  ...   \n",
       "2                                  3.710662  ...   \n",
       "3                                  6.002950  ...   \n",
       "4                                  8.252516  ...   \n",
       "\n",
       "   t2_wavelet-LLL_glszm_LargeAreaLowGrayLevelEmphasis  \\\n",
       "0                                           2.046358    \n",
       "1                                           7.071965    \n",
       "2                                           2.189343    \n",
       "3                                           0.735240    \n",
       "4                                           1.899261    \n",
       "\n",
       "   t2_wavelet-LLL_glszm_LowGrayLevelZoneEmphasis  \\\n",
       "0                                       0.001964   \n",
       "1                                       0.000995   \n",
       "2                                       0.001461   \n",
       "3                                       0.000488   \n",
       "4                                       0.000787   \n",
       "\n",
       "   t2_wavelet-LLL_glszm_SizeZoneNonUniformity  \\\n",
       "0                                 2285.615615   \n",
       "1                                 2960.526102   \n",
       "2                                 3107.165961   \n",
       "3                                 3587.985098   \n",
       "4                                 4415.729118   \n",
       "\n",
       "   t2_wavelet-LLL_glszm_SizeZoneNonUniformityNormalized  \\\n",
       "0                                           0.379670      \n",
       "1                                           0.400396      \n",
       "2                                           0.375852      \n",
       "3                                           0.408143      \n",
       "4                                           0.426888      \n",
       "\n",
       "   t2_wavelet-LLL_glszm_SmallAreaEmphasis  \\\n",
       "0                                0.639573   \n",
       "1                                0.657135   \n",
       "2                                0.636253   \n",
       "3                                0.664023   \n",
       "4                                0.679228   \n",
       "\n",
       "   t2_wavelet-LLL_glszm_SmallAreaHighGrayLevelEmphasis  \\\n",
       "0                                         857.481874     \n",
       "1                                        1573.328026     \n",
       "2                                        1069.732546     \n",
       "3                                        4133.253093     \n",
       "4                                        1934.967931     \n",
       "\n",
       "   t2_wavelet-LLL_glszm_SmallAreaLowGrayLevelEmphasis  \\\n",
       "0                                           0.001500    \n",
       "1                                           0.000558    \n",
       "2                                           0.000904    \n",
       "3                                           0.000387    \n",
       "4                                           0.000548    \n",
       "\n",
       "   t2_wavelet-LLL_glszm_ZoneEntropy  t2_wavelet-LLL_glszm_ZonePercentage  \\\n",
       "0                          7.542019                             0.202339   \n",
       "1                          7.841823                             0.165532   \n",
       "2                          7.893590                             0.218912   \n",
       "3                          8.606348                             0.208807   \n",
       "4                          7.895451                             0.225139   \n",
       "\n",
       "   t2_wavelet-LLL_glszm_ZoneVariance  \n",
       "0                        1846.198652  \n",
       "1                        7393.889573  \n",
       "2                        1332.374317  \n",
       "3                        2774.748606  \n",
       "4                        2351.904374  \n",
       "\n",
       "[5 rows x 1804 columns]"
      ]
     },
     "execution_count": 60,
     "metadata": {},
     "output_type": "execute_result"
    }
   ],
   "source": [
    "df.head()"
   ]
  },
  {
   "cell_type": "code",
   "execution_count": 61,
   "metadata": {},
   "outputs": [],
   "source": [
    "reduced_features = pd.read_excel(\"/Users/samwwong/Desktop/Michael Zhang/LASSO_reduced_features.xlsx\")"
   ]
  },
  {
   "cell_type": "code",
   "execution_count": 62,
   "metadata": {},
   "outputs": [],
   "source": [
    "reduced_features_list = reduced_features.loc[reduced_features['ATRT/MB'].isnull() == False, ['ATRT/MB']].values.tolist()"
   ]
  },
  {
   "cell_type": "code",
   "execution_count": 63,
   "metadata": {},
   "outputs": [],
   "source": [
    "reduced_features_list = [item for sublist in reduced_features_list for item in sublist]"
   ]
  },
  {
   "cell_type": "code",
   "execution_count": 64,
   "metadata": {},
   "outputs": [
    {
     "data": {
      "text/plain": [
       "['t1_original_shape_Elongation',\n",
       " 't2_log-sigma-5-mm-3D_firstorder_90Percentile',\n",
       " 't2_original_shape_Elongation',\n",
       " 't2_original_shape_Flatness',\n",
       " 't2_wavelet-LLL_glcm_Idmn',\n",
       " 't2_wavelet-HLL_firstorder_Kurtosis']"
      ]
     },
     "execution_count": 64,
     "metadata": {},
     "output_type": "execute_result"
    }
   ],
   "source": [
    "reduced_features_list"
   ]
  },
  {
   "cell_type": "code",
   "execution_count": 65,
   "metadata": {},
   "outputs": [],
   "source": [
    "target = df[\"path\"]"
   ]
  },
  {
   "cell_type": "code",
   "execution_count": 66,
   "metadata": {},
   "outputs": [
    {
     "data": {
      "text/plain": [
       "mb      96\n",
       "atrt    48\n",
       "Name: path, dtype: int64"
      ]
     },
     "execution_count": 66,
     "metadata": {},
     "output_type": "execute_result"
    }
   ],
   "source": [
    "target.value_counts()"
   ]
  },
  {
   "cell_type": "code",
   "execution_count": 67,
   "metadata": {},
   "outputs": [],
   "source": [
    "#Marking 0 as atrt and 1 as mb\n",
    "#target = target.map(dict(atrt = 1, mb = 0))\n",
    "target = target.map(dict(mb = 1, atrt = 0))"
   ]
  },
  {
   "cell_type": "code",
   "execution_count": 68,
   "metadata": {},
   "outputs": [],
   "source": [
    "features_after_lasso = df[reduced_features_list]"
   ]
  },
  {
   "cell_type": "code",
   "execution_count": 69,
   "metadata": {},
   "outputs": [],
   "source": [
    "X_train, X_test, y_train, y_test = train_test_split(features_after_lasso, target, \n",
    "                                                    test_size = 0.25, random_state = 42)"
   ]
  },
  {
   "cell_type": "code",
   "execution_count": 70,
   "metadata": {},
   "outputs": [
    {
     "data": {
      "text/plain": [
       "1    71\n",
       "0    37\n",
       "Name: path, dtype: int64"
      ]
     },
     "execution_count": 70,
     "metadata": {},
     "output_type": "execute_result"
    }
   ],
   "source": [
    "y_train.value_counts()"
   ]
  },
  {
   "cell_type": "code",
   "execution_count": 71,
   "metadata": {},
   "outputs": [
    {
     "data": {
      "text/plain": [
       "1    25\n",
       "0    11\n",
       "Name: path, dtype: int64"
      ]
     },
     "execution_count": 71,
     "metadata": {},
     "output_type": "execute_result"
    }
   ],
   "source": [
    "y_test.value_counts()"
   ]
  },
  {
   "cell_type": "markdown",
   "metadata": {},
   "source": [
    "# Resampling to Correct for Imbalance"
   ]
  },
  {
   "cell_type": "code",
   "execution_count": 72,
   "metadata": {},
   "outputs": [],
   "source": [
    "X = pd.concat([X_train, y_train], axis = 1)\n",
    "X_0 = X[X['path'] == 0]\n",
    "X_1 = X[X['path'] == 1]"
   ]
  },
  {
   "cell_type": "code",
   "execution_count": 73,
   "metadata": {},
   "outputs": [],
   "source": [
    "upsampled_0 = resample(X_0, replace = True, n_samples = len(X_1), random_state = 42)\n",
    "upsampled = pd.concat([upsampled_0, X_1])\n",
    "upsampled = upsampled.sample(frac = 1, random_state = 42)"
   ]
  },
  {
   "cell_type": "code",
   "execution_count": 74,
   "metadata": {},
   "outputs": [],
   "source": [
    "X_train = upsampled.iloc[:, :-1]\n",
    "y_train = upsampled.iloc[:, -1]"
   ]
  },
  {
   "cell_type": "code",
   "execution_count": 75,
   "metadata": {},
   "outputs": [
    {
     "data": {
      "text/plain": [
       "1    71\n",
       "0    71\n",
       "Name: path, dtype: int64"
      ]
     },
     "execution_count": 75,
     "metadata": {},
     "output_type": "execute_result"
    }
   ],
   "source": [
    "y_train.value_counts()"
   ]
  },
  {
   "cell_type": "markdown",
   "metadata": {},
   "source": [
    "# Standardizing Features"
   ]
  },
  {
   "cell_type": "code",
   "execution_count": 76,
   "metadata": {},
   "outputs": [],
   "source": [
    "names = X_train.columns\n",
    "scaler = preprocessing.StandardScaler()"
   ]
  },
  {
   "cell_type": "code",
   "execution_count": 77,
   "metadata": {},
   "outputs": [],
   "source": [
    "X_train = scaler.fit_transform(X_train)\n",
    "X_train = pd.DataFrame(X_train, columns = names)"
   ]
  },
  {
   "cell_type": "code",
   "execution_count": 78,
   "metadata": {},
   "outputs": [],
   "source": [
    "X_test = scaler.transform(X_test)\n",
    "X_test = pd.DataFrame(X_test, columns = names)"
   ]
  },
  {
   "cell_type": "code",
   "execution_count": 79,
   "metadata": {},
   "outputs": [],
   "source": [
    "def create_ci(bootstrapped_scores, name):\n",
    "    sorted_scores = np.array(bootstrapped_scores)\n",
    "    sorted_scores.sort()\n",
    "    \n",
    "    confidence_lower = sorted_scores[int(0.025 * len(sorted_scores))]\n",
    "    confidence_upper = sorted_scores[int(0.975 * len(sorted_scores))]\n",
    "    \n",
    "    print(\"95% Confidence interval for the {} score: [{:0.3f} - {:0.3}]\".format(name, \n",
    "    confidence_lower, confidence_upper))"
   ]
  },
  {
   "cell_type": "code",
   "execution_count": 80,
   "metadata": {},
   "outputs": [],
   "source": [
    "def specificity_score(y_true, y_pred):\n",
    "    TN = 0\n",
    "    FP = 0\n",
    "    for i in range(len(y_true)):\n",
    "        if y_true[i] == y_pred[i] == 0:\n",
    "            TN += 1\n",
    "        elif y_true[i] == 0 and y_pred[i] == 1:\n",
    "            FP += 1\n",
    "    \n",
    "    return TN / (TN + FP)"
   ]
  },
  {
   "cell_type": "markdown",
   "metadata": {},
   "source": [
    "# SVM"
   ]
  },
  {
   "cell_type": "markdown",
   "metadata": {},
   "source": [
    "### Grid Search for Hyperparameters"
   ]
  },
  {
   "cell_type": "code",
   "execution_count": 81,
   "metadata": {},
   "outputs": [],
   "source": [
    "svm_model = svm.SVC()\n",
    "grid_param = {'C': [0.1, 1, 10, 100, 1000],\n",
    "              'gamma': [1, 0.1, 0.01, 0.001, 0.0001],\n",
    "              'kernel': ['rbf', 'sigmoid', 'linear']\n",
    "}\n",
    "\n",
    "svm_grid = GridSearchCV(estimator=svm_model,\n",
    "                     param_grid=grid_param,\n",
    "                     scoring='accuracy',\n",
    "                     cv=5,\n",
    "                     n_jobs=-1)"
   ]
  },
  {
   "cell_type": "code",
   "execution_count": 82,
   "metadata": {},
   "outputs": [
    {
     "data": {
      "text/plain": [
       "GridSearchCV(cv=5, estimator=SVC(), n_jobs=-1,\n",
       "             param_grid={'C': [0.1, 1, 10, 100, 1000],\n",
       "                         'gamma': [1, 0.1, 0.01, 0.001, 0.0001],\n",
       "                         'kernel': ['rbf', 'sigmoid', 'linear']},\n",
       "             scoring='accuracy')"
      ]
     },
     "execution_count": 82,
     "metadata": {},
     "output_type": "execute_result"
    }
   ],
   "source": [
    "svm_grid.fit(X_train, y_train)"
   ]
  },
  {
   "cell_type": "code",
   "execution_count": 83,
   "metadata": {},
   "outputs": [
    {
     "name": "stdout",
     "output_type": "stream",
     "text": [
      "{'C': 1, 'gamma': 0.1, 'kernel': 'sigmoid'}\n"
     ]
    }
   ],
   "source": [
    "print(svm_grid.best_params_)"
   ]
  },
  {
   "cell_type": "markdown",
   "metadata": {},
   "source": [
    "### Model Performance"
   ]
  },
  {
   "cell_type": "code",
   "execution_count": 84,
   "metadata": {},
   "outputs": [],
   "source": [
    "svm_model = svm.SVC(C = 1, gamma = 0.1, kernel = 'sigmoid', probability = True)\n",
    "svm_model.fit(X_train, y_train)\n",
    "y_pred = svm_model.predict(X_test)"
   ]
  },
  {
   "cell_type": "code",
   "execution_count": 85,
   "metadata": {},
   "outputs": [],
   "source": [
    "y_train_pred = svm_model.predict(X_train)"
   ]
  },
  {
   "cell_type": "code",
   "execution_count": 86,
   "metadata": {},
   "outputs": [
    {
     "name": "stdout",
     "output_type": "stream",
     "text": [
      "Accuracy Score: 0.8055555555555556\n",
      "Specificity Score: 0.8181818181818182\n",
      "Precision: 0.9090909090909091\n",
      "Recall: 0.8\n",
      "F1 Score: 0.8510638297872342\n"
     ]
    }
   ],
   "source": [
    "print(\"Accuracy Score: \" + str(accuracy_score(y_test, y_pred)))\n",
    "print(\"Specificity Score: \" + str(specificity_score(y_test.to_numpy(), y_pred)))\n",
    "print(\"Precision: \" + str(precision_score(y_test, y_pred)))\n",
    "print(\"Recall: \" + str(recall_score(y_test, y_pred)))\n",
    "print(\"F1 Score: \" + str(f1_score(y_test, y_pred)))"
   ]
  },
  {
   "cell_type": "code",
   "execution_count": 87,
   "metadata": {},
   "outputs": [
    {
     "name": "stdout",
     "output_type": "stream",
     "text": [
      "AUC: 0.850909090909091\n"
     ]
    }
   ],
   "source": [
    "svm_probs = svm_model.predict_proba(X_test)[:,1]\n",
    "fpr, tpr, thresholds = roc_curve(y_test, svm_probs)\n",
    "auc = roc_auc_score(y_test, svm_probs)\n",
    "print(\"AUC: \" + str(auc))"
   ]
  },
  {
   "cell_type": "code",
   "execution_count": 88,
   "metadata": {},
   "outputs": [
    {
     "data": {
      "image/png": "[encoded data removed]",
      "text/plain": [
       "<Figure size 504x504 with 1 Axes>"
      ]
     },
     "metadata": {},
     "output_type": "display_data"
    }
   ],
   "source": [
    "plt.figure(figsize=(7, 7))\n",
    "\n",
    "\n",
    "ns_preds = [0 for _ in range(len(y_test))]\n",
    "\n",
    "ns_fpr, ns_tpr, _ = roc_curve(y_test, ns_preds)\n",
    "\n",
    "plt.plot(ns_fpr, ns_tpr, linestyle='--', label='No Skill')\n",
    "plt.plot(fpr, tpr, marker='.', label='SVM')\n",
    "plt.xlabel('1 - Specificity (False Positive Rate)',fontsize=16)\n",
    "plt.ylabel('Sensitivity (True Positive Rate)',fontsize=16)\n",
    "\n",
    "plt.legend(loc='lower right')\n",
    "plt.title('ROC Curve for Test Set', fontsize=20, fontweight=\"semibold\")\n",
    "short_auc = round(auc,4)\n",
    "plt.text(.93,.1, \"AUC: \" + str(short_auc), \n",
    "        horizontalalignment=\"center\", verticalalignment=\"center\",\n",
    "        fontsize=12, fontweight=\"semibold\")\n",
    "    \n",
    "plt.show()"
   ]
  },
  {
   "cell_type": "code",
   "execution_count": 89,
   "metadata": {},
   "outputs": [],
   "source": [
    "sns.reset_orig()"
   ]
  },
  {
   "cell_type": "code",
   "execution_count": 90,
   "metadata": {},
   "outputs": [
    {
     "data": {
      "image/png": "[encoded data removed]",
      "text/plain": [
       "<Figure size 432x288 with 2 Axes>"
      ]
     },
     "metadata": {
      "needs_background": "light"
     },
     "output_type": "display_data"
    }
   ],
   "source": [
    "matrix = plot_confusion_matrix(svm_model, X_test, y_test,\n",
    "                               cmap=plt.cm.Blues)\n",
    "plt.title('SVM Confusion Matrix')\n",
    "plt.show(matrix)\n",
    "plt.show()"
   ]
  },
  {
   "cell_type": "code",
   "execution_count": 91,
   "metadata": {},
   "outputs": [],
   "source": [
    "n_bootstraps = 2000\n",
    "rng_seed = 42  # control reproducibility\n",
    "bootstrapped_auc_scores = []\n",
    "bootstrapped_acc_scores = []\n",
    "bootstrapped_spec_scores = []\n",
    "bootstrapped_prec_scores = []\n",
    "bootstrapped_rec_scores = []\n",
    "bootstrapped_f1_scores = []\n",
    "\n",
    "rng = np.random.RandomState(rng_seed)\n",
    "for i in range(n_bootstraps):\n",
    "    # bootstrap by sampling with replacement on the prediction indices\n",
    "    indices = rng.randint(0, len(svm_probs), len(svm_probs))\n",
    "    if len(np.unique(y_test.to_numpy()[indices])) < 2:\n",
    "        # We need at least one positive and one negative sample for ROC AUC\n",
    "        # to be defined: reject the sample\n",
    "        continue\n",
    "\n",
    "    auc_score = roc_auc_score(y_test.to_numpy()[indices], svm_probs[indices])\n",
    "    acc_score = accuracy_score(y_test.to_numpy()[indices], y_pred[indices])\n",
    "    spec_score = specificity_score(y_test.to_numpy()[indices], y_pred[indices])\n",
    "    prec_score = precision_score(y_test.to_numpy()[indices], y_pred[indices])\n",
    "    rec_score = recall_score(y_test.to_numpy()[indices], y_pred[indices])\n",
    "    f_one_score = f1_score(y_test.to_numpy()[indices].astype('float64'), y_pred[indices].astype('float64'))\n",
    "\n",
    "    bootstrapped_auc_scores.append(auc_score)\n",
    "    bootstrapped_acc_scores.append(acc_score)\n",
    "    bootstrapped_spec_scores.append(spec_score)\n",
    "    bootstrapped_prec_scores.append(prec_score)\n",
    "    bootstrapped_rec_scores.append(rec_score)\n",
    "    bootstrapped_f1_scores.append(f_one_score)"
   ]
  },
  {
   "cell_type": "code",
   "execution_count": 92,
   "metadata": {},
   "outputs": [
    {
     "data": {
      "image/png": "[encoded data removed]",
      "text/plain": [
       "<Figure size 432x288 with 1 Axes>"
      ]
     },
     "metadata": {
      "needs_background": "light"
     },
     "output_type": "display_data"
    }
   ],
   "source": [
    "plt.hist(bootstrapped_auc_scores, bins=50)\n",
    "plt.title('Histogram of the bootstrapped ROC AUC scores')\n",
    "plt.show()"
   ]
  },
  {
   "cell_type": "code",
   "execution_count": 93,
   "metadata": {},
   "outputs": [
    {
     "name": "stdout",
     "output_type": "stream",
     "text": [
      "95% Confidence interval for the AUC score: [0.704 - 0.969]\n",
      "95% Confidence interval for the Accuracy score: [0.667 - 0.917]\n",
      "95% Confidence interval for the Specificity score: [0.545 - 1.0]\n",
      "95% Confidence interval for the Precision score: [0.765 - 1.0]\n",
      "95% Confidence interval for the Recall score: [0.636 - 0.955]\n",
      "95% Confidence interval for the F1 score: [0.723 - 0.943]\n"
     ]
    }
   ],
   "source": [
    "create_ci(bootstrapped_auc_scores, \"AUC\")\n",
    "create_ci(bootstrapped_acc_scores, \"Accuracy\")\n",
    "create_ci(bootstrapped_spec_scores, \"Specificity\")\n",
    "create_ci(bootstrapped_prec_scores, \"Precision\")\n",
    "create_ci(bootstrapped_rec_scores, \"Recall\")\n",
    "create_ci(bootstrapped_f1_scores, \"F1\")"
   ]
  },
  {
   "cell_type": "markdown",
   "metadata": {},
   "source": [
    "# Logistic Regression"
   ]
  },
  {
   "cell_type": "markdown",
   "metadata": {},
   "source": [
    "### Grid Search for Hyperparameters"
   ]
  },
  {
   "cell_type": "code",
   "execution_count": 94,
   "metadata": {},
   "outputs": [],
   "source": [
    "lr_model = LogisticRegression()\n",
    "grid_param = {'penalty': ['l1', 'l2', 'elasticnet', 'none'],\n",
    "              'C': [10, 1, 0.1, 0.01, 0.001]\n",
    "}\n",
    "\n",
    "lr_grid = GridSearchCV(estimator=lr_model,\n",
    "                     param_grid=grid_param,\n",
    "                     scoring='accuracy',\n",
    "                     cv=5,\n",
    "                     n_jobs=-1)"
   ]
  },
  {
   "cell_type": "code",
   "execution_count": 95,
   "metadata": {},
   "outputs": [
    {
     "data": {
      "text/plain": [
       "GridSearchCV(cv=5, estimator=LogisticRegression(), n_jobs=-1,\n",
       "             param_grid={'C': [10, 1, 0.1, 0.01, 0.001],\n",
       "                         'penalty': ['l1', 'l2', 'elasticnet', 'none']},\n",
       "             scoring='accuracy')"
      ]
     },
     "execution_count": 95,
     "metadata": {},
     "output_type": "execute_result"
    }
   ],
   "source": [
    "lr_grid.fit(X_train, y_train)"
   ]
  },
  {
   "cell_type": "code",
   "execution_count": 96,
   "metadata": {},
   "outputs": [
    {
     "name": "stdout",
     "output_type": "stream",
     "text": [
      "{'C': 0.01, 'penalty': 'l2'}\n"
     ]
    }
   ],
   "source": [
    "print(lr_grid.best_params_)"
   ]
  },
  {
   "cell_type": "markdown",
   "metadata": {},
   "source": [
    "### Model Performance"
   ]
  },
  {
   "cell_type": "code",
   "execution_count": 97,
   "metadata": {},
   "outputs": [],
   "source": [
    "lr_model = LogisticRegression(penalty = 'l2', C = 0.01)\n",
    "lr_model.fit(X_train, y_train)\n",
    "y_pred = lr_model.predict(X_test)"
   ]
  },
  {
   "cell_type": "code",
   "execution_count": 98,
   "metadata": {},
   "outputs": [
    {
     "name": "stdout",
     "output_type": "stream",
     "text": [
      "Accuracy Score: 0.8055555555555556\n",
      "Specificity Score: 0.8181818181818182\n",
      "Precision: 0.9090909090909091\n",
      "Recall: 0.8\n",
      "F1 Score: 0.8510638297872342\n"
     ]
    }
   ],
   "source": [
    "print(\"Accuracy Score: \" + str(accuracy_score(y_test, y_pred)))\n",
    "print(\"Specificity Score: \" + str(specificity_score(y_test.to_numpy(), y_pred)))\n",
    "print(\"Precision: \" + str(precision_score(y_test, y_pred)))\n",
    "print(\"Recall: \" + str(recall_score(y_test, y_pred)))\n",
    "print(\"F1 Score: \" + str(f1_score(y_test, y_pred)))"
   ]
  },
  {
   "cell_type": "code",
   "execution_count": 99,
   "metadata": {},
   "outputs": [
    {
     "name": "stdout",
     "output_type": "stream",
     "text": [
      "AUC: 0.8581818181818183\n"
     ]
    }
   ],
   "source": [
    "lr_probs = lr_model.predict_proba(X_test)[:,1]\n",
    "fpr, tpr, thresholds = roc_curve(y_test, lr_probs)\n",
    "auc = roc_auc_score(y_test, lr_probs)\n",
    "print(\"AUC: \" + str(auc))"
   ]
  },
  {
   "cell_type": "code",
   "execution_count": 100,
   "metadata": {},
   "outputs": [
    {
     "data": {
      "image/png": "[encoded data removed]",
      "text/plain": [
       "<Figure size 432x288 with 1 Axes>"
      ]
     },
     "metadata": {
      "needs_background": "light"
     },
     "output_type": "display_data"
    }
   ],
   "source": [
    "ns_preds = [0 for _ in range(len(y_test))]\n",
    "\n",
    "ns_fpr, ns_tpr, _ = roc_curve(y_test, ns_preds)\n",
    "\n",
    "plt.plot(ns_fpr, ns_tpr, linestyle='--', label='No Skill')\n",
    "plt.plot(fpr, tpr, marker='.', label='Logistic Regression')\n",
    "plt.xlabel('False Positive Rate')\n",
    "plt.ylabel('True Positive Rate')\n",
    "plt.legend()\n",
    "plt.show()"
   ]
  },
  {
   "cell_type": "code",
   "execution_count": 101,
   "metadata": {},
   "outputs": [
    {
     "data": {
      "image/png": "[encoded data removed]",
      "text/plain": [
       "<Figure size 432x288 with 2 Axes>"
      ]
     },
     "metadata": {
      "needs_background": "light"
     },
     "output_type": "display_data"
    }
   ],
   "source": [
    "matrix = plot_confusion_matrix(lr_model, X_test, y_test,\n",
    "                               cmap=plt.cm.Blues)\n",
    "plt.title('Logistic Regression Confusion Matrix')\n",
    "plt.show(matrix)\n",
    "plt.show()"
   ]
  },
  {
   "cell_type": "code",
   "execution_count": 102,
   "metadata": {},
   "outputs": [],
   "source": [
    "n_bootstraps = 2000\n",
    "rng_seed = 42  # control reproducibility\n",
    "bootstrapped_auc_scores = []\n",
    "bootstrapped_acc_scores = []\n",
    "bootstrapped_spec_scores = []\n",
    "bootstrapped_prec_scores = []\n",
    "bootstrapped_rec_scores = []\n",
    "bootstrapped_f1_scores = []\n",
    "\n",
    "rng = np.random.RandomState(rng_seed)\n",
    "for i in range(n_bootstraps):\n",
    "    # bootstrap by sampling with replacement on the prediction indices\n",
    "    indices = rng.randint(0, len(lr_probs), len(lr_probs))\n",
    "    if len(np.unique(y_test.to_numpy()[indices])) < 2:\n",
    "        # We need at least one positive and one negative sample for ROC AUC\n",
    "        # to be defined: reject the sample\n",
    "        continue\n",
    "\n",
    "    auc_score = roc_auc_score(y_test.to_numpy()[indices], lr_probs[indices])\n",
    "    acc_score = accuracy_score(y_test.to_numpy()[indices], y_pred[indices])\n",
    "    spec_score = specificity_score(y_test.to_numpy()[indices], y_pred[indices])\n",
    "    prec_score = precision_score(y_test.to_numpy()[indices], y_pred[indices])\n",
    "    rec_score = recall_score(y_test.to_numpy()[indices], y_pred[indices])\n",
    "    f_one_score = f1_score(y_test.to_numpy()[indices].astype('float64'), y_pred[indices].astype('float64'))\n",
    "\n",
    "    bootstrapped_auc_scores.append(auc_score)\n",
    "    bootstrapped_acc_scores.append(acc_score)\n",
    "    bootstrapped_spec_scores.append(spec_score)\n",
    "    bootstrapped_prec_scores.append(prec_score)\n",
    "    bootstrapped_rec_scores.append(rec_score)\n",
    "    bootstrapped_f1_scores.append(f_one_score)"
   ]
  },
  {
   "cell_type": "code",
   "execution_count": 103,
   "metadata": {},
   "outputs": [
    {
     "name": "stdout",
     "output_type": "stream",
     "text": [
      "95% Confidence interval for the AUC score: [0.712 - 0.969]\n",
      "95% Confidence interval for the Accuracy score: [0.667 - 0.917]\n",
      "95% Confidence interval for the Specificity score: [0.545 - 1.0]\n",
      "95% Confidence interval for the Precision score: [0.765 - 1.0]\n",
      "95% Confidence interval for the Recall score: [0.636 - 0.955]\n",
      "95% Confidence interval for the F1 score: [0.723 - 0.943]\n"
     ]
    }
   ],
   "source": [
    "create_ci(bootstrapped_auc_scores, \"AUC\")\n",
    "create_ci(bootstrapped_acc_scores, \"Accuracy\")\n",
    "create_ci(bootstrapped_spec_scores, \"Specificity\")\n",
    "create_ci(bootstrapped_prec_scores, \"Precision\")\n",
    "create_ci(bootstrapped_rec_scores, \"Recall\")\n",
    "create_ci(bootstrapped_f1_scores, \"F1\")"
   ]
  },
  {
   "cell_type": "code",
   "execution_count": 104,
   "metadata": {},
   "outputs": [],
   "source": [
    "feature_labels_dict = {'t1_original_shape_Elongation': 'T1 Original Shape Elongation', \n",
    "                      't2_log-sigma-5-mm-3D_firstorder_90Percentile': 'T2 Log Sigma 5mm 3D 90th Percentile (1st Order)',\n",
    "                          't2_original_shape_Elongation': 'T2 Original Shape Elongation',\n",
    "                          't2_original_shape_Flatness': 'T2 Original Shape Flatness',\n",
    "                      't2_wavelet-LLL_glcm_Idmn': 'T2 Wavelet LLL Glcm Idmn',\n",
    "                      't2_wavelet-HLL_firstorder_Kurtosis': 'T2 Wavelet HLL Kurtosis (1st Order)',}"
   ]
  },
  {
   "cell_type": "code",
   "execution_count": 105,
   "metadata": {},
   "outputs": [],
   "source": [
    "sns.set()"
   ]
  },
  {
   "cell_type": "code",
   "execution_count": 106,
   "metadata": {},
   "outputs": [
    {
     "data": {
      "image/png": "[encoded data removed]",
      "text/plain": [
       "<Figure size 720x576 with 1 Axes>"
      ]
     },
     "metadata": {},
     "output_type": "display_data"
    }
   ],
   "source": [
    "feature_names = X_test.columns.to_list()\n",
    "importances = lr_model.coef_[0]\n",
    "importances = np.abs(importances) / np.sum(np.abs(importances))\n",
    "\n",
    "indices = np.argsort(importances)\n",
    "\n",
    "plt.figure(figsize=(10,8))\n",
    "plt.title('Feature Importance',fontsize=20, fontweight='semibold')\n",
    "plt.barh(range(len(indices)), importances[indices], color='b', align='center')\n",
    "plt.xlim(0, 0.4)\n",
    "for index, value in enumerate(importances[indices]):\n",
    "    plt.text(value, index, \"{:.1%}\".format(value), fontsize=12)\n",
    "plt.yticks(range(len(indices)), [feature_labels_dict[feature_names[i]] for i in indices],fontsize=12)\n",
    "plt.xlabel('Relative Importance',fontsize=16)\n",
    "plt.gca().xaxis.set_major_formatter(mtick.PercentFormatter(1))\n",
    "\n",
    "plt.show()"
   ]
  },
  {
   "cell_type": "code",
   "execution_count": 107,
   "metadata": {},
   "outputs": [],
   "source": [
    "sns.reset_orig()"
   ]
  },
  {
   "cell_type": "markdown",
   "metadata": {},
   "source": [
    "# KNN"
   ]
  },
  {
   "cell_type": "markdown",
   "metadata": {},
   "source": [
    "### Grid Search for Hyperparameters"
   ]
  },
  {
   "cell_type": "code",
   "execution_count": 108,
   "metadata": {},
   "outputs": [],
   "source": [
    "knn_model = KNeighborsClassifier()\n",
    "grid_param = {'n_neighbors': [3, 5, 7, 9]\n",
    "}\n",
    "\n",
    "knn_grid = GridSearchCV(estimator=knn_model,\n",
    "                     param_grid=grid_param,\n",
    "                     scoring='accuracy',\n",
    "                     cv=5,\n",
    "                     n_jobs=-1)"
   ]
  },
  {
   "cell_type": "code",
   "execution_count": 109,
   "metadata": {},
   "outputs": [
    {
     "data": {
      "text/plain": [
       "GridSearchCV(cv=5, estimator=KNeighborsClassifier(), n_jobs=-1,\n",
       "             param_grid={'n_neighbors': [3, 5, 7, 9]}, scoring='accuracy')"
      ]
     },
     "execution_count": 109,
     "metadata": {},
     "output_type": "execute_result"
    }
   ],
   "source": [
    "knn_grid.fit(X_train, y_train)"
   ]
  },
  {
   "cell_type": "code",
   "execution_count": 110,
   "metadata": {},
   "outputs": [
    {
     "name": "stdout",
     "output_type": "stream",
     "text": [
      "{'n_neighbors': 5}\n"
     ]
    }
   ],
   "source": [
    "print(knn_grid.best_params_)"
   ]
  },
  {
   "cell_type": "markdown",
   "metadata": {},
   "source": [
    "### Model Performance"
   ]
  },
  {
   "cell_type": "code",
   "execution_count": 111,
   "metadata": {},
   "outputs": [],
   "source": [
    "knn_model = KNeighborsClassifier(n_neighbors = 5)\n",
    "knn_model.fit(X_train, y_train)\n",
    "y_pred = knn_model.predict(X_test)"
   ]
  },
  {
   "cell_type": "code",
   "execution_count": 112,
   "metadata": {},
   "outputs": [
    {
     "name": "stdout",
     "output_type": "stream",
     "text": [
      "Accuracy Score: 0.8333333333333334\n",
      "Specificity Score: 0.9090909090909091\n",
      "Precision: 0.9523809523809523\n",
      "Recall: 0.8\n",
      "F1 Score: 0.8695652173913043\n"
     ]
    }
   ],
   "source": [
    "print(\"Accuracy Score: \" + str(accuracy_score(y_test, y_pred)))\n",
    "print(\"Specificity Score: \" + str(specificity_score(y_test.to_numpy(), y_pred)))\n",
    "print(\"Precision: \" + str(precision_score(y_test, y_pred)))\n",
    "print(\"Recall: \" + str(recall_score(y_test, y_pred)))\n",
    "print(\"F1 Score: \" + str(f1_score(y_test, y_pred)))"
   ]
  },
  {
   "cell_type": "code",
   "execution_count": 113,
   "metadata": {},
   "outputs": [
    {
     "name": "stdout",
     "output_type": "stream",
     "text": [
      "AUC: 0.8418181818181818\n"
     ]
    }
   ],
   "source": [
    "knn_probs = knn_model.predict_proba(X_test)[:,1]\n",
    "fpr, tpr, thresholds = roc_curve(y_test, knn_probs)\n",
    "auc = roc_auc_score(y_test, knn_probs)\n",
    "print(\"AUC: \" + str(auc))"
   ]
  },
  {
   "cell_type": "code",
   "execution_count": 114,
   "metadata": {},
   "outputs": [
    {
     "data": {
      "image/png": "[encoded data removed]",
      "text/plain": [
       "<Figure size 432x288 with 1 Axes>"
      ]
     },
     "metadata": {
      "needs_background": "light"
     },
     "output_type": "display_data"
    }
   ],
   "source": [
    "ns_preds = [0 for _ in range(len(y_test))]\n",
    "\n",
    "ns_fpr, ns_tpr, _ = roc_curve(y_test, ns_preds)\n",
    "\n",
    "plt.plot(ns_fpr, ns_tpr, linestyle='--', label='No Skill')\n",
    "plt.plot(fpr, tpr, marker='.', label='K Nearest Neighbors')\n",
    "plt.xlabel('False Positive Rate')\n",
    "plt.ylabel('True Positive Rate')\n",
    "plt.legend()\n",
    "plt.show()"
   ]
  },
  {
   "cell_type": "code",
   "execution_count": 115,
   "metadata": {},
   "outputs": [
    {
     "data": {
      "image/png": "[encoded data removed]",
      "text/plain": [
       "<Figure size 432x288 with 2 Axes>"
      ]
     },
     "metadata": {
      "needs_background": "light"
     },
     "output_type": "display_data"
    }
   ],
   "source": [
    "matrix = plot_confusion_matrix(knn_model, X_test, y_test,\n",
    "                               cmap=plt.cm.Blues)\n",
    "plt.title('KNN Confusion Matrix')\n",
    "plt.show(matrix)\n",
    "plt.show()"
   ]
  },
  {
   "cell_type": "code",
   "execution_count": 116,
   "metadata": {},
   "outputs": [],
   "source": [
    "n_bootstraps = 2000\n",
    "rng_seed = 42  # control reproducibility\n",
    "bootstrapped_auc_scores = []\n",
    "bootstrapped_acc_scores = []\n",
    "bootstrapped_spec_scores = []\n",
    "bootstrapped_prec_scores = []\n",
    "bootstrapped_rec_scores = []\n",
    "bootstrapped_f1_scores = []\n",
    "\n",
    "rng = np.random.RandomState(rng_seed)\n",
    "for i in range(n_bootstraps):\n",
    "    # bootstrap by sampling with replacement on the prediction indices\n",
    "    indices = rng.randint(0, len(knn_probs), len(knn_probs))\n",
    "    if len(np.unique(y_test.to_numpy()[indices])) < 2:\n",
    "        # We need at least one positive and one negative sample for ROC AUC\n",
    "        # to be defined: reject the sample\n",
    "        continue\n",
    "\n",
    "    auc_score = roc_auc_score(y_test.to_numpy()[indices], knn_probs[indices])\n",
    "    acc_score = accuracy_score(y_test.to_numpy()[indices], y_pred[indices])\n",
    "    spec_score = specificity_score(y_test.to_numpy()[indices], y_pred[indices])\n",
    "    prec_score = precision_score(y_test.to_numpy()[indices], y_pred[indices])\n",
    "    rec_score = recall_score(y_test.to_numpy()[indices], y_pred[indices])\n",
    "    f_one_score = f1_score(y_test.to_numpy()[indices].astype('float64'), y_pred[indices].astype('float64'))\n",
    "\n",
    "    bootstrapped_auc_scores.append(auc_score)\n",
    "    bootstrapped_acc_scores.append(acc_score)\n",
    "    bootstrapped_spec_scores.append(spec_score)\n",
    "    bootstrapped_prec_scores.append(prec_score)\n",
    "    bootstrapped_rec_scores.append(rec_score)\n",
    "    bootstrapped_f1_scores.append(f_one_score)"
   ]
  },
  {
   "cell_type": "code",
   "execution_count": 117,
   "metadata": {},
   "outputs": [
    {
     "name": "stdout",
     "output_type": "stream",
     "text": [
      "95% Confidence interval for the AUC score: [0.672 - 0.971]\n",
      "95% Confidence interval for the Accuracy score: [0.722 - 0.944]\n",
      "95% Confidence interval for the Specificity score: [0.700 - 1.0]\n",
      "95% Confidence interval for the Precision score: [0.842 - 1.0]\n",
      "95% Confidence interval for the Recall score: [0.636 - 0.957]\n",
      "95% Confidence interval for the F1 score: [0.745 - 0.96]\n"
     ]
    }
   ],
   "source": [
    "create_ci(bootstrapped_auc_scores, \"AUC\")\n",
    "create_ci(bootstrapped_acc_scores, \"Accuracy\")\n",
    "create_ci(bootstrapped_spec_scores, \"Specificity\")\n",
    "create_ci(bootstrapped_prec_scores, \"Precision\")\n",
    "create_ci(bootstrapped_rec_scores, \"Recall\")\n",
    "create_ci(bootstrapped_f1_scores, \"F1\")"
   ]
  },
  {
   "cell_type": "markdown",
   "metadata": {},
   "source": [
    "# Random Forest"
   ]
  },
  {
   "cell_type": "markdown",
   "metadata": {},
   "source": [
    "### Grid Search for Hyperparameters\n",
    " "
   ]
  },
  {
   "cell_type": "code",
   "execution_count": 118,
   "metadata": {},
   "outputs": [],
   "source": [
    "rf_model = RandomForestClassifier(random_state = 42)\n",
    "grid_param = {'n_estimators': [None, 50, 100, 200, 300],\n",
    "              'max_depth': [1, 2, 3, 4]\n",
    "}\n",
    "\n",
    "rf_grid = GridSearchCV(estimator=rf_model,\n",
    "                     param_grid=grid_param,\n",
    "                     scoring='accuracy',\n",
    "                     cv=5,\n",
    "                     n_jobs=-1)"
   ]
  },
  {
   "cell_type": "code",
   "execution_count": 119,
   "metadata": {},
   "outputs": [
    {
     "data": {
      "text/plain": [
       "GridSearchCV(cv=5, estimator=RandomForestClassifier(random_state=42), n_jobs=-1,\n",
       "             param_grid={'max_depth': [1, 2, 3, 4],\n",
       "                         'n_estimators': [None, 50, 100, 200, 300]},\n",
       "             scoring='accuracy')"
      ]
     },
     "execution_count": 119,
     "metadata": {},
     "output_type": "execute_result"
    }
   ],
   "source": [
    "rf_grid.fit(X_train, y_train)"
   ]
  },
  {
   "cell_type": "code",
   "execution_count": 120,
   "metadata": {},
   "outputs": [
    {
     "name": "stdout",
     "output_type": "stream",
     "text": [
      "{'max_depth': 3, 'n_estimators': 200}\n"
     ]
    }
   ],
   "source": [
    "print(rf_grid.best_params_)"
   ]
  },
  {
   "cell_type": "markdown",
   "metadata": {},
   "source": [
    "### Model Performance"
   ]
  },
  {
   "cell_type": "code",
   "execution_count": 121,
   "metadata": {},
   "outputs": [],
   "source": [
    "rf_model = RandomForestClassifier(max_depth = 3, n_estimators = 200, random_state = 42)\n",
    "rf_model.fit(X_train, y_train)\n",
    "y_pred = rf_model.predict(X_test)"
   ]
  },
  {
   "cell_type": "code",
   "execution_count": 122,
   "metadata": {},
   "outputs": [
    {
     "name": "stdout",
     "output_type": "stream",
     "text": [
      "Accuracy Score: 0.7777777777777778\n",
      "Specificity Score: 0.6363636363636364\n",
      "Precision: 0.84\n",
      "Recall: 0.84\n",
      "F1 Score: 0.8399999999999999\n"
     ]
    }
   ],
   "source": [
    "print(\"Accuracy Score: \" + str(accuracy_score(y_test, y_pred)))\n",
    "print(\"Specificity Score: \" + str(specificity_score(y_test.to_numpy(), y_pred)))\n",
    "print(\"Precision: \" + str(precision_score(y_test, y_pred)))\n",
    "print(\"Recall: \" + str(recall_score(y_test, y_pred)))\n",
    "print(\"F1 Score: \" + str(f1_score(y_test, y_pred)))"
   ]
  },
  {
   "cell_type": "code",
   "execution_count": 123,
   "metadata": {},
   "outputs": [
    {
     "name": "stdout",
     "output_type": "stream",
     "text": [
      "AUC: 0.8072727272727273\n"
     ]
    }
   ],
   "source": [
    "rf_probs = rf_model.predict_proba(X_test)[:,1]\n",
    "fpr, tpr, thresholds = roc_curve(y_test, rf_probs)\n",
    "auc = roc_auc_score(y_test, rf_probs)\n",
    "print(\"AUC: \" + str(auc))"
   ]
  },
  {
   "cell_type": "code",
   "execution_count": 124,
   "metadata": {},
   "outputs": [
    {
     "data": {
      "image/png": "[encoded data removed]",
      "text/plain": [
       "<Figure size 432x288 with 1 Axes>"
      ]
     },
     "metadata": {
      "needs_background": "light"
     },
     "output_type": "display_data"
    }
   ],
   "source": [
    "ns_preds = [0 for _ in range(len(y_test))]\n",
    "\n",
    "ns_fpr, ns_tpr, _ = roc_curve(y_test, ns_preds)\n",
    "\n",
    "plt.plot(ns_fpr, ns_tpr, linestyle='--', label='No Skill')\n",
    "plt.plot(fpr, tpr, marker='.', label='Random Forest')\n",
    "plt.xlabel('False Positive Rate')\n",
    "plt.ylabel('True Positive Rate')\n",
    "plt.legend()\n",
    "plt.show()"
   ]
  },
  {
   "cell_type": "code",
   "execution_count": 125,
   "metadata": {},
   "outputs": [
    {
     "data": {
      "image/png": "[encoded data removed]",
      "text/plain": [
       "<Figure size 432x288 with 2 Axes>"
      ]
     },
     "metadata": {
      "needs_background": "light"
     },
     "output_type": "display_data"
    }
   ],
   "source": [
    "matrix = plot_confusion_matrix(rf_model, X_test, y_test,\n",
    "                               cmap=plt.cm.Blues)\n",
    "plt.title('Random Forest Confusion Matrix')\n",
    "plt.show(matrix)\n",
    "plt.show()"
   ]
  },
  {
   "cell_type": "code",
   "execution_count": 126,
   "metadata": {},
   "outputs": [],
   "source": [
    "n_bootstraps = 2000\n",
    "rng_seed = 42  # control reproducibility\n",
    "bootstrapped_auc_scores = []\n",
    "bootstrapped_acc_scores = []\n",
    "bootstrapped_spec_scores = []\n",
    "bootstrapped_prec_scores = []\n",
    "bootstrapped_rec_scores = []\n",
    "bootstrapped_f1_scores = []\n",
    "\n",
    "rng = np.random.RandomState(rng_seed)\n",
    "for i in range(n_bootstraps):\n",
    "    # bootstrap by sampling with replacement on the prediction indices\n",
    "    indices = rng.randint(0, len(rf_probs), len(rf_probs))\n",
    "    if len(np.unique(y_test.to_numpy()[indices])) < 2:\n",
    "        # We need at least one positive and one negative sample for ROC AUC\n",
    "        # to be defined: reject the sample\n",
    "        continue\n",
    "\n",
    "    auc_score = roc_auc_score(y_test.to_numpy()[indices], rf_probs[indices])\n",
    "    acc_score = accuracy_score(y_test.to_numpy()[indices], y_pred[indices])\n",
    "    spec_score = specificity_score(y_test.to_numpy()[indices], y_pred[indices])\n",
    "    prec_score = precision_score(y_test.to_numpy()[indices], y_pred[indices])\n",
    "    rec_score = recall_score(y_test.to_numpy()[indices], y_pred[indices])\n",
    "    f_one_score = f1_score(y_test.to_numpy()[indices].astype('float64'), y_pred[indices].astype('float64'))\n",
    "\n",
    "    bootstrapped_auc_scores.append(auc_score)\n",
    "    bootstrapped_acc_scores.append(acc_score)\n",
    "    bootstrapped_spec_scores.append(spec_score)\n",
    "    bootstrapped_prec_scores.append(prec_score)\n",
    "    bootstrapped_rec_scores.append(rec_score)\n",
    "    bootstrapped_f1_scores.append(f_one_score)"
   ]
  },
  {
   "cell_type": "code",
   "execution_count": 127,
   "metadata": {},
   "outputs": [
    {
     "name": "stdout",
     "output_type": "stream",
     "text": [
      "95% Confidence interval for the AUC score: [0.647 - 0.944]\n",
      "95% Confidence interval for the Accuracy score: [0.639 - 0.917]\n",
      "95% Confidence interval for the Specificity score: [0.333 - 0.909]\n",
      "95% Confidence interval for the Precision score: [0.679 - 0.963]\n",
      "95% Confidence interval for the Recall score: [0.692 - 0.962]\n",
      "95% Confidence interval for the F1 score: [0.711 - 0.935]\n"
     ]
    }
   ],
   "source": [
    "create_ci(bootstrapped_auc_scores, \"AUC\")\n",
    "create_ci(bootstrapped_acc_scores, \"Accuracy\")\n",
    "create_ci(bootstrapped_spec_scores, \"Specificity\")\n",
    "create_ci(bootstrapped_prec_scores, \"Precision\")\n",
    "create_ci(bootstrapped_rec_scores, \"Recall\")\n",
    "create_ci(bootstrapped_f1_scores, \"F1\")"
   ]
  },
  {
   "cell_type": "code",
   "execution_count": 159,
   "metadata": {},
   "outputs": [],
   "source": [
    "sns.set()"
   ]
  },
  {
   "cell_type": "code",
   "execution_count": 160,
   "metadata": {},
   "outputs": [
    {
     "data": {
      "image/png": "[encoded data removed]",
      "text/plain": [
       "<Figure size 720x576 with 1 Axes>"
      ]
     },
     "metadata": {},
     "output_type": "display_data"
    }
   ],
   "source": [
    "feature_names = X_test.columns.to_list()\n",
    "importances = rf_model.feature_importances_\n",
    "indices = np.argsort(importances)\n",
    "\n",
    "plt.figure(figsize=(10,8))\n",
    "plt.title('Feature Importance',fontsize=20, fontweight='semibold')\n",
    "plt.barh(range(len(indices)), importances[indices], color='b', align='center')\n",
    "plt.xlim(0, 0.4)\n",
    "for index, value in enumerate(importances[indices]):\n",
    "    plt.text(value, index, \"{:.1%}\".format(value), fontsize=12)\n",
    "plt.yticks(range(len(indices)), [feature_labels_dict[feature_names[i]] for i in indices],fontsize=12)\n",
    "plt.xlabel('Relative Importance',fontsize=16)\n",
    "plt.gca().xaxis.set_major_formatter(mtick.PercentFormatter(1))\n",
    "\n",
    "plt.show()"
   ]
  },
  {
   "cell_type": "code",
   "execution_count": 161,
   "metadata": {},
   "outputs": [],
   "source": [
    "sns.reset_orig()"
   ]
  },
  {
   "cell_type": "markdown",
   "metadata": {},
   "source": [
    "# XGBoost"
   ]
  },
  {
   "cell_type": "markdown",
   "metadata": {},
   "source": [
    "### Grid Search for Hyperparameters"
   ]
  },
  {
   "cell_type": "code",
   "execution_count": 131,
   "metadata": {},
   "outputs": [],
   "source": [
    "xgb_model = XGBClassifier(random_state = 42)\n",
    "grid_param = {'learning_rate': [0.1, 0.2, 0.3, 0.4, 0.5],\n",
    "              'max_depth': [3, 4, 5, 6]\n",
    "}\n",
    "\n",
    "xgb_grid = GridSearchCV(estimator=xgb_model,\n",
    "                     param_grid=grid_param,\n",
    "                     scoring='accuracy',\n",
    "                     cv=5,\n",
    "                     n_jobs=-1)"
   ]
  },
  {
   "cell_type": "code",
   "execution_count": 132,
   "metadata": {},
   "outputs": [
    {
     "data": {
      "text/plain": [
       "GridSearchCV(cv=5,\n",
       "             estimator=XGBClassifier(base_score=None, booster=None,\n",
       "                                     colsample_bylevel=None,\n",
       "                                     colsample_bynode=None,\n",
       "                                     colsample_bytree=None, gamma=None,\n",
       "                                     gpu_id=None, importance_type='gain',\n",
       "                                     interaction_constraints=None,\n",
       "                                     learning_rate=None, max_delta_step=None,\n",
       "                                     max_depth=None, min_child_weight=None,\n",
       "                                     missing=nan, monotone_constraints=None,\n",
       "                                     n_estimators=100, n_jobs=None,\n",
       "                                     num_parallel_tree=None, random_state=42,\n",
       "                                     reg_alpha=None, reg_lambda=None,\n",
       "                                     scale_pos_weight=None, subsample=None,\n",
       "                                     tree_method=None, validate_parameters=None,\n",
       "                                     verbosity=None),\n",
       "             n_jobs=-1,\n",
       "             param_grid={'learning_rate': [0.1, 0.2, 0.3, 0.4, 0.5],\n",
       "                         'max_depth': [3, 4, 5, 6]},\n",
       "             scoring='accuracy')"
      ]
     },
     "execution_count": 132,
     "metadata": {},
     "output_type": "execute_result"
    }
   ],
   "source": [
    "xgb_grid.fit(X_train, y_train)"
   ]
  },
  {
   "cell_type": "code",
   "execution_count": 133,
   "metadata": {},
   "outputs": [
    {
     "name": "stdout",
     "output_type": "stream",
     "text": [
      "{'learning_rate': 0.3, 'max_depth': 5}\n"
     ]
    }
   ],
   "source": [
    "print(xgb_grid.best_params_)"
   ]
  },
  {
   "cell_type": "markdown",
   "metadata": {},
   "source": [
    "### Model Performance"
   ]
  },
  {
   "cell_type": "code",
   "execution_count": 134,
   "metadata": {},
   "outputs": [],
   "source": [
    "xgb_model = XGBClassifier(learning_rate = 0.3, max_depth = 5, random_state = 42)\n",
    "xgb_model.fit(X_train, y_train)\n",
    "y_pred = xgb_model.predict(X_test)"
   ]
  },
  {
   "cell_type": "code",
   "execution_count": 135,
   "metadata": {},
   "outputs": [
    {
     "name": "stdout",
     "output_type": "stream",
     "text": [
      "Accuracy Score: 0.6944444444444444\n",
      "Specificity Score: 0.45454545454545453\n",
      "Precision: 0.7692307692307693\n",
      "Recall: 0.8\n",
      "F1 Score: 0.7843137254901961\n"
     ]
    }
   ],
   "source": [
    "print(\"Accuracy Score: \" + str(accuracy_score(y_test, y_pred)))\n",
    "print(\"Specificity Score: \" + str(specificity_score(y_test.to_numpy(), y_pred)))\n",
    "print(\"Precision: \" + str(precision_score(y_test, y_pred)))\n",
    "print(\"Recall: \" + str(recall_score(y_test, y_pred)))\n",
    "print(\"F1 Score: \" + str(f1_score(y_test, y_pred)))"
   ]
  },
  {
   "cell_type": "code",
   "execution_count": 136,
   "metadata": {},
   "outputs": [
    {
     "name": "stdout",
     "output_type": "stream",
     "text": [
      "AUC: 0.7418181818181818\n"
     ]
    }
   ],
   "source": [
    "xgb_probs = xgb_model.predict_proba(X_test)[:,1]\n",
    "fpr, tpr, thresholds = roc_curve(y_test, xgb_probs)\n",
    "auc = roc_auc_score(y_test, xgb_probs)\n",
    "print(\"AUC: \" + str(auc))"
   ]
  },
  {
   "cell_type": "code",
   "execution_count": 137,
   "metadata": {},
   "outputs": [
    {
     "data": {
      "image/png": "[encoded data removed]",
      "text/plain": [
       "<Figure size 432x288 with 1 Axes>"
      ]
     },
     "metadata": {
      "needs_background": "light"
     },
     "output_type": "display_data"
    }
   ],
   "source": [
    "ns_preds = [0 for _ in range(len(y_test))]\n",
    "\n",
    "ns_fpr, ns_tpr, _ = roc_curve(y_test, ns_preds)\n",
    "\n",
    "plt.plot(ns_fpr, ns_tpr, linestyle='--', label='No Skill')\n",
    "plt.plot(fpr, tpr, marker='.', label='XGBoost')\n",
    "plt.xlabel('False Positive Rate')\n",
    "plt.ylabel('True Positive Rate')\n",
    "plt.legend()\n",
    "plt.show()"
   ]
  },
  {
   "cell_type": "code",
   "execution_count": 138,
   "metadata": {},
   "outputs": [
    {
     "data": {
      "image/png": "[encoded data removed]",
      "text/plain": [
       "<Figure size 432x288 with 2 Axes>"
      ]
     },
     "metadata": {
      "needs_background": "light"
     },
     "output_type": "display_data"
    }
   ],
   "source": [
    "matrix = plot_confusion_matrix(rf_model, X_test, y_test,\n",
    "                               cmap=plt.cm.Blues)\n",
    "plt.title('XGBoost Confusion Matrix')\n",
    "plt.show(matrix)\n",
    "plt.show()"
   ]
  },
  {
   "cell_type": "code",
   "execution_count": 139,
   "metadata": {},
   "outputs": [],
   "source": [
    "n_bootstraps = 2000\n",
    "rng_seed = 42  # control reproducibility\n",
    "bootstrapped_auc_scores = []\n",
    "bootstrapped_acc_scores = []\n",
    "bootstrapped_spec_scores = []\n",
    "bootstrapped_prec_scores = []\n",
    "bootstrapped_rec_scores = []\n",
    "bootstrapped_f1_scores = []\n",
    "\n",
    "rng = np.random.RandomState(rng_seed)\n",
    "for i in range(n_bootstraps):\n",
    "    # bootstrap by sampling with replacement on the prediction indices\n",
    "    indices = rng.randint(0, len(xgb_probs), len(xgb_probs))\n",
    "    if len(np.unique(y_test.to_numpy()[indices])) < 2:\n",
    "        # We need at least one positive and one negative sample for ROC AUC\n",
    "        # to be defined: reject the sample\n",
    "        continue\n",
    "\n",
    "    auc_score = roc_auc_score(y_test.to_numpy()[indices], xgb_probs[indices])\n",
    "    acc_score = accuracy_score(y_test.to_numpy()[indices], y_pred[indices])\n",
    "    spec_score = specificity_score(y_test.to_numpy()[indices], y_pred[indices])\n",
    "    prec_score = precision_score(y_test.to_numpy()[indices], y_pred[indices])\n",
    "    rec_score = recall_score(y_test.to_numpy()[indices], y_pred[indices])\n",
    "    f_one_score = f1_score(y_test.to_numpy()[indices].astype('float64'), y_pred[indices].astype('float64'))\n",
    "\n",
    "    bootstrapped_auc_scores.append(auc_score)\n",
    "    bootstrapped_acc_scores.append(acc_score)\n",
    "    bootstrapped_spec_scores.append(spec_score)\n",
    "    bootstrapped_prec_scores.append(prec_score)\n",
    "    bootstrapped_rec_scores.append(rec_score)\n",
    "    bootstrapped_f1_scores.append(f_one_score)"
   ]
  },
  {
   "cell_type": "code",
   "execution_count": 140,
   "metadata": {},
   "outputs": [
    {
     "name": "stdout",
     "output_type": "stream",
     "text": [
      "95% Confidence interval for the AUC score: [0.571 - 0.896]\n",
      "95% Confidence interval for the Accuracy score: [0.556 - 0.833]\n",
      "95% Confidence interval for the Specificity score: [0.167 - 0.75]\n",
      "95% Confidence interval for the Precision score: [0.600 - 0.923]\n",
      "95% Confidence interval for the Recall score: [0.640 - 0.955]\n",
      "95% Confidence interval for the F1 score: [0.638 - 0.898]\n"
     ]
    }
   ],
   "source": [
    "create_ci(bootstrapped_auc_scores, \"AUC\")\n",
    "create_ci(bootstrapped_acc_scores, \"Accuracy\")\n",
    "create_ci(bootstrapped_spec_scores, \"Specificity\")\n",
    "create_ci(bootstrapped_prec_scores, \"Precision\")\n",
    "create_ci(bootstrapped_rec_scores, \"Recall\")\n",
    "create_ci(bootstrapped_f1_scores, \"F1\")"
   ]
  },
  {
   "cell_type": "code",
   "execution_count": 155,
   "metadata": {},
   "outputs": [],
   "source": [
    "sns.set()"
   ]
  },
  {
   "cell_type": "code",
   "execution_count": 156,
   "metadata": {},
   "outputs": [
    {
     "data": {
      "image/png": "[encoded data removed]",
      "text/plain": [
       "<Figure size 720x576 with 1 Axes>"
      ]
     },
     "metadata": {},
     "output_type": "display_data"
    }
   ],
   "source": [
    "feature_names = X_test.columns.to_list()\n",
    "importances = xgb_model.feature_importances_\n",
    "indices = np.argsort(importances)\n",
    "\n",
    "plt.figure(figsize=(10,8))\n",
    "plt.title('Feature Importance',fontsize=20, fontweight='semibold')\n",
    "plt.barh(range(len(indices)), importances[indices], color='b', align='center')\n",
    "plt.xlim(0, 0.6)\n",
    "for index, value in enumerate(importances[indices]):\n",
    "    plt.text(value, index, \"{:.1%}\".format(value), fontsize=12)\n",
    "plt.yticks(range(len(indices)), [feature_labels_dict[feature_names[i]] for i in indices],fontsize=12)\n",
    "plt.xlabel('Relative Importance',fontsize=16)\n",
    "plt.gca().xaxis.set_major_formatter(mtick.PercentFormatter(1))\n",
    "\n",
    "plt.show()"
   ]
  },
  {
   "cell_type": "code",
   "execution_count": 157,
   "metadata": {},
   "outputs": [],
   "source": [
    "sns.reset_orig()"
   ]
  },
  {
   "cell_type": "markdown",
   "metadata": {},
   "source": [
    "# Neural Net"
   ]
  },
  {
   "cell_type": "markdown",
   "metadata": {},
   "source": [
    "### Grid Search for Hyperparameters"
   ]
  },
  {
   "cell_type": "code",
   "execution_count": 144,
   "metadata": {},
   "outputs": [],
   "source": [
    "nn_model = MLPClassifier(max_iter = 2000, random_state = 42)\n",
    "grid_param = {'hidden_layer_sizes': [(100, 100, 50), (50, 100, 50), (100, 50, 100)],\n",
    "              'learning_rate': ['constant', 'invscaling', 'adaptive']\n",
    "}\n",
    "\n",
    "nn_grid = GridSearchCV(estimator=nn_model,\n",
    "                     param_grid=grid_param,\n",
    "                     scoring='accuracy',\n",
    "                     cv=5,\n",
    "                     n_jobs=-1)"
   ]
  },
  {
   "cell_type": "code",
   "execution_count": 145,
   "metadata": {},
   "outputs": [
    {
     "data": {
      "text/plain": [
       "GridSearchCV(cv=5, estimator=MLPClassifier(max_iter=2000, random_state=42),\n",
       "             n_jobs=-1,\n",
       "             param_grid={'hidden_layer_sizes': [(100, 100, 50), (50, 100, 50),\n",
       "                                                (100, 50, 100)],\n",
       "                         'learning_rate': ['constant', 'invscaling',\n",
       "                                           'adaptive']},\n",
       "             scoring='accuracy')"
      ]
     },
     "execution_count": 145,
     "metadata": {},
     "output_type": "execute_result"
    }
   ],
   "source": [
    "nn_grid.fit(X_train, y_train)"
   ]
  },
  {
   "cell_type": "code",
   "execution_count": 146,
   "metadata": {},
   "outputs": [
    {
     "name": "stdout",
     "output_type": "stream",
     "text": [
      "{'hidden_layer_sizes': (100, 50, 100), 'learning_rate': 'constant'}\n"
     ]
    }
   ],
   "source": [
    "print(nn_grid.best_params_)"
   ]
  },
  {
   "cell_type": "markdown",
   "metadata": {},
   "source": [
    "### Model Performance"
   ]
  },
  {
   "cell_type": "code",
   "execution_count": 147,
   "metadata": {},
   "outputs": [],
   "source": [
    "nn_model = MLPClassifier(hidden_layer_sizes = (100, 50, 100), learning_rate = 'constant', \n",
    "                         max_iter = 2000, random_state = 42)\n",
    "nn_model.fit(X_train, y_train)\n",
    "y_pred = nn_model.predict(X_test)"
   ]
  },
  {
   "cell_type": "code",
   "execution_count": 148,
   "metadata": {},
   "outputs": [
    {
     "name": "stdout",
     "output_type": "stream",
     "text": [
      "Accuracy Score: 0.75\n",
      "Specificity Score: 0.6363636363636364\n",
      "Precision: 0.8333333333333334\n",
      "Recall: 0.8\n",
      "F1 Score: 0.816326530612245\n"
     ]
    }
   ],
   "source": [
    "print(\"Accuracy Score: \" + str(accuracy_score(y_test, y_pred)))\n",
    "print(\"Specificity Score: \" + str(specificity_score(y_test.to_numpy(), y_pred)))\n",
    "print(\"Precision: \" + str(precision_score(y_test, y_pred)))\n",
    "print(\"Recall: \" + str(recall_score(y_test, y_pred)))\n",
    "print(\"F1 Score: \" + str(f1_score(y_test, y_pred)))"
   ]
  },
  {
   "cell_type": "code",
   "execution_count": 149,
   "metadata": {},
   "outputs": [
    {
     "name": "stdout",
     "output_type": "stream",
     "text": [
      "AUC: 0.730909090909091\n"
     ]
    }
   ],
   "source": [
    "nn_probs = nn_model.predict_proba(X_test)[:,1]\n",
    "fpr, tpr, thresholds = roc_curve(y_test, nn_probs)\n",
    "auc = roc_auc_score(y_test, nn_probs)\n",
    "print(\"AUC: \" + str(auc))"
   ]
  },
  {
   "cell_type": "code",
   "execution_count": 150,
   "metadata": {},
   "outputs": [
    {
     "data": {
      "image/png": "[encoded data removed]",
      "text/plain": [
       "<Figure size 432x288 with 1 Axes>"
      ]
     },
     "metadata": {
      "needs_background": "light"
     },
     "output_type": "display_data"
    }
   ],
   "source": [
    "ns_preds = [0 for _ in range(len(y_test))]\n",
    "\n",
    "ns_fpr, ns_tpr, _ = roc_curve(y_test, ns_preds)\n",
    "\n",
    "plt.plot(ns_fpr, ns_tpr, linestyle='--', label='No Skill')\n",
    "plt.plot(fpr, tpr, marker='.', label='Neural Network')\n",
    "plt.xlabel('False Positive Rate')\n",
    "plt.ylabel('True Positive Rate')\n",
    "plt.legend()\n",
    "plt.show()"
   ]
  },
  {
   "cell_type": "code",
   "execution_count": 151,
   "metadata": {},
   "outputs": [
    {
     "data": {
      "image/png": "[encoded data removed]",
      "text/plain": [
       "<Figure size 432x288 with 2 Axes>"
      ]
     },
     "metadata": {
      "needs_background": "light"
     },
     "output_type": "display_data"
    }
   ],
   "source": [
    "matrix = plot_confusion_matrix(rf_model, X_test, y_test,\n",
    "                               cmap=plt.cm.Blues)\n",
    "plt.title('Neural Network Confusion Matrix')\n",
    "plt.show(matrix)\n",
    "plt.show()"
   ]
  },
  {
   "cell_type": "code",
   "execution_count": 152,
   "metadata": {},
   "outputs": [],
   "source": [
    "n_bootstraps = 2000\n",
    "rng_seed = 42  # control reproducibility\n",
    "bootstrapped_auc_scores = []\n",
    "bootstrapped_acc_scores = []\n",
    "bootstrapped_spec_scores = []\n",
    "bootstrapped_prec_scores = []\n",
    "bootstrapped_rec_scores = []\n",
    "bootstrapped_f1_scores = []\n",
    "\n",
    "rng = np.random.RandomState(rng_seed)\n",
    "for i in range(n_bootstraps):\n",
    "    # bootstrap by sampling with replacement on the prediction indices\n",
    "    indices = rng.randint(0, len(nn_probs), len(nn_probs))\n",
    "    if len(np.unique(y_test.to_numpy()[indices])) < 2:\n",
    "        # We need at least one positive and one negative sample for ROC AUC\n",
    "        # to be defined: reject the sample\n",
    "        continue\n",
    "\n",
    "    auc_score = roc_auc_score(y_test.to_numpy()[indices], nn_probs[indices])\n",
    "    acc_score = accuracy_score(y_test.to_numpy()[indices], y_pred[indices])\n",
    "    spec_score = specificity_score(y_test.to_numpy()[indices], y_pred[indices])\n",
    "    prec_score = precision_score(y_test.to_numpy()[indices], y_pred[indices])\n",
    "    rec_score = recall_score(y_test.to_numpy()[indices], y_pred[indices])\n",
    "    f_one_score = f1_score(y_test.to_numpy()[indices].astype('float64'), y_pred[indices].astype('float64'))\n",
    "\n",
    "    bootstrapped_auc_scores.append(auc_score)\n",
    "    bootstrapped_acc_scores.append(acc_score)\n",
    "    bootstrapped_spec_scores.append(spec_score)\n",
    "    bootstrapped_prec_scores.append(prec_score)\n",
    "    bootstrapped_rec_scores.append(rec_score)\n",
    "    bootstrapped_f1_scores.append(f_one_score)"
   ]
  },
  {
   "cell_type": "code",
   "execution_count": 153,
   "metadata": {},
   "outputs": [
    {
     "name": "stdout",
     "output_type": "stream",
     "text": [
      "95% Confidence interval for the AUC score: [0.518 - 0.924]\n",
      "95% Confidence interval for the Accuracy score: [0.583 - 0.889]\n",
      "95% Confidence interval for the Specificity score: [0.333 - 0.923]\n",
      "95% Confidence interval for the Precision score: [0.667 - 0.962]\n",
      "95% Confidence interval for the Recall score: [0.636 - 0.947]\n",
      "95% Confidence interval for the F1 score: [0.682 - 0.926]\n"
     ]
    }
   ],
   "source": [
    "create_ci(bootstrapped_auc_scores, \"AUC\")\n",
    "create_ci(bootstrapped_acc_scores, \"Accuracy\")\n",
    "create_ci(bootstrapped_spec_scores, \"Specificity\")\n",
    "create_ci(bootstrapped_prec_scores, \"Precision\")\n",
    "create_ci(bootstrapped_rec_scores, \"Recall\")\n",
    "create_ci(bootstrapped_f1_scores, \"F1\")"
   ]
  },
  {
   "cell_type": "code",
   "execution_count": null,
   "metadata": {},
   "outputs": [],
   "source": []
  }
 ],
 "metadata": {
  "kernelspec": {
   "display_name": "Python 3",
   "language": "python",
   "name": "python3"
  },
  "language_info": {
   "codemirror_mode": {
    "name": "ipython",
    "version": 3
   },
   "file_extension": ".py",
   "mimetype": "text/x-python",
   "name": "python",
   "nbconvert_exporter": "python",
   "pygments_lexer": "ipython3",
   "version": "3.8.3"
  }
 },
 "nbformat": 4,
 "nbformat_minor": 4
}
