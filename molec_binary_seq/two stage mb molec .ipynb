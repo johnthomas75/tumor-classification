{
 "cells": [
  {
   "cell_type": "markdown",
   "metadata": {},
   "source": [
    "# Import Data"
   ]
  },
  {
   "cell_type": "code",
   "execution_count": 305,
   "metadata": {},
   "outputs": [],
   "source": [
    "import numpy as np\n",
    "import pandas as pd\n",
    "from sklearn import svm\n",
    "from sklearn import preprocessing\n",
    "from sklearn.linear_model import LogisticRegression\n",
    "from sklearn.neighbors import KNeighborsClassifier\n",
    "from sklearn.ensemble import RandomForestClassifier\n",
    "from sklearn.neural_network import MLPClassifier\n",
    "from xgboost import XGBClassifier\n",
    "from sklearn.multiclass import OneVsRestClassifier\n",
    "from sklearn.multiclass import OneVsOneClassifier\n",
    "from sklearn.model_selection import train_test_split\n",
    "from sklearn.model_selection import GridSearchCV\n",
    "from sklearn.model_selection import cross_val_score\n",
    "from sklearn.utils import resample\n",
    "from sklearn.svm import LinearSVC\n",
    "from sklearn.metrics import accuracy_score, precision_score, recall_score, f1_score, roc_curve, roc_auc_score, auc, plot_confusion_matrix\n",
    "from sklearn.metrics import classification_report\n",
    "from sklearn.metrics import confusion_matrix\n",
    "from sklearn.preprocessing import label_binarize\n",
    "from sklearn.metrics._plot.confusion_matrix import ConfusionMatrixDisplay\n",
    "from sklearn.utils.multiclass import unique_labels\n",
    "import matplotlib.pyplot as plt\n",
    "\n",
    "from sklearn.preprocessing import label_binarize\n",
    "\n",
    "\n",
    "from sklearn.decomposition import PCA"
   ]
  },
  {
   "cell_type": "code",
   "execution_count": 306,
   "metadata": {},
   "outputs": [],
   "source": [
    "import seaborn as sns\n",
    "sns.set()"
   ]
  },
  {
   "cell_type": "code",
   "execution_count": 307,
   "metadata": {},
   "outputs": [],
   "source": [
    "def create_confusion_matrix(y_true, y_pred, labels=None, sample_weight=None, normalize=None, display_labels=None,\n",
    "                           include_values=True, xticks_rotation='horizontal', values_format=None,\n",
    "                           cmap='viridis', ax=None, colorbar=True):\n",
    "    \n",
    "    cm = confusion_matrix(y_true, y_pred, normalize=normalize)\n",
    "    \n",
    "    if display_labels is None:\n",
    "        if labels is None:\n",
    "            display_labels = unique_labels(y_true, y_pred)\n",
    "        else:\n",
    "            display_labels = labels\n",
    "\n",
    "    disp = ConfusionMatrixDisplay(confusion_matrix=cm,\n",
    "                             display_labels=display_labels)\n",
    "    return disp.plot(include_values=include_values,\n",
    "                     cmap=cmap, ax=ax, xticks_rotation=xticks_rotation,\n",
    "                     values_format=values_format)"
   ]
  },
  {
   "cell_type": "code",
   "execution_count": 308,
   "metadata": {},
   "outputs": [],
   "source": [
    "def specificity_score(y_true, y_pred):\n",
    "    TN = 0\n",
    "    FP = 0\n",
    "    for i in range(len(y_pred)):\n",
    "        if y_pred[i] == 0 and y_true[i] == 0:\n",
    "            TN += 1\n",
    "        if y_pred[i] == 1 and y_true[i] == 0:\n",
    "            FP += 1\n",
    "    \n",
    "    return TN / (TN + FP)"
   ]
  },
  {
   "cell_type": "code",
   "execution_count": 309,
   "metadata": {},
   "outputs": [],
   "source": [
    "def positive_pv_score(y_true, y_pred):\n",
    "    TP = 0\n",
    "    FP = 0\n",
    "    for i in range(len(y_true)):\n",
    "        if y_true[i] == y_pred[i] == 1:\n",
    "            TP += 1\n",
    "        elif y_true[i] == 0 and y_pred[i] == 1:\n",
    "            FP += 1\n",
    "\n",
    "    return TP/(TP+FP)"
   ]
  },
  {
   "cell_type": "code",
   "execution_count": 310,
   "metadata": {},
   "outputs": [],
   "source": [
    "def negative_pv_score(y_true, y_pred): ##\n",
    "    TN = 0\n",
    "    FN = 0\n",
    "    for i in range(len(y_true)):\n",
    "        if y_true[i] == y_pred[i] == 0:\n",
    "            TN += 1\n",
    "        elif y_true[i] == 1 and y_pred[i] == 0:\n",
    "            FN += 1\n",
    "    \n",
    "    return TN/(TN+FN) "
   ]
  },
  {
   "cell_type": "code",
   "execution_count": 311,
   "metadata": {},
   "outputs": [],
   "source": [
    "def create_ci(bootstrapped_scores, name): ##\n",
    "    for i in range(3):\n",
    "        sorted_scores = np.array(bootstrapped_scores)[:, i]\n",
    "        sorted_scores.sort()\n",
    "    \n",
    "        confidence_lower = sorted_scores[int(0.025 * len(sorted_scores))]\n",
    "        confidence_upper = sorted_scores[int(0.975 * len(sorted_scores))]\n",
    "    \n",
    "        print(\"95% Confidence interval for the {} score for class {}: [{:0.4f} - {:0.4}]\".format(name, i,\n",
    "        confidence_lower, confidence_upper))"
   ]
  },
  {
   "cell_type": "code",
   "execution_count": 312,
   "metadata": {},
   "outputs": [],
   "source": [
    "def my_classification_report(y_test_np, y_pred):\n",
    "\n",
    "    tot_TN = 0\n",
    "    tot_TP = 0\n",
    "    tot_FP = 0\n",
    "    tot_FN = 0\n",
    "\n",
    "    spec_arr = []\n",
    "    ppv_arr = [] ##\n",
    "    npv_arr = [] ##\n",
    "    rec_arr = []\n",
    "    acc_arr = []\n",
    "\n",
    "    print(\"Specificities\")\n",
    "    for group in range(3):\n",
    "        TN = 0\n",
    "        TP = 0 ##\n",
    "        FN = 0 ##\n",
    "        FP = 0\n",
    "        for i in range(len(y_test_np)):\n",
    "            if y_pred[i] != group and y_test_np[i] != group:\n",
    "                TN += 1\n",
    "            if y_pred[i] == group and y_test_np[i] != group:\n",
    "                FP += 1\n",
    "        tot_TN += TN\n",
    "        tot_FP += FP\n",
    "        spec_arr.append(TN/(TN+FP))\n",
    "        print(group, spec_arr[group])\n",
    "\n",
    "    print(\"Macro Avg : \" + str(np.array(spec_arr).mean()))\n",
    "    print(\"Micro Avg : \" + str(tot_TN / (tot_TN + tot_FP)), '\\n') ##\n",
    "\n",
    "    tot_TN = 0\n",
    "    tot_TP = 0\n",
    "    tot_FP = 0\n",
    "    tot_FN = 0\n",
    "\n",
    "    print(\"PPV/Precision\") ##\n",
    "    for group in range(3):\n",
    "        TN = 0\n",
    "        TP = 0 ##\n",
    "        FN = 0 ##\n",
    "        FP = 0\n",
    "        for i in range(len(y_test_np)):\n",
    "            if y_pred[i] == group and y_test_np[i] == group:\n",
    "                TP += 1\n",
    "            if y_pred[i] == group and y_test_np[i] != group:\n",
    "                FP += 1\n",
    "        tot_TP += TP\n",
    "        tot_FP += FP\n",
    "        ppv_arr.append(TP/(TP+FP))\n",
    "        print(group, ppv_arr[group])\n",
    "    \n",
    "    print(\"Macro Avg : \" + str(np.array(ppv_arr).mean()))\n",
    "    prec_for_mic_f1 = tot_TP / (tot_TP + tot_FP)\n",
    "    print(\"Micro Avg : \" + str(prec_for_mic_f1), '\\n')\n",
    "\n",
    "    tot_TN = 0\n",
    "    tot_TP = 0\n",
    "    tot_FP = 0\n",
    "    tot_FN = 0\n",
    "\n",
    "    print(\"NPV\") ##\n",
    "    for group in range(3):\n",
    "        TN = 0\n",
    "        TP = 0 ##\n",
    "        FN = 0 ##\n",
    "        FP = 0\n",
    "        for i in range(len(y_test_np)):\n",
    "            if y_pred[i] != group and y_test_np[i] != group:\n",
    "                TN += 1\n",
    "            if y_pred[i] != group and y_test_np[i] == group:\n",
    "                FN += 1\n",
    "        tot_TN += TN\n",
    "        tot_FN += FN\n",
    "        npv_arr.append(TN/(TN+FN))\n",
    "        print(group, npv_arr[group])\n",
    "    \n",
    "    print(\"Macro Avg : \" + str(np.array(npv_arr).mean()))\n",
    "    print(\"Micro Avg : \" + str(tot_TN / (tot_TN + tot_FN)), '\\n') \n",
    "    \n",
    "    tot_TN = 0\n",
    "    tot_TP = 0\n",
    "    tot_FP = 0\n",
    "    tot_FN = 0\n",
    "\n",
    "    print(\"Recall\") ##\n",
    "    for group in range(3):\n",
    "        TN = 0\n",
    "        TP = 0 ##\n",
    "        FN = 0 ##\n",
    "        FP = 0\n",
    "        for i in range(len(y_test_np)):\n",
    "            if y_pred[i] == group and y_test_np[i] == group:\n",
    "                TP += 1\n",
    "            if y_pred[i] != group and y_test_np[i] == group:\n",
    "                FN += 1\n",
    "        tot_TP += TP\n",
    "        tot_FN += FN\n",
    "        rec_arr.append(TP/(TP+FN))\n",
    "        print(group, rec_arr[group])\n",
    "    \n",
    "    print(\"Macro Avg : \" + str(np.array(rec_arr).mean()))\n",
    "    rec_for_mic_f1 = tot_TP / (tot_TP + tot_FN)\n",
    "    print(\"Micro Avg : \" + str(rec_for_mic_f1), '\\n')\n",
    "    \n",
    "    print(\"F1 Score\") ##\n",
    "    for group in range(3):\n",
    "        print(group, 2 * (rec_arr[group] * ppv_arr[group]) / (rec_arr[group] + ppv_arr[group]))\n",
    "    print(\"Macro Avg : \" + str(2 * (np.array(rec_arr).mean() * np.array(ppv_arr).mean()) \n",
    "                               / (np.array(rec_arr).mean() + np.array(ppv_arr).mean())))\n",
    "    print(\"Micro Avg : \" + str(2 * (prec_for_mic_f1 * rec_for_mic_f1)/ (prec_for_mic_f1 + rec_for_mic_f1)), '\\n')\n",
    "    \n",
    "    tot_TN = 0\n",
    "    tot_TP = 0\n",
    "    tot_FP = 0\n",
    "    tot_FN = 0   \n",
    "    \n",
    "    print(\"Accuracy:\")\n",
    "    for group in range(3):\n",
    "        TN = 0\n",
    "        TP = 0 ##\n",
    "        FN = 0 ##\n",
    "        FP = 0\n",
    "        for i in range(len(y_test_np)):\n",
    "            if y_pred[i] == group and y_test_np[i] == group:\n",
    "                TP += 1\n",
    "            if y_pred[i] != group and y_test_np[i] != group:\n",
    "                TN += 1\n",
    "            if y_pred[i] == group and y_test_np[i] != group:\n",
    "                FP += 1\n",
    "            if y_pred[i] != group and y_test_np[i] == group:\n",
    "                FN += 1\n",
    "        \n",
    "        tot_TP += TP\n",
    "        tot_TN += TN\n",
    "        tot_FP += FP\n",
    "        tot_FN += FN\n",
    "        \n",
    "        acc_arr.append((TP + TN)/(TP + TN + FP + FN))\n",
    "        print(group, acc_arr[group])\n",
    "        #print(\"TP:\" + str(TP))\n",
    "        #print(\"TN:\" + str(TN))\n",
    "        #print(\"FP:\" + str(FP))\n",
    "        #print(\"FN:\" + str(FN))\n",
    "        \n",
    "        #print(TP + TN)\n",
    "        #print(TP + TN + FP + FN, '\\n')\n",
    "        \n",
    "    #print(\"Total TP:\" + str(tot_TP))\n",
    "    #print(\"Total TN:\" + str(tot_TN))\n",
    "    #print(\"Total FP:\" + str(tot_FP))\n",
    "    #print(\"Total FN:\" + str(tot_FN), '\\n')\n",
    "\n",
    "    print(\"Macro Avg : \" + str(np.array(acc_arr).mean()))\n",
    "    print(\"Micro Avg : \" + str((tot_TP + tot_TN)/(tot_TP + tot_TN + tot_FP + tot_FN)), '\\n') ##"
   ]
  },
  {
   "cell_type": "code",
   "execution_count": 313,
   "metadata": {},
   "outputs": [],
   "source": [
    "#df = pd.read_excel(\"/Users/michaelzhang/Desktop/peds_tumor/mbpyradiomics/molec_classifier/binary/wnt_rest.xlsx\")\n",
    "df = pd.read_excel(\"/Users/michaelzhang/Desktop/peds_tumor/mbpyradiomics/molec_classifier/4way/mb_t1_t2_4way.xlsx\")"
   ]
  },
  {
   "cell_type": "markdown",
   "metadata": {},
   "source": [
    "# RF1 -> NN2"
   ]
  },
  {
   "cell_type": "code",
   "execution_count": 331,
   "metadata": {},
   "outputs": [],
   "source": [
    "first_target = df[\"molecular\"]"
   ]
  },
  {
   "cell_type": "code",
   "execution_count": 332,
   "metadata": {},
   "outputs": [
    {
     "data": {
      "text/plain": [
       "shh      83\n",
       "type4    64\n",
       "type3    48\n",
       "wnt      26\n",
       "Name: molecular, dtype: int64"
      ]
     },
     "execution_count": 332,
     "metadata": {},
     "output_type": "execute_result"
    }
   ],
   "source": [
    "first_target.value_counts()"
   ]
  },
  {
   "cell_type": "code",
   "execution_count": 333,
   "metadata": {},
   "outputs": [],
   "source": [
    "reduced_features = pd.read_excel(\"/Users/michaelzhang/Desktop/peds_tumor/mbpyradiomics/molec_classifier/binary/binary_reduced.xlsx\")"
   ]
  },
  {
   "cell_type": "code",
   "execution_count": 334,
   "metadata": {},
   "outputs": [],
   "source": [
    "reduced_features_list = reduced_features.loc[reduced_features['wnt_rest'].isnull() == False, ['wnt_rest']].values.tolist()\n",
    "reduced_features_list = [item for sublist in reduced_features_list for item in sublist]"
   ]
  },
  {
   "cell_type": "code",
   "execution_count": 335,
   "metadata": {},
   "outputs": [],
   "source": [
    "first_target = first_target.map(dict(wnt = 0, shh = 1, type3 = 1, type4 = 1))"
   ]
  },
  {
   "cell_type": "code",
   "execution_count": 336,
   "metadata": {},
   "outputs": [],
   "source": [
    "first_features = df[reduced_features_list]"
   ]
  },
  {
   "cell_type": "code",
   "execution_count": 337,
   "metadata": {},
   "outputs": [
    {
     "name": "stderr",
     "output_type": "stream",
     "text": [
      "<ipython-input-337-7abfed4242db>:3: SettingWithCopyWarning: \n",
      "A value is trying to be set on a copy of a slice from a DataFrame.\n",
      "Try using .loc[row_indexer,col_indexer] = value instead\n",
      "\n",
      "See the caveats in the documentation: https://pandas.pydata.org/pandas-docs/stable/user_guide/indexing.html#returning-a-view-versus-a-copy\n",
      "  first_features['sex'] = sex_binarized\n"
     ]
    }
   ],
   "source": [
    "sex_binarized = first_features['sex'].map(dict(M = 1, F = 0)).to_numpy()\n",
    "\n",
    "first_features['sex'] = sex_binarized"
   ]
  },
  {
   "cell_type": "code",
   "execution_count": 338,
   "metadata": {},
   "outputs": [
    {
     "data": {
      "text/html": [
       "<div>\n",
       "<style scoped>\n",
       "    .dataframe tbody tr th:only-of-type {\n",
       "        vertical-align: middle;\n",
       "    }\n",
       "\n",
       "    .dataframe tbody tr th {\n",
       "        vertical-align: top;\n",
       "    }\n",
       "\n",
       "    .dataframe thead th {\n",
       "        text-align: right;\n",
       "    }\n",
       "</style>\n",
       "<table border=\"1\" class=\"dataframe\">\n",
       "  <thead>\n",
       "    <tr style=\"text-align: right;\">\n",
       "      <th></th>\n",
       "      <th>sex</th>\n",
       "      <th>age</th>\n",
       "      <th>t1_log-sigma-1-mm-3D_glcm_Correlation</th>\n",
       "      <th>t1_log-sigma-1-mm-3D_glcm_InverseVariance</th>\n",
       "      <th>t1_log-sigma-1-mm-3D_glcm_MCC</th>\n",
       "      <th>t1_log-sigma-1-mm-3D_glszm_SmallAreaLowGrayLevelEmphasis</th>\n",
       "      <th>t1_log-sigma-3-mm-3D_glszm_GrayLevelNonUniformityNormalized</th>\n",
       "      <th>t1_log-sigma-5-mm-3D_firstorder_Skewness</th>\n",
       "      <th>t1_wavelet-HHL_firstorder_Median</th>\n",
       "      <th>t1_wavelet-HLH_firstorder_Skewness</th>\n",
       "      <th>...</th>\n",
       "      <th>t2_log-sigma-5-mm-3D_firstorder_90Percentile</th>\n",
       "      <th>t2_log-sigma-5-mm-3D_glrlm_RunEntropy</th>\n",
       "      <th>t2_wavelet-HHL_glrlm_LongRunHighGrayLevelEmphasis</th>\n",
       "      <th>t2_wavelet-LHL_glcm_InverseVariance</th>\n",
       "      <th>t1_log-sigma-5-mm-3D_firstorder_Median</th>\n",
       "      <th>t1_wavelet-HHH_glcm_ClusterShade</th>\n",
       "      <th>t2_log-sigma-3-mm-3D_firstorder_Median</th>\n",
       "      <th>t2_wavelet-LHL_firstorder_Energy</th>\n",
       "      <th>t2_wavelet-LHH_glszm_LowGrayLevelZoneEmphasis</th>\n",
       "      <th>t2_wavelet-HHL_firstorder_Energy</th>\n",
       "    </tr>\n",
       "  </thead>\n",
       "  <tbody>\n",
       "    <tr>\n",
       "      <th>0</th>\n",
       "      <td>0</td>\n",
       "      <td>79.0</td>\n",
       "      <td>0.505918</td>\n",
       "      <td>0.456103</td>\n",
       "      <td>0.562873</td>\n",
       "      <td>0.009914</td>\n",
       "      <td>0.151307</td>\n",
       "      <td>0.745832</td>\n",
       "      <td>-0.008154</td>\n",
       "      <td>0.027467</td>\n",
       "      <td>...</td>\n",
       "      <td>-3.319491</td>\n",
       "      <td>5.205622</td>\n",
       "      <td>381.588056</td>\n",
       "      <td>0.413472</td>\n",
       "      <td>-21.023060</td>\n",
       "      <td>0.002760</td>\n",
       "      <td>-9.091005</td>\n",
       "      <td>7.855152e+06</td>\n",
       "      <td>0.775000</td>\n",
       "      <td>2.039729e+06</td>\n",
       "    </tr>\n",
       "    <tr>\n",
       "      <th>1</th>\n",
       "      <td>0</td>\n",
       "      <td>90.0</td>\n",
       "      <td>0.432892</td>\n",
       "      <td>0.432303</td>\n",
       "      <td>0.475984</td>\n",
       "      <td>0.102841</td>\n",
       "      <td>0.375000</td>\n",
       "      <td>-0.423881</td>\n",
       "      <td>-0.033418</td>\n",
       "      <td>0.127864</td>\n",
       "      <td>...</td>\n",
       "      <td>-2.592589</td>\n",
       "      <td>4.949568</td>\n",
       "      <td>188.395559</td>\n",
       "      <td>0.375094</td>\n",
       "      <td>-13.636353</td>\n",
       "      <td>0.011874</td>\n",
       "      <td>-23.093743</td>\n",
       "      <td>1.776711e+06</td>\n",
       "      <td>0.625000</td>\n",
       "      <td>9.030103e+05</td>\n",
       "    </tr>\n",
       "    <tr>\n",
       "      <th>2</th>\n",
       "      <td>0</td>\n",
       "      <td>76.0</td>\n",
       "      <td>0.507732</td>\n",
       "      <td>0.467495</td>\n",
       "      <td>0.534334</td>\n",
       "      <td>0.003729</td>\n",
       "      <td>0.143779</td>\n",
       "      <td>0.266144</td>\n",
       "      <td>-0.174364</td>\n",
       "      <td>0.068410</td>\n",
       "      <td>...</td>\n",
       "      <td>-8.626585</td>\n",
       "      <td>5.409242</td>\n",
       "      <td>210.395917</td>\n",
       "      <td>0.309880</td>\n",
       "      <td>-16.443489</td>\n",
       "      <td>0.000162</td>\n",
       "      <td>-15.260113</td>\n",
       "      <td>2.753361e+07</td>\n",
       "      <td>0.785714</td>\n",
       "      <td>5.791610e+06</td>\n",
       "    </tr>\n",
       "    <tr>\n",
       "      <th>3</th>\n",
       "      <td>0</td>\n",
       "      <td>121.0</td>\n",
       "      <td>0.469566</td>\n",
       "      <td>0.359673</td>\n",
       "      <td>0.506549</td>\n",
       "      <td>0.031691</td>\n",
       "      <td>0.314129</td>\n",
       "      <td>0.393157</td>\n",
       "      <td>0.092495</td>\n",
       "      <td>-0.137343</td>\n",
       "      <td>...</td>\n",
       "      <td>-13.716932</td>\n",
       "      <td>4.941416</td>\n",
       "      <td>100.589683</td>\n",
       "      <td>0.456882</td>\n",
       "      <td>1.676658</td>\n",
       "      <td>0.001026</td>\n",
       "      <td>-16.307477</td>\n",
       "      <td>1.583997e+06</td>\n",
       "      <td>0.625000</td>\n",
       "      <td>3.200592e+05</td>\n",
       "    </tr>\n",
       "    <tr>\n",
       "      <th>4</th>\n",
       "      <td>0</td>\n",
       "      <td>27.0</td>\n",
       "      <td>0.577000</td>\n",
       "      <td>0.457465</td>\n",
       "      <td>0.591460</td>\n",
       "      <td>0.005969</td>\n",
       "      <td>0.099021</td>\n",
       "      <td>0.156855</td>\n",
       "      <td>-0.127051</td>\n",
       "      <td>0.036008</td>\n",
       "      <td>...</td>\n",
       "      <td>4.093615</td>\n",
       "      <td>5.118160</td>\n",
       "      <td>312.123409</td>\n",
       "      <td>0.325784</td>\n",
       "      <td>-39.815252</td>\n",
       "      <td>0.000574</td>\n",
       "      <td>-2.067522</td>\n",
       "      <td>8.533643e+06</td>\n",
       "      <td>0.358333</td>\n",
       "      <td>4.353275e+06</td>\n",
       "    </tr>\n",
       "  </tbody>\n",
       "</table>\n",
       "<p>5 rows × 25 columns</p>\n",
       "</div>"
      ],
      "text/plain": [
       "   sex    age  t1_log-sigma-1-mm-3D_glcm_Correlation  \\\n",
       "0    0   79.0                               0.505918   \n",
       "1    0   90.0                               0.432892   \n",
       "2    0   76.0                               0.507732   \n",
       "3    0  121.0                               0.469566   \n",
       "4    0   27.0                               0.577000   \n",
       "\n",
       "   t1_log-sigma-1-mm-3D_glcm_InverseVariance  t1_log-sigma-1-mm-3D_glcm_MCC  \\\n",
       "0                                   0.456103                       0.562873   \n",
       "1                                   0.432303                       0.475984   \n",
       "2                                   0.467495                       0.534334   \n",
       "3                                   0.359673                       0.506549   \n",
       "4                                   0.457465                       0.591460   \n",
       "\n",
       "   t1_log-sigma-1-mm-3D_glszm_SmallAreaLowGrayLevelEmphasis  \\\n",
       "0                                           0.009914          \n",
       "1                                           0.102841          \n",
       "2                                           0.003729          \n",
       "3                                           0.031691          \n",
       "4                                           0.005969          \n",
       "\n",
       "   t1_log-sigma-3-mm-3D_glszm_GrayLevelNonUniformityNormalized  \\\n",
       "0                                           0.151307             \n",
       "1                                           0.375000             \n",
       "2                                           0.143779             \n",
       "3                                           0.314129             \n",
       "4                                           0.099021             \n",
       "\n",
       "   t1_log-sigma-5-mm-3D_firstorder_Skewness  t1_wavelet-HHL_firstorder_Median  \\\n",
       "0                                  0.745832                         -0.008154   \n",
       "1                                 -0.423881                         -0.033418   \n",
       "2                                  0.266144                         -0.174364   \n",
       "3                                  0.393157                          0.092495   \n",
       "4                                  0.156855                         -0.127051   \n",
       "\n",
       "   t1_wavelet-HLH_firstorder_Skewness  ...  \\\n",
       "0                            0.027467  ...   \n",
       "1                            0.127864  ...   \n",
       "2                            0.068410  ...   \n",
       "3                           -0.137343  ...   \n",
       "4                            0.036008  ...   \n",
       "\n",
       "   t2_log-sigma-5-mm-3D_firstorder_90Percentile  \\\n",
       "0                                     -3.319491   \n",
       "1                                     -2.592589   \n",
       "2                                     -8.626585   \n",
       "3                                    -13.716932   \n",
       "4                                      4.093615   \n",
       "\n",
       "   t2_log-sigma-5-mm-3D_glrlm_RunEntropy  \\\n",
       "0                               5.205622   \n",
       "1                               4.949568   \n",
       "2                               5.409242   \n",
       "3                               4.941416   \n",
       "4                               5.118160   \n",
       "\n",
       "   t2_wavelet-HHL_glrlm_LongRunHighGrayLevelEmphasis  \\\n",
       "0                                         381.588056   \n",
       "1                                         188.395559   \n",
       "2                                         210.395917   \n",
       "3                                         100.589683   \n",
       "4                                         312.123409   \n",
       "\n",
       "   t2_wavelet-LHL_glcm_InverseVariance  \\\n",
       "0                             0.413472   \n",
       "1                             0.375094   \n",
       "2                             0.309880   \n",
       "3                             0.456882   \n",
       "4                             0.325784   \n",
       "\n",
       "   t1_log-sigma-5-mm-3D_firstorder_Median  t1_wavelet-HHH_glcm_ClusterShade  \\\n",
       "0                              -21.023060                          0.002760   \n",
       "1                              -13.636353                          0.011874   \n",
       "2                              -16.443489                          0.000162   \n",
       "3                                1.676658                          0.001026   \n",
       "4                              -39.815252                          0.000574   \n",
       "\n",
       "   t2_log-sigma-3-mm-3D_firstorder_Median  t2_wavelet-LHL_firstorder_Energy  \\\n",
       "0                               -9.091005                      7.855152e+06   \n",
       "1                              -23.093743                      1.776711e+06   \n",
       "2                              -15.260113                      2.753361e+07   \n",
       "3                              -16.307477                      1.583997e+06   \n",
       "4                               -2.067522                      8.533643e+06   \n",
       "\n",
       "   t2_wavelet-LHH_glszm_LowGrayLevelZoneEmphasis  \\\n",
       "0                                       0.775000   \n",
       "1                                       0.625000   \n",
       "2                                       0.785714   \n",
       "3                                       0.625000   \n",
       "4                                       0.358333   \n",
       "\n",
       "   t2_wavelet-HHL_firstorder_Energy  \n",
       "0                      2.039729e+06  \n",
       "1                      9.030103e+05  \n",
       "2                      5.791610e+06  \n",
       "3                      3.200592e+05  \n",
       "4                      4.353275e+06  \n",
       "\n",
       "[5 rows x 25 columns]"
      ]
     },
     "execution_count": 338,
     "metadata": {},
     "output_type": "execute_result"
    }
   ],
   "source": [
    "first_features.head()"
   ]
  },
  {
   "cell_type": "code",
   "execution_count": 339,
   "metadata": {},
   "outputs": [],
   "source": [
    "X_train_1, X_test_1, y_train_1, y_test_1 = train_test_split(first_features, first_target, \n",
    "                                                   test_size = 0.25, random_state = 42)"
   ]
  },
  {
   "cell_type": "code",
   "execution_count": 340,
   "metadata": {},
   "outputs": [
    {
     "data": {
      "text/plain": [
       "1    147\n",
       "0     18\n",
       "Name: molecular, dtype: int64"
      ]
     },
     "execution_count": 340,
     "metadata": {},
     "output_type": "execute_result"
    }
   ],
   "source": [
    "y_train_1.value_counts()"
   ]
  },
  {
   "cell_type": "code",
   "execution_count": 341,
   "metadata": {},
   "outputs": [
    {
     "data": {
      "text/plain": [
       "1    48\n",
       "0     8\n",
       "Name: molecular, dtype: int64"
      ]
     },
     "execution_count": 341,
     "metadata": {},
     "output_type": "execute_result"
    }
   ],
   "source": [
    "y_test_1.value_counts()"
   ]
  },
  {
   "cell_type": "code",
   "execution_count": 342,
   "metadata": {},
   "outputs": [],
   "source": [
    "first_X = pd.concat([X_train_1, y_train_1], axis = 1)\n",
    "first_X_0 = first_X[first_X['molecular'] == 0]\n",
    "first_X_1 = first_X[first_X['molecular'] == 1]"
   ]
  },
  {
   "cell_type": "code",
   "execution_count": 343,
   "metadata": {},
   "outputs": [],
   "source": [
    "upsampled_0 = resample(first_X_0, replace = True, n_samples = len(first_X_1), random_state = 42)\n",
    "upsampled = pd.concat([upsampled_0, first_X_1])\n",
    "upsampled = upsampled.sample(frac = 1, random_state = 42)"
   ]
  },
  {
   "cell_type": "code",
   "execution_count": 344,
   "metadata": {},
   "outputs": [],
   "source": [
    "X_train_1 = upsampled.iloc[:, :-1]\n",
    "y_train_1 = upsampled.iloc[:, -1]"
   ]
  },
  {
   "cell_type": "code",
   "execution_count": 345,
   "metadata": {},
   "outputs": [
    {
     "data": {
      "text/plain": [
       "1    147\n",
       "0    147\n",
       "Name: molecular, dtype: int64"
      ]
     },
     "execution_count": 345,
     "metadata": {},
     "output_type": "execute_result"
    }
   ],
   "source": [
    "y_train_1.value_counts()"
   ]
  },
  {
   "cell_type": "code",
   "execution_count": 346,
   "metadata": {},
   "outputs": [],
   "source": [
    "##doess this need to be binarized...\n",
    "\n",
    "y_train_bin = label_binarize(y_train_1, classes = [0, 1, 2])\n",
    "y_test_bin = label_binarize(y_test_1, classes = [0, 1, 2])\n",
    "\n",
    "y_train_1 = y_train_bin[:, 1]\n",
    "y_test_1 = y_test_bin[:, 1]"
   ]
  },
  {
   "cell_type": "code",
   "execution_count": 347,
   "metadata": {},
   "outputs": [],
   "source": [
    "names = X_train_1.columns\n",
    "first_scaler = preprocessing.StandardScaler()"
   ]
  },
  {
   "cell_type": "markdown",
   "metadata": {},
   "source": [
    "# RF1: wnt vs rest1"
   ]
  },
  {
   "cell_type": "code",
   "execution_count": 348,
   "metadata": {},
   "outputs": [],
   "source": [
    "X_train_1 = first_scaler.fit_transform(X_train_1)\n",
    "X_train_1 = pd.DataFrame(X_train_1, columns = names)\n",
    "\n",
    "X_test_1 = first_scaler.transform(X_test_1)\n",
    "X_test_1 = pd.DataFrame(X_test_1, columns = names)"
   ]
  },
  {
   "cell_type": "code",
   "execution_count": 349,
   "metadata": {},
   "outputs": [],
   "source": [
    "rf_seq_1_model = RandomForestClassifier(random_state = 42)\n",
    "grid_param = {'n_estimators': [None, 50, 100, 200, 300],\n",
    "              'max_depth': [1, 2, 3, 4]\n",
    "}\n",
    "\n",
    "rf_seq_1_grid = GridSearchCV(estimator=rf_seq_1_model,\n",
    "                     param_grid=grid_param,\n",
    "                     scoring='accuracy',\n",
    "                     cv=5,\n",
    "                     n_jobs=-1)"
   ]
  },
  {
   "cell_type": "code",
   "execution_count": 350,
   "metadata": {},
   "outputs": [
    {
     "data": {
      "text/plain": [
       "GridSearchCV(cv=5, estimator=RandomForestClassifier(random_state=42), n_jobs=-1,\n",
       "             param_grid={'max_depth': [1, 2, 3, 4],\n",
       "                         'n_estimators': [None, 50, 100, 200, 300]},\n",
       "             scoring='accuracy')"
      ]
     },
     "execution_count": 350,
     "metadata": {},
     "output_type": "execute_result"
    }
   ],
   "source": [
    "rf_seq_1_grid.fit(X_train_1, y_train_1)"
   ]
  },
  {
   "cell_type": "code",
   "execution_count": 351,
   "metadata": {},
   "outputs": [
    {
     "name": "stdout",
     "output_type": "stream",
     "text": [
      "{'max_depth': 4, 'n_estimators': 100}\n"
     ]
    }
   ],
   "source": [
    "print(rf_seq_1_grid.best_params_)"
   ]
  },
  {
   "cell_type": "code",
   "execution_count": 352,
   "metadata": {},
   "outputs": [],
   "source": [
    "rf_seq_1_model = RandomForestClassifier(max_depth = 4, n_estimators = 100, random_state = 42)\n",
    "rf_seq_1_model.fit(X_train_1, y_train_1)\n",
    "y_pred_1 = rf_seq_1_model.predict(X_test_1)"
   ]
  },
  {
   "cell_type": "code",
   "execution_count": 390,
   "metadata": {},
   "outputs": [
    {
     "data": {
      "text/plain": [
       "array([1, 1, 1, 1, 1, 1, 1, 1, 1, 1, 1, 1, 1, 1, 1, 1, 1, 1, 1, 0, 1, 1,\n",
       "       1, 1, 0, 1, 1, 1, 1, 1, 1, 1, 1, 1, 0, 1, 1, 1, 1, 1, 1, 1, 1, 1,\n",
       "       1, 1, 1, 1, 1, 1, 1, 1, 1, 1, 1, 1])"
      ]
     },
     "execution_count": 390,
     "metadata": {},
     "output_type": "execute_result"
    }
   ],
   "source": [
    "y_pred_1"
   ]
  },
  {
   "cell_type": "code",
   "execution_count": 353,
   "metadata": {},
   "outputs": [
    {
     "name": "stdout",
     "output_type": "stream",
     "text": [
      "Accuracy Score: 0.875\n",
      "Precision: 0.8867924528301887\n",
      "Recall: 0.9791666666666666\n",
      "F1 Score: 0.9306930693069307\n"
     ]
    }
   ],
   "source": [
    "print(\"Accuracy Score: \" + str(accuracy_score(y_test_1, y_pred_1)))\n",
    "#print(\"Specificity Score: \" + str(specificity_score(y_test_1.to_numpy(), y_pred_1)))\n",
    "print(\"Precision: \" + str(precision_score(y_test_1, y_pred_1)))\n",
    "print(\"Recall: \" + str(recall_score(y_test_1, y_pred_1)))\n",
    "print(\"F1 Score: \" + str(f1_score(y_test_1, y_pred_1)))\n",
    "\n",
    "#print(\"PPV Score: \" + str(positive_pv_score(y_test_1.to_numpy(), y_pred_1)))\n",
    "#print(\"NPV Score: \" + str(negative_pv_score(y_test_1.to_numpy(), y_pred_1)))"
   ]
  },
  {
   "cell_type": "code",
   "execution_count": null,
   "metadata": {},
   "outputs": [],
   "source": []
  },
  {
   "cell_type": "code",
   "execution_count": null,
   "metadata": {},
   "outputs": [],
   "source": []
  },
  {
   "cell_type": "markdown",
   "metadata": {},
   "source": [
    "# NN2 - [shh vs rest2] decomposed from rest1 "
   ]
  },
  {
   "cell_type": "code",
   "execution_count": 354,
   "metadata": {},
   "outputs": [],
   "source": [
    "second_target = df[\"molecular\"]"
   ]
  },
  {
   "cell_type": "code",
   "execution_count": 355,
   "metadata": {},
   "outputs": [
    {
     "data": {
      "text/plain": [
       "shh      83\n",
       "type4    64\n",
       "type3    48\n",
       "wnt      26\n",
       "Name: molecular, dtype: int64"
      ]
     },
     "execution_count": 355,
     "metadata": {},
     "output_type": "execute_result"
    }
   ],
   "source": [
    "second_target.value_counts()"
   ]
  },
  {
   "cell_type": "code",
   "execution_count": 356,
   "metadata": {},
   "outputs": [],
   "source": [
    "second_features = df.drop(['molecular','molec_id', 'dx_date','alive','os','pfs','seg_id'], axis = 1)"
   ]
  },
  {
   "cell_type": "code",
   "execution_count": 357,
   "metadata": {},
   "outputs": [],
   "source": [
    "second_target = second_target.map(dict(shh = 0, wnt = -1, type3 = 1, type4 = 1))\n",
    "second_target = second_target[second_target != -1]\n",
    "second_features = second_features.iloc[second_target.index]"
   ]
  },
  {
   "cell_type": "code",
   "execution_count": 358,
   "metadata": {},
   "outputs": [
    {
     "data": {
      "text/plain": [
       "1    112\n",
       "0     83\n",
       "Name: molecular, dtype: int64"
      ]
     },
     "execution_count": 358,
     "metadata": {},
     "output_type": "execute_result"
    }
   ],
   "source": [
    "second_target.value_counts()"
   ]
  },
  {
   "cell_type": "code",
   "execution_count": 359,
   "metadata": {},
   "outputs": [],
   "source": [
    "second_target = second_target.reset_index(drop = True)\n",
    "second_features = second_features.reset_index(drop = True)"
   ]
  },
  {
   "cell_type": "code",
   "execution_count": 360,
   "metadata": {},
   "outputs": [],
   "source": [
    "second_reduced_features_list = reduced_features.loc[reduced_features['2ndstage_shh_rest'].isnull() == False, ['2ndstage_shh_rest']].values.tolist()"
   ]
  },
  {
   "cell_type": "code",
   "execution_count": 361,
   "metadata": {},
   "outputs": [],
   "source": [
    "second_reduced_features_list = [item for sublist in second_reduced_features_list for item in sublist]"
   ]
  },
  {
   "cell_type": "code",
   "execution_count": 362,
   "metadata": {},
   "outputs": [],
   "source": [
    "second_features = second_features[second_reduced_features_list]"
   ]
  },
  {
   "cell_type": "code",
   "execution_count": 363,
   "metadata": {},
   "outputs": [],
   "source": [
    "X_train_2, X_test_2, y_train_2, y_test_2 = train_test_split(second_features, second_target, \n",
    "                                                    test_size = 0.25, random_state = 42)"
   ]
  },
  {
   "cell_type": "code",
   "execution_count": 364,
   "metadata": {},
   "outputs": [],
   "source": [
    "second_X = pd.concat([X_train_2, y_train_2], axis = 1)\n",
    "second_X_0 = second_X[second_X['molecular'] == 0]\n",
    "second_X_1 = second_X[second_X['molecular'] == 1]"
   ]
  },
  {
   "cell_type": "code",
   "execution_count": 365,
   "metadata": {},
   "outputs": [],
   "source": [
    "second_upsampled_0 = resample(second_X_0, replace = True, n_samples = len(second_X_1), random_state = 42)\n",
    "second_upsampled = pd.concat([second_upsampled_0, second_X_1])\n",
    "second_upsampled = second_upsampled.sample(frac = 1, random_state = 42)"
   ]
  },
  {
   "cell_type": "code",
   "execution_count": 366,
   "metadata": {},
   "outputs": [],
   "source": [
    "X_train_2 = second_upsampled.iloc[:, :-1]\n",
    "y_train_2 = second_upsampled.iloc[:, -1]"
   ]
  },
  {
   "cell_type": "code",
   "execution_count": 367,
   "metadata": {},
   "outputs": [],
   "source": [
    "second_names = X_train_2.columns\n",
    "second_scaler = preprocessing.StandardScaler()"
   ]
  },
  {
   "cell_type": "code",
   "execution_count": 368,
   "metadata": {},
   "outputs": [],
   "source": [
    "X_train_2 = second_scaler.fit_transform(X_train_2)\n",
    "X_train_2 = pd.DataFrame(X_train_2, columns = second_names)"
   ]
  },
  {
   "cell_type": "code",
   "execution_count": 369,
   "metadata": {},
   "outputs": [],
   "source": [
    "X_test_2 = second_scaler.transform(X_test_2)\n",
    "X_test_2 = pd.DataFrame(X_test_2, columns = second_names)"
   ]
  },
  {
   "cell_type": "code",
   "execution_count": 370,
   "metadata": {},
   "outputs": [],
   "source": [
    "nn_seq_2_model = MLPClassifier(hidden_layer_sizes = (50, 100, 50), learning_rate = 'constant', \n",
    "                         max_iter = 2000, random_state = 42)"
   ]
  },
  {
   "cell_type": "code",
   "execution_count": 371,
   "metadata": {},
   "outputs": [],
   "source": [
    "nn_seq_2_model.fit(X_train_2, y_train_2)\n",
    "y_pred_2 = nn_seq_2_model.predict(X_test_2)"
   ]
  },
  {
   "cell_type": "code",
   "execution_count": 372,
   "metadata": {},
   "outputs": [
    {
     "data": {
      "text/plain": [
       "0.673469387755102"
      ]
     },
     "execution_count": 372,
     "metadata": {},
     "output_type": "execute_result"
    }
   ],
   "source": [
    "accuracy_score(y_test_2, y_pred_2)"
   ]
  },
  {
   "cell_type": "code",
   "execution_count": 373,
   "metadata": {},
   "outputs": [
    {
     "name": "stdout",
     "output_type": "stream",
     "text": [
      "Accuracy Score: 0.673469387755102\n",
      "Specificity Score: 0.5909090909090909\n",
      "Precision: 0.6896551724137931\n",
      "Recall: 0.7407407407407407\n",
      "F1 Score: 0.7142857142857143\n",
      "PPV Score: 0.6896551724137931\n",
      "NPV Score: 0.65\n"
     ]
    }
   ],
   "source": [
    "print(\"Accuracy Score: \" + str(accuracy_score(y_test_2, y_pred_2)))\n",
    "print(\"Specificity Score: \" + str(specificity_score(y_test_2.to_numpy(), y_pred_2)))\n",
    "print(\"Precision: \" + str(precision_score(y_test_2, y_pred_2)))\n",
    "print(\"Recall: \" + str(recall_score(y_test_2, y_pred_2)))\n",
    "print(\"F1 Score: \" + str(f1_score(y_test_2, y_pred_2)))\n",
    "\n",
    "print(\"PPV Score: \" + str(positive_pv_score(y_test_2.to_numpy(), y_pred_2)))\n",
    "print(\"NPV Score: \" + str(negative_pv_score(y_test_2.to_numpy(), y_pred_2)))"
   ]
  },
  {
   "cell_type": "code",
   "execution_count": 374,
   "metadata": {},
   "outputs": [
    {
     "data": {
      "image/png": "[encoded data removed]",
      "text/plain": [
       "<Figure size 432x288 with 2 Axes>"
      ]
     },
     "metadata": {},
     "output_type": "display_data"
    }
   ],
   "source": [
    "matrix = plot_confusion_matrix(nn_seq_2_model, X_test_2, y_test_2,\n",
    "                               cmap=plt.cm.Blues)\n",
    "plt.title('Neural Network Confusion Matrix')\n",
    "plt.show(matrix)\n",
    "plt.show()"
   ]
  },
  {
   "cell_type": "code",
   "execution_count": 375,
   "metadata": {},
   "outputs": [
    {
     "data": {
      "image/png": "[encoded data removed]",
      "text/plain": [
       "<Figure size 432x288 with 2 Axes>"
      ]
     },
     "metadata": {},
     "output_type": "display_data"
    }
   ],
   "source": [
    "matrix = plot_confusion_matrix(nn_seq_2_model, X_test_2, y_test_2,\n",
    "                               cmap=plt.cm.Blues,\n",
    "                               normalize = 'true')\n",
    "plt.title('Normalized Neural Network Confusion Matrix')\n",
    "plt.show(matrix)\n",
    "plt.show()"
   ]
  },
  {
   "cell_type": "markdown",
   "metadata": {},
   "source": [
    "# Testing"
   ]
  },
  {
   "cell_type": "code",
   "execution_count": 587,
   "metadata": {},
   "outputs": [],
   "source": [
    "test_features = df.drop(['molec_id','molec_id', 'dx_date','alive','os','pfs','seg_id'], axis = 1) \n",
    "test_target = df[\"molecular\"]"
   ]
  },
  {
   "cell_type": "code",
   "execution_count": 588,
   "metadata": {},
   "outputs": [
    {
     "data": {
      "text/html": [
       "<div>\n",
       "<style scoped>\n",
       "    .dataframe tbody tr th:only-of-type {\n",
       "        vertical-align: middle;\n",
       "    }\n",
       "\n",
       "    .dataframe tbody tr th {\n",
       "        vertical-align: top;\n",
       "    }\n",
       "\n",
       "    .dataframe thead th {\n",
       "        text-align: right;\n",
       "    }\n",
       "</style>\n",
       "<table border=\"1\" class=\"dataframe\">\n",
       "  <thead>\n",
       "    <tr style=\"text-align: right;\">\n",
       "      <th></th>\n",
       "      <th>molecular</th>\n",
       "      <th>sex</th>\n",
       "      <th>age</th>\n",
       "      <th>t1_log-sigma-1-mm-3D_firstorder_10Percentile</th>\n",
       "      <th>t1_log-sigma-1-mm-3D_firstorder_90Percentile</th>\n",
       "      <th>t1_log-sigma-1-mm-3D_firstorder_Energy</th>\n",
       "      <th>t1_log-sigma-1-mm-3D_firstorder_Entropy</th>\n",
       "      <th>t1_log-sigma-1-mm-3D_firstorder_InterquartileRange</th>\n",
       "      <th>t1_log-sigma-1-mm-3D_firstorder_Kurtosis</th>\n",
       "      <th>t1_log-sigma-1-mm-3D_firstorder_Maximum</th>\n",
       "      <th>...</th>\n",
       "      <th>t2_wavelet-LLL_glszm_LargeAreaLowGrayLevelEmphasis</th>\n",
       "      <th>t2_wavelet-LLL_glszm_LowGrayLevelZoneEmphasis</th>\n",
       "      <th>t2_wavelet-LLL_glszm_SizeZoneNonUniformity</th>\n",
       "      <th>t2_wavelet-LLL_glszm_SizeZoneNonUniformityNormalized</th>\n",
       "      <th>t2_wavelet-LLL_glszm_SmallAreaEmphasis</th>\n",
       "      <th>t2_wavelet-LLL_glszm_SmallAreaHighGrayLevelEmphasis</th>\n",
       "      <th>t2_wavelet-LLL_glszm_SmallAreaLowGrayLevelEmphasis</th>\n",
       "      <th>t2_wavelet-LLL_glszm_ZoneEntropy</th>\n",
       "      <th>t2_wavelet-LLL_glszm_ZonePercentage</th>\n",
       "      <th>t2_wavelet-LLL_glszm_ZoneVariance</th>\n",
       "    </tr>\n",
       "  </thead>\n",
       "  <tbody>\n",
       "    <tr>\n",
       "      <th>0</th>\n",
       "      <td>shh</td>\n",
       "      <td>F</td>\n",
       "      <td>79.0</td>\n",
       "      <td>-14.446979</td>\n",
       "      <td>8.570989</td>\n",
       "      <td>2.386692e+06</td>\n",
       "      <td>2.058784</td>\n",
       "      <td>11.399018</td>\n",
       "      <td>5.429111</td>\n",
       "      <td>67.647911</td>\n",
       "      <td>...</td>\n",
       "      <td>1.973686</td>\n",
       "      <td>0.000808</td>\n",
       "      <td>1027.170040</td>\n",
       "      <td>0.297042</td>\n",
       "      <td>0.562429</td>\n",
       "      <td>1220.949377</td>\n",
       "      <td>0.000601</td>\n",
       "      <td>7.518529</td>\n",
       "      <td>0.134000</td>\n",
       "      <td>5335.217376</td>\n",
       "    </tr>\n",
       "    <tr>\n",
       "      <th>1</th>\n",
       "      <td>wnt</td>\n",
       "      <td>F</td>\n",
       "      <td>90.0</td>\n",
       "      <td>-11.965873</td>\n",
       "      <td>5.527298</td>\n",
       "      <td>2.653529e+05</td>\n",
       "      <td>1.661074</td>\n",
       "      <td>9.179155</td>\n",
       "      <td>5.046659</td>\n",
       "      <td>46.801155</td>\n",
       "      <td>...</td>\n",
       "      <td>0.243711</td>\n",
       "      <td>0.005756</td>\n",
       "      <td>344.000989</td>\n",
       "      <td>0.340258</td>\n",
       "      <td>0.604408</td>\n",
       "      <td>481.129194</td>\n",
       "      <td>0.004316</td>\n",
       "      <td>7.318544</td>\n",
       "      <td>0.252624</td>\n",
       "      <td>209.948818</td>\n",
       "    </tr>\n",
       "    <tr>\n",
       "      <th>2</th>\n",
       "      <td>wnt</td>\n",
       "      <td>F</td>\n",
       "      <td>76.0</td>\n",
       "      <td>-15.311574</td>\n",
       "      <td>12.145382</td>\n",
       "      <td>4.502164e+06</td>\n",
       "      <td>2.288427</td>\n",
       "      <td>13.547600</td>\n",
       "      <td>7.190374</td>\n",
       "      <td>57.708969</td>\n",
       "      <td>...</td>\n",
       "      <td>0.049205</td>\n",
       "      <td>0.000786</td>\n",
       "      <td>4051.276393</td>\n",
       "      <td>0.385322</td>\n",
       "      <td>0.644380</td>\n",
       "      <td>1826.940136</td>\n",
       "      <td>0.000552</td>\n",
       "      <td>8.163314</td>\n",
       "      <td>0.350257</td>\n",
       "      <td>66.167310</td>\n",
       "    </tr>\n",
       "    <tr>\n",
       "      <th>3</th>\n",
       "      <td>type4</td>\n",
       "      <td>F</td>\n",
       "      <td>121.0</td>\n",
       "      <td>-6.059545</td>\n",
       "      <td>6.715712</td>\n",
       "      <td>3.960594e+05</td>\n",
       "      <td>1.354158</td>\n",
       "      <td>6.443654</td>\n",
       "      <td>4.655418</td>\n",
       "      <td>21.968809</td>\n",
       "      <td>...</td>\n",
       "      <td>3.112323</td>\n",
       "      <td>0.003300</td>\n",
       "      <td>481.319732</td>\n",
       "      <td>0.321953</td>\n",
       "      <td>0.586631</td>\n",
       "      <td>463.640209</td>\n",
       "      <td>0.002341</td>\n",
       "      <td>7.438314</td>\n",
       "      <td>0.129236</td>\n",
       "      <td>2106.125227</td>\n",
       "    </tr>\n",
       "    <tr>\n",
       "      <th>4</th>\n",
       "      <td>shh</td>\n",
       "      <td>F</td>\n",
       "      <td>27.0</td>\n",
       "      <td>-25.161749</td>\n",
       "      <td>9.990795</td>\n",
       "      <td>4.884253e+06</td>\n",
       "      <td>2.589809</td>\n",
       "      <td>17.211576</td>\n",
       "      <td>4.150726</td>\n",
       "      <td>56.228771</td>\n",
       "      <td>...</td>\n",
       "      <td>0.094180</td>\n",
       "      <td>0.001028</td>\n",
       "      <td>1305.932045</td>\n",
       "      <td>0.382523</td>\n",
       "      <td>0.642779</td>\n",
       "      <td>1897.521463</td>\n",
       "      <td>0.000611</td>\n",
       "      <td>7.748172</td>\n",
       "      <td>0.291049</td>\n",
       "      <td>174.711614</td>\n",
       "    </tr>\n",
       "    <tr>\n",
       "      <th>...</th>\n",
       "      <td>...</td>\n",
       "      <td>...</td>\n",
       "      <td>...</td>\n",
       "      <td>...</td>\n",
       "      <td>...</td>\n",
       "      <td>...</td>\n",
       "      <td>...</td>\n",
       "      <td>...</td>\n",
       "      <td>...</td>\n",
       "      <td>...</td>\n",
       "      <td>...</td>\n",
       "      <td>...</td>\n",
       "      <td>...</td>\n",
       "      <td>...</td>\n",
       "      <td>...</td>\n",
       "      <td>...</td>\n",
       "      <td>...</td>\n",
       "      <td>...</td>\n",
       "      <td>...</td>\n",
       "      <td>...</td>\n",
       "      <td>...</td>\n",
       "    </tr>\n",
       "    <tr>\n",
       "      <th>216</th>\n",
       "      <td>shh</td>\n",
       "      <td>M</td>\n",
       "      <td>22.0</td>\n",
       "      <td>-27.907258</td>\n",
       "      <td>15.962589</td>\n",
       "      <td>1.493149e+07</td>\n",
       "      <td>2.931215</td>\n",
       "      <td>19.929533</td>\n",
       "      <td>5.994240</td>\n",
       "      <td>116.221512</td>\n",
       "      <td>...</td>\n",
       "      <td>1.211945</td>\n",
       "      <td>0.000565</td>\n",
       "      <td>3764.525654</td>\n",
       "      <td>0.387856</td>\n",
       "      <td>0.646073</td>\n",
       "      <td>2209.516014</td>\n",
       "      <td>0.000413</td>\n",
       "      <td>7.867412</td>\n",
       "      <td>0.257590</td>\n",
       "      <td>2245.267377</td>\n",
       "    </tr>\n",
       "    <tr>\n",
       "      <th>217</th>\n",
       "      <td>wnt</td>\n",
       "      <td>M</td>\n",
       "      <td>172.0</td>\n",
       "      <td>-16.559532</td>\n",
       "      <td>10.121233</td>\n",
       "      <td>4.474797e+06</td>\n",
       "      <td>2.233474</td>\n",
       "      <td>13.508543</td>\n",
       "      <td>4.313261</td>\n",
       "      <td>52.201164</td>\n",
       "      <td>...</td>\n",
       "      <td>2.395014</td>\n",
       "      <td>0.001504</td>\n",
       "      <td>1891.628493</td>\n",
       "      <td>0.324298</td>\n",
       "      <td>0.589271</td>\n",
       "      <td>825.808563</td>\n",
       "      <td>0.001061</td>\n",
       "      <td>7.623581</td>\n",
       "      <td>0.181374</td>\n",
       "      <td>2622.388341</td>\n",
       "    </tr>\n",
       "    <tr>\n",
       "      <th>218</th>\n",
       "      <td>type4</td>\n",
       "      <td>M</td>\n",
       "      <td>74.0</td>\n",
       "      <td>-34.380056</td>\n",
       "      <td>23.855227</td>\n",
       "      <td>1.014991e+07</td>\n",
       "      <td>3.273762</td>\n",
       "      <td>28.915231</td>\n",
       "      <td>3.845363</td>\n",
       "      <td>110.470612</td>\n",
       "      <td>...</td>\n",
       "      <td>0.624603</td>\n",
       "      <td>0.001676</td>\n",
       "      <td>1620.801636</td>\n",
       "      <td>0.323449</td>\n",
       "      <td>0.587494</td>\n",
       "      <td>651.778314</td>\n",
       "      <td>0.001052</td>\n",
       "      <td>7.619742</td>\n",
       "      <td>0.242852</td>\n",
       "      <td>478.635109</td>\n",
       "    </tr>\n",
       "    <tr>\n",
       "      <th>219</th>\n",
       "      <td>shh</td>\n",
       "      <td>M</td>\n",
       "      <td>14.0</td>\n",
       "      <td>-32.209457</td>\n",
       "      <td>25.601605</td>\n",
       "      <td>3.656453e+07</td>\n",
       "      <td>3.293817</td>\n",
       "      <td>27.997813</td>\n",
       "      <td>4.266583</td>\n",
       "      <td>119.978508</td>\n",
       "      <td>...</td>\n",
       "      <td>2.016422</td>\n",
       "      <td>0.000795</td>\n",
       "      <td>3300.903006</td>\n",
       "      <td>0.325372</td>\n",
       "      <td>0.588549</td>\n",
       "      <td>1307.124424</td>\n",
       "      <td>0.000533</td>\n",
       "      <td>7.851386</td>\n",
       "      <td>0.205148</td>\n",
       "      <td>2879.261041</td>\n",
       "    </tr>\n",
       "    <tr>\n",
       "      <th>220</th>\n",
       "      <td>type4</td>\n",
       "      <td>M</td>\n",
       "      <td>42.0</td>\n",
       "      <td>-28.593016</td>\n",
       "      <td>20.257199</td>\n",
       "      <td>1.190038e+07</td>\n",
       "      <td>3.022372</td>\n",
       "      <td>25.002744</td>\n",
       "      <td>3.477734</td>\n",
       "      <td>96.832924</td>\n",
       "      <td>...</td>\n",
       "      <td>0.049164</td>\n",
       "      <td>0.000721</td>\n",
       "      <td>3124.766141</td>\n",
       "      <td>0.359623</td>\n",
       "      <td>0.621902</td>\n",
       "      <td>1499.843350</td>\n",
       "      <td>0.000526</td>\n",
       "      <td>7.723004</td>\n",
       "      <td>0.300200</td>\n",
       "      <td>146.323904</td>\n",
       "    </tr>\n",
       "  </tbody>\n",
       "</table>\n",
       "<p>221 rows × 1803 columns</p>\n",
       "</div>"
      ],
      "text/plain": [
       "    molecular sex    age  t1_log-sigma-1-mm-3D_firstorder_10Percentile  \\\n",
       "0         shh   F   79.0                                    -14.446979   \n",
       "1         wnt   F   90.0                                    -11.965873   \n",
       "2         wnt   F   76.0                                    -15.311574   \n",
       "3       type4   F  121.0                                     -6.059545   \n",
       "4         shh   F   27.0                                    -25.161749   \n",
       "..        ...  ..    ...                                           ...   \n",
       "216       shh   M   22.0                                    -27.907258   \n",
       "217       wnt   M  172.0                                    -16.559532   \n",
       "218     type4   M   74.0                                    -34.380056   \n",
       "219       shh   M   14.0                                    -32.209457   \n",
       "220     type4   M   42.0                                    -28.593016   \n",
       "\n",
       "     t1_log-sigma-1-mm-3D_firstorder_90Percentile  \\\n",
       "0                                        8.570989   \n",
       "1                                        5.527298   \n",
       "2                                       12.145382   \n",
       "3                                        6.715712   \n",
       "4                                        9.990795   \n",
       "..                                            ...   \n",
       "216                                     15.962589   \n",
       "217                                     10.121233   \n",
       "218                                     23.855227   \n",
       "219                                     25.601605   \n",
       "220                                     20.257199   \n",
       "\n",
       "     t1_log-sigma-1-mm-3D_firstorder_Energy  \\\n",
       "0                              2.386692e+06   \n",
       "1                              2.653529e+05   \n",
       "2                              4.502164e+06   \n",
       "3                              3.960594e+05   \n",
       "4                              4.884253e+06   \n",
       "..                                      ...   \n",
       "216                            1.493149e+07   \n",
       "217                            4.474797e+06   \n",
       "218                            1.014991e+07   \n",
       "219                            3.656453e+07   \n",
       "220                            1.190038e+07   \n",
       "\n",
       "     t1_log-sigma-1-mm-3D_firstorder_Entropy  \\\n",
       "0                                   2.058784   \n",
       "1                                   1.661074   \n",
       "2                                   2.288427   \n",
       "3                                   1.354158   \n",
       "4                                   2.589809   \n",
       "..                                       ...   \n",
       "216                                 2.931215   \n",
       "217                                 2.233474   \n",
       "218                                 3.273762   \n",
       "219                                 3.293817   \n",
       "220                                 3.022372   \n",
       "\n",
       "     t1_log-sigma-1-mm-3D_firstorder_InterquartileRange  \\\n",
       "0                                            11.399018    \n",
       "1                                             9.179155    \n",
       "2                                            13.547600    \n",
       "3                                             6.443654    \n",
       "4                                            17.211576    \n",
       "..                                                 ...    \n",
       "216                                          19.929533    \n",
       "217                                          13.508543    \n",
       "218                                          28.915231    \n",
       "219                                          27.997813    \n",
       "220                                          25.002744    \n",
       "\n",
       "     t1_log-sigma-1-mm-3D_firstorder_Kurtosis  \\\n",
       "0                                    5.429111   \n",
       "1                                    5.046659   \n",
       "2                                    7.190374   \n",
       "3                                    4.655418   \n",
       "4                                    4.150726   \n",
       "..                                        ...   \n",
       "216                                  5.994240   \n",
       "217                                  4.313261   \n",
       "218                                  3.845363   \n",
       "219                                  4.266583   \n",
       "220                                  3.477734   \n",
       "\n",
       "     t1_log-sigma-1-mm-3D_firstorder_Maximum  ...  \\\n",
       "0                                  67.647911  ...   \n",
       "1                                  46.801155  ...   \n",
       "2                                  57.708969  ...   \n",
       "3                                  21.968809  ...   \n",
       "4                                  56.228771  ...   \n",
       "..                                       ...  ...   \n",
       "216                               116.221512  ...   \n",
       "217                                52.201164  ...   \n",
       "218                               110.470612  ...   \n",
       "219                               119.978508  ...   \n",
       "220                                96.832924  ...   \n",
       "\n",
       "     t2_wavelet-LLL_glszm_LargeAreaLowGrayLevelEmphasis  \\\n",
       "0                                             1.973686    \n",
       "1                                             0.243711    \n",
       "2                                             0.049205    \n",
       "3                                             3.112323    \n",
       "4                                             0.094180    \n",
       "..                                                 ...    \n",
       "216                                           1.211945    \n",
       "217                                           2.395014    \n",
       "218                                           0.624603    \n",
       "219                                           2.016422    \n",
       "220                                           0.049164    \n",
       "\n",
       "     t2_wavelet-LLL_glszm_LowGrayLevelZoneEmphasis  \\\n",
       "0                                         0.000808   \n",
       "1                                         0.005756   \n",
       "2                                         0.000786   \n",
       "3                                         0.003300   \n",
       "4                                         0.001028   \n",
       "..                                             ...   \n",
       "216                                       0.000565   \n",
       "217                                       0.001504   \n",
       "218                                       0.001676   \n",
       "219                                       0.000795   \n",
       "220                                       0.000721   \n",
       "\n",
       "     t2_wavelet-LLL_glszm_SizeZoneNonUniformity  \\\n",
       "0                                   1027.170040   \n",
       "1                                    344.000989   \n",
       "2                                   4051.276393   \n",
       "3                                    481.319732   \n",
       "4                                   1305.932045   \n",
       "..                                          ...   \n",
       "216                                 3764.525654   \n",
       "217                                 1891.628493   \n",
       "218                                 1620.801636   \n",
       "219                                 3300.903006   \n",
       "220                                 3124.766141   \n",
       "\n",
       "     t2_wavelet-LLL_glszm_SizeZoneNonUniformityNormalized  \\\n",
       "0                                             0.297042      \n",
       "1                                             0.340258      \n",
       "2                                             0.385322      \n",
       "3                                             0.321953      \n",
       "4                                             0.382523      \n",
       "..                                                 ...      \n",
       "216                                           0.387856      \n",
       "217                                           0.324298      \n",
       "218                                           0.323449      \n",
       "219                                           0.325372      \n",
       "220                                           0.359623      \n",
       "\n",
       "     t2_wavelet-LLL_glszm_SmallAreaEmphasis  \\\n",
       "0                                  0.562429   \n",
       "1                                  0.604408   \n",
       "2                                  0.644380   \n",
       "3                                  0.586631   \n",
       "4                                  0.642779   \n",
       "..                                      ...   \n",
       "216                                0.646073   \n",
       "217                                0.589271   \n",
       "218                                0.587494   \n",
       "219                                0.588549   \n",
       "220                                0.621902   \n",
       "\n",
       "     t2_wavelet-LLL_glszm_SmallAreaHighGrayLevelEmphasis  \\\n",
       "0                                          1220.949377     \n",
       "1                                           481.129194     \n",
       "2                                          1826.940136     \n",
       "3                                           463.640209     \n",
       "4                                          1897.521463     \n",
       "..                                                 ...     \n",
       "216                                        2209.516014     \n",
       "217                                         825.808563     \n",
       "218                                         651.778314     \n",
       "219                                        1307.124424     \n",
       "220                                        1499.843350     \n",
       "\n",
       "     t2_wavelet-LLL_glszm_SmallAreaLowGrayLevelEmphasis  \\\n",
       "0                                             0.000601    \n",
       "1                                             0.004316    \n",
       "2                                             0.000552    \n",
       "3                                             0.002341    \n",
       "4                                             0.000611    \n",
       "..                                                 ...    \n",
       "216                                           0.000413    \n",
       "217                                           0.001061    \n",
       "218                                           0.001052    \n",
       "219                                           0.000533    \n",
       "220                                           0.000526    \n",
       "\n",
       "     t2_wavelet-LLL_glszm_ZoneEntropy  t2_wavelet-LLL_glszm_ZonePercentage  \\\n",
       "0                            7.518529                             0.134000   \n",
       "1                            7.318544                             0.252624   \n",
       "2                            8.163314                             0.350257   \n",
       "3                            7.438314                             0.129236   \n",
       "4                            7.748172                             0.291049   \n",
       "..                                ...                                  ...   \n",
       "216                          7.867412                             0.257590   \n",
       "217                          7.623581                             0.181374   \n",
       "218                          7.619742                             0.242852   \n",
       "219                          7.851386                             0.205148   \n",
       "220                          7.723004                             0.300200   \n",
       "\n",
       "     t2_wavelet-LLL_glszm_ZoneVariance  \n",
       "0                          5335.217376  \n",
       "1                           209.948818  \n",
       "2                            66.167310  \n",
       "3                          2106.125227  \n",
       "4                           174.711614  \n",
       "..                                 ...  \n",
       "216                        2245.267377  \n",
       "217                        2622.388341  \n",
       "218                         478.635109  \n",
       "219                        2879.261041  \n",
       "220                         146.323904  \n",
       "\n",
       "[221 rows x 1803 columns]"
      ]
     },
     "execution_count": 588,
     "metadata": {},
     "output_type": "execute_result"
    }
   ],
   "source": [
    "test_features"
   ]
  },
  {
   "cell_type": "code",
   "execution_count": 589,
   "metadata": {},
   "outputs": [
    {
     "data": {
      "text/plain": [
       "0        shh\n",
       "1        wnt\n",
       "2        wnt\n",
       "3      type4\n",
       "4        shh\n",
       "       ...  \n",
       "216      shh\n",
       "217      wnt\n",
       "218    type4\n",
       "219      shh\n",
       "220    type4\n",
       "Name: molecular, Length: 221, dtype: object"
      ]
     },
     "execution_count": 589,
     "metadata": {},
     "output_type": "execute_result"
    }
   ],
   "source": [
    "test_target"
   ]
  },
  {
   "cell_type": "code",
   "execution_count": 590,
   "metadata": {},
   "outputs": [],
   "source": [
    "test_target = test_target.map(dict(wnt = 0, shh = 1, type3 = 1, type4 = 1))"
   ]
  },
  {
   "cell_type": "code",
   "execution_count": 591,
   "metadata": {},
   "outputs": [
    {
     "data": {
      "text/plain": [
       "0      1\n",
       "1      0\n",
       "2      0\n",
       "3      1\n",
       "4      1\n",
       "      ..\n",
       "216    1\n",
       "217    0\n",
       "218    1\n",
       "219    1\n",
       "220    1\n",
       "Name: molecular, Length: 221, dtype: int64"
      ]
     },
     "execution_count": 591,
     "metadata": {},
     "output_type": "execute_result"
    }
   ],
   "source": [
    "test_target"
   ]
  },
  {
   "cell_type": "code",
   "execution_count": 592,
   "metadata": {},
   "outputs": [],
   "source": [
    "X_train, X_test, y_train, y_test = train_test_split(test_features, test_target, \n",
    "                                                    test_size = 0.25, random_state = 42)"
   ]
  },
  {
   "cell_type": "code",
   "execution_count": 593,
   "metadata": {},
   "outputs": [],
   "source": [
    "X_test = X_test.reset_index(drop = True)\n",
    "y_test = y_test.reset_index(drop = True)"
   ]
  },
  {
   "cell_type": "code",
   "execution_count": 594,
   "metadata": {},
   "outputs": [],
   "source": [
    "sex_binarized = X_test['sex'].map(dict(M = 1, F = 0)).to_numpy()\n",
    "\n",
    "X_test['sex'] = sex_binarized"
   ]
  },
  {
   "cell_type": "code",
   "execution_count": 595,
   "metadata": {},
   "outputs": [],
   "source": [
    "X_test_reduced = X_test[reduced_features_list]"
   ]
  },
  {
   "cell_type": "code",
   "execution_count": 596,
   "metadata": {},
   "outputs": [],
   "source": [
    "names = X_test_reduced.columns\n",
    "X_test_for_first = first_scaler.transform(X_test_reduced)\n",
    "X_test_for_first = pd.DataFrame(X_test_for_first, columns = names)"
   ]
  },
  {
   "cell_type": "code",
   "execution_count": 597,
   "metadata": {},
   "outputs": [],
   "source": [
    "y_preds_after_first = rf_seq_1_model.predict(X_test_for_first)"
   ]
  },
  {
   "cell_type": "code",
   "execution_count": 598,
   "metadata": {},
   "outputs": [
    {
     "data": {
      "text/plain": [
       "array([1, 1, 1, 1, 1, 1, 1, 1, 1, 1, 1, 1, 1, 1, 1, 1, 1, 1, 1, 0, 1, 1,\n",
       "       1, 1, 0, 1, 1, 1, 1, 1, 1, 1, 1, 1, 0, 1, 1, 1, 1, 1, 1, 1, 1, 1,\n",
       "       1, 1, 1, 1, 1, 1, 1, 1, 1, 1, 1, 1])"
      ]
     },
     "execution_count": 598,
     "metadata": {},
     "output_type": "execute_result"
    }
   ],
   "source": [
    "y_preds_after_first"
   ]
  },
  {
   "cell_type": "code",
   "execution_count": 599,
   "metadata": {},
   "outputs": [],
   "source": [
    "## changed  == 1 to == 0; pilo was previously '1'\n",
    "wnt_indices = np.where(y_preds_after_first == 0)\n",
    "other_indices = np.where(y_preds_after_first != 0)"
   ]
  },
  {
   "cell_type": "code",
   "execution_count": 600,
   "metadata": {},
   "outputs": [
    {
     "data": {
      "text/plain": [
       "(array([ 0,  1,  2,  3,  4,  5,  6,  7,  8,  9, 10, 11, 12, 13, 14, 15, 16,\n",
       "        17, 18, 20, 21, 22, 23, 25, 26, 27, 28, 29, 30, 31, 32, 33, 35, 36,\n",
       "        37, 38, 39, 40, 41, 42, 43, 44, 45, 46, 47, 48, 49, 50, 51, 52, 53,\n",
       "        54, 55]),)"
      ]
     },
     "execution_count": 600,
     "metadata": {},
     "output_type": "execute_result"
    }
   ],
   "source": [
    "#need to take these indices and relabel them\n",
    "other_indices"
   ]
  },
  {
   "cell_type": "code",
   "execution_count": 601,
   "metadata": {},
   "outputs": [],
   "source": [
    "df2 = X_test.iloc[other_indices]"
   ]
  },
  {
   "cell_type": "code",
   "execution_count": 602,
   "metadata": {},
   "outputs": [],
   "source": [
    "test_target2 = df2[\"molecular\"]"
   ]
  },
  {
   "cell_type": "code",
   "execution_count": 603,
   "metadata": {},
   "outputs": [],
   "source": [
    "test_target2 = test_target2.map(dict(wnt = -1, shh = 0, type3 = 1, type4 = 1))"
   ]
  },
  {
   "cell_type": "code",
   "execution_count": 604,
   "metadata": {},
   "outputs": [],
   "source": [
    "wnt_preds = y_preds_after_first[wnt_indices]\n",
    "y_test_for_wnt = np.array(y_test)[wnt_indices]"
   ]
  },
  {
   "cell_type": "code",
   "execution_count": 608,
   "metadata": {},
   "outputs": [],
   "source": [
    "#is this where test_target2 goes?\n",
    "X_test_after_first_model = X_test.iloc[other_indices].reset_index(drop = True)\n",
    "y_test_after_first_model = y_test.iloc[other_indices].reset_index(drop = True)"
   ]
  },
  {
   "cell_type": "code",
   "execution_count": 606,
   "metadata": {},
   "outputs": [
    {
     "data": {
      "text/plain": [
       "0     1\n",
       "1     1\n",
       "2     1\n",
       "3     1\n",
       "4     1\n",
       "5     1\n",
       "6     1\n",
       "7     1\n",
       "8     1\n",
       "9     0\n",
       "10    1\n",
       "11    1\n",
       "12    1\n",
       "13    1\n",
       "14    1\n",
       "15    1\n",
       "16    1\n",
       "17    1\n",
       "18    1\n",
       "19    1\n",
       "20    0\n",
       "21    1\n",
       "22    1\n",
       "23    1\n",
       "24    1\n",
       "25    1\n",
       "26    1\n",
       "27    1\n",
       "28    0\n",
       "29    1\n",
       "30    1\n",
       "31    1\n",
       "32    1\n",
       "33    1\n",
       "34    1\n",
       "35    1\n",
       "36    1\n",
       "37    1\n",
       "38    0\n",
       "39    0\n",
       "40    1\n",
       "41    1\n",
       "42    1\n",
       "43    1\n",
       "44    1\n",
       "45    1\n",
       "46    1\n",
       "47    1\n",
       "48    1\n",
       "49    1\n",
       "50    1\n",
       "51    1\n",
       "52    0\n",
       "Name: molecular, dtype: int64"
      ]
     },
     "execution_count": 606,
     "metadata": {},
     "output_type": "execute_result"
    }
   ],
   "source": [
    "y_test_after_first_model"
   ]
  },
  {
   "cell_type": "code",
   "execution_count": 585,
   "metadata": {},
   "outputs": [
    {
     "name": "stderr",
     "output_type": "stream",
     "text": [
      "<ipython-input-585-a46c53551f90>:1: FutureWarning: Using a non-tuple sequence for multidimensional indexing is deprecated; use `arr[tuple(seq)]` instead of `arr[seq]`. In the future this will be interpreted as an array index, `arr[np.array(seq)]`, which will result either in an error or a different result.\n",
      "  X_test_after_first_model = X_test_after_first_model[second_reduced_features_list]\n"
     ]
    },
    {
     "ename": "IndexError",
     "evalue": "only integers, slices (`:`), ellipsis (`...`), numpy.newaxis (`None`) and integer or boolean arrays are valid indices",
     "output_type": "error",
     "traceback": [
      "\u001b[0;31m---------------------------------------------------------------------------\u001b[0m",
      "\u001b[0;31mIndexError\u001b[0m                                Traceback (most recent call last)",
      "\u001b[0;32m<ipython-input-585-a46c53551f90>\u001b[0m in \u001b[0;36m<module>\u001b[0;34m\u001b[0m\n\u001b[0;32m----> 1\u001b[0;31m \u001b[0mX_test_after_first_model\u001b[0m \u001b[0;34m=\u001b[0m \u001b[0mX_test_after_first_model\u001b[0m\u001b[0;34m[\u001b[0m\u001b[0msecond_reduced_features_list\u001b[0m\u001b[0;34m]\u001b[0m\u001b[0;34m\u001b[0m\u001b[0;34m\u001b[0m\u001b[0m\n\u001b[0m",
      "\u001b[0;31mIndexError\u001b[0m: only integers, slices (`:`), ellipsis (`...`), numpy.newaxis (`None`) and integer or boolean arrays are valid indices"
     ]
    }
   ],
   "source": [
    "X_test_after_first_model = X_test_after_first_model[second_reduced_features_list]"
   ]
  },
  {
   "cell_type": "code",
   "execution_count": 462,
   "metadata": {},
   "outputs": [],
   "source": [
    "X_test_after_first_model = second_scaler.transform(X_test_after_first_model)"
   ]
  },
  {
   "cell_type": "code",
   "execution_count": 439,
   "metadata": {},
   "outputs": [],
   "source": [
    "# X_test_after_first_model = second_scaler.transform(X_test_after_first_model)\n",
    "# second_testprincipalComponents = second_pca.transform(X_test_after_first_model)\n",
    "# X_test_after_first_model = pd.DataFrame(data = second_testprincipalComponents)"
   ]
  },
  {
   "cell_type": "code",
   "execution_count": null,
   "metadata": {},
   "outputs": [],
   "source": []
  },
  {
   "cell_type": "code",
   "execution_count": 465,
   "metadata": {},
   "outputs": [],
   "source": [
    "#y_test_after_first_model is those patients who were not selected for wnt\n",
    "#relabel wnt from 0 to -1?\n",
    "#need to decompose 1 back to shh and type3/4...\n",
    "\n",
    "y_test_after_first_model = np.array(y_test_after_first_model)\n",
    "y_test_after_first_model[y_test_after_first_model == 1] = -1\n",
    "y_test_after_first_model[y_test_after_first_model == 2] = 1"
   ]
  },
  {
   "cell_type": "code",
   "execution_count": 441,
   "metadata": {},
   "outputs": [],
   "source": [
    "y_preds_after_second = nn_seq_2_model.predict(X_test_after_first_model)"
   ]
  },
  {
   "cell_type": "code",
   "execution_count": 442,
   "metadata": {},
   "outputs": [
    {
     "data": {
      "text/plain": [
       "0.03773584905660377"
      ]
     },
     "execution_count": 442,
     "metadata": {},
     "output_type": "execute_result"
    }
   ],
   "source": [
    "accuracy_score(y_test_after_first_model, y_preds_after_second)"
   ]
  },
  {
   "cell_type": "code",
   "execution_count": 443,
   "metadata": {},
   "outputs": [],
   "source": [
    "y_preds_after_second[y_preds_after_second == 1] = 2"
   ]
  },
  {
   "cell_type": "code",
   "execution_count": 260,
   "metadata": {},
   "outputs": [],
   "source": [
    "y_test_after_first_model[y_test_after_first_model == 1] = 2\n",
    "y_test_after_first_model[y_test_after_first_model == -1] = 1"
   ]
  },
  {
   "cell_type": "code",
   "execution_count": 261,
   "metadata": {},
   "outputs": [],
   "source": [
    "y_preds_overall = np.concatenate([y_preds_after_second, wnt_preds])\n",
    "y_test_overall = np.concatenate([y_test_after_first_model, y_test_for_wnt])"
   ]
  },
  {
   "cell_type": "code",
   "execution_count": 262,
   "metadata": {},
   "outputs": [
    {
     "data": {
      "text/plain": [
       "0.32142857142857145"
      ]
     },
     "execution_count": 262,
     "metadata": {},
     "output_type": "execute_result"
    }
   ],
   "source": [
    "accuracy_score(y_test_overall, y_preds_overall)"
   ]
  },
  {
   "cell_type": "code",
   "execution_count": 92,
   "metadata": {},
   "outputs": [],
   "source": [
    "sns.reset_orig()"
   ]
  },
  {
   "cell_type": "code",
   "execution_count": 264,
   "metadata": {},
   "outputs": [
    {
     "data": {
      "image/png": "[encoded data removed]",
      "text/plain": [
       "<Figure size 432x288 with 2 Axes>"
      ]
     },
     "metadata": {},
     "output_type": "display_data"
    }
   ],
   "source": [
    "matrix = create_confusion_matrix(y_test_overall, y_preds_overall, cmap=plt.cm.Blues)\n",
    "plt.title('RF1 + NN2 Confusion Matrix')\n",
    "plt.show(matrix)\n",
    "plt.show()"
   ]
  },
  {
   "cell_type": "code",
   "execution_count": 265,
   "metadata": {},
   "outputs": [
    {
     "data": {
      "image/png": "[encoded data removed]",
      "text/plain": [
       "<Figure size 432x288 with 2 Axes>"
      ]
     },
     "metadata": {},
     "output_type": "display_data"
    }
   ],
   "source": [
    "matrix = create_confusion_matrix(y_test_overall, y_preds_overall, cmap=plt.cm.Blues, normalize = 'true')\n",
    "plt.title('Normalized RF1 + NN2 Confusion Matrix')\n",
    "plt.show(matrix)\n",
    "plt.show()"
   ]
  },
  {
   "cell_type": "code",
   "execution_count": 266,
   "metadata": {},
   "outputs": [
    {
     "name": "stdout",
     "output_type": "stream",
     "text": [
      "Specificities\n",
      "0 1.0\n",
      "1 0.075\n",
      "2 0.9583333333333334\n",
      "Macro Avg : 0.6777777777777777\n",
      "Micro Avg : 0.6607142857142857 \n",
      "\n",
      "PPV/Precision\n",
      "0 1.0\n",
      "1 0.3018867924528302\n",
      "2 0.5\n",
      "Macro Avg : 0.60062893081761\n",
      "Micro Avg : 0.32142857142857145 \n",
      "\n",
      "NPV\n",
      "0 0.8727272727272727\n",
      "1 1.0\n",
      "2 0.42592592592592593\n",
      "Macro Avg : 0.7662177328843995\n",
      "Micro Avg : 0.6607142857142857 \n",
      "\n",
      "Recall\n",
      "0 0.125\n",
      "1 1.0\n",
      "2 0.03125\n",
      "Macro Avg : 0.3854166666666667\n",
      "Micro Avg : 0.32142857142857145 \n",
      "\n",
      "F1 Score\n",
      "0 0.2222222222222222\n",
      "1 0.463768115942029\n",
      "2 0.058823529411764705\n",
      "Macro Avg : 0.46953690784665464\n",
      "Micro Avg : 0.32142857142857145 \n",
      "\n",
      "Accuracy:\n",
      "0 0.875\n",
      "1 0.3392857142857143\n",
      "2 0.42857142857142855\n",
      "Macro Avg : 0.5476190476190477\n",
      "Micro Avg : 0.5476190476190477 \n",
      "\n"
     ]
    }
   ],
   "source": [
    "y_test_np = y_test.to_numpy()\n",
    "my_classification_report(y_test_overall, y_preds_overall)"
   ]
  },
  {
   "cell_type": "code",
   "execution_count": 267,
   "metadata": {},
   "outputs": [],
   "source": [
    "y_test_bin = label_binarize(y_test_overall, classes = [0, 1, 2])\n",
    "y_pred_bin = label_binarize(y_preds_overall, classes = [0, 1, 2])"
   ]
  },
  {
   "cell_type": "code",
   "execution_count": 268,
   "metadata": {},
   "outputs": [
    {
     "name": "stderr",
     "output_type": "stream",
     "text": [
      "/Users/michaelzhang/opt/anaconda3/lib/python3.8/site-packages/sklearn/metrics/_classification.py:1221: UndefinedMetricWarning: Precision is ill-defined and being set to 0.0 due to no predicted samples. Use `zero_division` parameter to control this behavior.\n",
      "  _warn_prf(average, modifier, msg_start, len(result))\n"
     ]
    },
    {
     "ename": "ZeroDivisionError",
     "evalue": "division by zero",
     "output_type": "error",
     "traceback": [
      "\u001b[0;31m---------------------------------------------------------------------------\u001b[0m",
      "\u001b[0;31mZeroDivisionError\u001b[0m                         Traceback (most recent call last)",
      "\u001b[0;32m<ipython-input-268-df4b8d57c264>\u001b[0m in \u001b[0;36m<module>\u001b[0;34m\u001b[0m\n\u001b[1;32m     34\u001b[0m         \u001b[0mone_rec\u001b[0m\u001b[0;34m.\u001b[0m\u001b[0mappend\u001b[0m\u001b[0;34m(\u001b[0m\u001b[0mrecall_score\u001b[0m\u001b[0;34m(\u001b[0m\u001b[0my_test_bin\u001b[0m\u001b[0;34m[\u001b[0m\u001b[0;34m:\u001b[0m\u001b[0;34m,\u001b[0m \u001b[0mi\u001b[0m\u001b[0;34m]\u001b[0m\u001b[0;34m[\u001b[0m\u001b[0mindices\u001b[0m\u001b[0;34m]\u001b[0m\u001b[0;34m,\u001b[0m \u001b[0my_pred_bin\u001b[0m\u001b[0;34m[\u001b[0m\u001b[0;34m:\u001b[0m\u001b[0;34m,\u001b[0m \u001b[0mi\u001b[0m\u001b[0;34m]\u001b[0m\u001b[0;34m[\u001b[0m\u001b[0mindices\u001b[0m\u001b[0;34m]\u001b[0m\u001b[0;34m)\u001b[0m\u001b[0;34m)\u001b[0m\u001b[0;34m\u001b[0m\u001b[0;34m\u001b[0m\u001b[0m\n\u001b[1;32m     35\u001b[0m         \u001b[0mone_f_one\u001b[0m\u001b[0;34m.\u001b[0m\u001b[0mappend\u001b[0m\u001b[0;34m(\u001b[0m\u001b[0mf1_score\u001b[0m\u001b[0;34m(\u001b[0m\u001b[0my_test_bin\u001b[0m\u001b[0;34m[\u001b[0m\u001b[0;34m:\u001b[0m\u001b[0;34m,\u001b[0m \u001b[0mi\u001b[0m\u001b[0;34m]\u001b[0m\u001b[0;34m[\u001b[0m\u001b[0mindices\u001b[0m\u001b[0;34m]\u001b[0m\u001b[0;34m,\u001b[0m \u001b[0my_pred_bin\u001b[0m\u001b[0;34m[\u001b[0m\u001b[0;34m:\u001b[0m\u001b[0;34m,\u001b[0m \u001b[0mi\u001b[0m\u001b[0;34m]\u001b[0m\u001b[0;34m[\u001b[0m\u001b[0mindices\u001b[0m\u001b[0;34m]\u001b[0m\u001b[0;34m)\u001b[0m\u001b[0;34m)\u001b[0m\u001b[0;34m\u001b[0m\u001b[0;34m\u001b[0m\u001b[0m\n\u001b[0;32m---> 36\u001b[0;31m         \u001b[0mone_ppv\u001b[0m\u001b[0;34m.\u001b[0m\u001b[0mappend\u001b[0m\u001b[0;34m(\u001b[0m\u001b[0mpositive_pv_score\u001b[0m\u001b[0;34m(\u001b[0m\u001b[0my_test_bin\u001b[0m\u001b[0;34m[\u001b[0m\u001b[0;34m:\u001b[0m\u001b[0;34m,\u001b[0m \u001b[0mi\u001b[0m\u001b[0;34m]\u001b[0m\u001b[0;34m[\u001b[0m\u001b[0mindices\u001b[0m\u001b[0;34m]\u001b[0m\u001b[0;34m,\u001b[0m \u001b[0my_pred_bin\u001b[0m\u001b[0;34m[\u001b[0m\u001b[0;34m:\u001b[0m\u001b[0;34m,\u001b[0m \u001b[0mi\u001b[0m\u001b[0;34m]\u001b[0m\u001b[0;34m[\u001b[0m\u001b[0mindices\u001b[0m\u001b[0;34m]\u001b[0m\u001b[0;34m)\u001b[0m\u001b[0;34m)\u001b[0m \u001b[0;31m##\u001b[0m\u001b[0;34m\u001b[0m\u001b[0;34m\u001b[0m\u001b[0m\n\u001b[0m\u001b[1;32m     37\u001b[0m         \u001b[0mone_npv\u001b[0m\u001b[0;34m.\u001b[0m\u001b[0mappend\u001b[0m\u001b[0;34m(\u001b[0m\u001b[0mnegative_pv_score\u001b[0m\u001b[0;34m(\u001b[0m\u001b[0my_test_bin\u001b[0m\u001b[0;34m[\u001b[0m\u001b[0;34m:\u001b[0m\u001b[0;34m,\u001b[0m \u001b[0mi\u001b[0m\u001b[0;34m]\u001b[0m\u001b[0;34m[\u001b[0m\u001b[0mindices\u001b[0m\u001b[0;34m]\u001b[0m\u001b[0;34m,\u001b[0m \u001b[0my_pred_bin\u001b[0m\u001b[0;34m[\u001b[0m\u001b[0;34m:\u001b[0m\u001b[0;34m,\u001b[0m \u001b[0mi\u001b[0m\u001b[0;34m]\u001b[0m\u001b[0;34m[\u001b[0m\u001b[0mindices\u001b[0m\u001b[0;34m]\u001b[0m\u001b[0;34m)\u001b[0m\u001b[0;34m)\u001b[0m \u001b[0;31m##\u001b[0m\u001b[0;34m\u001b[0m\u001b[0;34m\u001b[0m\u001b[0m\n\u001b[1;32m     38\u001b[0m \u001b[0;34m\u001b[0m\u001b[0m\n",
      "\u001b[0;32m<ipython-input-138-bce5fdf83cc7>\u001b[0m in \u001b[0;36mpositive_pv_score\u001b[0;34m(y_true, y_pred)\u001b[0m\n\u001b[1;32m      8\u001b[0m             \u001b[0mFP\u001b[0m \u001b[0;34m+=\u001b[0m \u001b[0;36m1\u001b[0m\u001b[0;34m\u001b[0m\u001b[0;34m\u001b[0m\u001b[0m\n\u001b[1;32m      9\u001b[0m \u001b[0;34m\u001b[0m\u001b[0m\n\u001b[0;32m---> 10\u001b[0;31m     \u001b[0;32mreturn\u001b[0m \u001b[0mTP\u001b[0m\u001b[0;34m/\u001b[0m\u001b[0;34m(\u001b[0m\u001b[0mTP\u001b[0m\u001b[0;34m+\u001b[0m\u001b[0mFP\u001b[0m\u001b[0;34m)\u001b[0m\u001b[0;34m\u001b[0m\u001b[0;34m\u001b[0m\u001b[0m\n\u001b[0m",
      "\u001b[0;31mZeroDivisionError\u001b[0m: division by zero"
     ]
    }
   ],
   "source": [
    "n_classes = 3\n",
    "\n",
    "n_bootstraps = 2000\n",
    "rng_seed = 42  # control reproducibility\n",
    "bootstrapped_auc_scores = []\n",
    "bootstrapped_acc_scores = []\n",
    "bootstrapped_spec_scores = []\n",
    "bootstrapped_prec_scores = []\n",
    "bootstrapped_rec_scores = []\n",
    "bootstrapped_f_one_scores = []\n",
    "bootstrapped_ppv_scores = [] ##\n",
    "bootstrapped_npv_scores = [] ##\n",
    "\n",
    "rng = np.random.RandomState(rng_seed)\n",
    "for i in range(n_bootstraps):\n",
    "    # bootstrap by sampling with replacement on the prediction indices\n",
    "    indices = rng.randint(0, len(y_test_overall), len(y_test_overall))\n",
    "    if len(np.unique(y_test_overall[indices])) < 2:\n",
    "        # We need at least one positive and one negative sample for ROC AUC\n",
    "        # to be defined: reject the sample\n",
    "        continue\n",
    "    \n",
    "    one_acc = []\n",
    "    one_spec = []\n",
    "    one_prec = []\n",
    "    one_rec = []\n",
    "    one_f_one = []\n",
    "    one_ppv = [] ##\n",
    "    one_npv = [] ##\n",
    "    for i in range(n_classes):\n",
    "        one_acc.append(accuracy_score(y_test_bin[:, i][indices], y_pred_bin[:, i][indices]))\n",
    "        one_spec.append(specificity_score(y_test_bin[:, i][indices], y_pred_bin[:, i][indices]))\n",
    "        one_prec.append(precision_score(y_test_bin[:, i][indices], y_pred_bin[:, i][indices]))\n",
    "        one_rec.append(recall_score(y_test_bin[:, i][indices], y_pred_bin[:, i][indices]))\n",
    "        one_f_one.append(f1_score(y_test_bin[:, i][indices], y_pred_bin[:, i][indices]))\n",
    "        one_ppv.append(positive_pv_score(y_test_bin[:, i][indices], y_pred_bin[:, i][indices])) ##\n",
    "        one_npv.append(negative_pv_score(y_test_bin[:, i][indices], y_pred_bin[:, i][indices])) ##\n",
    "\n",
    "    bootstrapped_acc_scores.append(one_acc)\n",
    "    bootstrapped_spec_scores.append(one_spec)\n",
    "    bootstrapped_prec_scores.append(one_prec)\n",
    "    bootstrapped_rec_scores.append(one_rec)\n",
    "    bootstrapped_f_one_scores.append(one_f_one)\n",
    "    bootstrapped_ppv_scores.append(one_ppv) ##\n",
    "    bootstrapped_npv_scores.append(one_npv) ##"
   ]
  },
  {
   "cell_type": "code",
   "execution_count": 98,
   "metadata": {},
   "outputs": [
    {
     "name": "stdout",
     "output_type": "stream",
     "text": [
      "95% Confidence interval for the Accuracy score for class 0: [0.9179 - 0.9851]\n",
      "95% Confidence interval for the Accuracy score for class 1: [0.8955 - 0.9776]\n",
      "95% Confidence interval for the Accuracy score for class 2: [0.8955 - 0.9776]\n",
      "95% Confidence interval for the Specificity score for class 0: [0.9358 - 1.0]\n",
      "95% Confidence interval for the Specificity score for class 1: [0.9419 - 1.0]\n",
      "95% Confidence interval for the Specificity score for class 2: [0.8472 - 0.9744]\n",
      "95% Confidence interval for the Precision score for class 0: [0.7692 - 1.0]\n",
      "95% Confidence interval for the Precision score for class 1: [0.8750 - 1.0]\n",
      "95% Confidence interval for the Precision score for class 2: [0.8308 - 0.9701]\n",
      "95% Confidence interval for the Recall score for class 0: [0.7778 - 1.0]\n",
      "95% Confidence interval for the Recall score for class 1: [0.7568 - 0.9556]\n",
      "95% Confidence interval for the Recall score for class 2: [0.9167 - 1.0]\n",
      "95% Confidence interval for the F1 score for class 0: [0.8000 - 0.9677]\n",
      "95% Confidence interval for the F1 score for class 1: [0.8333 - 0.9647]\n",
      "95% Confidence interval for the F1 score for class 2: [0.8905 - 0.9756]\n",
      "95% Confidence interval for the PPV score for class 0: [0.7692 - 1.0]\n",
      "95% Confidence interval for the PPV score for class 1: [0.8750 - 1.0]\n",
      "95% Confidence interval for the PPV score for class 2: [0.8308 - 0.9701]\n",
      "95% Confidence interval for the NPV score for class 0: [0.9368 - 1.0]\n",
      "95% Confidence interval for the NPV score for class 1: [0.8824 - 0.9792]\n",
      "95% Confidence interval for the NPV score for class 2: [0.9273 - 1.0]\n"
     ]
    }
   ],
   "source": [
    "create_ci(bootstrapped_acc_scores, \"Accuracy\")\n",
    "create_ci(bootstrapped_spec_scores, \"Specificity\")\n",
    "create_ci(bootstrapped_prec_scores, \"Precision\")\n",
    "create_ci(bootstrapped_rec_scores, \"Recall\")\n",
    "create_ci(bootstrapped_f_one_scores, \"F1\")\n",
    "create_ci(bootstrapped_ppv_scores, \"PPV\") ##\n",
    "create_ci(bootstrapped_npv_scores, \"NPV\") ##"
   ]
  },
  {
   "cell_type": "code",
   "execution_count": null,
   "metadata": {},
   "outputs": [],
   "source": []
  }
 ],
 "metadata": {
  "kernelspec": {
   "display_name": "Python 3",
   "language": "python",
   "name": "python3"
  },
  "language_info": {
   "codemirror_mode": {
    "name": "ipython",
    "version": 3
   },
   "file_extension": ".py",
   "mimetype": "text/x-python",
   "name": "python",
   "nbconvert_exporter": "python",
   "pygments_lexer": "ipython3",
   "version": "3.8.5"
  }
 },
 "nbformat": 4,
 "nbformat_minor": 4
}
