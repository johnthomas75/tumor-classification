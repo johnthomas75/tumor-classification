{
 "cells": [
  {
   "cell_type": "markdown",
   "metadata": {},
   "source": [
    "# Import Data"
   ]
  },
  {
   "cell_type": "code",
   "execution_count": 10,
   "metadata": {},
   "outputs": [],
   "source": [
    "import numpy as np\n",
    "import pandas as pd\n",
    "from sklearn import svm\n",
    "from sklearn import preprocessing\n",
    "from sklearn.linear_model import LogisticRegression\n",
    "from sklearn.neighbors import KNeighborsClassifier\n",
    "from sklearn.ensemble import RandomForestClassifier\n",
    "from sklearn.neural_network import MLPClassifier\n",
    "from xgboost import XGBClassifier\n",
    "from sklearn.multiclass import OneVsRestClassifier\n",
    "from sklearn.multiclass import OneVsOneClassifier\n",
    "from sklearn.model_selection import train_test_split\n",
    "from sklearn.model_selection import GridSearchCV\n",
    "from sklearn.model_selection import cross_val_score\n",
    "from sklearn.utils import resample\n",
    "from sklearn.svm import LinearSVC\n",
    "from sklearn.metrics import accuracy_score, precision_score, recall_score, f1_score, roc_curve, roc_auc_score, auc, plot_confusion_matrix\n",
    "from sklearn.metrics import classification_report\n",
    "from sklearn.metrics import confusion_matrix\n",
    "from sklearn.preprocessing import label_binarize\n",
    "from sklearn.metrics._plot.confusion_matrix import ConfusionMatrixDisplay\n",
    "from sklearn.utils.multiclass import unique_labels\n",
    "import matplotlib.pyplot as plt\n",
    "\n",
    "from sklearn.preprocessing import label_binarize\n",
    "\n",
    "\n",
    "from sklearn.decomposition import PCA"
   ]
  },
  {
   "cell_type": "code",
   "execution_count": 11,
   "metadata": {},
   "outputs": [],
   "source": [
    "import seaborn as sns\n",
    "sns.set()"
   ]
  },
  {
   "cell_type": "code",
   "execution_count": 12,
   "metadata": {},
   "outputs": [],
   "source": [
    "def create_confusion_matrix(y_true, y_pred, labels=None, sample_weight=None, normalize=None, display_labels=None,\n",
    "                           include_values=True, xticks_rotation='horizontal', values_format=None,\n",
    "                           cmap='viridis', ax=None, colorbar=True):\n",
    "    \n",
    "    cm = confusion_matrix(y_true, y_pred, normalize=normalize)\n",
    "    \n",
    "    if display_labels is None:\n",
    "        if labels is None:\n",
    "            display_labels = unique_labels(y_true, y_pred)\n",
    "        else:\n",
    "            display_labels = labels\n",
    "\n",
    "    disp = ConfusionMatrixDisplay(confusion_matrix=cm,\n",
    "                             display_labels=display_labels)\n",
    "    return disp.plot(include_values=include_values,\n",
    "                     cmap=cmap, ax=ax, xticks_rotation=xticks_rotation,\n",
    "                     values_format=values_format)"
   ]
  },
  {
   "cell_type": "code",
   "execution_count": 13,
   "metadata": {},
   "outputs": [],
   "source": [
    "def specificity_score(y_true, y_pred):\n",
    "    TN = 0\n",
    "    FP = 0\n",
    "    for i in range(len(y_pred)):\n",
    "        if y_pred[i] == 0 and y_true[i] == 0:\n",
    "            TN += 1\n",
    "        if y_pred[i] == 1 and y_true[i] == 0:\n",
    "            FP += 1\n",
    "    \n",
    "    return TN / (TN + FP)"
   ]
  },
  {
   "cell_type": "code",
   "execution_count": 14,
   "metadata": {},
   "outputs": [],
   "source": [
    "def positive_pv_score(y_true, y_pred):\n",
    "    TP = 0\n",
    "    FP = 0\n",
    "    for i in range(len(y_true)):\n",
    "        if y_true[i] == y_pred[i] == 1:\n",
    "            TP += 1\n",
    "        elif y_true[i] == 0 and y_pred[i] == 1:\n",
    "            FP += 1\n",
    "\n",
    "    return TP/(TP+FP)"
   ]
  },
  {
   "cell_type": "code",
   "execution_count": 15,
   "metadata": {},
   "outputs": [],
   "source": [
    "def negative_pv_score(y_true, y_pred): ##\n",
    "    TN = 0\n",
    "    FN = 0\n",
    "    for i in range(len(y_true)):\n",
    "        if y_true[i] == y_pred[i] == 0:\n",
    "            TN += 1\n",
    "        elif y_true[i] == 1 and y_pred[i] == 0:\n",
    "            FN += 1\n",
    "    \n",
    "    return TN/(TN+FN) "
   ]
  },
  {
   "cell_type": "code",
   "execution_count": 16,
   "metadata": {},
   "outputs": [],
   "source": [
    "def create_ci(bootstrapped_scores, name): ##\n",
    "    for i in range(3):\n",
    "        sorted_scores = np.array(bootstrapped_scores)[:, i]\n",
    "        sorted_scores.sort()\n",
    "    \n",
    "        confidence_lower = sorted_scores[int(0.025 * len(sorted_scores))]\n",
    "        confidence_upper = sorted_scores[int(0.975 * len(sorted_scores))]\n",
    "    \n",
    "        print(\"95% Confidence interval for the {} score for class {}: [{:0.4f} - {:0.4}]\".format(name, i,\n",
    "        confidence_lower, confidence_upper))"
   ]
  },
  {
   "cell_type": "code",
   "execution_count": 17,
   "metadata": {},
   "outputs": [],
   "source": [
    "def my_classification_report(y_test_np, y_pred):\n",
    "\n",
    "    tot_TN = 0\n",
    "    tot_TP = 0\n",
    "    tot_FP = 0\n",
    "    tot_FN = 0\n",
    "\n",
    "    spec_arr = []\n",
    "    ppv_arr = [] ##\n",
    "    npv_arr = [] ##\n",
    "    rec_arr = []\n",
    "    acc_arr = []\n",
    "\n",
    "    print(\"Specificities\")\n",
    "    for group in range(3):\n",
    "        TN = 0\n",
    "        TP = 0 ##\n",
    "        FN = 0 ##\n",
    "        FP = 0\n",
    "        for i in range(len(y_test_np)):\n",
    "            if y_pred[i] != group and y_test_np[i] != group:\n",
    "                TN += 1\n",
    "            if y_pred[i] == group and y_test_np[i] != group:\n",
    "                FP += 1\n",
    "        tot_TN += TN\n",
    "        tot_FP += FP\n",
    "        spec_arr.append(TN/(TN+FP))\n",
    "        print(group, spec_arr[group])\n",
    "\n",
    "    print(\"Macro Avg : \" + str(np.array(spec_arr).mean()))\n",
    "    print(\"Micro Avg : \" + str(tot_TN / (tot_TN + tot_FP)), '\\n') ##\n",
    "\n",
    "    tot_TN = 0\n",
    "    tot_TP = 0\n",
    "    tot_FP = 0\n",
    "    tot_FN = 0\n",
    "\n",
    "    print(\"PPV/Precision\") ##\n",
    "    for group in range(3):\n",
    "        TN = 0\n",
    "        TP = 0 ##\n",
    "        FN = 0 ##\n",
    "        FP = 0\n",
    "        for i in range(len(y_test_np)):\n",
    "            if y_pred[i] == group and y_test_np[i] == group:\n",
    "                TP += 1\n",
    "            if y_pred[i] == group and y_test_np[i] != group:\n",
    "                FP += 1\n",
    "        tot_TP += TP\n",
    "        tot_FP += FP\n",
    "        ppv_arr.append(TP/(TP+FP))\n",
    "        print(group, ppv_arr[group])\n",
    "    \n",
    "    print(\"Macro Avg : \" + str(np.array(ppv_arr).mean()))\n",
    "    prec_for_mic_f1 = tot_TP / (tot_TP + tot_FP)\n",
    "    print(\"Micro Avg : \" + str(prec_for_mic_f1), '\\n')\n",
    "\n",
    "    tot_TN = 0\n",
    "    tot_TP = 0\n",
    "    tot_FP = 0\n",
    "    tot_FN = 0\n",
    "\n",
    "    print(\"NPV\") ##\n",
    "    for group in range(3):\n",
    "        TN = 0\n",
    "        TP = 0 ##\n",
    "        FN = 0 ##\n",
    "        FP = 0\n",
    "        for i in range(len(y_test_np)):\n",
    "            if y_pred[i] != group and y_test_np[i] != group:\n",
    "                TN += 1\n",
    "            if y_pred[i] != group and y_test_np[i] == group:\n",
    "                FN += 1\n",
    "        tot_TN += TN\n",
    "        tot_FN += FN\n",
    "        npv_arr.append(TN/(TN+FN))\n",
    "        print(group, npv_arr[group])\n",
    "    \n",
    "    print(\"Macro Avg : \" + str(np.array(npv_arr).mean()))\n",
    "    print(\"Micro Avg : \" + str(tot_TN / (tot_TN + tot_FN)), '\\n') \n",
    "    \n",
    "    tot_TN = 0\n",
    "    tot_TP = 0\n",
    "    tot_FP = 0\n",
    "    tot_FN = 0\n",
    "\n",
    "    print(\"Recall\") ##\n",
    "    for group in range(3):\n",
    "        TN = 0\n",
    "        TP = 0 ##\n",
    "        FN = 0 ##\n",
    "        FP = 0\n",
    "        for i in range(len(y_test_np)):\n",
    "            if y_pred[i] == group and y_test_np[i] == group:\n",
    "                TP += 1\n",
    "            if y_pred[i] != group and y_test_np[i] == group:\n",
    "                FN += 1\n",
    "        tot_TP += TP\n",
    "        tot_FN += FN\n",
    "        rec_arr.append(TP/(TP+FN))\n",
    "        print(group, rec_arr[group])\n",
    "    \n",
    "    print(\"Macro Avg : \" + str(np.array(rec_arr).mean()))\n",
    "    rec_for_mic_f1 = tot_TP / (tot_TP + tot_FN)\n",
    "    print(\"Micro Avg : \" + str(rec_for_mic_f1), '\\n')\n",
    "    \n",
    "    print(\"F1 Score\") ##\n",
    "    for group in range(3):\n",
    "        print(group, 2 * (rec_arr[group] * ppv_arr[group]) / (rec_arr[group] + ppv_arr[group]))\n",
    "    print(\"Macro Avg : \" + str(2 * (np.array(rec_arr).mean() * np.array(ppv_arr).mean()) \n",
    "                               / (np.array(rec_arr).mean() + np.array(ppv_arr).mean())))\n",
    "    print(\"Micro Avg : \" + str(2 * (prec_for_mic_f1 * rec_for_mic_f1)/ (prec_for_mic_f1 + rec_for_mic_f1)), '\\n')\n",
    "    \n",
    "    tot_TN = 0\n",
    "    tot_TP = 0\n",
    "    tot_FP = 0\n",
    "    tot_FN = 0   \n",
    "    \n",
    "    print(\"Accuracy:\")\n",
    "    for group in range(3):\n",
    "        TN = 0\n",
    "        TP = 0 ##\n",
    "        FN = 0 ##\n",
    "        FP = 0\n",
    "        for i in range(len(y_test_np)):\n",
    "            if y_pred[i] == group and y_test_np[i] == group:\n",
    "                TP += 1\n",
    "            if y_pred[i] != group and y_test_np[i] != group:\n",
    "                TN += 1\n",
    "            if y_pred[i] == group and y_test_np[i] != group:\n",
    "                FP += 1\n",
    "            if y_pred[i] != group and y_test_np[i] == group:\n",
    "                FN += 1\n",
    "        \n",
    "        tot_TP += TP\n",
    "        tot_TN += TN\n",
    "        tot_FP += FP\n",
    "        tot_FN += FN\n",
    "        \n",
    "        acc_arr.append((TP + TN)/(TP + TN + FP + FN))\n",
    "        print(group, acc_arr[group])\n",
    "        #print(\"TP:\" + str(TP))\n",
    "        #print(\"TN:\" + str(TN))\n",
    "        #print(\"FP:\" + str(FP))\n",
    "        #print(\"FN:\" + str(FN))\n",
    "        \n",
    "        #print(TP + TN)\n",
    "        #print(TP + TN + FP + FN, '\\n')\n",
    "        \n",
    "    #print(\"Total TP:\" + str(tot_TP))\n",
    "    #print(\"Total TN:\" + str(tot_TN))\n",
    "    #print(\"Total FP:\" + str(tot_FP))\n",
    "    #print(\"Total FN:\" + str(tot_FN), '\\n')\n",
    "\n",
    "    print(\"Macro Avg : \" + str(np.array(acc_arr).mean()))\n",
    "    print(\"Micro Avg : \" + str((tot_TP + tot_TN)/(tot_TP + tot_TN + tot_FP + tot_FN)), '\\n') ##"
   ]
  },
  {
   "cell_type": "code",
   "execution_count": 18,
   "metadata": {},
   "outputs": [],
   "source": [
    "#df = pd.read_excel(\"/Users/michaelzhang/Desktop/peds_tumor/mbpyradiomics/molec_classifier/binary/wnt_rest.xlsx\")\n",
    "df = pd.read_excel(\"/Users/michaelzhang/Desktop/MB_molec/mb_t1_t2_3way.xlsx\")"
   ]
  },
  {
   "cell_type": "markdown",
   "metadata": {},
   "source": [
    "# NN1 -> NN2"
   ]
  },
  {
   "cell_type": "code",
   "execution_count": 19,
   "metadata": {},
   "outputs": [
    {
     "data": {
      "text/html": [
       "<div>\n",
       "<style scoped>\n",
       "    .dataframe tbody tr th:only-of-type {\n",
       "        vertical-align: middle;\n",
       "    }\n",
       "\n",
       "    .dataframe tbody tr th {\n",
       "        vertical-align: top;\n",
       "    }\n",
       "\n",
       "    .dataframe thead th {\n",
       "        text-align: right;\n",
       "    }\n",
       "</style>\n",
       "<table border=\"1\" class=\"dataframe\">\n",
       "  <thead>\n",
       "    <tr style=\"text-align: right;\">\n",
       "      <th></th>\n",
       "      <th>molecular</th>\n",
       "      <th>molec_id</th>\n",
       "      <th>sex</th>\n",
       "      <th>dx_date</th>\n",
       "      <th>age</th>\n",
       "      <th>alive</th>\n",
       "      <th>os</th>\n",
       "      <th>pfs</th>\n",
       "      <th>seg_id</th>\n",
       "      <th>t1_log-sigma-1-mm-3D_firstorder_10Percentile</th>\n",
       "      <th>...</th>\n",
       "      <th>t2_wavelet-LLL_glszm_LargeAreaLowGrayLevelEmphasis</th>\n",
       "      <th>t2_wavelet-LLL_glszm_LowGrayLevelZoneEmphasis</th>\n",
       "      <th>t2_wavelet-LLL_glszm_SizeZoneNonUniformity</th>\n",
       "      <th>t2_wavelet-LLL_glszm_SizeZoneNonUniformityNormalized</th>\n",
       "      <th>t2_wavelet-LLL_glszm_SmallAreaEmphasis</th>\n",
       "      <th>t2_wavelet-LLL_glszm_SmallAreaHighGrayLevelEmphasis</th>\n",
       "      <th>t2_wavelet-LLL_glszm_SmallAreaLowGrayLevelEmphasis</th>\n",
       "      <th>t2_wavelet-LLL_glszm_ZoneEntropy</th>\n",
       "      <th>t2_wavelet-LLL_glszm_ZonePercentage</th>\n",
       "      <th>t2_wavelet-LLL_glszm_ZoneVariance</th>\n",
       "    </tr>\n",
       "  </thead>\n",
       "  <tbody>\n",
       "    <tr>\n",
       "      <th>0</th>\n",
       "      <td>shh</td>\n",
       "      <td>BO_PF-MB_F_0007</td>\n",
       "      <td>F</td>\n",
       "      <td>2000-05-05 00:00:00</td>\n",
       "      <td>79.0</td>\n",
       "      <td>NaN</td>\n",
       "      <td>33</td>\n",
       "      <td>NaN</td>\n",
       "      <td>BO_PF-MB_F_0007_</td>\n",
       "      <td>-14.446979</td>\n",
       "      <td>...</td>\n",
       "      <td>1.973686</td>\n",
       "      <td>0.000808</td>\n",
       "      <td>1027.170040</td>\n",
       "      <td>0.297042</td>\n",
       "      <td>0.562429</td>\n",
       "      <td>1220.949377</td>\n",
       "      <td>0.000601</td>\n",
       "      <td>7.518529</td>\n",
       "      <td>0.134000</td>\n",
       "      <td>5335.217376</td>\n",
       "    </tr>\n",
       "    <tr>\n",
       "      <th>1</th>\n",
       "      <td>wnt</td>\n",
       "      <td>BO_PF-MB_F_0008</td>\n",
       "      <td>F</td>\n",
       "      <td>2006-01-05 00:00:00</td>\n",
       "      <td>90.0</td>\n",
       "      <td>Alive</td>\n",
       "      <td>30</td>\n",
       "      <td>NaN</td>\n",
       "      <td>BO_PF-MB_F_0008_</td>\n",
       "      <td>-11.965873</td>\n",
       "      <td>...</td>\n",
       "      <td>0.243711</td>\n",
       "      <td>0.005756</td>\n",
       "      <td>344.000989</td>\n",
       "      <td>0.340258</td>\n",
       "      <td>0.604408</td>\n",
       "      <td>481.129194</td>\n",
       "      <td>0.004316</td>\n",
       "      <td>7.318544</td>\n",
       "      <td>0.252624</td>\n",
       "      <td>209.948818</td>\n",
       "    </tr>\n",
       "    <tr>\n",
       "      <th>2</th>\n",
       "      <td>wnt</td>\n",
       "      <td>BO_PF-MB_F_0010</td>\n",
       "      <td>F</td>\n",
       "      <td>2000-08-16 00:00:00</td>\n",
       "      <td>76.0</td>\n",
       "      <td>Alive</td>\n",
       "      <td>92</td>\n",
       "      <td>NaN</td>\n",
       "      <td>BO_PF-MB_F_0010_</td>\n",
       "      <td>-15.311574</td>\n",
       "      <td>...</td>\n",
       "      <td>0.049205</td>\n",
       "      <td>0.000786</td>\n",
       "      <td>4051.276393</td>\n",
       "      <td>0.385322</td>\n",
       "      <td>0.644380</td>\n",
       "      <td>1826.940136</td>\n",
       "      <td>0.000552</td>\n",
       "      <td>8.163314</td>\n",
       "      <td>0.350257</td>\n",
       "      <td>66.167310</td>\n",
       "    </tr>\n",
       "    <tr>\n",
       "      <th>3</th>\n",
       "      <td>group3</td>\n",
       "      <td>BO_PF-MB_F_0015</td>\n",
       "      <td>F</td>\n",
       "      <td>2001-01-25 00:00:00</td>\n",
       "      <td>121.0</td>\n",
       "      <td>Alive</td>\n",
       "      <td>84</td>\n",
       "      <td>NaN</td>\n",
       "      <td>BO_PF-MB_F_0015_</td>\n",
       "      <td>-6.059545</td>\n",
       "      <td>...</td>\n",
       "      <td>3.112323</td>\n",
       "      <td>0.003300</td>\n",
       "      <td>481.319732</td>\n",
       "      <td>0.321953</td>\n",
       "      <td>0.586631</td>\n",
       "      <td>463.640209</td>\n",
       "      <td>0.002341</td>\n",
       "      <td>7.438314</td>\n",
       "      <td>0.129236</td>\n",
       "      <td>2106.125227</td>\n",
       "    </tr>\n",
       "    <tr>\n",
       "      <th>4</th>\n",
       "      <td>shh</td>\n",
       "      <td>BO_PF-MB_F_0017</td>\n",
       "      <td>F</td>\n",
       "      <td>2004-06-06 00:00:00</td>\n",
       "      <td>27.0</td>\n",
       "      <td>Alive</td>\n",
       "      <td>44</td>\n",
       "      <td>NaN</td>\n",
       "      <td>BO_PF-MB_F_0017_</td>\n",
       "      <td>-25.161749</td>\n",
       "      <td>...</td>\n",
       "      <td>0.094180</td>\n",
       "      <td>0.001028</td>\n",
       "      <td>1305.932045</td>\n",
       "      <td>0.382523</td>\n",
       "      <td>0.642779</td>\n",
       "      <td>1897.521463</td>\n",
       "      <td>0.000611</td>\n",
       "      <td>7.748172</td>\n",
       "      <td>0.291049</td>\n",
       "      <td>174.711614</td>\n",
       "    </tr>\n",
       "    <tr>\n",
       "      <th>...</th>\n",
       "      <td>...</td>\n",
       "      <td>...</td>\n",
       "      <td>...</td>\n",
       "      <td>...</td>\n",
       "      <td>...</td>\n",
       "      <td>...</td>\n",
       "      <td>...</td>\n",
       "      <td>...</td>\n",
       "      <td>...</td>\n",
       "      <td>...</td>\n",
       "      <td>...</td>\n",
       "      <td>...</td>\n",
       "      <td>...</td>\n",
       "      <td>...</td>\n",
       "      <td>...</td>\n",
       "      <td>...</td>\n",
       "      <td>...</td>\n",
       "      <td>...</td>\n",
       "      <td>...</td>\n",
       "      <td>...</td>\n",
       "      <td>...</td>\n",
       "    </tr>\n",
       "    <tr>\n",
       "      <th>258</th>\n",
       "      <td>wnt</td>\n",
       "      <td>UT_PF-MB_M_0046</td>\n",
       "      <td>M</td>\n",
       "      <td>2015-01-24 00:00:00</td>\n",
       "      <td>172.0</td>\n",
       "      <td>Alive</td>\n",
       "      <td>39</td>\n",
       "      <td>NaN</td>\n",
       "      <td>UT_PF-MB_M_0046_</td>\n",
       "      <td>-16.559532</td>\n",
       "      <td>...</td>\n",
       "      <td>2.395014</td>\n",
       "      <td>0.001504</td>\n",
       "      <td>1891.628493</td>\n",
       "      <td>0.324298</td>\n",
       "      <td>0.589271</td>\n",
       "      <td>825.808563</td>\n",
       "      <td>0.001061</td>\n",
       "      <td>7.623581</td>\n",
       "      <td>0.181374</td>\n",
       "      <td>2622.388341</td>\n",
       "    </tr>\n",
       "    <tr>\n",
       "      <th>259</th>\n",
       "      <td>group3</td>\n",
       "      <td>UT_PF-MB_M_0047</td>\n",
       "      <td>M</td>\n",
       "      <td>2014-07-31 00:00:00</td>\n",
       "      <td>74.0</td>\n",
       "      <td>Alive</td>\n",
       "      <td>66</td>\n",
       "      <td>NaN</td>\n",
       "      <td>UT_PF-MB_M_0047_</td>\n",
       "      <td>-34.380056</td>\n",
       "      <td>...</td>\n",
       "      <td>0.624603</td>\n",
       "      <td>0.001676</td>\n",
       "      <td>1620.801636</td>\n",
       "      <td>0.323449</td>\n",
       "      <td>0.587494</td>\n",
       "      <td>651.778314</td>\n",
       "      <td>0.001052</td>\n",
       "      <td>7.619742</td>\n",
       "      <td>0.242852</td>\n",
       "      <td>478.635109</td>\n",
       "    </tr>\n",
       "    <tr>\n",
       "      <th>260</th>\n",
       "      <td>shh</td>\n",
       "      <td>UT_PF-MB_M_0048</td>\n",
       "      <td>M</td>\n",
       "      <td>2012-09-06 00:00:00</td>\n",
       "      <td>14.0</td>\n",
       "      <td>Alive</td>\n",
       "      <td>88</td>\n",
       "      <td>NaN</td>\n",
       "      <td>UT_PF-MB_M_0048_</td>\n",
       "      <td>-32.209457</td>\n",
       "      <td>...</td>\n",
       "      <td>2.016422</td>\n",
       "      <td>0.000795</td>\n",
       "      <td>3300.903006</td>\n",
       "      <td>0.325372</td>\n",
       "      <td>0.588549</td>\n",
       "      <td>1307.124424</td>\n",
       "      <td>0.000533</td>\n",
       "      <td>7.851386</td>\n",
       "      <td>0.205148</td>\n",
       "      <td>2879.261041</td>\n",
       "    </tr>\n",
       "    <tr>\n",
       "      <th>261</th>\n",
       "      <td>group3</td>\n",
       "      <td>UT_PF-MB_U_0034</td>\n",
       "      <td>F</td>\n",
       "      <td>2002-08-30 00:00:00</td>\n",
       "      <td>143.0</td>\n",
       "      <td>NaN</td>\n",
       "      <td>169</td>\n",
       "      <td>NaN</td>\n",
       "      <td>UT_PF-MB_U_0034_</td>\n",
       "      <td>-39.876621</td>\n",
       "      <td>...</td>\n",
       "      <td>0.015174</td>\n",
       "      <td>0.000513</td>\n",
       "      <td>3233.062155</td>\n",
       "      <td>0.397133</td>\n",
       "      <td>0.654572</td>\n",
       "      <td>4015.555125</td>\n",
       "      <td>0.000395</td>\n",
       "      <td>8.142065</td>\n",
       "      <td>0.366695</td>\n",
       "      <td>70.699119</td>\n",
       "    </tr>\n",
       "    <tr>\n",
       "      <th>262</th>\n",
       "      <td>group3</td>\n",
       "      <td>UT_PF-MB_U_0042</td>\n",
       "      <td>M</td>\n",
       "      <td>2017-11-17 00:00:00</td>\n",
       "      <td>42.0</td>\n",
       "      <td>Deceased</td>\n",
       "      <td>22</td>\n",
       "      <td>NaN</td>\n",
       "      <td>UT_PF-MB_U_0042_</td>\n",
       "      <td>-28.593016</td>\n",
       "      <td>...</td>\n",
       "      <td>0.049164</td>\n",
       "      <td>0.000721</td>\n",
       "      <td>3124.766141</td>\n",
       "      <td>0.359623</td>\n",
       "      <td>0.621902</td>\n",
       "      <td>1499.843350</td>\n",
       "      <td>0.000526</td>\n",
       "      <td>7.723004</td>\n",
       "      <td>0.300200</td>\n",
       "      <td>146.323904</td>\n",
       "    </tr>\n",
       "  </tbody>\n",
       "</table>\n",
       "<p>263 rows × 1809 columns</p>\n",
       "</div>"
      ],
      "text/plain": [
       "    molecular         molec_id sex              dx_date    age     alive   os  \\\n",
       "0         shh  BO_PF-MB_F_0007   F  2000-05-05 00:00:00   79.0       NaN   33   \n",
       "1         wnt  BO_PF-MB_F_0008   F  2006-01-05 00:00:00   90.0    Alive    30   \n",
       "2         wnt  BO_PF-MB_F_0010   F  2000-08-16 00:00:00   76.0    Alive    92   \n",
       "3      group3  BO_PF-MB_F_0015   F  2001-01-25 00:00:00  121.0    Alive    84   \n",
       "4         shh  BO_PF-MB_F_0017   F  2004-06-06 00:00:00   27.0    Alive    44   \n",
       "..        ...              ...  ..                  ...    ...       ...  ...   \n",
       "258       wnt  UT_PF-MB_M_0046   M  2015-01-24 00:00:00  172.0     Alive   39   \n",
       "259    group3  UT_PF-MB_M_0047   M  2014-07-31 00:00:00   74.0     Alive   66   \n",
       "260       shh  UT_PF-MB_M_0048   M  2012-09-06 00:00:00   14.0     Alive   88   \n",
       "261    group3  UT_PF-MB_U_0034   F  2002-08-30 00:00:00  143.0       NaN  169   \n",
       "262    group3  UT_PF-MB_U_0042   M  2017-11-17 00:00:00   42.0  Deceased   22   \n",
       "\n",
       "     pfs            seg_id  t1_log-sigma-1-mm-3D_firstorder_10Percentile  ...  \\\n",
       "0    NaN  BO_PF-MB_F_0007_                                    -14.446979  ...   \n",
       "1    NaN  BO_PF-MB_F_0008_                                    -11.965873  ...   \n",
       "2    NaN  BO_PF-MB_F_0010_                                    -15.311574  ...   \n",
       "3    NaN  BO_PF-MB_F_0015_                                     -6.059545  ...   \n",
       "4    NaN  BO_PF-MB_F_0017_                                    -25.161749  ...   \n",
       "..   ...               ...                                           ...  ...   \n",
       "258  NaN  UT_PF-MB_M_0046_                                    -16.559532  ...   \n",
       "259  NaN  UT_PF-MB_M_0047_                                    -34.380056  ...   \n",
       "260  NaN  UT_PF-MB_M_0048_                                    -32.209457  ...   \n",
       "261  NaN  UT_PF-MB_U_0034_                                    -39.876621  ...   \n",
       "262  NaN  UT_PF-MB_U_0042_                                    -28.593016  ...   \n",
       "\n",
       "     t2_wavelet-LLL_glszm_LargeAreaLowGrayLevelEmphasis  \\\n",
       "0                                             1.973686    \n",
       "1                                             0.243711    \n",
       "2                                             0.049205    \n",
       "3                                             3.112323    \n",
       "4                                             0.094180    \n",
       "..                                                 ...    \n",
       "258                                           2.395014    \n",
       "259                                           0.624603    \n",
       "260                                           2.016422    \n",
       "261                                           0.015174    \n",
       "262                                           0.049164    \n",
       "\n",
       "     t2_wavelet-LLL_glszm_LowGrayLevelZoneEmphasis  \\\n",
       "0                                         0.000808   \n",
       "1                                         0.005756   \n",
       "2                                         0.000786   \n",
       "3                                         0.003300   \n",
       "4                                         0.001028   \n",
       "..                                             ...   \n",
       "258                                       0.001504   \n",
       "259                                       0.001676   \n",
       "260                                       0.000795   \n",
       "261                                       0.000513   \n",
       "262                                       0.000721   \n",
       "\n",
       "     t2_wavelet-LLL_glszm_SizeZoneNonUniformity  \\\n",
       "0                                   1027.170040   \n",
       "1                                    344.000989   \n",
       "2                                   4051.276393   \n",
       "3                                    481.319732   \n",
       "4                                   1305.932045   \n",
       "..                                          ...   \n",
       "258                                 1891.628493   \n",
       "259                                 1620.801636   \n",
       "260                                 3300.903006   \n",
       "261                                 3233.062155   \n",
       "262                                 3124.766141   \n",
       "\n",
       "     t2_wavelet-LLL_glszm_SizeZoneNonUniformityNormalized  \\\n",
       "0                                             0.297042      \n",
       "1                                             0.340258      \n",
       "2                                             0.385322      \n",
       "3                                             0.321953      \n",
       "4                                             0.382523      \n",
       "..                                                 ...      \n",
       "258                                           0.324298      \n",
       "259                                           0.323449      \n",
       "260                                           0.325372      \n",
       "261                                           0.397133      \n",
       "262                                           0.359623      \n",
       "\n",
       "     t2_wavelet-LLL_glszm_SmallAreaEmphasis  \\\n",
       "0                                  0.562429   \n",
       "1                                  0.604408   \n",
       "2                                  0.644380   \n",
       "3                                  0.586631   \n",
       "4                                  0.642779   \n",
       "..                                      ...   \n",
       "258                                0.589271   \n",
       "259                                0.587494   \n",
       "260                                0.588549   \n",
       "261                                0.654572   \n",
       "262                                0.621902   \n",
       "\n",
       "     t2_wavelet-LLL_glszm_SmallAreaHighGrayLevelEmphasis  \\\n",
       "0                                          1220.949377     \n",
       "1                                           481.129194     \n",
       "2                                          1826.940136     \n",
       "3                                           463.640209     \n",
       "4                                          1897.521463     \n",
       "..                                                 ...     \n",
       "258                                         825.808563     \n",
       "259                                         651.778314     \n",
       "260                                        1307.124424     \n",
       "261                                        4015.555125     \n",
       "262                                        1499.843350     \n",
       "\n",
       "     t2_wavelet-LLL_glszm_SmallAreaLowGrayLevelEmphasis  \\\n",
       "0                                             0.000601    \n",
       "1                                             0.004316    \n",
       "2                                             0.000552    \n",
       "3                                             0.002341    \n",
       "4                                             0.000611    \n",
       "..                                                 ...    \n",
       "258                                           0.001061    \n",
       "259                                           0.001052    \n",
       "260                                           0.000533    \n",
       "261                                           0.000395    \n",
       "262                                           0.000526    \n",
       "\n",
       "     t2_wavelet-LLL_glszm_ZoneEntropy  t2_wavelet-LLL_glszm_ZonePercentage  \\\n",
       "0                            7.518529                             0.134000   \n",
       "1                            7.318544                             0.252624   \n",
       "2                            8.163314                             0.350257   \n",
       "3                            7.438314                             0.129236   \n",
       "4                            7.748172                             0.291049   \n",
       "..                                ...                                  ...   \n",
       "258                          7.623581                             0.181374   \n",
       "259                          7.619742                             0.242852   \n",
       "260                          7.851386                             0.205148   \n",
       "261                          8.142065                             0.366695   \n",
       "262                          7.723004                             0.300200   \n",
       "\n",
       "     t2_wavelet-LLL_glszm_ZoneVariance  \n",
       "0                          5335.217376  \n",
       "1                           209.948818  \n",
       "2                            66.167310  \n",
       "3                          2106.125227  \n",
       "4                           174.711614  \n",
       "..                                 ...  \n",
       "258                        2622.388341  \n",
       "259                         478.635109  \n",
       "260                        2879.261041  \n",
       "261                          70.699119  \n",
       "262                         146.323904  \n",
       "\n",
       "[263 rows x 1809 columns]"
      ]
     },
     "execution_count": 19,
     "metadata": {},
     "output_type": "execute_result"
    }
   ],
   "source": [
    "df"
   ]
  },
  {
   "cell_type": "code",
   "execution_count": 20,
   "metadata": {},
   "outputs": [],
   "source": [
    "first_target = df[\"molecular\"]"
   ]
  },
  {
   "cell_type": "code",
   "execution_count": 21,
   "metadata": {},
   "outputs": [
    {
     "data": {
      "text/plain": [
       "group3    154\n",
       "shh        83\n",
       "wnt        26\n",
       "Name: molecular, dtype: int64"
      ]
     },
     "execution_count": 21,
     "metadata": {},
     "output_type": "execute_result"
    }
   ],
   "source": [
    "first_target.value_counts()"
   ]
  },
  {
   "cell_type": "code",
   "execution_count": 22,
   "metadata": {},
   "outputs": [],
   "source": [
    "reduced_features = pd.read_excel(\"/Users/michaelzhang/Desktop/MB_molec/reduced_molec.xlsx\")"
   ]
  },
  {
   "cell_type": "code",
   "execution_count": 23,
   "metadata": {},
   "outputs": [],
   "source": [
    "reduced_features_list = reduced_features.loc[reduced_features['group3_rest'].isnull() == False, ['group3_rest']].values.tolist()\n",
    "reduced_features_list = [item for sublist in reduced_features_list for item in sublist]"
   ]
  },
  {
   "cell_type": "code",
   "execution_count": 24,
   "metadata": {},
   "outputs": [],
   "source": [
    "first_target = first_target.map(dict(wnt = 0, shh = 0, group3 = 1)) #, type4 = 1))"
   ]
  },
  {
   "cell_type": "code",
   "execution_count": 25,
   "metadata": {},
   "outputs": [],
   "source": [
    "first_features = df[reduced_features_list]"
   ]
  },
  {
   "cell_type": "code",
   "execution_count": 26,
   "metadata": {},
   "outputs": [
    {
     "name": "stderr",
     "output_type": "stream",
     "text": [
      "<ipython-input-26-7abfed4242db>:3: SettingWithCopyWarning: \n",
      "A value is trying to be set on a copy of a slice from a DataFrame.\n",
      "Try using .loc[row_indexer,col_indexer] = value instead\n",
      "\n",
      "See the caveats in the documentation: https://pandas.pydata.org/pandas-docs/stable/user_guide/indexing.html#returning-a-view-versus-a-copy\n",
      "  first_features['sex'] = sex_binarized\n"
     ]
    }
   ],
   "source": [
    "sex_binarized = first_features['sex'].map(dict(M = 1, F = 0)).to_numpy()\n",
    "\n",
    "first_features['sex'] = sex_binarized"
   ]
  },
  {
   "cell_type": "code",
   "execution_count": 27,
   "metadata": {},
   "outputs": [
    {
     "data": {
      "text/html": [
       "<div>\n",
       "<style scoped>\n",
       "    .dataframe tbody tr th:only-of-type {\n",
       "        vertical-align: middle;\n",
       "    }\n",
       "\n",
       "    .dataframe tbody tr th {\n",
       "        vertical-align: top;\n",
       "    }\n",
       "\n",
       "    .dataframe thead th {\n",
       "        text-align: right;\n",
       "    }\n",
       "</style>\n",
       "<table border=\"1\" class=\"dataframe\">\n",
       "  <thead>\n",
       "    <tr style=\"text-align: right;\">\n",
       "      <th></th>\n",
       "      <th>sex</th>\n",
       "      <th>age</th>\n",
       "      <th>t1_log-sigma-1-mm-3D_glszm_SmallAreaLowGrayLevelEmphasis</th>\n",
       "      <th>t1_log-sigma-3-mm-3D_firstorder_Median</th>\n",
       "      <th>t1_log-sigma-3-mm-3D_glcm_ClusterProminence</th>\n",
       "      <th>t1_log-sigma-3-mm-3D_glrlm_LowGrayLevelRunEmphasis</th>\n",
       "      <th>t1_log-sigma-5-mm-3D_glszm_GrayLevelVariance</th>\n",
       "      <th>t1_original_glszm_LargeAreaHighGrayLevelEmphasis</th>\n",
       "      <th>t1_original_glszm_LargeAreaLowGrayLevelEmphasis</th>\n",
       "      <th>t1_original_shape_Flatness</th>\n",
       "      <th>...</th>\n",
       "      <th>t1_wavelet-HHH_firstorder_Skewness</th>\n",
       "      <th>t1_wavelet-HHH_glszm_LargeAreaHighGrayLevelEmphasis</th>\n",
       "      <th>t1_wavelet-HHL_glcm_ClusterProminence</th>\n",
       "      <th>t1_wavelet-LHH_firstorder_Median</th>\n",
       "      <th>t2_log-sigma-5-mm-3D_glcm_Imc2</th>\n",
       "      <th>t2_original_glcm_Idmn</th>\n",
       "      <th>t2_wavelet-LLL_firstorder_Median</th>\n",
       "      <th>t2_wavelet-HHH_firstorder_Skewness</th>\n",
       "      <th>t2_original_firstorder_Kurtosis</th>\n",
       "      <th>t2_wavelet-LLL_firstorder_TotalEnergy</th>\n",
       "    </tr>\n",
       "  </thead>\n",
       "  <tbody>\n",
       "    <tr>\n",
       "      <th>0</th>\n",
       "      <td>0</td>\n",
       "      <td>79.0</td>\n",
       "      <td>0.009914</td>\n",
       "      <td>-12.089270</td>\n",
       "      <td>245.327427</td>\n",
       "      <td>0.019084</td>\n",
       "      <td>8.022161</td>\n",
       "      <td>2.602223e+07</td>\n",
       "      <td>85.552436</td>\n",
       "      <td>0.682624</td>\n",
       "      <td>...</td>\n",
       "      <td>0.042880</td>\n",
       "      <td>148622800.5</td>\n",
       "      <td>10.954663</td>\n",
       "      <td>0.018068</td>\n",
       "      <td>0.946161</td>\n",
       "      <td>0.996956</td>\n",
       "      <td>596.806751</td>\n",
       "      <td>-0.105871</td>\n",
       "      <td>4.894468</td>\n",
       "      <td>8.990875e+09</td>\n",
       "    </tr>\n",
       "    <tr>\n",
       "      <th>1</th>\n",
       "      <td>0</td>\n",
       "      <td>90.0</td>\n",
       "      <td>0.102841</td>\n",
       "      <td>-11.671423</td>\n",
       "      <td>12.795038</td>\n",
       "      <td>0.233604</td>\n",
       "      <td>2.187500</td>\n",
       "      <td>2.326738e+06</td>\n",
       "      <td>137.520927</td>\n",
       "      <td>0.669803</td>\n",
       "      <td>...</td>\n",
       "      <td>-0.065284</td>\n",
       "      <td>11673338.0</td>\n",
       "      <td>9.833085</td>\n",
       "      <td>-0.008537</td>\n",
       "      <td>0.979155</td>\n",
       "      <td>0.994937</td>\n",
       "      <td>642.043998</td>\n",
       "      <td>0.058554</td>\n",
       "      <td>3.931588</td>\n",
       "      <td>1.608287e+09</td>\n",
       "    </tr>\n",
       "    <tr>\n",
       "      <th>2</th>\n",
       "      <td>0</td>\n",
       "      <td>76.0</td>\n",
       "      <td>0.003729</td>\n",
       "      <td>-8.239284</td>\n",
       "      <td>493.668269</td>\n",
       "      <td>0.023936</td>\n",
       "      <td>4.982857</td>\n",
       "      <td>4.948329e+06</td>\n",
       "      <td>93.391301</td>\n",
       "      <td>0.695603</td>\n",
       "      <td>...</td>\n",
       "      <td>-0.008528</td>\n",
       "      <td>579684278.5</td>\n",
       "      <td>131.136413</td>\n",
       "      <td>-0.005812</td>\n",
       "      <td>0.976864</td>\n",
       "      <td>0.995178</td>\n",
       "      <td>700.333415</td>\n",
       "      <td>-0.008438</td>\n",
       "      <td>4.711055</td>\n",
       "      <td>1.686390e+10</td>\n",
       "    </tr>\n",
       "    <tr>\n",
       "      <th>3</th>\n",
       "      <td>0</td>\n",
       "      <td>121.0</td>\n",
       "      <td>0.031691</td>\n",
       "      <td>2.331270</td>\n",
       "      <td>21.102373</td>\n",
       "      <td>0.101722</td>\n",
       "      <td>1.580247</td>\n",
       "      <td>5.009737e+06</td>\n",
       "      <td>5158.876996</td>\n",
       "      <td>0.840785</td>\n",
       "      <td>...</td>\n",
       "      <td>-0.057422</td>\n",
       "      <td>111090330.0</td>\n",
       "      <td>2.704237</td>\n",
       "      <td>0.000723</td>\n",
       "      <td>0.941584</td>\n",
       "      <td>0.997205</td>\n",
       "      <td>469.224773</td>\n",
       "      <td>-0.003631</td>\n",
       "      <td>4.561519</td>\n",
       "      <td>2.620126e+09</td>\n",
       "    </tr>\n",
       "    <tr>\n",
       "      <th>4</th>\n",
       "      <td>0</td>\n",
       "      <td>27.0</td>\n",
       "      <td>0.005969</td>\n",
       "      <td>-26.768108</td>\n",
       "      <td>1069.669898</td>\n",
       "      <td>0.023480</td>\n",
       "      <td>11.610684</td>\n",
       "      <td>2.622241e+06</td>\n",
       "      <td>12.818837</td>\n",
       "      <td>0.591087</td>\n",
       "      <td>...</td>\n",
       "      <td>-0.001338</td>\n",
       "      <td>147017414.7</td>\n",
       "      <td>83.538561</td>\n",
       "      <td>0.022156</td>\n",
       "      <td>0.960911</td>\n",
       "      <td>0.996636</td>\n",
       "      <td>494.254206</td>\n",
       "      <td>-0.205003</td>\n",
       "      <td>8.391971</td>\n",
       "      <td>3.132893e+09</td>\n",
       "    </tr>\n",
       "  </tbody>\n",
       "</table>\n",
       "<p>5 rows × 48 columns</p>\n",
       "</div>"
      ],
      "text/plain": [
       "   sex    age  t1_log-sigma-1-mm-3D_glszm_SmallAreaLowGrayLevelEmphasis  \\\n",
       "0    0   79.0                                           0.009914          \n",
       "1    0   90.0                                           0.102841          \n",
       "2    0   76.0                                           0.003729          \n",
       "3    0  121.0                                           0.031691          \n",
       "4    0   27.0                                           0.005969          \n",
       "\n",
       "   t1_log-sigma-3-mm-3D_firstorder_Median  \\\n",
       "0                              -12.089270   \n",
       "1                              -11.671423   \n",
       "2                               -8.239284   \n",
       "3                                2.331270   \n",
       "4                              -26.768108   \n",
       "\n",
       "   t1_log-sigma-3-mm-3D_glcm_ClusterProminence  \\\n",
       "0                                   245.327427   \n",
       "1                                    12.795038   \n",
       "2                                   493.668269   \n",
       "3                                    21.102373   \n",
       "4                                  1069.669898   \n",
       "\n",
       "   t1_log-sigma-3-mm-3D_glrlm_LowGrayLevelRunEmphasis  \\\n",
       "0                                           0.019084    \n",
       "1                                           0.233604    \n",
       "2                                           0.023936    \n",
       "3                                           0.101722    \n",
       "4                                           0.023480    \n",
       "\n",
       "   t1_log-sigma-5-mm-3D_glszm_GrayLevelVariance  \\\n",
       "0                                      8.022161   \n",
       "1                                      2.187500   \n",
       "2                                      4.982857   \n",
       "3                                      1.580247   \n",
       "4                                     11.610684   \n",
       "\n",
       "   t1_original_glszm_LargeAreaHighGrayLevelEmphasis  \\\n",
       "0                                      2.602223e+07   \n",
       "1                                      2.326738e+06   \n",
       "2                                      4.948329e+06   \n",
       "3                                      5.009737e+06   \n",
       "4                                      2.622241e+06   \n",
       "\n",
       "   t1_original_glszm_LargeAreaLowGrayLevelEmphasis  \\\n",
       "0                                        85.552436   \n",
       "1                                       137.520927   \n",
       "2                                        93.391301   \n",
       "3                                      5158.876996   \n",
       "4                                        12.818837   \n",
       "\n",
       "   t1_original_shape_Flatness  ...  t1_wavelet-HHH_firstorder_Skewness  \\\n",
       "0                    0.682624  ...                            0.042880   \n",
       "1                    0.669803  ...                           -0.065284   \n",
       "2                    0.695603  ...                           -0.008528   \n",
       "3                    0.840785  ...                           -0.057422   \n",
       "4                    0.591087  ...                           -0.001338   \n",
       "\n",
       "   t1_wavelet-HHH_glszm_LargeAreaHighGrayLevelEmphasis  \\\n",
       "0                                        148622800.5     \n",
       "1                                         11673338.0     \n",
       "2                                        579684278.5     \n",
       "3                                        111090330.0     \n",
       "4                                        147017414.7     \n",
       "\n",
       "   t1_wavelet-HHL_glcm_ClusterProminence  t1_wavelet-LHH_firstorder_Median  \\\n",
       "0                              10.954663                          0.018068   \n",
       "1                               9.833085                         -0.008537   \n",
       "2                             131.136413                         -0.005812   \n",
       "3                               2.704237                          0.000723   \n",
       "4                              83.538561                          0.022156   \n",
       "\n",
       "   t2_log-sigma-5-mm-3D_glcm_Imc2  t2_original_glcm_Idmn  \\\n",
       "0                        0.946161               0.996956   \n",
       "1                        0.979155               0.994937   \n",
       "2                        0.976864               0.995178   \n",
       "3                        0.941584               0.997205   \n",
       "4                        0.960911               0.996636   \n",
       "\n",
       "   t2_wavelet-LLL_firstorder_Median  t2_wavelet-HHH_firstorder_Skewness  \\\n",
       "0                        596.806751                           -0.105871   \n",
       "1                        642.043998                            0.058554   \n",
       "2                        700.333415                           -0.008438   \n",
       "3                        469.224773                           -0.003631   \n",
       "4                        494.254206                           -0.205003   \n",
       "\n",
       "   t2_original_firstorder_Kurtosis  t2_wavelet-LLL_firstorder_TotalEnergy  \n",
       "0                         4.894468                           8.990875e+09  \n",
       "1                         3.931588                           1.608287e+09  \n",
       "2                         4.711055                           1.686390e+10  \n",
       "3                         4.561519                           2.620126e+09  \n",
       "4                         8.391971                           3.132893e+09  \n",
       "\n",
       "[5 rows x 48 columns]"
      ]
     },
     "execution_count": 27,
     "metadata": {},
     "output_type": "execute_result"
    }
   ],
   "source": [
    "first_features.head()"
   ]
  },
  {
   "cell_type": "code",
   "execution_count": 28,
   "metadata": {},
   "outputs": [],
   "source": [
    "X_train_1, X_test_1, y_train_1, y_test_1 = train_test_split(first_features, first_target, \n",
    "                                                   test_size = 0.25, random_state = 42)"
   ]
  },
  {
   "cell_type": "code",
   "execution_count": 29,
   "metadata": {},
   "outputs": [
    {
     "data": {
      "text/plain": [
       "1    112\n",
       "0     85\n",
       "Name: molecular, dtype: int64"
      ]
     },
     "execution_count": 29,
     "metadata": {},
     "output_type": "execute_result"
    }
   ],
   "source": [
    "y_train_1.value_counts()"
   ]
  },
  {
   "cell_type": "code",
   "execution_count": 30,
   "metadata": {},
   "outputs": [
    {
     "data": {
      "text/plain": [
       "1    42\n",
       "0    24\n",
       "Name: molecular, dtype: int64"
      ]
     },
     "execution_count": 30,
     "metadata": {},
     "output_type": "execute_result"
    }
   ],
   "source": [
    "y_test_1.value_counts()"
   ]
  },
  {
   "cell_type": "code",
   "execution_count": 31,
   "metadata": {},
   "outputs": [],
   "source": [
    "first_X = pd.concat([X_train_1, y_train_1], axis = 1)\n",
    "first_X_0 = first_X[first_X['molecular'] == 0]\n",
    "first_X_1 = first_X[first_X['molecular'] == 1]\n",
    "#first_X_2 = first_X[first_X['molecular'] == 2]"
   ]
  },
  {
   "cell_type": "code",
   "execution_count": 32,
   "metadata": {},
   "outputs": [],
   "source": [
    "upsampled_0 = resample(first_X_0, replace = True, n_samples = len(first_X_1), random_state = 42)\n",
    "upsampled = pd.concat([upsampled_0, first_X_1])\n",
    "upsampled = upsampled.sample(frac = 1, random_state = 42)"
   ]
  },
  {
   "cell_type": "code",
   "execution_count": 33,
   "metadata": {},
   "outputs": [],
   "source": [
    "X_train_1 = upsampled.iloc[:, :-1]\n",
    "y_train_1 = upsampled.iloc[:, -1]"
   ]
  },
  {
   "cell_type": "code",
   "execution_count": 34,
   "metadata": {},
   "outputs": [
    {
     "data": {
      "text/plain": [
       "1    112\n",
       "0    112\n",
       "Name: molecular, dtype: int64"
      ]
     },
     "execution_count": 34,
     "metadata": {},
     "output_type": "execute_result"
    }
   ],
   "source": [
    "y_train_1.value_counts()"
   ]
  },
  {
   "cell_type": "code",
   "execution_count": 35,
   "metadata": {},
   "outputs": [],
   "source": [
    "y_train_bin = label_binarize(y_train_1, classes = [0, 1, 2])\n",
    "y_test_bin = label_binarize(y_test_1, classes = [0, 1, 2])\n",
    "\n",
    "y_train_1 = y_train_bin[:, 1]\n",
    "y_test_1 = y_test_bin[:, 1]"
   ]
  },
  {
   "cell_type": "code",
   "execution_count": 36,
   "metadata": {},
   "outputs": [],
   "source": [
    "names = X_train_1.columns\n",
    "first_scaler = preprocessing.StandardScaler()"
   ]
  },
  {
   "cell_type": "markdown",
   "metadata": {},
   "source": [
    "# NN1: group3_rest, decomposed from 3way"
   ]
  },
  {
   "cell_type": "code",
   "execution_count": 37,
   "metadata": {},
   "outputs": [],
   "source": [
    "X_train_1 = first_scaler.fit_transform(X_train_1)\n",
    "X_train_1 = pd.DataFrame(X_train_1, columns = names)\n",
    "\n",
    "X_test_1 = first_scaler.transform(X_test_1)\n",
    "X_test_1 = pd.DataFrame(X_test_1, columns = names)"
   ]
  },
  {
   "cell_type": "code",
   "execution_count": 38,
   "metadata": {},
   "outputs": [],
   "source": [
    "nn_seq_1_model = MLPClassifier(max_iter = 2000, random_state = 42)\n",
    "grid_param = {'hidden_layer_sizes': [(100, 100, 50), (50, 100, 50), (100, 50, 100)],\n",
    "              'learning_rate': ['constant', 'invscaling', 'adaptive']\n",
    "}\n",
    "\n",
    "nn_seq_1_grid = GridSearchCV(estimator=nn_seq_1_model,\n",
    "                     param_grid=grid_param,\n",
    "                     scoring='accuracy',\n",
    "                     cv=5,\n",
    "                     n_jobs=-1)"
   ]
  },
  {
   "cell_type": "code",
   "execution_count": 39,
   "metadata": {},
   "outputs": [
    {
     "data": {
      "text/plain": [
       "GridSearchCV(cv=5, estimator=MLPClassifier(max_iter=2000, random_state=42),\n",
       "             n_jobs=-1,\n",
       "             param_grid={'hidden_layer_sizes': [(100, 100, 50), (50, 100, 50),\n",
       "                                                (100, 50, 100)],\n",
       "                         'learning_rate': ['constant', 'invscaling',\n",
       "                                           'adaptive']},\n",
       "             scoring='accuracy')"
      ]
     },
     "execution_count": 39,
     "metadata": {},
     "output_type": "execute_result"
    }
   ],
   "source": [
    "nn_seq_1_grid.fit(X_train_1, y_train_1)"
   ]
  },
  {
   "cell_type": "code",
   "execution_count": 40,
   "metadata": {},
   "outputs": [
    {
     "name": "stdout",
     "output_type": "stream",
     "text": [
      "{'hidden_layer_sizes': (100, 100, 50), 'learning_rate': 'constant'}\n"
     ]
    }
   ],
   "source": [
    "print(nn_seq_1_grid.best_params_)"
   ]
  },
  {
   "cell_type": "code",
   "execution_count": 41,
   "metadata": {},
   "outputs": [],
   "source": [
    "nn_seq_1_model = MLPClassifier(hidden_layer_sizes = (100, 100, 50), learning_rate = 'constant', \n",
    "                         max_iter = 2000, random_state = 42)\n",
    "nn_seq_1_model.fit(X_train_1, y_train_1)\n",
    "y_pred_1 = nn_seq_1_model.predict(X_test_1)"
   ]
  },
  {
   "cell_type": "code",
   "execution_count": 42,
   "metadata": {},
   "outputs": [
    {
     "name": "stdout",
     "output_type": "stream",
     "text": [
      "Accuracy Score: 0.8787878787878788\n",
      "Precision: 0.925\n",
      "Recall: 0.8809523809523809\n",
      "F1 Score: 0.9024390243902439\n"
     ]
    }
   ],
   "source": [
    "print(\"Accuracy Score: \" + str(accuracy_score(y_test_1, y_pred_1)))\n",
    "#print(\"Specificity Score: \" + str(specificity_score(y_test_1.to_numpy(), y_pred_1)))\n",
    "print(\"Precision: \" + str(precision_score(y_test_1, y_pred_1)))\n",
    "print(\"Recall: \" + str(recall_score(y_test_1, y_pred_1)))\n",
    "print(\"F1 Score: \" + str(f1_score(y_test_1, y_pred_1)))\n",
    "\n",
    "#print(\"PPV Score: \" + str(positive_pv_score(y_test_1.to_numpy(), y_pred_1)))\n",
    "#print(\"NPV Score: \" + str(negative_pv_score(y_test_1.to_numpy(), y_pred_1)))"
   ]
  },
  {
   "cell_type": "code",
   "execution_count": null,
   "metadata": {},
   "outputs": [],
   "source": []
  },
  {
   "cell_type": "code",
   "execution_count": null,
   "metadata": {},
   "outputs": [],
   "source": []
  },
  {
   "cell_type": "markdown",
   "metadata": {},
   "source": [
    "# NN2 - wnt_shh, decomposed from 3way"
   ]
  },
  {
   "cell_type": "code",
   "execution_count": 43,
   "metadata": {},
   "outputs": [],
   "source": [
    "second_target = df[\"molecular\"]"
   ]
  },
  {
   "cell_type": "code",
   "execution_count": 44,
   "metadata": {},
   "outputs": [
    {
     "data": {
      "text/plain": [
       "group3    154\n",
       "shh        83\n",
       "wnt        26\n",
       "Name: molecular, dtype: int64"
      ]
     },
     "execution_count": 44,
     "metadata": {},
     "output_type": "execute_result"
    }
   ],
   "source": [
    "second_target.value_counts()"
   ]
  },
  {
   "cell_type": "code",
   "execution_count": 45,
   "metadata": {},
   "outputs": [],
   "source": [
    "second_features = df.drop(['molecular','molec_id', 'dx_date','alive','os','pfs','seg_id'], axis = 1)"
   ]
  },
  {
   "cell_type": "code",
   "execution_count": 46,
   "metadata": {},
   "outputs": [],
   "source": [
    "second_target = second_target.map(dict(shh = 1, wnt = 0, group3 = -1)) ##, type4 = 1))\n",
    "second_target = second_target[second_target != -1]\n",
    "second_features = second_features.iloc[second_target.index]"
   ]
  },
  {
   "cell_type": "code",
   "execution_count": 47,
   "metadata": {},
   "outputs": [
    {
     "data": {
      "text/plain": [
       "1    83\n",
       "0    26\n",
       "Name: molecular, dtype: int64"
      ]
     },
     "execution_count": 47,
     "metadata": {},
     "output_type": "execute_result"
    }
   ],
   "source": [
    "second_target.value_counts()"
   ]
  },
  {
   "cell_type": "code",
   "execution_count": 48,
   "metadata": {},
   "outputs": [],
   "source": [
    "second_target = second_target.reset_index(drop = True)\n",
    "second_features = second_features.reset_index(drop = True)"
   ]
  },
  {
   "cell_type": "code",
   "execution_count": 49,
   "metadata": {},
   "outputs": [],
   "source": [
    "second_reduced_features_list = reduced_features.loc[reduced_features['wnt_shh'].isnull() == False, ['wnt_shh']].values.tolist()"
   ]
  },
  {
   "cell_type": "code",
   "execution_count": 50,
   "metadata": {},
   "outputs": [],
   "source": [
    "second_reduced_features_list = [item for sublist in second_reduced_features_list for item in sublist]"
   ]
  },
  {
   "cell_type": "code",
   "execution_count": 51,
   "metadata": {},
   "outputs": [],
   "source": [
    "second_features = second_features[second_reduced_features_list]"
   ]
  },
  {
   "cell_type": "code",
   "execution_count": 52,
   "metadata": {},
   "outputs": [],
   "source": [
    "#sex_binarized = second_features['sex'].map(dict(M = 1, F = 0)).to_numpy()\n",
    "\n",
    "#second_features['sex'] = sex_binarized"
   ]
  },
  {
   "cell_type": "code",
   "execution_count": 53,
   "metadata": {},
   "outputs": [],
   "source": [
    "X_train_2, X_test_2, y_train_2, y_test_2 = train_test_split(second_features, second_target, \n",
    "                                                    test_size = 0.25, random_state = 42)"
   ]
  },
  {
   "cell_type": "code",
   "execution_count": 54,
   "metadata": {},
   "outputs": [],
   "source": [
    "second_X = pd.concat([X_train_2, y_train_2], axis = 1)\n",
    "second_X_0 = second_X[second_X['molecular'] == 0]\n",
    "second_X_1 = second_X[second_X['molecular'] == 1]"
   ]
  },
  {
   "cell_type": "code",
   "execution_count": 55,
   "metadata": {},
   "outputs": [],
   "source": [
    "second_upsampled_0 = resample(second_X_0, replace = True, n_samples = len(second_X_1), random_state = 42)\n",
    "second_upsampled = pd.concat([second_upsampled_0, second_X_1])\n",
    "second_upsampled = second_upsampled.sample(frac = 1, random_state = 42)"
   ]
  },
  {
   "cell_type": "code",
   "execution_count": 56,
   "metadata": {},
   "outputs": [],
   "source": [
    "X_train_2 = second_upsampled.iloc[:, :-1]\n",
    "y_train_2 = second_upsampled.iloc[:, -1]"
   ]
  },
  {
   "cell_type": "code",
   "execution_count": 57,
   "metadata": {},
   "outputs": [],
   "source": [
    "second_names = X_train_2.columns\n",
    "second_scaler = preprocessing.StandardScaler()"
   ]
  },
  {
   "cell_type": "code",
   "execution_count": 58,
   "metadata": {},
   "outputs": [],
   "source": [
    "X_train_2 = second_scaler.fit_transform(X_train_2)\n",
    "X_train_2 = pd.DataFrame(X_train_2, columns = second_names)"
   ]
  },
  {
   "cell_type": "code",
   "execution_count": 59,
   "metadata": {},
   "outputs": [],
   "source": [
    "X_test_2 = second_scaler.transform(X_test_2)\n",
    "X_test_2 = pd.DataFrame(X_test_2, columns = second_names)"
   ]
  },
  {
   "cell_type": "code",
   "execution_count": 60,
   "metadata": {},
   "outputs": [],
   "source": [
    "nn_seq_2_model = MLPClassifier(hidden_layer_sizes = (100, 50, 100), learning_rate = 'constant', \n",
    "                         max_iter = 2000, random_state = 42)"
   ]
  },
  {
   "cell_type": "code",
   "execution_count": 61,
   "metadata": {},
   "outputs": [],
   "source": [
    "nn_seq_2_model.fit(X_train_2, y_train_2)\n",
    "y_pred_2 = nn_seq_2_model.predict(X_test_2)"
   ]
  },
  {
   "cell_type": "code",
   "execution_count": 62,
   "metadata": {},
   "outputs": [
    {
     "data": {
      "text/plain": [
       "0.9285714285714286"
      ]
     },
     "execution_count": 62,
     "metadata": {},
     "output_type": "execute_result"
    }
   ],
   "source": [
    "accuracy_score(y_test_2, y_pred_2)"
   ]
  },
  {
   "cell_type": "code",
   "execution_count": 63,
   "metadata": {},
   "outputs": [
    {
     "name": "stdout",
     "output_type": "stream",
     "text": [
      "Accuracy Score: 0.9285714285714286\n",
      "Specificity Score: 0.8\n",
      "Precision: 0.9565217391304348\n",
      "Recall: 0.9565217391304348\n",
      "F1 Score: 0.9565217391304348\n",
      "PPV Score: 0.9565217391304348\n",
      "NPV Score: 0.8\n"
     ]
    }
   ],
   "source": [
    "print(\"Accuracy Score: \" + str(accuracy_score(y_test_2, y_pred_2)))\n",
    "print(\"Specificity Score: \" + str(specificity_score(y_test_2.to_numpy(), y_pred_2)))\n",
    "print(\"Precision: \" + str(precision_score(y_test_2, y_pred_2)))\n",
    "print(\"Recall: \" + str(recall_score(y_test_2, y_pred_2)))\n",
    "print(\"F1 Score: \" + str(f1_score(y_test_2, y_pred_2)))\n",
    "\n",
    "print(\"PPV Score: \" + str(positive_pv_score(y_test_2.to_numpy(), y_pred_2)))\n",
    "print(\"NPV Score: \" + str(negative_pv_score(y_test_2.to_numpy(), y_pred_2)))"
   ]
  },
  {
   "cell_type": "code",
   "execution_count": 64,
   "metadata": {},
   "outputs": [
    {
     "data": {
      "image/png": "[encoded data removed]",
      "text/plain": [
       "<Figure size 432x288 with 2 Axes>"
      ]
     },
     "metadata": {},
     "output_type": "display_data"
    }
   ],
   "source": [
    "matrix = plot_confusion_matrix(nn_seq_2_model, X_test_2, y_test_2,\n",
    "                               cmap=plt.cm.Blues)\n",
    "plt.title('Neural Network Confusion Matrix')\n",
    "plt.show(matrix)\n",
    "plt.show()"
   ]
  },
  {
   "cell_type": "code",
   "execution_count": 65,
   "metadata": {},
   "outputs": [
    {
     "data": {
      "image/png": "[encoded data removed]",
      "text/plain": [
       "<Figure size 432x288 with 2 Axes>"
      ]
     },
     "metadata": {},
     "output_type": "display_data"
    }
   ],
   "source": [
    "matrix = plot_confusion_matrix(nn_seq_2_model, X_test_2, y_test_2,\n",
    "                               cmap=plt.cm.Blues,\n",
    "                               normalize = 'true')\n",
    "plt.title('Normalized Neural Network Confusion Matrix')\n",
    "plt.show(matrix)\n",
    "plt.show()"
   ]
  },
  {
   "cell_type": "markdown",
   "metadata": {},
   "source": [
    "# Testing"
   ]
  },
  {
   "cell_type": "code",
   "execution_count": 270,
   "metadata": {},
   "outputs": [],
   "source": [
    "test_features = df.drop(['molecular','molec_id', 'dx_date','alive','os','pfs','seg_id'], axis = 1) \n",
    "test_target = df[\"molecular\"]\n",
    "second_target = df[\"molecular\"] #MZ added\n",
    "meta_target = df[\"molecular\"] #MZ added"
   ]
  },
  {
   "cell_type": "code",
   "execution_count": 271,
   "metadata": {},
   "outputs": [],
   "source": [
    "test_target = test_target.map(dict(wnt = 0, shh = 0, group3 = 1))\n",
    "second_target = second_target.map(dict(wnt = 0, shh = 1, group3 = 0))"
   ]
  },
  {
   "cell_type": "code",
   "execution_count": 272,
   "metadata": {},
   "outputs": [],
   "source": [
    "X_train, X_test, y_train, y_test = train_test_split(test_features, test_target, \n",
    "                                                    test_size = 0.25, random_state = 42)"
   ]
  },
  {
   "cell_type": "code",
   "execution_count": 273,
   "metadata": {},
   "outputs": [],
   "source": [
    "X_test = X_test.reset_index(drop = True)\n",
    "y_test = y_test.reset_index(drop = True)\n",
    "meta_y_test = y_test.reset_index(drop = True) #MZ added"
   ]
  },
  {
   "cell_type": "code",
   "execution_count": 274,
   "metadata": {},
   "outputs": [],
   "source": [
    "sex_binarized = X_test['sex'].map(dict(M = 1, F = 0)).to_numpy()\n",
    "\n",
    "X_test['sex'] = sex_binarized"
   ]
  },
  {
   "cell_type": "code",
   "execution_count": 275,
   "metadata": {},
   "outputs": [],
   "source": [
    "X_test_reduced = X_test[reduced_features_list]"
   ]
  },
  {
   "cell_type": "code",
   "execution_count": 276,
   "metadata": {},
   "outputs": [],
   "source": [
    "names = X_test_reduced.columns\n",
    "X_test_for_first = first_scaler.transform(X_test_reduced)\n",
    "X_test_for_first = pd.DataFrame(X_test_for_first, columns = names)"
   ]
  },
  {
   "cell_type": "code",
   "execution_count": 277,
   "metadata": {},
   "outputs": [],
   "source": [
    "y_preds_after_first = nn_seq_1_model.predict(X_test_for_first)"
   ]
  },
  {
   "cell_type": "code",
   "execution_count": 278,
   "metadata": {},
   "outputs": [
    {
     "data": {
      "text/plain": [
       "0.8787878787878788"
      ]
     },
     "execution_count": 278,
     "metadata": {},
     "output_type": "execute_result"
    }
   ],
   "source": [
    "accuracy_score(y_test, y_preds_after_first) #checks accuracy of stage1\n",
    "#MZ added"
   ]
  },
  {
   "cell_type": "code",
   "execution_count": 279,
   "metadata": {},
   "outputs": [
    {
     "data": {
      "text/plain": [
       "array([1, 0, 1, 1, 1, 0, 0, 1, 0, 1, 1, 1, 1, 1, 1, 0, 0, 1, 1, 1, 1, 0,\n",
       "       0, 1, 1, 0, 0, 0, 1, 1, 0, 1, 1, 1, 0, 1, 1, 0, 0, 1, 0, 0, 1, 1,\n",
       "       0, 1, 1, 1, 0, 0, 0, 1, 0, 1, 1, 0, 0, 1, 0, 1, 1, 1, 1, 1, 1, 0])"
      ]
     },
     "execution_count": 279,
     "metadata": {},
     "output_type": "execute_result"
    }
   ],
   "source": [
    "y_preds_after_first"
   ]
  },
  {
   "cell_type": "code",
   "execution_count": 280,
   "metadata": {},
   "outputs": [],
   "source": [
    "group3_indices = np.where(y_preds_after_first == 1)\n",
    "other_indices = np.where(y_preds_after_first != 1)"
   ]
  },
  {
   "cell_type": "code",
   "execution_count": 281,
   "metadata": {},
   "outputs": [],
   "source": [
    "group3_preds = y_preds_after_first[group3_indices]\n",
    "y_test_for_group3 = np.array(y_test)[group3_indices]"
   ]
  },
  {
   "cell_type": "code",
   "execution_count": 283,
   "metadata": {},
   "outputs": [],
   "source": [
    "y_test_after_first_model = second_target #MZ added"
   ]
  },
  {
   "cell_type": "code",
   "execution_count": 284,
   "metadata": {},
   "outputs": [],
   "source": [
    "X_test_after_first_model = X_test.iloc[other_indices].reset_index(drop = True)\n",
    "y_test_after_first_model = y_test.iloc[other_indices].reset_index(drop = True)"
   ]
  },
  {
   "cell_type": "code",
   "execution_count": 285,
   "metadata": {},
   "outputs": [
    {
     "data": {
      "text/plain": [
       "0     0\n",
       "1     1\n",
       "2     0\n",
       "3     1\n",
       "4     0\n",
       "5     0\n",
       "6     0\n",
       "7     1\n",
       "8     0\n",
       "9     0\n",
       "10    1\n",
       "11    0\n",
       "12    0\n",
       "13    0\n",
       "14    0\n",
       "15    0\n",
       "16    0\n",
       "17    0\n",
       "18    0\n",
       "19    0\n",
       "20    0\n",
       "21    0\n",
       "22    1\n",
       "23    0\n",
       "24    0\n",
       "25    0\n",
       "Name: molecular, dtype: int64"
      ]
     },
     "execution_count": 285,
     "metadata": {},
     "output_type": "execute_result"
    }
   ],
   "source": [
    "y_test_after_first_model"
   ]
  },
  {
   "cell_type": "code",
   "execution_count": 286,
   "metadata": {},
   "outputs": [
    {
     "data": {
      "text/plain": [
       "array([0, 0, 1, 1, 1, 1, 0, 1, 1, 1, 1, 1, 1, 1, 1, 0, 0, 1, 1, 1, 1, 0,\n",
       "       1, 1, 0, 0, 0, 1, 1, 1, 0, 1, 1, 1, 0, 1, 1, 0, 0, 1, 0, 0, 1, 1,\n",
       "       0, 1, 1, 1, 0, 0, 0, 1, 0, 1, 1, 1, 0, 1, 0, 0, 1, 1, 1, 1, 1, 0])"
      ]
     },
     "execution_count": 286,
     "metadata": {},
     "output_type": "execute_result"
    }
   ],
   "source": [
    "np.array(y_test) #ground truth"
   ]
  },
  {
   "cell_type": "code",
   "execution_count": 287,
   "metadata": {},
   "outputs": [
    {
     "data": {
      "text/plain": [
       "array([0, 1, 0, 1, 0, 0, 0, 1, 0, 0, 1, 0, 0, 0, 0, 0, 0, 0, 0, 0, 0, 0,\n",
       "       1, 0, 0, 0])"
      ]
     },
     "execution_count": 287,
     "metadata": {},
     "output_type": "execute_result"
    }
   ],
   "source": [
    "np.array(y_test_after_first_model) #leftover ground truth"
   ]
  },
  {
   "cell_type": "code",
   "execution_count": 288,
   "metadata": {},
   "outputs": [],
   "source": [
    "X_test_after_first_model = X_test_after_first_model[second_reduced_features_list]"
   ]
  },
  {
   "cell_type": "code",
   "execution_count": 289,
   "metadata": {},
   "outputs": [],
   "source": [
    "X_test_after_first_model = second_scaler.transform(X_test_after_first_model)"
   ]
  },
  {
   "cell_type": "code",
   "execution_count": 290,
   "metadata": {},
   "outputs": [],
   "source": [
    "#relabel the cohorts for 2nd stage; drop the identified group\n",
    "y_test_after_first_model = np.array(y_test_after_first_model)\n",
    "y_test_after_first_model[y_test_after_first_model == 2] = -1\n",
    "#y_test_after_first_model[y_test_after_first_model == 1] = 1"
   ]
  },
  {
   "cell_type": "code",
   "execution_count": 291,
   "metadata": {},
   "outputs": [],
   "source": [
    "y_preds_after_second = nn_seq_2_model.predict(X_test_after_first_model)"
   ]
  },
  {
   "cell_type": "code",
   "execution_count": 292,
   "metadata": {},
   "outputs": [
    {
     "data": {
      "text/plain": [
       "array([0, 1, 0, 1, 1, 0, 1, 1, 0, 1, 1, 1, 1, 1, 0, 1, 1, 1, 1, 0, 0, 0,\n",
       "       1, 1, 1, 0])"
      ]
     },
     "execution_count": 292,
     "metadata": {},
     "output_type": "execute_result"
    }
   ],
   "source": [
    "y_preds_after_second"
   ]
  },
  {
   "cell_type": "code",
   "execution_count": 293,
   "metadata": {},
   "outputs": [
    {
     "data": {
      "text/plain": [
       "0.5384615384615384"
      ]
     },
     "execution_count": 293,
     "metadata": {},
     "output_type": "execute_result"
    }
   ],
   "source": [
    "accuracy_score(y_test_after_first_model, y_preds_after_second)"
   ]
  },
  {
   "cell_type": "code",
   "execution_count": 294,
   "metadata": {},
   "outputs": [],
   "source": [
    "y_preds_after_second[y_preds_after_second == 1] = 1\n",
    "y_preds_after_second[y_preds_after_second == 0] = 0"
   ]
  },
  {
   "cell_type": "code",
   "execution_count": 295,
   "metadata": {},
   "outputs": [
    {
     "data": {
      "text/plain": [
       "array([0, 1, 0, 1, 0, 0, 0, 1, 0, 0, 1, 0, 0, 0, 0, 0, 0, 0, 0, 0, 0, 0,\n",
       "       1, 0, 0, 0])"
      ]
     },
     "execution_count": 295,
     "metadata": {},
     "output_type": "execute_result"
    }
   ],
   "source": [
    "y_test_after_first_model"
   ]
  },
  {
   "cell_type": "code",
   "execution_count": 296,
   "metadata": {},
   "outputs": [],
   "source": [
    "y_test_after_first_model[y_test_after_first_model == 1] = 2\n",
    "y_test_after_first_model[y_test_after_first_model == 0] = 1\n",
    "y_test_after_first_model[y_test_after_first_model == -1] = 0"
   ]
  },
  {
   "cell_type": "code",
   "execution_count": 94,
   "metadata": {},
   "outputs": [],
   "source": [
    "y_preds_overall = np.concatenate([y_preds_after_second, group3_preds])\n",
    "y_test_overall = np.concatenate([y_test_after_first_model, y_test_for_group3])"
   ]
  },
  {
   "cell_type": "code",
   "execution_count": 95,
   "metadata": {},
   "outputs": [
    {
     "data": {
      "text/plain": [
       "0.030303030303030304"
      ]
     },
     "execution_count": 95,
     "metadata": {},
     "output_type": "execute_result"
    }
   ],
   "source": [
    "accuracy_score(y_test_overall, y_preds_overall)"
   ]
  },
  {
   "cell_type": "code",
   "execution_count": 96,
   "metadata": {},
   "outputs": [],
   "source": [
    "sns.reset_orig()"
   ]
  },
  {
   "cell_type": "code",
   "execution_count": 97,
   "metadata": {},
   "outputs": [
    {
     "data": {
      "image/png": "[encoded data removed]",
      "text/plain": [
       "<Figure size 432x288 with 2 Axes>"
      ]
     },
     "metadata": {
      "needs_background": "light"
     },
     "output_type": "display_data"
    }
   ],
   "source": [
    "matrix = create_confusion_matrix(y_test_overall, y_preds_overall, cmap=plt.cm.Blues)\n",
    "plt.title('NN1 + NN2 Confusion Matrix')\n",
    "plt.show(matrix)\n",
    "plt.show()"
   ]
  },
  {
   "cell_type": "code",
   "execution_count": 98,
   "metadata": {},
   "outputs": [
    {
     "data": {
      "image/png": "[encoded data removed]",
      "text/plain": [
       "<Figure size 432x288 with 2 Axes>"
      ]
     },
     "metadata": {
      "needs_background": "light"
     },
     "output_type": "display_data"
    }
   ],
   "source": [
    "matrix = create_confusion_matrix(y_test_overall, y_preds_overall, cmap=plt.cm.Blues, normalize = 'true')\n",
    "plt.title('Normalized NN1 + NN2 Confusion Matrix')\n",
    "plt.show(matrix)\n",
    "plt.show()"
   ]
  },
  {
   "cell_type": "code",
   "execution_count": 99,
   "metadata": {},
   "outputs": [
    {
     "name": "stdout",
     "output_type": "stream",
     "text": [
      "Specificities\n",
      "0 0.85\n",
      "1 0.0\n",
      "2 1.0\n",
      "Macro Avg : 0.6166666666666667\n",
      "Micro Avg : 0.5151515151515151 \n",
      "\n",
      "PPV/Precision\n",
      "0 0.0\n",
      "1 0.03508771929824561\n"
     ]
    },
    {
     "ename": "ZeroDivisionError",
     "evalue": "division by zero",
     "output_type": "error",
     "traceback": [
      "\u001b[0;31m---------------------------------------------------------------------------\u001b[0m",
      "\u001b[0;31mZeroDivisionError\u001b[0m                         Traceback (most recent call last)",
      "\u001b[0;32m<ipython-input-99-4b139924457f>\u001b[0m in \u001b[0;36m<module>\u001b[0;34m\u001b[0m\n\u001b[1;32m      1\u001b[0m \u001b[0my_test_np\u001b[0m \u001b[0;34m=\u001b[0m \u001b[0my_test\u001b[0m\u001b[0;34m.\u001b[0m\u001b[0mto_numpy\u001b[0m\u001b[0;34m(\u001b[0m\u001b[0;34m)\u001b[0m\u001b[0;34m\u001b[0m\u001b[0;34m\u001b[0m\u001b[0m\n\u001b[0;32m----> 2\u001b[0;31m \u001b[0mmy_classification_report\u001b[0m\u001b[0;34m(\u001b[0m\u001b[0my_test_overall\u001b[0m\u001b[0;34m,\u001b[0m \u001b[0my_preds_overall\u001b[0m\u001b[0;34m)\u001b[0m\u001b[0;34m\u001b[0m\u001b[0;34m\u001b[0m\u001b[0m\n\u001b[0m",
      "\u001b[0;32m<ipython-input-17-71abfe606b21>\u001b[0m in \u001b[0;36mmy_classification_report\u001b[0;34m(y_test_np, y_pred)\u001b[0m\n\u001b[1;32m     49\u001b[0m         \u001b[0mtot_TP\u001b[0m \u001b[0;34m+=\u001b[0m \u001b[0mTP\u001b[0m\u001b[0;34m\u001b[0m\u001b[0;34m\u001b[0m\u001b[0m\n\u001b[1;32m     50\u001b[0m         \u001b[0mtot_FP\u001b[0m \u001b[0;34m+=\u001b[0m \u001b[0mFP\u001b[0m\u001b[0;34m\u001b[0m\u001b[0;34m\u001b[0m\u001b[0m\n\u001b[0;32m---> 51\u001b[0;31m         \u001b[0mppv_arr\u001b[0m\u001b[0;34m.\u001b[0m\u001b[0mappend\u001b[0m\u001b[0;34m(\u001b[0m\u001b[0mTP\u001b[0m\u001b[0;34m/\u001b[0m\u001b[0;34m(\u001b[0m\u001b[0mTP\u001b[0m\u001b[0;34m+\u001b[0m\u001b[0mFP\u001b[0m\u001b[0;34m)\u001b[0m\u001b[0;34m)\u001b[0m\u001b[0;34m\u001b[0m\u001b[0;34m\u001b[0m\u001b[0m\n\u001b[0m\u001b[1;32m     52\u001b[0m         \u001b[0mprint\u001b[0m\u001b[0;34m(\u001b[0m\u001b[0mgroup\u001b[0m\u001b[0;34m,\u001b[0m \u001b[0mppv_arr\u001b[0m\u001b[0;34m[\u001b[0m\u001b[0mgroup\u001b[0m\u001b[0;34m]\u001b[0m\u001b[0;34m)\u001b[0m\u001b[0;34m\u001b[0m\u001b[0;34m\u001b[0m\u001b[0m\n\u001b[1;32m     53\u001b[0m \u001b[0;34m\u001b[0m\u001b[0m\n",
      "\u001b[0;31mZeroDivisionError\u001b[0m: division by zero"
     ]
    }
   ],
   "source": [
    "y_test_np = y_test.to_numpy()\n",
    "my_classification_report(y_test_overall, y_preds_overall)"
   ]
  },
  {
   "cell_type": "code",
   "execution_count": 100,
   "metadata": {},
   "outputs": [],
   "source": [
    "y_test_bin = label_binarize(y_test_overall, classes = [0, 1, 2])\n",
    "y_pred_bin = label_binarize(y_preds_overall, classes = [0, 1, 2])"
   ]
  },
  {
   "cell_type": "code",
   "execution_count": null,
   "metadata": {},
   "outputs": [],
   "source": [
    "n_classes = 3\n",
    "\n",
    "n_bootstraps = 2000\n",
    "rng_seed = 42  # control reproducibility\n",
    "bootstrapped_auc_scores = []\n",
    "bootstrapped_acc_scores = []\n",
    "bootstrapped_spec_scores = []\n",
    "bootstrapped_prec_scores = []\n",
    "bootstrapped_rec_scores = []\n",
    "bootstrapped_f_one_scores = []\n",
    "bootstrapped_ppv_scores = [] ##\n",
    "bootstrapped_npv_scores = [] ##\n",
    "\n",
    "rng = np.random.RandomState(rng_seed)\n",
    "for i in range(n_bootstraps):\n",
    "    # bootstrap by sampling with replacement on the prediction indices\n",
    "    indices = rng.randint(0, len(y_test_overall), len(y_test_overall))\n",
    "    if len(np.unique(y_test_overall[indices])) < 2:\n",
    "        # We need at least one positive and one negative sample for ROC AUC\n",
    "        # to be defined: reject the sample\n",
    "        continue\n",
    "    \n",
    "    one_acc = []\n",
    "    one_spec = []\n",
    "    one_prec = []\n",
    "    one_rec = []\n",
    "    one_f_one = []\n",
    "#    one_ppv = [] ##\n",
    "#    one_npv = [] ##\n",
    "    for i in range(n_classes):\n",
    "        one_acc.append(accuracy_score(y_test_bin[:, i][indices], y_pred_bin[:, i][indices]))\n",
    "        one_spec.append(specificity_score(y_test_bin[:, i][indices], y_pred_bin[:, i][indices]))\n",
    "        one_prec.append(precision_score(y_test_bin[:, i][indices], y_pred_bin[:, i][indices]))\n",
    "        one_rec.append(recall_score(y_test_bin[:, i][indices], y_pred_bin[:, i][indices]))\n",
    "        one_f_one.append(f1_score(y_test_bin[:, i][indices], y_pred_bin[:, i][indices]))\n",
    "#        one_ppv.append(positive_pv_score(y_test_bin[:, i][indices], y_pred_bin[:, i][indices])) ##\n",
    "#        one_npv.append(negative_pv_score(y_test_bin[:, i][indices], y_pred_bin[:, i][indices])) ##\n",
    "\n",
    "    bootstrapped_acc_scores.append(one_acc)\n",
    "    bootstrapped_spec_scores.append(one_spec)\n",
    "    bootstrapped_prec_scores.append(one_prec)\n",
    "    bootstrapped_rec_scores.append(one_rec)\n",
    "    bootstrapped_f_one_scores.append(one_f_one)\n",
    "#    bootstrapped_ppv_scores.append(one_ppv) ##\n",
    "#    bootstrapped_npv_scores.append(one_npv) ##"
   ]
  },
  {
   "cell_type": "code",
   "execution_count": null,
   "metadata": {},
   "outputs": [],
   "source": [
    "create_ci(bootstrapped_acc_scores, \"Accuracy\")\n",
    "create_ci(bootstrapped_spec_scores, \"Specificity\")\n",
    "create_ci(bootstrapped_prec_scores, \"Precision\")\n",
    "create_ci(bootstrapped_rec_scores, \"Recall\")\n",
    "create_ci(bootstrapped_f_one_scores, \"F1\")\n",
    "#create_ci(bootstrapped_ppv_scores, \"PPV\") ##\n",
    "#create_ci(bootstrapped_npv_scores, \"NPV\") ##"
   ]
  },
  {
   "cell_type": "markdown",
   "metadata": {},
   "source": [
    "# Classification Results"
   ]
  },
  {
   "cell_type": "code",
   "execution_count": null,
   "metadata": {},
   "outputs": [],
   "source": [
    "metadata_df = df['molecular']\n",
    "target_for_table = df['molecular']"
   ]
  },
  {
   "cell_type": "code",
   "execution_count": null,
   "metadata": {},
   "outputs": [],
   "source": [
    "features_for_table = df.drop(['molecular','molec_id', 'dx_date','alive','os','pfs','seg_id'], axis = 1)\n",
    "target_for_table = target_for_table.map(dict(wnt = 0, shh = 1, group3 = 2)) ##, type4 = 2))"
   ]
  },
  {
   "cell_type": "code",
   "execution_count": null,
   "metadata": {},
   "outputs": [],
   "source": [
    "#only used for metadata for which is train and which is test\n",
    "X_train_for_table, X_test_for_table, _, _ = train_test_split(features_for_table, target_for_table, \n",
    "                                                    test_size = 0.25, random_state = 42)"
   ]
  },
  {
   "cell_type": "code",
   "execution_count": null,
   "metadata": {},
   "outputs": [],
   "source": [
    "X_train_for_table['Set'] = 'training'\n",
    "X_test_for_table['Set'] = 'test'"
   ]
  },
  {
   "cell_type": "code",
   "execution_count": null,
   "metadata": {},
   "outputs": [],
   "source": [
    "X_for_table = pd.concat([X_train_for_table, X_test_for_table])\n",
    "X_for_table = pd.merge(metadata_df, X_for_table, left_index = True, right_index = True)"
   ]
  },
  {
   "cell_type": "code",
   "execution_count": null,
   "metadata": {},
   "outputs": [],
   "source": [
    "final_df = X_for_table[['molecular', 'Set']]\n",
    "features_for_table = df.drop(['molecular','molec_id', 'dx_date','alive','os','pfs','seg_id'], axis = 1)\n",
    "target_for_table = X_for_table['molecular']\n",
    "target_for_table = target_for_table.map(dict(wnt = 0, shh = 1, group3 = 2)) ##, type4 = 2))"
   ]
  },
  {
   "cell_type": "code",
   "execution_count": null,
   "metadata": {},
   "outputs": [],
   "source": [
    "X_table_reduced = features_for_table[reduced_features_list]"
   ]
  },
  {
   "cell_type": "code",
   "execution_count": null,
   "metadata": {},
   "outputs": [],
   "source": [
    "sex_binarized = X_table_reduced['sex'].map(dict(M = 1, F = 0)).to_numpy()\n",
    "\n",
    "X_table_reduced['sex'] = sex_binarized"
   ]
  },
  {
   "cell_type": "code",
   "execution_count": null,
   "metadata": {},
   "outputs": [],
   "source": [
    "names = X_table_reduced.columns\n",
    "X_table_for_first = first_scaler.transform(X_table_reduced)\n",
    "X_table_for_first = pd.DataFrame(X_table_for_first, columns = names)"
   ]
  },
  {
   "cell_type": "code",
   "execution_count": null,
   "metadata": {},
   "outputs": [],
   "source": [
    "y_probs_after_first_table = nn_seq_1_model.predict_proba(X_table_for_first)"
   ]
  },
  {
   "cell_type": "code",
   "execution_count": null,
   "metadata": {},
   "outputs": [],
   "source": [
    "y_probs_after_first_table"
   ]
  },
  {
   "cell_type": "code",
   "execution_count": null,
   "metadata": {},
   "outputs": [],
   "source": [
    "rf_1_table = pd.DataFrame(y_probs_after_first_table, columns = ['RF1 WNT Prob','RF1 Non-WNT Prob'])"
   ]
  },
  {
   "cell_type": "code",
   "execution_count": null,
   "metadata": {},
   "outputs": [],
   "source": [
    "final_df['RF1 WNT Prob'] = rf_1_table['RF1 WNT Prob']\n",
    "final_df['RF1 Non-WNT Prob'] = rf_1_table['RF1 Non-WNT Prob']"
   ]
  },
  {
   "cell_type": "code",
   "execution_count": null,
   "metadata": {},
   "outputs": [],
   "source": [
    "y_preds_after_first_table = nn_seq_1_model.predict(X_table_for_first)\n",
    "wnt_table_indices = np.where(y_preds_after_first_table == 0)\n",
    "other_table_indices = np.where(y_preds_after_first_table != 0)"
   ]
  },
  {
   "cell_type": "code",
   "execution_count": null,
   "metadata": {},
   "outputs": [],
   "source": [
    "y_table_for_wnt = np.array(y_preds_after_first_table)[wnt_table_indices]\n",
    "X_table_after_first_model = features_for_table.iloc[other_table_indices]\n",
    "X_table_after_first_model = X_table_after_first_model[second_reduced_features_list]\n",
    "X_table_after_first_model_arr = second_scaler.transform(X_table_after_first_model)"
   ]
  },
  {
   "cell_type": "code",
   "execution_count": null,
   "metadata": {},
   "outputs": [],
   "source": [
    "y_probs_after_second_table = nn_seq_2_model.predict_proba(X_table_after_first_model_arr)\n",
    "y_preds_after_second_table = nn_seq_2_model.predict(X_table_after_first_model_arr)"
   ]
  },
  {
   "cell_type": "code",
   "execution_count": null,
   "metadata": {},
   "outputs": [],
   "source": [
    "nn_2_table = pd.DataFrame(y_probs_after_second_table, columns = ['NN2 SHH Prob','NN2 Type 3/4 Prob'])"
   ]
  },
  {
   "cell_type": "code",
   "execution_count": null,
   "metadata": {},
   "outputs": [],
   "source": [
    "X_table_after_first_model['NN2 SHH Prob'] = np.array(nn_2_table['NN2 SHH Prob'])\n",
    "X_table_after_first_model['NN2 Type 3/4 Prob'] = np.array(nn_2_table['NN2 Type 3/4 Prob'])"
   ]
  },
  {
   "cell_type": "code",
   "execution_count": null,
   "metadata": {},
   "outputs": [],
   "source": [
    "X_table_after_first_model = X_table_after_first_model[['NN2 SHH Prob', 'NN2 Type 3/4 Prob']]"
   ]
  },
  {
   "cell_type": "code",
   "execution_count": null,
   "metadata": {},
   "outputs": [],
   "source": [
    "final_df = final_df.merge(X_table_after_first_model, how='left', left_index=True, right_index=True)"
   ]
  },
  {
   "cell_type": "code",
   "execution_count": null,
   "metadata": {},
   "outputs": [],
   "source": [
    "def f(row):\n",
    "    if row['RF1 Non-WNT Prob'] < row['RF1 WNT Prob']:\n",
    "        val = 'wnt'\n",
    "    else:\n",
    "        if row['NN2 SHH Prob'] > row['NN2 Type 3/4 Prob']:\n",
    "            val = 'shh'\n",
    "        else:\n",
    "            val = 'type 3/4'\n",
    "    return val"
   ]
  },
  {
   "cell_type": "code",
   "execution_count": null,
   "metadata": {},
   "outputs": [],
   "source": [
    "final_df['molec_id'] = df['molec_id']"
   ]
  },
  {
   "cell_type": "code",
   "execution_count": null,
   "metadata": {},
   "outputs": [],
   "source": [
    "final_df['Pred Path'] = final_df.apply(f, axis = 1)"
   ]
  },
  {
   "cell_type": "code",
   "execution_count": null,
   "metadata": {},
   "outputs": [],
   "source": [
    "final_df"
   ]
  },
  {
   "cell_type": "code",
   "execution_count": null,
   "metadata": {},
   "outputs": [],
   "source": [
    "# Formatting\n",
    "final_df.columns = ['True Molec', 'Set', 'RF1 Non-WNT Prob', 'RF1 WNT Prob',\n",
    "                    'NN2 SHH Prob', 'NN2 Type 3/4 Prob', 'Molec Id', 'Pred Molec']\n",
    "cols = final_df.columns.tolist()\n",
    "cols = ['Molec Id', 'RF1 Non-WNT Prob', 'RF1 WNT Prob', 'NN2 SHH Prob', 'NN2 Type 3/4 Prob', \n",
    "        'Pred Molec', 'True Molec', 'Set']\n",
    "final_df = final_df[cols]\n",
    "final_df = final_df.round(4)"
   ]
  },
  {
   "cell_type": "code",
   "execution_count": null,
   "metadata": {
    "scrolled": false
   },
   "outputs": [],
   "source": [
    "pd.set_option('display.max_rows', None)\n",
    "final_df"
   ]
  },
  {
   "cell_type": "code",
   "execution_count": null,
   "metadata": {},
   "outputs": [],
   "source": []
  }
 ],
 "metadata": {
  "kernelspec": {
   "display_name": "Python 3",
   "language": "python",
   "name": "python3"
  },
  "language_info": {
   "codemirror_mode": {
    "name": "ipython",
    "version": 3
   },
   "file_extension": ".py",
   "mimetype": "text/x-python",
   "name": "python",
   "nbconvert_exporter": "python",
   "pygments_lexer": "ipython3",
   "version": "3.8.5"
  }
 },
 "nbformat": 4,
 "nbformat_minor": 4
}
