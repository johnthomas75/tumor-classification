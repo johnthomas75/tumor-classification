{
 "cells": [
  {
   "cell_type": "markdown",
   "metadata": {},
   "source": [
    "# Two Stage Sequential Classifier"
   ]
  },
  {
   "cell_type": "markdown",
   "metadata": {},
   "source": [
    "## Required Imports"
   ]
  },
  {
   "cell_type": "code",
   "execution_count": 1,
   "metadata": {},
   "outputs": [],
   "source": [
    "import numpy as np\n",
    "import pandas as pd\n",
    "from sklearn import svm\n",
    "from sklearn import preprocessing\n",
    "from sklearn.linear_model import LogisticRegression\n",
    "from sklearn.neighbors import KNeighborsClassifier\n",
    "from sklearn.ensemble import RandomForestClassifier\n",
    "from sklearn.neural_network import MLPClassifier\n",
    "from xgboost import XGBClassifier\n",
    "from sklearn.multiclass import OneVsRestClassifier\n",
    "from sklearn.multiclass import OneVsOneClassifier\n",
    "from sklearn.model_selection import train_test_split\n",
    "from sklearn.model_selection import GridSearchCV\n",
    "from sklearn.model_selection import cross_val_score\n",
    "from sklearn.utils import resample\n",
    "from sklearn.svm import LinearSVC\n",
    "from sklearn.metrics import accuracy_score, precision_score, recall_score, f1_score, roc_curve, roc_auc_score, auc, plot_confusion_matrix\n",
    "from sklearn.metrics import classification_report\n",
    "from sklearn.metrics import confusion_matrix\n",
    "from sklearn.preprocessing import label_binarize\n",
    "from sklearn.metrics._plot.confusion_matrix import ConfusionMatrixDisplay\n",
    "from sklearn.utils.multiclass import unique_labels\n",
    "import matplotlib.pyplot as plt\n",
    "from sklearn.preprocessing import label_binarize\n",
    "from sklearn.decomposition import PCA\n",
    "import seaborn as sns"
   ]
  },
  {
   "cell_type": "markdown",
   "metadata": {},
   "source": [
    "## User Defined Functions"
   ]
  },
  {
   "cell_type": "code",
   "execution_count": 2,
   "metadata": {},
   "outputs": [],
   "source": [
    "def create_confusion_matrix(y_true, y_pred, labels=None, sample_weight=None, normalize=None, display_labels=None,\n",
    "                           include_values=True, xticks_rotation='horizontal', values_format=None,\n",
    "                           cmap='viridis', ax=None, colorbar=True):\n",
    "    \n",
    "    cm = confusion_matrix(y_true, y_pred, normalize=normalize)\n",
    "    \n",
    "    if display_labels is None:\n",
    "        if labels is None:\n",
    "            display_labels = unique_labels(y_true, y_pred)\n",
    "        else:\n",
    "            display_labels = labels\n",
    "\n",
    "    disp = ConfusionMatrixDisplay(confusion_matrix=cm,\n",
    "                             display_labels=display_labels)\n",
    "    return disp.plot(include_values=include_values,\n",
    "                     cmap=cmap, ax=ax, xticks_rotation=xticks_rotation,\n",
    "                     values_format=values_format)"
   ]
  },
  {
   "cell_type": "code",
   "execution_count": 3,
   "metadata": {},
   "outputs": [],
   "source": [
    "def specificity_score(y_true, y_pred):\n",
    "    TN = 0\n",
    "    FP = 0\n",
    "    for i in range(len(y_pred)):\n",
    "        if y_pred[i] == 0 and y_true[i] == 0:\n",
    "            TN += 1\n",
    "        if y_pred[i] == 1 and y_true[i] == 0:\n",
    "            FP += 1\n",
    "    \n",
    "    return TN / (TN + FP)"
   ]
  },
  {
   "cell_type": "code",
   "execution_count": 4,
   "metadata": {},
   "outputs": [],
   "source": [
    "def positive_pv_score(y_true, y_pred):\n",
    "    TP = 0\n",
    "    FP = 0\n",
    "    for i in range(len(y_true)):\n",
    "        if y_true[i] == y_pred[i] == 1:\n",
    "            TP += 1\n",
    "        elif y_true[i] == 0 and y_pred[i] == 1:\n",
    "            FP += 1\n",
    "\n",
    "    return TP/(TP+FP)"
   ]
  },
  {
   "cell_type": "code",
   "execution_count": 5,
   "metadata": {},
   "outputs": [],
   "source": [
    "def negative_pv_score(y_true, y_pred):\n",
    "    TN = 0\n",
    "    FN = 0\n",
    "    for i in range(len(y_true)):\n",
    "        if y_true[i] == y_pred[i] == 0:\n",
    "            TN += 1\n",
    "        elif y_true[i] == 1 and y_pred[i] == 0:\n",
    "            FN += 1\n",
    "    \n",
    "    return TN/(TN+FN) "
   ]
  },
  {
   "cell_type": "code",
   "execution_count": 6,
   "metadata": {},
   "outputs": [],
   "source": [
    "def create_ci(bootstrapped_scores, name):\n",
    "    for i in range(3):\n",
    "        sorted_scores = np.array(bootstrapped_scores)[:, i]\n",
    "        sorted_scores.sort()\n",
    "    \n",
    "        confidence_lower = sorted_scores[int(0.025 * len(sorted_scores))]\n",
    "        confidence_upper = sorted_scores[int(0.975 * len(sorted_scores))]\n",
    "    \n",
    "        print(\"95% Confidence interval for the {} score for class {}: [{:0.4f} - {:0.4}]\".format(name, i,\n",
    "        confidence_lower, confidence_upper))"
   ]
  },
  {
   "cell_type": "code",
   "execution_count": 7,
   "metadata": {},
   "outputs": [],
   "source": [
    "def my_classification_report(y_test_np, y_pred):\n",
    "\n",
    "    tot_TN = 0\n",
    "    tot_TP = 0\n",
    "    tot_FP = 0\n",
    "    tot_FN = 0\n",
    "\n",
    "    spec_arr = []\n",
    "    ppv_arr = []\n",
    "    npv_arr = []\n",
    "    rec_arr = []\n",
    "    acc_arr = []\n",
    "\n",
    "    print(\"Specificities\")\n",
    "    for group in range(3):\n",
    "        TN = 0\n",
    "        TP = 0\n",
    "        FN = 0\n",
    "        FP = 0\n",
    "        for i in range(len(y_test_np)):\n",
    "            if y_pred[i] != group and y_test_np[i] != group:\n",
    "                TN += 1\n",
    "            if y_pred[i] == group and y_test_np[i] != group:\n",
    "                FP += 1\n",
    "        tot_TN += TN\n",
    "        tot_FP += FP\n",
    "        spec_arr.append(TN/(TN+FP))\n",
    "        print(group, round(spec_arr[group],4))\n",
    "\n",
    "    print(\"Macro Avg : \" + str.format('{0:.4f}', np.array(spec_arr).mean()))\n",
    "    print(\"Micro Avg : \" + str.format('{0:.4f}', tot_TN / (tot_TN + tot_FP)), '\\n')\n",
    "\n",
    "    tot_TN = 0\n",
    "    tot_TP = 0\n",
    "    tot_FP = 0\n",
    "    tot_FN = 0\n",
    "\n",
    "    print(\"PPV/Precision\")\n",
    "    for group in range(3):\n",
    "        TN = 0\n",
    "        TP = 0\n",
    "        FN = 0\n",
    "        FP = 0\n",
    "        for i in range(len(y_test_np)):\n",
    "            if y_pred[i] == group and y_test_np[i] == group:\n",
    "                TP += 1\n",
    "            if y_pred[i] == group and y_test_np[i] != group:\n",
    "                FP += 1\n",
    "        tot_TP += TP\n",
    "        tot_FP += FP\n",
    "        ppv_arr.append(TP/(TP+FP))\n",
    "        print(group, round(ppv_arr[group],4))\n",
    "    \n",
    "    print(\"Macro Avg : \" + str.format('{0:.4f}', np.array(ppv_arr).mean()))\n",
    "    prec_for_mic_f1 = tot_TP / (tot_TP + tot_FP)\n",
    "    print(\"Micro Avg : \" + str.format('{0:.4f}', prec_for_mic_f1), '\\n')\n",
    "\n",
    "    tot_TN = 0\n",
    "    tot_TP = 0\n",
    "    tot_FP = 0\n",
    "    tot_FN = 0\n",
    "\n",
    "    print(\"NPV\")\n",
    "    for group in range(3):\n",
    "        TN = 0\n",
    "        TP = 0\n",
    "        FN = 0\n",
    "        FP = 0\n",
    "        for i in range(len(y_test_np)):\n",
    "            if y_pred[i] != group and y_test_np[i] != group:\n",
    "                TN += 1\n",
    "            if y_pred[i] != group and y_test_np[i] == group:\n",
    "                FN += 1\n",
    "        tot_TN += TN\n",
    "        tot_FN += FN\n",
    "        npv_arr.append(TN/(TN+FN))\n",
    "        print(group, round(npv_arr[group],4))\n",
    "    \n",
    "    print(\"Macro Avg : \" + str.format('{0:.4f}', np.array(npv_arr).mean()))\n",
    "    print(\"Micro Avg : \" + str.format('{0:.4f}', tot_TN / (tot_TN + tot_FN)), '\\n') \n",
    "    \n",
    "    tot_TN = 0\n",
    "    tot_TP = 0\n",
    "    tot_FP = 0\n",
    "    tot_FN = 0\n",
    "\n",
    "    print(\"Recall\")\n",
    "    for group in range(3):\n",
    "        TN = 0\n",
    "        TP = 0\n",
    "        FN = 0\n",
    "        FP = 0\n",
    "        for i in range(len(y_test_np)):\n",
    "            if y_pred[i] == group and y_test_np[i] == group:\n",
    "                TP += 1\n",
    "            if y_pred[i] != group and y_test_np[i] == group:\n",
    "                FN += 1\n",
    "        tot_TP += TP\n",
    "        tot_FN += FN\n",
    "        rec_arr.append(TP/(TP+FN))\n",
    "        print(group, round(rec_arr[group],4))\n",
    "    \n",
    "    print(\"Macro Avg : \" + str.format('{0:.4f}', np.array(rec_arr).mean()))\n",
    "    rec_for_mic_f1 = tot_TP / (tot_TP + tot_FN)\n",
    "    print(\"Micro Avg : \" + str.format('{0:.4f}', rec_for_mic_f1), '\\n')\n",
    "    \n",
    "    print(\"F1 Score\")\n",
    "    for group in range(3):\n",
    "        print(group, round(2 * (rec_arr[group] * ppv_arr[group]) / (rec_arr[group] + ppv_arr[group]),4))\n",
    "    print(\"Macro Avg : \" + str.format('{0:.4f}', 2 * (np.array(rec_arr).mean() * np.array(ppv_arr).mean()) \n",
    "                               / (np.array(rec_arr).mean() + np.array(ppv_arr).mean())))\n",
    "    print(\"Micro Avg : \" + str.format('{0:.4f}', 2 * (prec_for_mic_f1 * rec_for_mic_f1)/ (prec_for_mic_f1 + rec_for_mic_f1)), '\\n')\n",
    "    \n",
    "    tot_TN = 0\n",
    "    tot_TP = 0\n",
    "    tot_FP = 0\n",
    "    tot_FN = 0   \n",
    "    \n",
    "    print(\"Accuracy:\")\n",
    "    for group in range(3):\n",
    "        TN = 0\n",
    "        TP = 0\n",
    "        FN = 0\n",
    "        FP = 0\n",
    "        for i in range(len(y_test_np)):\n",
    "            if y_pred[i] == group and y_test_np[i] == group:\n",
    "                TP += 1\n",
    "            if y_pred[i] != group and y_test_np[i] != group:\n",
    "                TN += 1\n",
    "            if y_pred[i] == group and y_test_np[i] != group:\n",
    "                FP += 1\n",
    "            if y_pred[i] != group and y_test_np[i] == group:\n",
    "                FN += 1\n",
    "        \n",
    "        tot_TP += TP\n",
    "        tot_TN += TN\n",
    "        tot_FP += FP\n",
    "        tot_FN += FN\n",
    "        \n",
    "        acc_arr.append((TP + TN)/(TP + TN + FP + FN))\n",
    "        print(group, round(acc_arr[group],4))\n",
    "\n",
    "    print(\"Macro Avg : \" + str.format('{0:.4f}', np.array(acc_arr).mean()))\n",
    "    print(\"Micro Avg : \" + str.format('{0:.4f}', (tot_TP + tot_TN)/(tot_TP + tot_TN + tot_FP + tot_FN)), '\\n') ##"
   ]
  },
  {
   "cell_type": "code",
   "execution_count": 8,
   "metadata": {},
   "outputs": [],
   "source": [
    "def print_metrics(y_test, y_pred):\n",
    "    print(\"Sens Score: \" + str.format('{0:.4f}', (recall_score(y_test, y_pred))))\n",
    "    print(\"Spec Score: \" + str.format('{0:.4f}', (specificity_score(y_test.to_numpy(), y_pred))))\n",
    "    print(\"PPV Score: \" + str.format('{0:.4f}', (positive_pv_score(y_test.to_numpy(), y_pred))))\n",
    "    print(\"NPV Score: \" + str.format('{0:.4f}', (negative_pv_score(y_test.to_numpy(), y_pred))))\n",
    "    print(\"Acc Score: \" + str.format('{0:.4f}', (accuracy_score(y_test, y_pred))))\n",
    "    print(\"F1 Score: \" + str.format('{0:.4f}', (f1_score(y_test, y_pred))))"
   ]
  },
  {
   "cell_type": "code",
   "execution_count": 9,
   "metadata": {},
   "outputs": [],
   "source": [
    "def plot_roc_curve(model_name):\n",
    "    sns.set()\n",
    "    plt.figure(figsize=(7, 7))\n",
    "\n",
    "    ns_preds = [0 for _ in range(len(y_test))]\n",
    "\n",
    "    ns_fpr, ns_tpr, _ = roc_curve(y_test, ns_preds)\n",
    "\n",
    "    plt.plot(ns_fpr, ns_tpr, linestyle='--', label='No Skill')\n",
    "    plt.plot(fpr, tpr, marker='.', label=model_name)\n",
    "    plt.xlabel('1 - Specificity (False Positive Rate)',fontsize=16)\n",
    "    plt.ylabel('Sensitivity (True Positive Rate)',fontsize=16)\n",
    "\n",
    "    plt.legend(loc='lower right')\n",
    "    plt.title(f'{model_name}: ROC Curve for Test Set', fontsize=20, fontweight=\"semibold\")\n",
    "    short_auc = round(auc,4)\n",
    "    plt.text(.93,.1, \"AUC: \" + str(short_auc), \n",
    "        horizontalalignment=\"center\", verticalalignment=\"center\",\n",
    "        fontsize=14, fontweight=\"semibold\")\n",
    "    \n",
    "    plt.show()"
   ]
  },
  {
   "cell_type": "code",
   "execution_count": 10,
   "metadata": {},
   "outputs": [],
   "source": [
    "def create_intermed_confusion_matrix(model_name, model, X, y, normalize=None):\n",
    "    matrix = plot_confusion_matrix(model, X, y,\n",
    "                               cmap=plt.cm.Blues,\n",
    "                                  normalize=normalize)\n",
    "    plt.title(f'{model_name} Confusion Matrix')\n",
    "    plt.show(matrix)\n",
    "    plt.show()"
   ]
  },
  {
   "cell_type": "code",
   "execution_count": 11,
   "metadata": {},
   "outputs": [],
   "source": [
    "def grid_search(model, params, X_train, y_train):\n",
    "    grid = GridSearchCV(estimator=model,\n",
    "                       param_grid=params,\n",
    "                       scoring='accuracy',\n",
    "                       cv=5,\n",
    "                       n_jobs=-1)\n",
    "    grid.fit(X_train, y_train)\n",
    "    print(grid.best_params_)"
   ]
  },
  {
   "cell_type": "markdown",
   "metadata": {},
   "source": [
    "## Data Loading"
   ]
  },
  {
   "cell_type": "code",
   "execution_count": 12,
   "metadata": {},
   "outputs": [
    {
     "data": {
      "text/html": [
       "<div>\n",
       "<style scoped>\n",
       "    .dataframe tbody tr th:only-of-type {\n",
       "        vertical-align: middle;\n",
       "    }\n",
       "\n",
       "    .dataframe tbody tr th {\n",
       "        vertical-align: top;\n",
       "    }\n",
       "\n",
       "    .dataframe thead th {\n",
       "        text-align: right;\n",
       "    }\n",
       "</style>\n",
       "<table border=\"1\" class=\"dataframe\">\n",
       "  <thead>\n",
       "    <tr style=\"text-align: right;\">\n",
       "      <th></th>\n",
       "      <th>molecular</th>\n",
       "      <th>molec_id</th>\n",
       "      <th>sex</th>\n",
       "      <th>dx_date</th>\n",
       "      <th>age</th>\n",
       "      <th>alive</th>\n",
       "      <th>os</th>\n",
       "      <th>pfs</th>\n",
       "      <th>seg_id</th>\n",
       "      <th>t1_log-sigma-1-mm-3D_firstorder_10Percentile</th>\n",
       "      <th>...</th>\n",
       "      <th>t2_wavelet-LLL_glszm_LargeAreaLowGrayLevelEmphasis</th>\n",
       "      <th>t2_wavelet-LLL_glszm_LowGrayLevelZoneEmphasis</th>\n",
       "      <th>t2_wavelet-LLL_glszm_SizeZoneNonUniformity</th>\n",
       "      <th>t2_wavelet-LLL_glszm_SizeZoneNonUniformityNormalized</th>\n",
       "      <th>t2_wavelet-LLL_glszm_SmallAreaEmphasis</th>\n",
       "      <th>t2_wavelet-LLL_glszm_SmallAreaHighGrayLevelEmphasis</th>\n",
       "      <th>t2_wavelet-LLL_glszm_SmallAreaLowGrayLevelEmphasis</th>\n",
       "      <th>t2_wavelet-LLL_glszm_ZoneEntropy</th>\n",
       "      <th>t2_wavelet-LLL_glszm_ZonePercentage</th>\n",
       "      <th>t2_wavelet-LLL_glszm_ZoneVariance</th>\n",
       "    </tr>\n",
       "  </thead>\n",
       "  <tbody>\n",
       "    <tr>\n",
       "      <th>0</th>\n",
       "      <td>shh</td>\n",
       "      <td>BO_PF-MB_F_0007</td>\n",
       "      <td>F</td>\n",
       "      <td>2000-05-05 00:00:00</td>\n",
       "      <td>79.0</td>\n",
       "      <td>NaN</td>\n",
       "      <td>33</td>\n",
       "      <td>NaN</td>\n",
       "      <td>BO_PF-MB_F_0007_</td>\n",
       "      <td>-14.446979</td>\n",
       "      <td>...</td>\n",
       "      <td>1.973686</td>\n",
       "      <td>0.000808</td>\n",
       "      <td>1027.170040</td>\n",
       "      <td>0.297042</td>\n",
       "      <td>0.562429</td>\n",
       "      <td>1220.949377</td>\n",
       "      <td>0.000601</td>\n",
       "      <td>7.518529</td>\n",
       "      <td>0.134000</td>\n",
       "      <td>5335.217376</td>\n",
       "    </tr>\n",
       "    <tr>\n",
       "      <th>1</th>\n",
       "      <td>wnt</td>\n",
       "      <td>BO_PF-MB_F_0008</td>\n",
       "      <td>F</td>\n",
       "      <td>2006-01-05 00:00:00</td>\n",
       "      <td>90.0</td>\n",
       "      <td>Alive</td>\n",
       "      <td>30</td>\n",
       "      <td>NaN</td>\n",
       "      <td>BO_PF-MB_F_0008_</td>\n",
       "      <td>-11.965873</td>\n",
       "      <td>...</td>\n",
       "      <td>0.243711</td>\n",
       "      <td>0.005756</td>\n",
       "      <td>344.000989</td>\n",
       "      <td>0.340258</td>\n",
       "      <td>0.604408</td>\n",
       "      <td>481.129194</td>\n",
       "      <td>0.004316</td>\n",
       "      <td>7.318544</td>\n",
       "      <td>0.252624</td>\n",
       "      <td>209.948818</td>\n",
       "    </tr>\n",
       "    <tr>\n",
       "      <th>2</th>\n",
       "      <td>wnt</td>\n",
       "      <td>BO_PF-MB_F_0010</td>\n",
       "      <td>F</td>\n",
       "      <td>2000-08-16 00:00:00</td>\n",
       "      <td>76.0</td>\n",
       "      <td>Alive</td>\n",
       "      <td>92</td>\n",
       "      <td>NaN</td>\n",
       "      <td>BO_PF-MB_F_0010_</td>\n",
       "      <td>-15.311574</td>\n",
       "      <td>...</td>\n",
       "      <td>0.049205</td>\n",
       "      <td>0.000786</td>\n",
       "      <td>4051.276393</td>\n",
       "      <td>0.385322</td>\n",
       "      <td>0.644380</td>\n",
       "      <td>1826.940136</td>\n",
       "      <td>0.000552</td>\n",
       "      <td>8.163314</td>\n",
       "      <td>0.350257</td>\n",
       "      <td>66.167310</td>\n",
       "    </tr>\n",
       "    <tr>\n",
       "      <th>3</th>\n",
       "      <td>group3</td>\n",
       "      <td>BO_PF-MB_F_0015</td>\n",
       "      <td>F</td>\n",
       "      <td>2001-01-25 00:00:00</td>\n",
       "      <td>121.0</td>\n",
       "      <td>Alive</td>\n",
       "      <td>84</td>\n",
       "      <td>NaN</td>\n",
       "      <td>BO_PF-MB_F_0015_</td>\n",
       "      <td>-6.059545</td>\n",
       "      <td>...</td>\n",
       "      <td>3.112323</td>\n",
       "      <td>0.003300</td>\n",
       "      <td>481.319732</td>\n",
       "      <td>0.321953</td>\n",
       "      <td>0.586631</td>\n",
       "      <td>463.640209</td>\n",
       "      <td>0.002341</td>\n",
       "      <td>7.438314</td>\n",
       "      <td>0.129236</td>\n",
       "      <td>2106.125227</td>\n",
       "    </tr>\n",
       "    <tr>\n",
       "      <th>4</th>\n",
       "      <td>shh</td>\n",
       "      <td>BO_PF-MB_F_0017</td>\n",
       "      <td>F</td>\n",
       "      <td>2004-06-06 00:00:00</td>\n",
       "      <td>27.0</td>\n",
       "      <td>Alive</td>\n",
       "      <td>44</td>\n",
       "      <td>NaN</td>\n",
       "      <td>BO_PF-MB_F_0017_</td>\n",
       "      <td>-25.161749</td>\n",
       "      <td>...</td>\n",
       "      <td>0.094180</td>\n",
       "      <td>0.001028</td>\n",
       "      <td>1305.932045</td>\n",
       "      <td>0.382523</td>\n",
       "      <td>0.642779</td>\n",
       "      <td>1897.521463</td>\n",
       "      <td>0.000611</td>\n",
       "      <td>7.748172</td>\n",
       "      <td>0.291049</td>\n",
       "      <td>174.711614</td>\n",
       "    </tr>\n",
       "  </tbody>\n",
       "</table>\n",
       "<p>5 rows × 1809 columns</p>\n",
       "</div>"
      ],
      "text/plain": [
       "  molecular         molec_id sex              dx_date    age   alive  os  pfs  \\\n",
       "0       shh  BO_PF-MB_F_0007   F  2000-05-05 00:00:00   79.0     NaN  33  NaN   \n",
       "1       wnt  BO_PF-MB_F_0008   F  2006-01-05 00:00:00   90.0  Alive   30  NaN   \n",
       "2       wnt  BO_PF-MB_F_0010   F  2000-08-16 00:00:00   76.0  Alive   92  NaN   \n",
       "3    group3  BO_PF-MB_F_0015   F  2001-01-25 00:00:00  121.0  Alive   84  NaN   \n",
       "4       shh  BO_PF-MB_F_0017   F  2004-06-06 00:00:00   27.0  Alive   44  NaN   \n",
       "\n",
       "             seg_id  t1_log-sigma-1-mm-3D_firstorder_10Percentile  ...  \\\n",
       "0  BO_PF-MB_F_0007_                                    -14.446979  ...   \n",
       "1  BO_PF-MB_F_0008_                                    -11.965873  ...   \n",
       "2  BO_PF-MB_F_0010_                                    -15.311574  ...   \n",
       "3  BO_PF-MB_F_0015_                                     -6.059545  ...   \n",
       "4  BO_PF-MB_F_0017_                                    -25.161749  ...   \n",
       "\n",
       "   t2_wavelet-LLL_glszm_LargeAreaLowGrayLevelEmphasis  \\\n",
       "0                                           1.973686    \n",
       "1                                           0.243711    \n",
       "2                                           0.049205    \n",
       "3                                           3.112323    \n",
       "4                                           0.094180    \n",
       "\n",
       "   t2_wavelet-LLL_glszm_LowGrayLevelZoneEmphasis  \\\n",
       "0                                       0.000808   \n",
       "1                                       0.005756   \n",
       "2                                       0.000786   \n",
       "3                                       0.003300   \n",
       "4                                       0.001028   \n",
       "\n",
       "   t2_wavelet-LLL_glszm_SizeZoneNonUniformity  \\\n",
       "0                                 1027.170040   \n",
       "1                                  344.000989   \n",
       "2                                 4051.276393   \n",
       "3                                  481.319732   \n",
       "4                                 1305.932045   \n",
       "\n",
       "   t2_wavelet-LLL_glszm_SizeZoneNonUniformityNormalized  \\\n",
       "0                                           0.297042      \n",
       "1                                           0.340258      \n",
       "2                                           0.385322      \n",
       "3                                           0.321953      \n",
       "4                                           0.382523      \n",
       "\n",
       "   t2_wavelet-LLL_glszm_SmallAreaEmphasis  \\\n",
       "0                                0.562429   \n",
       "1                                0.604408   \n",
       "2                                0.644380   \n",
       "3                                0.586631   \n",
       "4                                0.642779   \n",
       "\n",
       "   t2_wavelet-LLL_glszm_SmallAreaHighGrayLevelEmphasis  \\\n",
       "0                                        1220.949377     \n",
       "1                                         481.129194     \n",
       "2                                        1826.940136     \n",
       "3                                         463.640209     \n",
       "4                                        1897.521463     \n",
       "\n",
       "   t2_wavelet-LLL_glszm_SmallAreaLowGrayLevelEmphasis  \\\n",
       "0                                           0.000601    \n",
       "1                                           0.004316    \n",
       "2                                           0.000552    \n",
       "3                                           0.002341    \n",
       "4                                           0.000611    \n",
       "\n",
       "   t2_wavelet-LLL_glszm_ZoneEntropy  t2_wavelet-LLL_glszm_ZonePercentage  \\\n",
       "0                          7.518529                             0.134000   \n",
       "1                          7.318544                             0.252624   \n",
       "2                          8.163314                             0.350257   \n",
       "3                          7.438314                             0.129236   \n",
       "4                          7.748172                             0.291049   \n",
       "\n",
       "   t2_wavelet-LLL_glszm_ZoneVariance  \n",
       "0                        5335.217376  \n",
       "1                         209.948818  \n",
       "2                          66.167310  \n",
       "3                        2106.125227  \n",
       "4                         174.711614  \n",
       "\n",
       "[5 rows x 1809 columns]"
      ]
     },
     "execution_count": 12,
     "metadata": {},
     "output_type": "execute_result"
    }
   ],
   "source": [
    "# load data\n",
    "file_path = \"/Users/samwwong/Desktop/Michael Zhang/mb_t1_t2_3way.xlsx\"\n",
    "df = pd.read_excel(file_path)\n",
    "df.head()"
   ]
  },
  {
   "cell_type": "code",
   "execution_count": 13,
   "metadata": {},
   "outputs": [
    {
     "name": "stdout",
     "output_type": "stream",
     "text": [
      "['sex', 'age', 't1_log-sigma-1-mm-3D_glszm_SmallAreaLowGrayLevelEmphasis', 't1_log-sigma-3-mm-3D_firstorder_Median', 't1_log-sigma-3-mm-3D_glcm_ClusterProminence', 't1_log-sigma-3-mm-3D_glrlm_LowGrayLevelRunEmphasis', 't1_log-sigma-5-mm-3D_glszm_GrayLevelVariance', 't1_original_glszm_LargeAreaHighGrayLevelEmphasis', 't1_original_glszm_LargeAreaLowGrayLevelEmphasis', 't1_original_shape_Flatness', 't1_wavelet-HHL_firstorder_Skewness', 't1_wavelet-HLL_firstorder_Mean', 't1_wavelet-HLL_glcm_Correlation', 't1_wavelet-LHL_glcm_Correlation', 't1_wavelet-LLH_glszm_LargeAreaLowGrayLevelEmphasis', 't1_wavelet-LLL_firstorder_Skewness', 't1_wavelet-LLL_glszm_ZoneVariance', 't2_log-sigma-1-mm-3D_firstorder_Mean', 't2_log-sigma-1-mm-3D_firstorder_Median', 't2_log-sigma-1-mm-3D_glcm_Correlation', 't2_log-sigma-5-mm-3D_firstorder_Kurtosis', 't2_log-sigma-5-mm-3D_glrlm_RunLengthNonUniformity', 't2_log-sigma-5-mm-3D_glszm_SmallAreaEmphasis', 't2_original_glszm_GrayLevelNonUniformity', 't2_wavelet-HHH_glrlm_RunPercentage', 't2_wavelet-HHH_glszm_LargeAreaEmphasis', 't2_wavelet-HHH_glszm_SmallAreaLowGrayLevelEmphasis', 't2_wavelet-HHL_glcm_ClusterProminence', 't2_wavelet-HHL_glrlm_LongRunHighGrayLevelEmphasis', 't2_wavelet-HHL_glszm_LargeAreaHighGrayLevelEmphasis', 't2_wavelet-HLH_glszm_SizeZoneNonUniformityNormalized', 't2_wavelet-HLL_firstorder_Mean', 't2_wavelet-LHH_firstorder_Mean', 't2_wavelet-LHH_glszm_GrayLevelNonUniformityNormalized', 't2_wavelet-LHL_glcm_Idn', 't2_wavelet-LLL_firstorder_Energy', 't2_wavelet-LLL_glcm_JointAverage', 't1_log-sigma-3-mm-3D_glrlm_ShortRunLowGrayLevelEmphasis', 't1_wavelet-HHH_firstorder_Skewness', 't1_wavelet-HHH_glszm_LargeAreaHighGrayLevelEmphasis', 't1_wavelet-HHL_glcm_ClusterProminence', 't1_wavelet-LHH_firstorder_Median', 't2_log-sigma-5-mm-3D_glcm_Imc2', 't2_original_glcm_Idmn', 't2_wavelet-LLL_firstorder_Median', 't2_wavelet-HHH_firstorder_Skewness', 't2_original_firstorder_Kurtosis', 't2_wavelet-LLL_firstorder_TotalEnergy']\n"
     ]
    }
   ],
   "source": [
    "# obtain list of features selected from LASSO\n",
    "reduced_feats_path = \"/Users/samwwong/Desktop/Michael Zhang/reduced_molec.xlsx\"\n",
    "reduced_features = pd.read_excel(reduced_feats_path)\n",
    "reduced_features_list = reduced_features.loc[reduced_features['group3_rest'].isnull() == False, \n",
    "                                             ['group3_rest']].values.tolist()\n",
    "\n",
    "reduced_features_list = [item for sublist in reduced_features_list for item in sublist]\n",
    "print(reduced_features_list)"
   ]
  },
  {
   "cell_type": "markdown",
   "metadata": {},
   "source": [
    "## NN1: group3+4 vs rest (First Sequential)"
   ]
  },
  {
   "cell_type": "markdown",
   "metadata": {},
   "source": [
    "### Data Preprocessing"
   ]
  },
  {
   "cell_type": "code",
   "execution_count": 14,
   "metadata": {},
   "outputs": [
    {
     "name": "stderr",
     "output_type": "stream",
     "text": [
      "<ipython-input-14-e1a96184a8f0>:3: SettingWithCopyWarning: \n",
      "A value is trying to be set on a copy of a slice from a DataFrame.\n",
      "Try using .loc[row_indexer,col_indexer] = value instead\n",
      "\n",
      "See the caveats in the documentation: https://pandas.pydata.org/pandas-docs/stable/user_guide/indexing.html#returning-a-view-versus-a-copy\n",
      "  first_features['sex'] = sex_binarized\n"
     ]
    }
   ],
   "source": [
    "first_features = df[reduced_features_list]\n",
    "sex_binarized = first_features['sex'].map(dict(M = 1, F = 0)).to_numpy()\n",
    "first_features['sex'] = sex_binarized"
   ]
  },
  {
   "cell_type": "code",
   "execution_count": 15,
   "metadata": {},
   "outputs": [
    {
     "name": "stdout",
     "output_type": "stream",
     "text": [
      "0    154\n",
      "1    109\n",
      "Name: molecular, dtype: int64\n"
     ]
    }
   ],
   "source": [
    "# Binarizing target\n",
    "first_target = df[\"molecular\"]\n",
    "\n",
    "# Marking 0 as group3+4 and 1 as wnt\n",
    "first_target = first_target.map(dict(group3 = 0, shh = 1, wnt = 1))\n",
    "print(first_target.value_counts())"
   ]
  },
  {
   "cell_type": "code",
   "execution_count": 16,
   "metadata": {},
   "outputs": [
    {
     "name": "stdout",
     "output_type": "stream",
     "text": [
      "TRAIN\n",
      "0    112\n",
      "1     85\n",
      "Name: molecular, dtype: int64\n",
      "TEST\n",
      "0    42\n",
      "1    24\n",
      "Name: molecular, dtype: int64\n"
     ]
    }
   ],
   "source": [
    "# Train/test split\n",
    "X_train_1, X_test_1, y_train_1, y_test_1 = train_test_split(first_features, first_target, \n",
    "                                                   test_size = 0.25, random_state = 42)\n",
    "print(\"TRAIN\")\n",
    "print(y_train_1.value_counts())\n",
    "\n",
    "print(\"TEST\")\n",
    "print(y_test_1.value_counts())"
   ]
  },
  {
   "cell_type": "code",
   "execution_count": 17,
   "metadata": {},
   "outputs": [
    {
     "name": "stdout",
     "output_type": "stream",
     "text": [
      "0.6364\n",
      "0.2121\n",
      "0.1515\n"
     ]
    }
   ],
   "source": [
    "#NIR\n",
    "NIR_G34 = 42/66\n",
    "NIR_SHH = 14/66\n",
    "NIR_WNT = 10/66\n",
    "\n",
    "print('%.4f' % NIR_G34)\n",
    "print('%.4f' % NIR_SHH)\n",
    "print('%.4f' % NIR_WNT)"
   ]
  },
  {
   "cell_type": "markdown",
   "metadata": {},
   "source": [
    "#### Resampling to Correct for Imbalance "
   ]
  },
  {
   "cell_type": "code",
   "execution_count": 18,
   "metadata": {},
   "outputs": [],
   "source": [
    "first_X = pd.concat([X_train_1, y_train_1], axis = 1)\n",
    "first_X_0 = first_X[first_X['molecular'] == 0]\n",
    "first_X_1 = first_X[first_X['molecular'] == 1]"
   ]
  },
  {
   "cell_type": "code",
   "execution_count": 19,
   "metadata": {},
   "outputs": [],
   "source": [
    "upsampled_1 = resample(first_X_1, replace = True, n_samples = len(first_X_0), random_state = 42)\n",
    "upsampled = pd.concat([upsampled_1, first_X_0])\n",
    "upsampled = upsampled.sample(frac = 1, random_state = 42)"
   ]
  },
  {
   "cell_type": "code",
   "execution_count": 20,
   "metadata": {},
   "outputs": [
    {
     "name": "stdout",
     "output_type": "stream",
     "text": [
      "1    112\n",
      "0    112\n",
      "Name: molecular, dtype: int64\n"
     ]
    }
   ],
   "source": [
    "X_train_1 = upsampled.iloc[:, :-1]\n",
    "y_train_1 = upsampled.iloc[:, -1]\n",
    "print(y_train_1.value_counts())"
   ]
  },
  {
   "cell_type": "markdown",
   "metadata": {},
   "source": [
    "#### Standardizing Features"
   ]
  },
  {
   "cell_type": "code",
   "execution_count": 21,
   "metadata": {},
   "outputs": [],
   "source": [
    "first_names = X_train_1.columns\n",
    "first_scaler = preprocessing.StandardScaler()"
   ]
  },
  {
   "cell_type": "code",
   "execution_count": 22,
   "metadata": {},
   "outputs": [],
   "source": [
    "X_train_1 = first_scaler.fit_transform(X_train_1)\n",
    "X_train_1 = pd.DataFrame(X_train_1, columns = first_names)"
   ]
  },
  {
   "cell_type": "code",
   "execution_count": 23,
   "metadata": {},
   "outputs": [],
   "source": [
    "X_test_1 = first_scaler.transform(X_test_1)\n",
    "X_test_1 = pd.DataFrame(X_test_1, columns = first_names)"
   ]
  },
  {
   "cell_type": "markdown",
   "metadata": {},
   "source": [
    "### Modeling"
   ]
  },
  {
   "cell_type": "markdown",
   "metadata": {},
   "source": [
    "#### Grid Search for Hyperparameters"
   ]
  },
  {
   "cell_type": "code",
   "execution_count": 24,
   "metadata": {},
   "outputs": [
    {
     "name": "stdout",
     "output_type": "stream",
     "text": [
      "{'hidden_layer_sizes': (50, 100, 50), 'learning_rate': 'constant'}\n"
     ]
    }
   ],
   "source": [
    "nn_model_1_model = MLPClassifier(max_iter = 2000, random_state = 42)\n",
    "nn_grid_params_1 = {'hidden_layer_sizes': [(100, 100, 50), (50, 100, 50), (100, 50, 100)],\n",
    "              'learning_rate': ['constant', 'invscaling', 'adaptive']\n",
    "}\n",
    "\n",
    "grid_search(nn_model_1_model, nn_grid_params_1, X_train_1, y_train_1)"
   ]
  },
  {
   "cell_type": "markdown",
   "metadata": {},
   "source": [
    "#### Model Performance"
   ]
  },
  {
   "cell_type": "code",
   "execution_count": 25,
   "metadata": {},
   "outputs": [],
   "source": [
    "nn_seq_1_model = MLPClassifier(hidden_layer_sizes = (50, 100, 50), learning_rate = 'constant', \n",
    "                         max_iter = 2000, random_state = 42)\n",
    "nn_seq_1_model.fit(X_train_1, y_train_1)\n",
    "y_pred_1 = nn_seq_1_model.predict(X_test_1)"
   ]
  },
  {
   "cell_type": "code",
   "execution_count": 26,
   "metadata": {},
   "outputs": [
    {
     "name": "stdout",
     "output_type": "stream",
     "text": [
      "Sens Score: 0.8750\n",
      "Spec Score: 0.8810\n",
      "PPV Score: 0.8077\n",
      "NPV Score: 0.9250\n",
      "Acc Score: 0.8788\n",
      "F1 Score: 0.8400\n"
     ]
    }
   ],
   "source": [
    "print_metrics(y_test_1, y_pred_1)"
   ]
  },
  {
   "cell_type": "markdown",
   "metadata": {},
   "source": [
    "# NN2: SHH vs WNT (Second Sequential) [decomposed from rest1]"
   ]
  },
  {
   "cell_type": "markdown",
   "metadata": {},
   "source": [
    "### Data Preprocessing"
   ]
  },
  {
   "cell_type": "code",
   "execution_count": 27,
   "metadata": {},
   "outputs": [
    {
     "name": "stdout",
     "output_type": "stream",
     "text": [
      "['t1_log-sigma-3-mm-3D_glszm_GrayLevelNonUniformityNormalized', 't1_wavelet-LHL_glcm_Correlation', 't1_wavelet-LHL_glcm_Idn', 't2_wavelet-HHL_firstorder_InterquartileRange', 't2_wavelet-LLL_firstorder_Kurtosis', 't2_log-sigma-1-mm-3D_glszm_HighGrayLevelZoneEmphasis', 'age']\n"
     ]
    }
   ],
   "source": [
    "# obtain list of features selected from LASSO\n",
    "second_reduced_features_list = reduced_features.loc[reduced_features['wnt_shh'].isnull() == False, \n",
    "                                                    ['wnt_shh']].values.tolist()\n",
    "\n",
    "second_reduced_features_list = [item for sublist in second_reduced_features_list for item in sublist]\n",
    "print(second_reduced_features_list)"
   ]
  },
  {
   "cell_type": "code",
   "execution_count": 28,
   "metadata": {},
   "outputs": [],
   "source": [
    "second_features = df.drop(['molecular','molec_id', 'dx_date','alive','os','pfs','seg_id'], axis = 1)\n",
    "second_features = second_features[second_reduced_features_list]"
   ]
  },
  {
   "cell_type": "code",
   "execution_count": 29,
   "metadata": {},
   "outputs": [
    {
     "name": "stdout",
     "output_type": "stream",
     "text": [
      "0    83\n",
      "1    26\n",
      "Name: molecular, dtype: int64\n"
     ]
    }
   ],
   "source": [
    "# Binarizing target\n",
    "second_target = df[\"molecular\"]\n",
    "\n",
    "# Marking 0 as shh and 1 as wnt\n",
    "second_target = second_target.map(dict(shh = 0, group3 = -1, wnt = 1))\n",
    "second_target = second_target[second_target != -1]\n",
    "second_features = second_features.iloc[second_target.index]\n",
    "print(second_target.value_counts())"
   ]
  },
  {
   "cell_type": "code",
   "execution_count": 30,
   "metadata": {},
   "outputs": [],
   "source": [
    "second_target = second_target.reset_index(drop = True)\n",
    "second_features = second_features.reset_index(drop = True)"
   ]
  },
  {
   "cell_type": "code",
   "execution_count": 31,
   "metadata": {},
   "outputs": [
    {
     "name": "stdout",
     "output_type": "stream",
     "text": [
      "TRAIN\n",
      "0    60\n",
      "1    21\n",
      "Name: molecular, dtype: int64\n",
      "TEST\n",
      "0    23\n",
      "1     5\n",
      "Name: molecular, dtype: int64\n"
     ]
    }
   ],
   "source": [
    "# Train/test split\n",
    "X_train_2, X_test_2, y_train_2, y_test_2 = train_test_split(second_features, second_target, \n",
    "                                                    test_size = 0.25, random_state = 42)\n",
    "print(\"TRAIN\")\n",
    "print(y_train_2.value_counts())\n",
    "\n",
    "print(\"TEST\")\n",
    "print(y_test_2.value_counts())"
   ]
  },
  {
   "cell_type": "markdown",
   "metadata": {},
   "source": [
    "#### Resampling to Correct for Imbalance "
   ]
  },
  {
   "cell_type": "code",
   "execution_count": 32,
   "metadata": {},
   "outputs": [],
   "source": [
    "second_X = pd.concat([X_train_2, y_train_2], axis = 1)\n",
    "second_X_0 = second_X[second_X['molecular'] == 0]\n",
    "second_X_1 = second_X[second_X['molecular'] == 1]"
   ]
  },
  {
   "cell_type": "code",
   "execution_count": 33,
   "metadata": {},
   "outputs": [],
   "source": [
    "second_upsampled_1 = resample(second_X_1, replace = True, n_samples = len(second_X_0), random_state = 42)\n",
    "second_upsampled = pd.concat([second_upsampled_1, second_X_0])\n",
    "second_upsampled = second_upsampled.sample(frac = 1, random_state = 42)"
   ]
  },
  {
   "cell_type": "code",
   "execution_count": 34,
   "metadata": {},
   "outputs": [
    {
     "name": "stdout",
     "output_type": "stream",
     "text": [
      "1    60\n",
      "0    60\n",
      "Name: molecular, dtype: int64\n"
     ]
    }
   ],
   "source": [
    "X_train_2 = second_upsampled.iloc[:, :-1]\n",
    "y_train_2 = second_upsampled.iloc[:, -1]\n",
    "print(y_train_2.value_counts())"
   ]
  },
  {
   "cell_type": "markdown",
   "metadata": {},
   "source": [
    "#### Standardizing Features"
   ]
  },
  {
   "cell_type": "code",
   "execution_count": 35,
   "metadata": {},
   "outputs": [],
   "source": [
    "second_names = X_train_2.columns\n",
    "second_scaler = preprocessing.StandardScaler()"
   ]
  },
  {
   "cell_type": "code",
   "execution_count": 36,
   "metadata": {},
   "outputs": [],
   "source": [
    "X_train_2 = second_scaler.fit_transform(X_train_2)\n",
    "X_train_2 = pd.DataFrame(X_train_2, columns = second_names)"
   ]
  },
  {
   "cell_type": "code",
   "execution_count": 37,
   "metadata": {},
   "outputs": [],
   "source": [
    "X_test_2 = second_scaler.transform(X_test_2)\n",
    "X_test_2 = pd.DataFrame(X_test_2, columns = second_names)"
   ]
  },
  {
   "cell_type": "markdown",
   "metadata": {},
   "source": [
    "### Modeling"
   ]
  },
  {
   "cell_type": "markdown",
   "metadata": {},
   "source": [
    "#### Model Performance"
   ]
  },
  {
   "cell_type": "code",
   "execution_count": 38,
   "metadata": {},
   "outputs": [],
   "source": [
    "nn_seq_2_model = MLPClassifier(hidden_layer_sizes = (50, 100, 50), learning_rate = 'constant', \n",
    "                         max_iter = 2000, random_state = 42)\n",
    "nn_seq_2_model.fit(X_train_2, y_train_2)\n",
    "y_pred_2 = nn_seq_2_model.predict(X_test_2)"
   ]
  },
  {
   "cell_type": "code",
   "execution_count": 39,
   "metadata": {},
   "outputs": [
    {
     "data": {
      "image/png": "[encoded data removed]",
      "text/plain": [
       "<Figure size 432x288 with 2 Axes>"
      ]
     },
     "metadata": {
      "needs_background": "light"
     },
     "output_type": "display_data"
    }
   ],
   "source": [
    "create_intermed_confusion_matrix('Neural Network', nn_seq_2_model, X_test_2, y_test_2)"
   ]
  },
  {
   "cell_type": "markdown",
   "metadata": {},
   "source": [
    "## Testing"
   ]
  },
  {
   "cell_type": "code",
   "execution_count": 40,
   "metadata": {},
   "outputs": [],
   "source": [
    "# Test features\n",
    "test_features = df.drop(['molecular','molec_id', 'dx_date','alive','os','pfs','seg_id'], axis = 1) \n",
    "test_target = df[\"molecular\"]\n",
    "test_target = test_target.map(dict(group3 = 0, shh = 1, wnt = 2))"
   ]
  },
  {
   "cell_type": "code",
   "execution_count": 41,
   "metadata": {},
   "outputs": [
    {
     "name": "stdout",
     "output_type": "stream",
     "text": [
      "TRAIN\n",
      "0    112\n",
      "1     69\n",
      "2     16\n",
      "Name: molecular, dtype: int64\n",
      "TEST\n",
      "0    42\n",
      "1    14\n",
      "2    10\n",
      "Name: molecular, dtype: int64\n"
     ]
    }
   ],
   "source": [
    "# Train/test split\n",
    "X_train, X_test, y_train, y_test = train_test_split(test_features, test_target, \n",
    "                                                    test_size = 0.25, random_state = 42)\n",
    "print(\"TRAIN\")\n",
    "print(y_train.value_counts())\n",
    "\n",
    "print(\"TEST\")\n",
    "print(y_test.value_counts())"
   ]
  },
  {
   "cell_type": "code",
   "execution_count": 42,
   "metadata": {},
   "outputs": [],
   "source": [
    "# Data Preparation\n",
    "X_test = X_test.reset_index(drop = True)\n",
    "y_test = y_test.reset_index(drop = True)\n",
    "sex_binarized = X_test['sex'].map(dict(M = 1, F = 0)).to_numpy()\n",
    "X_test['sex'] = sex_binarized\n",
    "X_test_reduced = X_test[reduced_features_list]"
   ]
  },
  {
   "cell_type": "markdown",
   "metadata": {},
   "source": [
    "### Standardization for NN1"
   ]
  },
  {
   "cell_type": "code",
   "execution_count": 43,
   "metadata": {},
   "outputs": [],
   "source": [
    "names = X_test_reduced.columns\n",
    "X_test_for_first = first_scaler.transform(X_test_reduced)\n",
    "X_test_for_first = pd.DataFrame(X_test_for_first, columns = names)"
   ]
  },
  {
   "cell_type": "markdown",
   "metadata": {},
   "source": [
    "### Modeling"
   ]
  },
  {
   "cell_type": "code",
   "execution_count": 44,
   "metadata": {},
   "outputs": [
    {
     "name": "stdout",
     "output_type": "stream",
     "text": [
      "[0 1 0 0 0 1 1 0 0 0 0 0 0 0 0 1 1 0 0 0 0 1 1 0 1 0 1 1 0 0 1 0 0 0 1 0 0\n",
      " 1 1 0 1 1 0 1 1 0 0 0 1 1 1 0 1 0 0 1 1 0 1 0 0 0 0 0 0 1]\n"
     ]
    }
   ],
   "source": [
    "y_preds_after_first = nn_seq_1_model.predict(X_test_for_first)\n",
    "print(y_preds_after_first)"
   ]
  },
  {
   "cell_type": "code",
   "execution_count": 45,
   "metadata": {},
   "outputs": [],
   "source": [
    "#keeps all that are group3+4, indifferent to shh/wnt label\n",
    "group3_indices = np.where(y_preds_after_first == 0)\n",
    "other_indices = np.where(y_preds_after_first != 0)\n",
    "\n",
    "group3_preds = y_preds_after_first[group3_indices]\n",
    "y_test_for_group3 = np.array(y_test)[group3_indices]\n",
    "\n",
    "X_test_after_first_model = X_test.iloc[other_indices].reset_index(drop = True)\n",
    "y_test_after_first_model = y_test.iloc[other_indices].reset_index(drop = True)\n",
    "\n",
    "X_test_after_first_model = X_test_after_first_model[second_reduced_features_list]"
   ]
  },
  {
   "cell_type": "markdown",
   "metadata": {},
   "source": [
    "### Standardization for NN2"
   ]
  },
  {
   "cell_type": "code",
   "execution_count": 46,
   "metadata": {},
   "outputs": [],
   "source": [
    "X_test_after_first_model = second_scaler.transform(X_test_after_first_model)"
   ]
  },
  {
   "cell_type": "code",
   "execution_count": 47,
   "metadata": {},
   "outputs": [],
   "source": [
    "#relabel original test-dictionary\n",
    "#allows us to dro group3 from 2nd stage\n",
    "#allows accuracy_score of binary outputs: shh now 0, wnt now 1\n",
    "y_test_after_first_model = np.array(y_test_after_first_model)\n",
    "y_test_after_first_model[y_test_after_first_model == 0] = -1\n",
    "y_test_after_first_model[y_test_after_first_model == 1] = 0\n",
    "y_test_after_first_model[y_test_after_first_model == 2] = 1"
   ]
  },
  {
   "cell_type": "code",
   "execution_count": 48,
   "metadata": {},
   "outputs": [
    {
     "name": "stdout",
     "output_type": "stream",
     "text": [
      "0.8076923076923077\n"
     ]
    }
   ],
   "source": [
    "y_preds_after_second = nn_seq_2_model.predict(X_test_after_first_model)\n",
    "print(accuracy_score(y_test_after_first_model, y_preds_after_second))"
   ]
  },
  {
   "cell_type": "markdown",
   "metadata": {},
   "source": [
    "### Post-processing"
   ]
  },
  {
   "cell_type": "code",
   "execution_count": 49,
   "metadata": {},
   "outputs": [],
   "source": [
    "#relabel prediction outputs to match 3-way; wnt to 2, shh to 1\n",
    "#group3 is 0 already from \"group3_preds\" and \"y_test_for_group3\" derived from \"group3_indices\"\n",
    "y_preds_after_second[y_preds_after_second == 1] = 2\n",
    "y_preds_after_second[y_preds_after_second == 0] = 1"
   ]
  },
  {
   "cell_type": "code",
   "execution_count": 50,
   "metadata": {},
   "outputs": [],
   "source": [
    "#revert test-labels to 3-way; wnt back to 2, shh back to 1, group3 back to 0\n",
    "y_test_after_first_model[y_test_after_first_model == 1] = 2\n",
    "y_test_after_first_model[y_test_after_first_model == 0] = 1\n",
    "y_test_after_first_model[y_test_after_first_model == -1] = 0"
   ]
  },
  {
   "cell_type": "code",
   "execution_count": 51,
   "metadata": {},
   "outputs": [],
   "source": [
    "y_preds_overall = np.concatenate([y_preds_after_second, group3_preds])\n",
    "y_test_overall = np.concatenate([y_test_after_first_model, y_test_for_group3])"
   ]
  },
  {
   "cell_type": "markdown",
   "metadata": {},
   "source": [
    "## Results "
   ]
  },
  {
   "cell_type": "code",
   "execution_count": 52,
   "metadata": {},
   "outputs": [
    {
     "name": "stdout",
     "output_type": "stream",
     "text": [
      "Acc: 0.8787878787878788\n"
     ]
    }
   ],
   "source": [
    "print(\"Acc: \" + str(accuracy_score(y_test_overall, y_preds_overall)))"
   ]
  },
  {
   "cell_type": "code",
   "execution_count": 53,
   "metadata": {},
   "outputs": [
    {
     "data": {
      "image/png": "[encoded data removed]",
      "text/plain": [
       "<Figure size 432x288 with 2 Axes>"
      ]
     },
     "metadata": {
      "needs_background": "light"
     },
     "output_type": "display_data"
    }
   ],
   "source": [
    "matrix = create_confusion_matrix(y_test_overall, y_preds_overall, cmap=plt.cm.Blues)\n",
    "plt.title('NN1 + NN2 Confusion Matrix')\n",
    "plt.show(matrix)\n",
    "plt.show()"
   ]
  },
  {
   "cell_type": "code",
   "execution_count": 54,
   "metadata": {},
   "outputs": [
    {
     "data": {
      "image/png": "[encoded data removed]",
      "text/plain": [
       "<Figure size 432x288 with 2 Axes>"
      ]
     },
     "metadata": {
      "needs_background": "light"
     },
     "output_type": "display_data"
    }
   ],
   "source": [
    "matrix = create_confusion_matrix(y_test_overall, y_preds_overall, cmap=plt.cm.Blues, normalize = 'true')\n",
    "plt.title('Normalized NN1 + NN2 Confusion Matrix')\n",
    "plt.show(matrix)\n",
    "plt.show()"
   ]
  },
  {
   "cell_type": "code",
   "execution_count": 55,
   "metadata": {},
   "outputs": [
    {
     "name": "stdout",
     "output_type": "stream",
     "text": [
      "Specificities\n",
      "0 0.875\n",
      "1 0.9038\n",
      "2 1.0\n",
      "Macro Avg : 0.9263\n",
      "Micro Avg : 0.9394 \n",
      "\n",
      "PPV/Precision\n",
      "0 0.925\n",
      "1 0.7059\n",
      "2 1.0\n",
      "Macro Avg : 0.8770\n",
      "Micro Avg : 0.8788 \n",
      "\n",
      "NPV\n",
      "0 0.8077\n",
      "1 0.9592\n",
      "2 0.9825\n",
      "Macro Avg : 0.9164\n",
      "Micro Avg : 0.9394 \n",
      "\n",
      "Recall\n",
      "0 0.881\n",
      "1 0.8571\n",
      "2 0.9\n",
      "Macro Avg : 0.8794\n",
      "Micro Avg : 0.8788 \n",
      "\n",
      "F1 Score\n",
      "0 0.9024\n",
      "1 0.7742\n",
      "2 0.9474\n",
      "Macro Avg : 0.8782\n",
      "Micro Avg : 0.8788 \n",
      "\n",
      "Accuracy:\n",
      "0 0.8788\n",
      "1 0.8939\n",
      "2 0.9848\n",
      "Macro Avg : 0.9192\n",
      "Micro Avg : 0.9192 \n",
      "\n"
     ]
    }
   ],
   "source": [
    "# 3-way scores\n",
    "y_test_np = y_test.to_numpy()\n",
    "my_classification_report(y_test_overall, y_preds_overall)\n",
    "\n",
    "y_test_bin = label_binarize(y_test_overall, classes = [0, 1, 2])\n",
    "y_pred_bin = label_binarize(y_preds_overall, classes = [0, 1, 2])"
   ]
  },
  {
   "cell_type": "markdown",
   "metadata": {},
   "source": [
    "### Confidence Intervals"
   ]
  },
  {
   "cell_type": "code",
   "execution_count": 56,
   "metadata": {},
   "outputs": [],
   "source": [
    "n_classes = 3\n",
    "\n",
    "n_bootstraps = 2000\n",
    "rng_seed = 42  # control reproducibility\n",
    "bootstrapped_auc_scores = []\n",
    "bootstrapped_acc_scores = []\n",
    "bootstrapped_spec_scores = []\n",
    "bootstrapped_prec_scores = []\n",
    "bootstrapped_rec_scores = []\n",
    "bootstrapped_f_one_scores = []\n",
    "bootstrapped_ppv_scores = [] ##\n",
    "bootstrapped_npv_scores = [] ##\n",
    "\n",
    "rng = np.random.RandomState(rng_seed)\n",
    "for i in range(n_bootstraps):\n",
    "    # bootstrap by sampling with replacement on the prediction indices\n",
    "    indices = rng.randint(0, len(y_test_overall), len(y_test_overall))\n",
    "    if len(np.unique(y_test_overall[indices])) < 2:\n",
    "        # We need at least one positive and one negative sample for ROC AUC\n",
    "        # to be defined: reject the sample\n",
    "        continue\n",
    "    \n",
    "    one_acc = []\n",
    "    one_spec = []\n",
    "    one_prec = []\n",
    "    one_rec = []\n",
    "    one_f_one = []\n",
    "    one_ppv = [] ##\n",
    "    one_npv = [] ##\n",
    "    for i in range(n_classes):\n",
    "        one_acc.append(accuracy_score(y_test_bin[:, i][indices], y_pred_bin[:, i][indices]))\n",
    "        one_spec.append(specificity_score(y_test_bin[:, i][indices], y_pred_bin[:, i][indices]))\n",
    "        one_prec.append(precision_score(y_test_bin[:, i][indices], y_pred_bin[:, i][indices]))\n",
    "        one_rec.append(recall_score(y_test_bin[:, i][indices], y_pred_bin[:, i][indices]))\n",
    "        one_f_one.append(f1_score(y_test_bin[:, i][indices], y_pred_bin[:, i][indices]))\n",
    "        one_ppv.append(positive_pv_score(y_test_bin[:, i][indices], y_pred_bin[:, i][indices])) ##\n",
    "        one_npv.append(negative_pv_score(y_test_bin[:, i][indices], y_pred_bin[:, i][indices])) ##\n",
    "\n",
    "    bootstrapped_acc_scores.append(one_acc)\n",
    "    bootstrapped_spec_scores.append(one_spec)\n",
    "    bootstrapped_prec_scores.append(one_prec)\n",
    "    bootstrapped_rec_scores.append(one_rec)\n",
    "    bootstrapped_f_one_scores.append(one_f_one)\n",
    "    bootstrapped_ppv_scores.append(one_ppv) ##\n",
    "    bootstrapped_npv_scores.append(one_npv) ##"
   ]
  },
  {
   "cell_type": "code",
   "execution_count": 57,
   "metadata": {},
   "outputs": [
    {
     "name": "stdout",
     "output_type": "stream",
     "text": [
      "95% Confidence interval for the Accuracy score for class 0: [0.7879 - 0.9545]\n",
      "95% Confidence interval for the Accuracy score for class 1: [0.8030 - 0.9697]\n",
      "95% Confidence interval for the Accuracy score for class 2: [0.9545 - 1.0]\n",
      "95% Confidence interval for the Specificity score for class 0: [0.7222 - 1.0]\n",
      "95% Confidence interval for the Specificity score for class 1: [0.8113 - 0.98]\n",
      "95% Confidence interval for the Specificity score for class 2: [1.0000 - 1.0]\n",
      "95% Confidence interval for the Precision score for class 0: [0.8333 - 1.0]\n",
      "95% Confidence interval for the Precision score for class 1: [0.4615 - 0.9231]\n",
      "95% Confidence interval for the Precision score for class 2: [1.0000 - 1.0]\n",
      "95% Confidence interval for the Recall score for class 0: [0.7708 - 0.9744]\n",
      "95% Confidence interval for the Recall score for class 1: [0.6250 - 1.0]\n",
      "95% Confidence interval for the Recall score for class 2: [0.6667 - 1.0]\n",
      "95% Confidence interval for the F1 score for class 0: [0.8158 - 0.9639]\n",
      "95% Confidence interval for the F1 score for class 1: [0.5625 - 0.9143]\n",
      "95% Confidence interval for the F1 score for class 2: [0.8000 - 1.0]\n",
      "95% Confidence interval for the PPV score for class 0: [0.8333 - 1.0]\n",
      "95% Confidence interval for the PPV score for class 1: [0.4615 - 0.9231]\n",
      "95% Confidence interval for the PPV score for class 2: [1.0000 - 1.0]\n",
      "95% Confidence interval for the NPV score for class 0: [0.6364 - 0.9545]\n",
      "95% Confidence interval for the NPV score for class 1: [0.8936 - 1.0]\n",
      "95% Confidence interval for the NPV score for class 2: [0.9444 - 1.0]\n"
     ]
    }
   ],
   "source": [
    "create_ci(bootstrapped_acc_scores, \"Accuracy\")\n",
    "create_ci(bootstrapped_spec_scores, \"Specificity\")\n",
    "create_ci(bootstrapped_prec_scores, \"Precision\")\n",
    "create_ci(bootstrapped_rec_scores, \"Recall\")\n",
    "create_ci(bootstrapped_f_one_scores, \"F1\")\n",
    "create_ci(bootstrapped_ppv_scores, \"PPV\") ##\n",
    "create_ci(bootstrapped_npv_scores, \"NPV\") ##"
   ]
  },
  {
   "cell_type": "markdown",
   "metadata": {},
   "source": [
    "## Individual Classification Results"
   ]
  },
  {
   "cell_type": "code",
   "execution_count": 58,
   "metadata": {},
   "outputs": [],
   "source": [
    "metadata_df = df['molecular']\n",
    "target_for_table = df['molecular']"
   ]
  },
  {
   "cell_type": "code",
   "execution_count": 59,
   "metadata": {},
   "outputs": [],
   "source": [
    "features_for_table = df.drop(['molecular','molec_id', 'dx_date','alive','os','pfs','seg_id'], axis = 1)\n",
    "target_for_table = target_for_table.map(dict(group3 = 0, shh = 1, wnt = 2))"
   ]
  },
  {
   "cell_type": "code",
   "execution_count": 60,
   "metadata": {},
   "outputs": [],
   "source": [
    "#only used for metadata for which is train and which is test\n",
    "X_train_for_table, X_test_for_table, _, _ = train_test_split(features_for_table, target_for_table, \n",
    "                                                    test_size = 0.25, random_state = 42)"
   ]
  },
  {
   "cell_type": "code",
   "execution_count": 61,
   "metadata": {},
   "outputs": [
    {
     "name": "stderr",
     "output_type": "stream",
     "text": [
      "<ipython-input-61-e808b9f961f0>:1: SettingWithCopyWarning: \n",
      "A value is trying to be set on a copy of a slice from a DataFrame.\n",
      "Try using .loc[row_indexer,col_indexer] = value instead\n",
      "\n",
      "See the caveats in the documentation: https://pandas.pydata.org/pandas-docs/stable/user_guide/indexing.html#returning-a-view-versus-a-copy\n",
      "  X_train_for_table['Set'] = 'training'\n",
      "<ipython-input-61-e808b9f961f0>:2: SettingWithCopyWarning: \n",
      "A value is trying to be set on a copy of a slice from a DataFrame.\n",
      "Try using .loc[row_indexer,col_indexer] = value instead\n",
      "\n",
      "See the caveats in the documentation: https://pandas.pydata.org/pandas-docs/stable/user_guide/indexing.html#returning-a-view-versus-a-copy\n",
      "  X_test_for_table['Set'] = 'test'\n"
     ]
    }
   ],
   "source": [
    "X_train_for_table['Set'] = 'training'\n",
    "X_test_for_table['Set'] = 'test'"
   ]
  },
  {
   "cell_type": "code",
   "execution_count": 62,
   "metadata": {},
   "outputs": [],
   "source": [
    "X_for_table = pd.concat([X_train_for_table, X_test_for_table])\n",
    "X_for_table = pd.merge(metadata_df, X_for_table, left_index = True, right_index = True)"
   ]
  },
  {
   "cell_type": "code",
   "execution_count": 63,
   "metadata": {},
   "outputs": [],
   "source": [
    "final_df = X_for_table[['molecular', 'Set']]\n",
    "features_for_table = df.drop(['molecular','molec_id', 'dx_date','alive','os','pfs','seg_id'], axis = 1)\n",
    "target_for_table = X_for_table['molecular']\n",
    "target_for_table = target_for_table.map(dict(group3 = 0, shh = 1, wnt = 2))"
   ]
  },
  {
   "cell_type": "code",
   "execution_count": 64,
   "metadata": {},
   "outputs": [],
   "source": [
    "X_table_reduced = features_for_table[reduced_features_list]"
   ]
  },
  {
   "cell_type": "code",
   "execution_count": 65,
   "metadata": {},
   "outputs": [
    {
     "name": "stderr",
     "output_type": "stream",
     "text": [
      "<ipython-input-65-ad9946e9319b>:3: SettingWithCopyWarning: \n",
      "A value is trying to be set on a copy of a slice from a DataFrame.\n",
      "Try using .loc[row_indexer,col_indexer] = value instead\n",
      "\n",
      "See the caveats in the documentation: https://pandas.pydata.org/pandas-docs/stable/user_guide/indexing.html#returning-a-view-versus-a-copy\n",
      "  X_table_reduced['sex'] = sex_binarized\n"
     ]
    }
   ],
   "source": [
    "sex_binarized = X_table_reduced['sex'].map(dict(M = 1, F = 0)).to_numpy()\n",
    "\n",
    "X_table_reduced['sex'] = sex_binarized"
   ]
  },
  {
   "cell_type": "code",
   "execution_count": 66,
   "metadata": {},
   "outputs": [],
   "source": [
    "names = X_table_reduced.columns\n",
    "X_table_for_first = first_scaler.transform(X_table_reduced)\n",
    "X_table_for_first = pd.DataFrame(X_table_for_first, columns = names)"
   ]
  },
  {
   "cell_type": "code",
   "execution_count": 67,
   "metadata": {},
   "outputs": [],
   "source": [
    "y_probs_after_first_table = nn_seq_1_model.predict_proba(X_table_for_first)"
   ]
  },
  {
   "cell_type": "code",
   "execution_count": 68,
   "metadata": {},
   "outputs": [],
   "source": [
    "rf_1_table = pd.DataFrame(y_probs_after_first_table, columns = ['NN1 Group3 Prob','NN1 Non-Group3 Prob'])"
   ]
  },
  {
   "cell_type": "code",
   "execution_count": 69,
   "metadata": {},
   "outputs": [
    {
     "name": "stderr",
     "output_type": "stream",
     "text": [
      "<ipython-input-69-5e198a2d4aee>:1: SettingWithCopyWarning: \n",
      "A value is trying to be set on a copy of a slice from a DataFrame.\n",
      "Try using .loc[row_indexer,col_indexer] = value instead\n",
      "\n",
      "See the caveats in the documentation: https://pandas.pydata.org/pandas-docs/stable/user_guide/indexing.html#returning-a-view-versus-a-copy\n",
      "  final_df['NN1 Group3 Prob'] = rf_1_table['NN1 Group3 Prob']\n",
      "<ipython-input-69-5e198a2d4aee>:2: SettingWithCopyWarning: \n",
      "A value is trying to be set on a copy of a slice from a DataFrame.\n",
      "Try using .loc[row_indexer,col_indexer] = value instead\n",
      "\n",
      "See the caveats in the documentation: https://pandas.pydata.org/pandas-docs/stable/user_guide/indexing.html#returning-a-view-versus-a-copy\n",
      "  final_df['NN1 Non-Group3 Prob'] = rf_1_table['NN1 Non-Group3 Prob']\n"
     ]
    }
   ],
   "source": [
    "final_df['NN1 Group3 Prob'] = rf_1_table['NN1 Group3 Prob']\n",
    "final_df['NN1 Non-Group3 Prob'] = rf_1_table['NN1 Non-Group3 Prob']"
   ]
  },
  {
   "cell_type": "code",
   "execution_count": 70,
   "metadata": {},
   "outputs": [],
   "source": [
    "y_preds_after_first_table = nn_seq_1_model.predict(X_table_for_first)\n",
    "wnt_table_indices = np.where(y_preds_after_first_table == 0)\n",
    "other_table_indices = np.where(y_preds_after_first_table != 0)"
   ]
  },
  {
   "cell_type": "code",
   "execution_count": 71,
   "metadata": {},
   "outputs": [],
   "source": [
    "y_table_for_wnt = np.array(y_preds_after_first_table)[wnt_table_indices]\n",
    "X_table_after_first_model = features_for_table.iloc[other_table_indices]\n",
    "X_table_after_first_model = X_table_after_first_model[second_reduced_features_list]\n",
    "X_table_after_first_model_arr = second_scaler.transform(X_table_after_first_model)"
   ]
  },
  {
   "cell_type": "code",
   "execution_count": 72,
   "metadata": {},
   "outputs": [],
   "source": [
    "y_probs_after_second_table = nn_seq_2_model.predict_proba(X_table_after_first_model_arr)\n",
    "y_preds_after_second_table = nn_seq_2_model.predict(X_table_after_first_model_arr)"
   ]
  },
  {
   "cell_type": "code",
   "execution_count": 73,
   "metadata": {},
   "outputs": [],
   "source": [
    "nn_2_table = pd.DataFrame(y_probs_after_second_table, columns = ['NN2 SHH Prob','NN2 WNT Prob'])"
   ]
  },
  {
   "cell_type": "code",
   "execution_count": 74,
   "metadata": {},
   "outputs": [],
   "source": [
    "X_table_after_first_model['NN2 SHH Prob'] = np.array(nn_2_table['NN2 SHH Prob'])\n",
    "X_table_after_first_model['NN2 WNT Prob'] = np.array(nn_2_table['NN2 WNT Prob'])"
   ]
  },
  {
   "cell_type": "code",
   "execution_count": 75,
   "metadata": {},
   "outputs": [],
   "source": [
    "X_table_after_first_model = X_table_after_first_model[['NN2 SHH Prob', 'NN2 WNT Prob']]"
   ]
  },
  {
   "cell_type": "code",
   "execution_count": 76,
   "metadata": {},
   "outputs": [],
   "source": [
    "final_df = final_df.merge(X_table_after_first_model, how='left', left_index=True, right_index=True)"
   ]
  },
  {
   "cell_type": "code",
   "execution_count": 77,
   "metadata": {},
   "outputs": [],
   "source": [
    "def f(row):\n",
    "    if row['NN1 Non-Group3 Prob'] < row['NN1 Group3 Prob']:\n",
    "        val = 'group3'\n",
    "    else:\n",
    "        if row['NN2 SHH Prob'] > row['NN2 WNT Prob']:\n",
    "            val = 'shh'\n",
    "        else:\n",
    "            val = 'wnt'\n",
    "    return val"
   ]
  },
  {
   "cell_type": "code",
   "execution_count": 78,
   "metadata": {},
   "outputs": [],
   "source": [
    "final_df['molec_id'] = df['molec_id']"
   ]
  },
  {
   "cell_type": "code",
   "execution_count": 79,
   "metadata": {},
   "outputs": [],
   "source": [
    "final_df['Pred Path'] = final_df.apply(f, axis = 1)"
   ]
  },
  {
   "cell_type": "code",
   "execution_count": 80,
   "metadata": {},
   "outputs": [],
   "source": [
    "# Formatting\n",
    "final_df.columns = ['True Molec', 'Set', 'NN1 Non-Group3 Prob', 'NN1 Group3 Prob',\n",
    "                    'NN2 SHH Prob', 'NN2 WNT Prob', 'Molec Id', 'Pred Molec']\n",
    "cols = final_df.columns.tolist()\n",
    "cols = ['Molec Id', 'NN1 Non-Group3 Prob', 'NN1 Group3 Prob', 'NN2 SHH Prob', 'NN2 WNT Prob', \n",
    "        'Pred Molec', 'True Molec', 'Set']\n",
    "final_df = final_df[cols]\n",
    "final_df = final_df.round(4)"
   ]
  },
  {
   "cell_type": "code",
   "execution_count": 81,
   "metadata": {
    "scrolled": false
   },
   "outputs": [
    {
     "name": "stdout",
     "output_type": "stream",
     "text": [
      "            Molec Id  NN1 Non-Group3 Prob  NN1 Group3 Prob  NN2 SHH Prob  \\\n",
      "0    BO_PF-MB_F_0007               0.0002           0.9998        0.9997   \n",
      "1    BO_PF-MB_F_0008               0.0000           1.0000        0.0011   \n",
      "2    BO_PF-MB_F_0010               0.0002           0.9998        0.0000   \n",
      "3    BO_PF-MB_F_0015               1.0000           0.0000           NaN   \n",
      "4    BO_PF-MB_F_0017               0.0080           0.9920        0.9987   \n",
      "5    BO_PF-MB_F_0018               0.0033           0.9967        0.4470   \n",
      "6    BO_PF-MB_F_0019               0.8627           0.1373           NaN   \n",
      "7    BO_PF-MB_F_0020               0.0027           0.9973        1.0000   \n",
      "8    BO_PF-MB_M_0004               0.0008           0.9992        0.9994   \n",
      "9    BO_PF-MB_M_0009               0.9528           0.0472           NaN   \n",
      "10   BO_PF-MB_M_0011               0.9989           0.0011           NaN   \n",
      "11   BO_PF-MB_M_0012               0.0038           0.9962        0.9999   \n",
      "12   BO_PF-MB_M_0016               0.9999           0.0001           NaN   \n",
      "13   CG_PF-MB_M_0001               0.9995           0.0005           NaN   \n",
      "14   CG_PF-MB_U_0002               1.0000           0.0000           NaN   \n",
      "15   CG_PF-MB_U_0003               0.9985           0.0015           NaN   \n",
      "16   CG_PF-MB_U_0004               0.1818           0.8182        1.0000   \n",
      "17   CG_PF-MB_U_0005               0.9992           0.0008           NaN   \n",
      "18   CG_PF-MB_U_0007               1.0000           0.0000           NaN   \n",
      "19   CG_PF-MB_U_0008               0.0197           0.9803        0.9934   \n",
      "20   CG_PF-MB_U_0009               0.9992           0.0008           NaN   \n",
      "21   CG_PF-MB_U_0010               0.9999           0.0001           NaN   \n",
      "22   CG_PF-MB_U_0011               0.3939           0.6061        1.0000   \n",
      "23   CG_PF-MB_U_0012               0.9995           0.0005           NaN   \n",
      "24   CG_PF-MB_U_0013               0.9708           0.0292           NaN   \n",
      "25   CG_PF-MB_U_0014               0.0000           1.0000        1.0000   \n",
      "26   CG_PF-MB_U_0015               0.9990           0.0010           NaN   \n",
      "27   CG_PF-MB_U_0016               0.9997           0.0003           NaN   \n",
      "28   CG_PF-MB_U_0017               0.0058           0.9942        1.0000   \n",
      "29   CG_PF-MB_U_0018               0.8673           0.1327           NaN   \n",
      "30   CG_PF-MB_U_0019               0.1767           0.8233        0.9986   \n",
      "31   CG_PF-MB_U_0020               0.9897           0.0103           NaN   \n",
      "32   CG_PF-MB_U_0021               0.0012           0.9988        0.0117   \n",
      "33   CG_PF-MB_U_0022               0.0009           0.9991        0.9998   \n",
      "34   CG_PF-MB_U_0023               1.0000           0.0000           NaN   \n",
      "35   CG_PF-MB_U_0024               1.0000           0.0000           NaN   \n",
      "36   CG_PF-MB_U_0025               0.0007           0.9993        0.9989   \n",
      "37   CG_PF-MB_U_0026               0.9614           0.0386           NaN   \n",
      "38   CG_PF-MB_U_0027               0.0006           0.9994        0.0000   \n",
      "39   CG_PF-MB_U_0028               0.0010           0.9990        0.9999   \n",
      "40   CG_PF-MB_U_0029               0.0011           0.9989        0.9926   \n",
      "41   CG_PF-MB_U_0031               0.0000           1.0000        0.9999   \n",
      "42   CG_PF-MB_U_0032               0.9997           0.0003           NaN   \n",
      "43   CG_PF-MB_U_0033               0.7295           0.2705           NaN   \n",
      "44   CG_PF-MB_U_0034               0.0004           0.9996        0.9989   \n",
      "45   CG_PF-MB_U_0035               0.0000           1.0000        1.0000   \n",
      "46   CG_PF-MB_U_0036               0.9934           0.0066           NaN   \n",
      "47   CG_PF-MB_U_0037               0.9952           0.0048           NaN   \n",
      "48   CG_PF-MB_U_0038               0.0008           0.9992        0.0005   \n",
      "49   CG_PF-MB_U_0039               0.9924           0.0076           NaN   \n",
      "50   CG_PF-MB_U_0040               0.9997           0.0003           NaN   \n",
      "51   CG_PF-MB_U_0041               1.0000           0.0000           NaN   \n",
      "52   CG_PF-MB_U_0042               0.9992           0.0008           NaN   \n",
      "53   CG_PF-MB_U_0043               0.0005           0.9995        0.9865   \n",
      "54   CG_PF-MB_U_0044               1.0000           0.0000           NaN   \n",
      "55   CG_PF-MB_U_0045               0.9983           0.0017           NaN   \n",
      "56   CG_PF-MB_U_0046               0.0002           0.9998        1.0000   \n",
      "57   CG_PF-MB_U_0047               0.9997           0.0003           NaN   \n",
      "58   CG_PF-MB_U_0048               0.0000           1.0000        0.9997   \n",
      "59   CG_PF-MB_U_0049               1.0000           0.0000           NaN   \n",
      "60   CG_PF-MB_U_0050               0.9960           0.0040           NaN   \n",
      "61   CG_PF-MB_U_0051               0.9999           0.0001           NaN   \n",
      "62   CG_PF-MB_U_0053               0.0185           0.9815        0.9998   \n",
      "63   CG_PF-MB_U_0054               0.0402           0.9598        0.9995   \n",
      "64   CG_PF-MB_U_0055               0.0012           0.9988        1.0000   \n",
      "65   CG_PF-MB_U_0056               0.0000           1.0000        0.0136   \n",
      "66   CH_PF-MB_F_0001               0.9864           0.0136           NaN   \n",
      "67   CH_PF-MB_F_0004               1.0000           0.0000           NaN   \n",
      "68   DU_PF-MB_U_0005               0.0879           0.9121        0.9989   \n",
      "69   DU_PF-MB_U_0008               0.9991           0.0009           NaN   \n",
      "70   DU_PF-MB_U_0009               0.9999           0.0001           NaN   \n",
      "71   DU_PF-MB_U_0011               0.9999           0.0001           NaN   \n",
      "72   DU_PF-MB_U_0012               0.0095           0.9905        0.9952   \n",
      "73   DU_PF-MB_U_0015               0.9994           0.0006           NaN   \n",
      "74   DU_PF-MB_U_0016               0.9952           0.0048           NaN   \n",
      "75   DY_PF-MB_U_0012               0.0014           0.9986        0.9999   \n",
      "76   DY_PF-MB_U_0013               1.0000           0.0000           NaN   \n",
      "77   GO_PF-MB_F_0003               0.0000           1.0000        0.9994   \n",
      "78   GO_PF-MB_F_0008               0.0051           0.9949        0.9998   \n",
      "79   GO_PF-MB_F_0012               0.0000           1.0000        0.0308   \n",
      "80   GO_PF-MB_F_0013               0.9997           0.0003           NaN   \n",
      "81   GO_PF-MB_F_0014               0.0000           1.0000        0.0000   \n",
      "82   GO_PF-MB_F_0015               1.0000           0.0000           NaN   \n",
      "83   GO_PF-MB_F_0016               0.0000           1.0000        0.9988   \n",
      "84   GO_PF-MB_F_0021               0.0043           0.9957        0.9653   \n",
      "85   GO_PF-MB_F_0023               0.8876           0.1124           NaN   \n",
      "86   GO_PF-MB_F_0026               0.0000           1.0000        1.0000   \n",
      "87   GO_PF-MB_F_0027               0.0000           1.0000        0.0003   \n",
      "88   GO_PF-MB_M_0005               0.9873           0.0127           NaN   \n",
      "89   GO_PF-MB_M_0006               1.0000           0.0000           NaN   \n",
      "90   GO_PF-MB_M_0007               1.0000           0.0000           NaN   \n",
      "91   GO_PF-MB_M_0009               0.9930           0.0070           NaN   \n",
      "92   GO_PF-MB_M_0010               1.0000           0.0000           NaN   \n",
      "93   GO_PF-MB_M_0011               0.0002           0.9998        1.0000   \n",
      "94   GO_PF-MB_M_0019               1.0000           0.0000           NaN   \n",
      "95   GO_PF-MB_M_0020               0.0001           0.9999        0.0417   \n",
      "96   GO_PF-MB_M_0022               0.9999           0.0001           NaN   \n",
      "97   GO_PF-MB_M_0024               0.0041           0.9959        1.0000   \n",
      "98   GO_PF-MB_M_0025               0.0010           0.9990        1.0000   \n",
      "99   IN_PF-MB_F_0002               0.9985           0.0015           NaN   \n",
      "100  IN_PF-MB_F_0005               0.0069           0.9931        0.9977   \n",
      "101  IN_PF-MB_F_0030               1.0000           0.0000           NaN   \n",
      "102  IN_PF-MB_F_0055               0.0080           0.9920        1.0000   \n",
      "103  IN_PF-MB_M_0013               0.9999           0.0001           NaN   \n",
      "104  IN_PF-MB_M_0034               1.0000           0.0000           NaN   \n",
      "105  IN_PF-MB_M_0035               1.0000           0.0000           NaN   \n",
      "106  IN_PF-MB_M_0051               0.9988           0.0012           NaN   \n",
      "107  IN_PF-MB_M_0053               0.0634           0.9366        0.9943   \n",
      "108  IN_PF-MB_M_0064               0.0000           1.0000        0.9940   \n",
      "109  IN_PF-MB_M_0065               0.1923           0.8077        0.0005   \n",
      "110  NY_PF-MB_F_0012               0.9992           0.0008           NaN   \n",
      "111  NY_PF-MB_M_0010               1.0000           0.0000           NaN   \n",
      "112  NY_PF-MB_M_0011               1.0000           0.0000           NaN   \n",
      "113  SE_PF-MB_F_0008               0.9920           0.0080           NaN   \n",
      "114  SE_PF-MB_F_0015               0.0006           0.9994        0.0063   \n",
      "115  SE_PF-MB_F_0018               0.9792           0.0208           NaN   \n",
      "116  SE_PF-MB_F_0022               0.0019           0.9981        1.0000   \n",
      "117  SE_PF-MB_F_0029               0.0000           1.0000        0.8062   \n",
      "118  SE_PF-MB_F_0041               0.0000           1.0000        0.9966   \n",
      "119  SE_PF-MB_F_0042               0.0102           0.9898        1.0000   \n",
      "120  SE_PF-MB_F_0049               0.0001           0.9999        0.0043   \n",
      "121  SE_PF-MB_F_0052               0.0009           0.9991        0.9979   \n",
      "122  SE_PF-MB_F_0053               0.0000           1.0000        0.9986   \n",
      "123  SE_PF-MB_F_0058               1.0000           0.0000           NaN   \n",
      "124  SE_PF-MB_M_0002               0.0004           0.9996        1.0000   \n",
      "125  SE_PF-MB_M_0009               0.9999           0.0001           NaN   \n",
      "126  SE_PF-MB_M_0012               0.9987           0.0013           NaN   \n",
      "127  SE_PF-MB_M_0016               0.9953           0.0047           NaN   \n",
      "128  SE_PF-MB_M_0021               0.9978           0.0022           NaN   \n",
      "129  SE_PF-MB_M_0024               0.9999           0.0001           NaN   \n",
      "130  SE_PF-MB_M_0026               0.9997           0.0003           NaN   \n",
      "131  SE_PF-MB_M_0027               0.0006           0.9994        0.9561   \n",
      "132  SE_PF-MB_M_0036               1.0000           0.0000           NaN   \n",
      "133  SE_PF-MB_M_0038               0.0018           0.9982        0.9997   \n",
      "134  SE_PF-MB_M_0039               1.0000           0.0000           NaN   \n",
      "135  SE_PF-MB_M_0045               0.0004           0.9996        0.9999   \n",
      "136  SE_PF-MB_M_0046               0.8147           0.1853           NaN   \n",
      "137  SE_PF-MB_M_0057               0.0018           0.9982        0.9647   \n",
      "138  ST_PF-MB_F_0001               0.9997           0.0003           NaN   \n",
      "139  ST_PF-MB_F_0003               0.9911           0.0089           NaN   \n",
      "140  ST_PF-MB_F_0004               0.5955           0.4045           NaN   \n",
      "141  ST_PF-MB_F_0006               1.0000           0.0000           NaN   \n",
      "142  ST_PF-MB_F_0010               0.0001           0.9999        0.0000   \n",
      "143  ST_PF-MB_F_0010               0.0000           1.0000        0.0000   \n",
      "144  ST_PF-MB_F_0011               0.9974           0.0026           NaN   \n",
      "145  ST_PF-MB_F_0017               0.9998           0.0002           NaN   \n",
      "146  ST_PF-MB_F_0019               0.0006           0.9994        0.9999   \n",
      "147  ST_PF-MB_F_0020               0.0001           0.9999        0.9995   \n",
      "148  ST_PF-MB_F_0021               0.9974           0.0026           NaN   \n",
      "149  ST_PF-MB_F_0025               0.9999           0.0001           NaN   \n",
      "150  ST_PF-MB_F_0030               1.0000           0.0000           NaN   \n",
      "151  ST_PF-MB_F_0034               1.0000           0.0000           NaN   \n",
      "152  ST_PF-MB_F_0039               0.0022           0.9978        0.0002   \n",
      "153  ST_PF-MB_F_0040               0.0000           1.0000        1.0000   \n",
      "154  ST_PF-MB_F_0043               0.0001           0.9999        0.9999   \n",
      "155  ST_PF-MB_F_0045               0.0005           0.9995        1.0000   \n",
      "156  ST_PF-MB_F_0051               0.9999           0.0001           NaN   \n",
      "157  ST_PF-MB_F_0066               1.0000           0.0000           NaN   \n",
      "158  ST_PF-MB_F_0069               0.9988           0.0012           NaN   \n",
      "159  ST_PF-MB_F_0072               0.0034           0.9966        0.0000   \n",
      "160  ST_PF-MB_F_0077               0.0016           0.9984        0.9483   \n",
      "161  ST_PF-MB_F_0085               0.0043           0.9957        0.9527   \n",
      "162  ST_PF-MB_M_0002               1.0000           0.0000           NaN   \n",
      "163  ST_PF-MB_M_0005               1.0000           0.0000           NaN   \n",
      "164  ST_PF-MB_M_0007               1.0000           0.0000           NaN   \n",
      "165  ST_PF-MB_M_0008               0.6140           0.3860           NaN   \n",
      "166  ST_PF-MB_M_0009               0.9983           0.0017           NaN   \n",
      "167  ST_PF-MB_M_0012               0.9998           0.0002           NaN   \n",
      "168  ST_PF-MB_M_0013               0.0038           0.9962        0.0000   \n",
      "169  ST_PF-MB_M_0014               1.0000           0.0000           NaN   \n",
      "170  ST_PF-MB_M_0014               1.0000           0.0000           NaN   \n",
      "171  ST_PF-MB_M_0022               0.9999           0.0001           NaN   \n",
      "172  ST_PF-MB_M_0022               1.0000           0.0000           NaN   \n",
      "173  ST_PF-MB_M_0024               0.0033           0.9967        0.0048   \n",
      "174  ST_PF-MB_M_0027               1.0000           0.0000           NaN   \n",
      "175  ST_PF-MB_M_0028               1.0000           0.0000           NaN   \n",
      "176  ST_PF-MB_M_0029               0.1584           0.8416        0.0009   \n",
      "177  ST_PF-MB_M_0031               0.0000           1.0000        1.0000   \n",
      "178  ST_PF-MB_M_0032               1.0000           0.0000           NaN   \n",
      "179  ST_PF-MB_M_0033               0.9994           0.0006           NaN   \n",
      "180  ST_PF-MB_M_0035               0.9968           0.0032           NaN   \n",
      "181  ST_PF-MB_M_0036               1.0000           0.0000           NaN   \n",
      "182  ST_PF-MB_M_0037               0.0000           1.0000        1.0000   \n",
      "183  ST_PF-MB_M_0041               1.0000           0.0000           NaN   \n",
      "184  ST_PF-MB_M_0044               0.0015           0.9985        0.9985   \n",
      "185  ST_PF-MB_M_0048               1.0000           0.0000           NaN   \n",
      "186  ST_PF-MB_M_0049               0.9997           0.0003           NaN   \n",
      "187  ST_PF-MB_M_0049               0.9997           0.0003           NaN   \n",
      "188  ST_PF-MB_M_0050               0.9999           0.0001           NaN   \n",
      "189  ST_PF-MB_M_0052               0.9983           0.0017           NaN   \n",
      "190  ST_PF-MB_M_0053               0.0000           1.0000        1.0000   \n",
      "191  ST_PF-MB_M_0054               1.0000           0.0000           NaN   \n",
      "192  ST_PF-MB_M_0055               0.9986           0.0014           NaN   \n",
      "193  ST_PF-MB_M_0056               0.9047           0.0953           NaN   \n",
      "194  ST_PF-MB_M_0058               0.9997           0.0003           NaN   \n",
      "195  ST_PF-MB_M_0059               0.9997           0.0003           NaN   \n",
      "196  ST_PF-MB_M_0060               0.0003           0.9997        1.0000   \n",
      "197  ST_PF-MB_M_0061               0.9996           0.0004           NaN   \n",
      "198  ST_PF-MB_M_0062               0.9994           0.0006           NaN   \n",
      "199  ST_PF-MB_M_0063               1.0000           0.0000           NaN   \n",
      "200  ST_PF-MB_M_0067               1.0000           0.0000           NaN   \n",
      "201  ST_PF-MB_M_0068               1.0000           0.0000           NaN   \n",
      "202  ST_PF-MB_M_0076               0.0003           0.9997        0.9954   \n",
      "203  ST_PF-MB_M_0078               0.0004           0.9996        0.0017   \n",
      "204  ST_PF-MB_M_0079               0.9542           0.0458           NaN   \n",
      "205  ST_PF-MB_M_0080               0.9358           0.0642           NaN   \n",
      "206  ST_PF-MB_M_0081               0.9990           0.0010           NaN   \n",
      "207  ST_PF-MB_M_0083               0.9994           0.0006           NaN   \n",
      "208  TO_PF-MB_F_0057               0.9991           0.0009           NaN   \n",
      "209  TO_PF-MB_F_0081               0.0003           0.9997        0.0002   \n",
      "210  TO_PF-MB_F_0112               0.0182           0.9818        0.9895   \n",
      "211  TO_PF-MB_M_0033               0.9922           0.0078           NaN   \n",
      "212  TO_PF-MB_M_0035               0.9996           0.0004           NaN   \n",
      "213  TO_PF-MB_M_0036               1.0000           0.0000           NaN   \n",
      "214  TO_PF-MB_M_0042               0.9953           0.0047           NaN   \n",
      "215  TO_PF-MB_M_0063               0.0000           1.0000        0.9977   \n",
      "216  TO_PF-MB_M_0076               0.9999           0.0001           NaN   \n",
      "217  TO_PF-MB_O_0002               0.9929           0.0071           NaN   \n",
      "218  TO_PF-MB_O_0003               0.0000           1.0000        0.9999   \n",
      "219  TO_PF-MB_O_0006               0.9999           0.0001           NaN   \n",
      "220  TO_PF-MB_O_0020               0.9999           0.0001           NaN   \n",
      "221  TO_PF-MB_O_0023               0.0001           0.9999        0.9999   \n",
      "222  TO_PF-MB_O_0026               0.9999           0.0001           NaN   \n",
      "223  TO_PF-MB_O_0029               1.0000           0.0000           NaN   \n",
      "224  TO_PF-MB_O_0040               0.9995           0.0005           NaN   \n",
      "225  TO_PF-MB_O_0041               1.0000           0.0000           NaN   \n",
      "226  TO_PF-MB_O_0043               0.9999           0.0001           NaN   \n",
      "227  TO_PF-MB_O_0047               0.0012           0.9988        1.0000   \n",
      "228  TO_PF-MB_O_0048               0.9992           0.0008           NaN   \n",
      "229  TO_PF-MB_O_0054               1.0000           0.0000           NaN   \n",
      "230  TO_PF-MB_O_0060               0.0005           0.9995        1.0000   \n",
      "231  TO_PF-MB_O_0065               0.9993           0.0007           NaN   \n",
      "232  TO_PF-MB_O_0067               0.0103           0.9897        0.0002   \n",
      "233  TO_PF-MB_O_0071               1.0000           0.0000           NaN   \n",
      "234  TO_PF-MB_O_0078               1.0000           0.0000           NaN   \n",
      "235  TO_PF-MB_O_0080               1.0000           0.0000           NaN   \n",
      "236  TO_PF-MB_O_0083               0.9996           0.0004           NaN   \n",
      "237  TO_PF-MB_O_0085               1.0000           0.0000           NaN   \n",
      "238  TO_PF-MB_O_0087               0.9977           0.0023           NaN   \n",
      "239  TO_PF-MB_O_0088               0.0001           0.9999        0.9961   \n",
      "240  TO_PF-MB_O_0092               0.9774           0.0226           NaN   \n",
      "241  TO_PF-MB_O_0093               1.0000           0.0000           NaN   \n",
      "242  TO_PF-MB_O_0095               1.0000           0.0000           NaN   \n",
      "243  TO_PF-MB_O_0098               1.0000           0.0000           NaN   \n",
      "244  TO_PF-MB_O_0099               0.0005           0.9995        0.9987   \n",
      "245  TO_PF-MB_O_0101               1.0000           0.0000           NaN   \n",
      "246  TO_PF-MB_O_0111               0.9965           0.0035           NaN   \n",
      "247  TO_PF-MB_O_0114               1.0000           0.0000           NaN   \n",
      "248  TO_PF-MB_O_0117               0.9997           0.0003           NaN   \n",
      "249  UT_PF-MB_F_0018               0.1504           0.8496        0.9975   \n",
      "250  UT_PF-MB_F_0026               0.0000           1.0000        1.0000   \n",
      "251  UT_PF-MB_F_0029               0.9923           0.0077           NaN   \n",
      "252  UT_PF-MB_F_0030               0.0005           0.9995        0.9998   \n",
      "253  UT_PF-MB_M_0022               0.9968           0.0032           NaN   \n",
      "254  UT_PF-MB_M_0025               0.9991           0.0009           NaN   \n",
      "255  UT_PF-MB_M_0037               1.0000           0.0000           NaN   \n",
      "256  UT_PF-MB_M_0039               0.9995           0.0005           NaN   \n",
      "257  UT_PF-MB_M_0041               0.0070           0.9930        0.9882   \n",
      "258  UT_PF-MB_M_0046               0.0123           0.9877        0.0000   \n",
      "259  UT_PF-MB_M_0047               0.9978           0.0022           NaN   \n",
      "260  UT_PF-MB_M_0048               0.0036           0.9964        0.9949   \n",
      "261  UT_PF-MB_U_0034               0.9982           0.0018           NaN   \n",
      "262  UT_PF-MB_U_0042               0.9979           0.0021           NaN   \n",
      "\n",
      "     NN2 WNT Prob Pred Molec True Molec       Set  \n",
      "0          0.0003        shh        shh  training  \n",
      "1          0.9989        wnt        wnt  training  \n",
      "2          1.0000        wnt        wnt  training  \n",
      "3             NaN     group3     group3  training  \n",
      "4          0.0013        shh        shh  training  \n",
      "5          0.5530        wnt        wnt  training  \n",
      "6             NaN     group3     group3      test  \n",
      "7          0.0000        shh        shh  training  \n",
      "8          0.0006        shh        shh  training  \n",
      "9             NaN     group3     group3      test  \n",
      "10            NaN     group3     group3      test  \n",
      "11         0.0001        shh        shh  training  \n",
      "12            NaN     group3     group3  training  \n",
      "13            NaN     group3     group3  training  \n",
      "14            NaN     group3     group3  training  \n",
      "15            NaN     group3     group3      test  \n",
      "16         0.0000        shh        shh      test  \n",
      "17            NaN     group3     group3  training  \n",
      "18            NaN     group3     group3      test  \n",
      "19         0.0066        shh     group3      test  \n",
      "20            NaN     group3     group3  training  \n",
      "21            NaN     group3     group3  training  \n",
      "22         0.0000        shh        shh  training  \n",
      "23            NaN     group3     group3  training  \n",
      "24            NaN     group3     group3      test  \n",
      "25         0.0000        shh        shh      test  \n",
      "26            NaN     group3     group3  training  \n",
      "27            NaN     group3     group3  training  \n",
      "28         0.0000        shh        shh  training  \n",
      "29            NaN     group3        shh  training  \n",
      "30         0.0014        shh        shh      test  \n",
      "31            NaN     group3     group3  training  \n",
      "32         0.9883        wnt        wnt  training  \n",
      "33         0.0002        shh        shh      test  \n",
      "34            NaN     group3     group3  training  \n",
      "35            NaN     group3     group3  training  \n",
      "36         0.0011        shh        shh  training  \n",
      "37            NaN     group3        shh  training  \n",
      "38         1.0000        wnt        wnt      test  \n",
      "39         0.0001        shh        shh  training  \n",
      "40         0.0074        shh        shh  training  \n",
      "41         0.0001        shh        shh  training  \n",
      "42            NaN     group3     group3  training  \n",
      "43            NaN     group3        shh  training  \n",
      "44         0.0011        shh        shh  training  \n",
      "45         0.0000        shh        shh      test  \n",
      "46            NaN     group3     group3      test  \n",
      "47            NaN     group3     group3  training  \n",
      "48         0.9995        wnt        wnt  training  \n",
      "49            NaN     group3     group3  training  \n",
      "50            NaN     group3     group3  training  \n",
      "51            NaN     group3     group3  training  \n",
      "52            NaN     group3     group3  training  \n",
      "53         0.0135        shh        shh  training  \n",
      "54            NaN     group3     group3  training  \n",
      "55            NaN     group3        shh      test  \n",
      "56         0.0000        shh        shh  training  \n",
      "57            NaN     group3     group3  training  \n",
      "58         0.0003        shh        shh  training  \n",
      "59            NaN     group3     group3  training  \n",
      "60            NaN     group3     group3      test  \n",
      "61            NaN     group3     group3  training  \n",
      "62         0.0002        shh        shh  training  \n",
      "63         0.0005        shh        shh  training  \n",
      "64         0.0000        shh        shh  training  \n",
      "65         0.9864        wnt        wnt  training  \n",
      "66            NaN     group3     group3      test  \n",
      "67            NaN     group3     group3      test  \n",
      "68         0.0011        shh     group3      test  \n",
      "69            NaN     group3     group3  training  \n",
      "70            NaN     group3     group3  training  \n",
      "71            NaN     group3     group3  training  \n",
      "72         0.0048        shh        shh  training  \n",
      "73            NaN     group3     group3      test  \n",
      "74            NaN     group3     group3  training  \n",
      "75         0.0001        shh     group3      test  \n",
      "76            NaN     group3     group3  training  \n",
      "77         0.0006        shh        shh  training  \n",
      "78         0.0002        shh        shh      test  \n",
      "79         0.9692        wnt        wnt      test  \n",
      "80            NaN     group3     group3  training  \n",
      "81         1.0000        wnt        wnt  training  \n",
      "82            NaN     group3     group3      test  \n",
      "83         0.0012        shh        shh  training  \n",
      "84         0.0347        shh        shh  training  \n",
      "85            NaN     group3        wnt  training  \n",
      "86         0.0000        shh        shh      test  \n",
      "87         0.9997        wnt        wnt  training  \n",
      "88            NaN     group3     group3  training  \n",
      "89            NaN     group3     group3  training  \n",
      "90            NaN     group3     group3  training  \n",
      "91            NaN     group3     group3  training  \n",
      "92            NaN     group3     group3      test  \n",
      "93         0.0000        shh        shh  training  \n",
      "94            NaN     group3     group3  training  \n",
      "95         0.9583        wnt        shh  training  \n",
      "96            NaN     group3     group3      test  \n",
      "97         0.0000        shh     group3      test  \n",
      "98         0.0000        shh        shh  training  \n",
      "99            NaN     group3     group3  training  \n",
      "100        0.0023        shh        shh  training  \n",
      "101           NaN     group3     group3      test  \n",
      "102        0.0000        shh        shh  training  \n",
      "103           NaN     group3        shh  training  \n",
      "104           NaN     group3     group3  training  \n",
      "105           NaN     group3     group3  training  \n",
      "106           NaN     group3     group3  training  \n",
      "107        0.0057        shh        shh  training  \n",
      "108        0.0060        shh        shh  training  \n",
      "109        0.9995        wnt        wnt      test  \n",
      "110           NaN     group3     group3  training  \n",
      "111           NaN     group3     group3      test  \n",
      "112           NaN     group3     group3  training  \n",
      "113           NaN     group3     group3  training  \n",
      "114        0.9937        wnt        wnt      test  \n",
      "115           NaN     group3        shh      test  \n",
      "116        0.0000        shh        shh  training  \n",
      "117        0.1938        shh        shh      test  \n",
      "118        0.0034        shh        shh  training  \n",
      "119        0.0000        shh        shh  training  \n",
      "120        0.9957        wnt        wnt      test  \n",
      "121        0.0021        shh        shh  training  \n",
      "122        0.0014        shh        shh  training  \n",
      "123           NaN     group3     group3  training  \n",
      "124        0.0000        shh        shh  training  \n",
      "125           NaN     group3     group3  training  \n",
      "126           NaN     group3     group3      test  \n",
      "127           NaN     group3     group3  training  \n",
      "128           NaN     group3     group3  training  \n",
      "129           NaN     group3     group3  training  \n",
      "130           NaN     group3     group3  training  \n",
      "131        0.0439        shh        shh  training  \n",
      "132           NaN     group3     group3      test  \n",
      "133        0.0003        shh        shh  training  \n",
      "134           NaN     group3     group3  training  \n",
      "135        0.0001        shh        shh  training  \n",
      "136           NaN     group3        wnt      test  \n",
      "137        0.0353        shh        shh  training  \n",
      "138           NaN     group3     group3  training  \n",
      "139           NaN     group3     group3  training  \n",
      "140           NaN     group3        shh  training  \n",
      "141           NaN     group3     group3      test  \n",
      "142        1.0000        wnt        wnt      test  \n",
      "143        1.0000        wnt        wnt  training  \n",
      "144           NaN     group3     group3  training  \n",
      "145           NaN     group3     group3  training  \n",
      "146        0.0001        shh        shh  training  \n",
      "147        0.0005        shh        shh      test  \n",
      "148           NaN     group3     group3  training  \n",
      "149           NaN     group3     group3  training  \n",
      "150           NaN     group3     group3  training  \n",
      "151           NaN     group3     group3  training  \n",
      "152        0.9998        wnt        wnt      test  \n",
      "153        0.0000        shh        shh  training  \n",
      "154        0.0001        shh        shh  training  \n",
      "155        0.0000        shh        shh  training  \n",
      "156           NaN     group3     group3  training  \n",
      "157           NaN     group3     group3  training  \n",
      "158           NaN     group3     group3  training  \n",
      "159        1.0000        wnt        wnt  training  \n",
      "160        0.0517        shh        shh  training  \n",
      "161        0.0473        shh        shh  training  \n",
      "162           NaN     group3     group3  training  \n",
      "163           NaN     group3     group3  training  \n",
      "164           NaN     group3     group3      test  \n",
      "165           NaN     group3        shh  training  \n",
      "166           NaN     group3     group3  training  \n",
      "167           NaN     group3     group3  training  \n",
      "168        1.0000        wnt        wnt  training  \n",
      "169           NaN     group3     group3  training  \n",
      "170           NaN     group3     group3      test  \n",
      "171           NaN     group3     group3  training  \n",
      "172           NaN     group3     group3      test  \n",
      "173        0.9952        wnt        wnt  training  \n",
      "174           NaN     group3     group3  training  \n",
      "175           NaN     group3     group3      test  \n",
      "176        0.9991        wnt        wnt      test  \n",
      "177        0.0000        shh        shh      test  \n",
      "178           NaN     group3     group3  training  \n",
      "179           NaN     group3     group3  training  \n",
      "180           NaN     group3     group3      test  \n",
      "181           NaN     group3     group3  training  \n",
      "182        0.0000        shh        shh  training  \n",
      "183           NaN     group3     group3  training  \n",
      "184        0.0015        shh        shh  training  \n",
      "185           NaN     group3     group3      test  \n",
      "186           NaN     group3     group3  training  \n",
      "187           NaN     group3     group3  training  \n",
      "188           NaN     group3     group3  training  \n",
      "189           NaN     group3        shh  training  \n",
      "190        0.0000        shh        shh  training  \n",
      "191           NaN     group3     group3  training  \n",
      "192           NaN     group3     group3  training  \n",
      "193           NaN     group3     group3      test  \n",
      "194           NaN     group3     group3      test  \n",
      "195           NaN     group3     group3  training  \n",
      "196        0.0000        shh        shh  training  \n",
      "197           NaN     group3     group3      test  \n",
      "198           NaN     group3     group3  training  \n",
      "199           NaN     group3     group3  training  \n",
      "200           NaN     group3     group3  training  \n",
      "201           NaN     group3     group3  training  \n",
      "202        0.0046        shh        shh  training  \n",
      "203        0.9983        wnt        wnt  training  \n",
      "204           NaN     group3     group3      test  \n",
      "205           NaN     group3        shh  training  \n",
      "206           NaN     group3     group3  training  \n",
      "207           NaN     group3     group3  training  \n",
      "208           NaN     group3     group3  training  \n",
      "209        0.9998        wnt        wnt      test  \n",
      "210        0.0105        shh        shh  training  \n",
      "211           NaN     group3     group3  training  \n",
      "212           NaN     group3     group3  training  \n",
      "213           NaN     group3     group3  training  \n",
      "214           NaN     group3     group3  training  \n",
      "215        0.0023        shh        shh      test  \n",
      "216           NaN     group3     group3      test  \n",
      "217           NaN     group3     group3  training  \n",
      "218        0.0001        shh        shh  training  \n",
      "219           NaN     group3     group3  training  \n",
      "220           NaN     group3     group3  training  \n",
      "221        0.0001        shh        shh  training  \n",
      "222           NaN     group3     group3  training  \n",
      "223           NaN     group3     group3      test  \n",
      "224           NaN     group3     group3  training  \n",
      "225           NaN     group3     group3  training  \n",
      "226           NaN     group3     group3      test  \n",
      "227        0.0000        shh        shh  training  \n",
      "228           NaN     group3     group3  training  \n",
      "229           NaN     group3     group3      test  \n",
      "230        0.0000        shh        shh  training  \n",
      "231           NaN     group3     group3      test  \n",
      "232        0.9998        wnt        wnt  training  \n",
      "233           NaN     group3     group3  training  \n",
      "234           NaN     group3     group3  training  \n",
      "235           NaN     group3     group3  training  \n",
      "236           NaN     group3     group3  training  \n",
      "237           NaN     group3     group3  training  \n",
      "238           NaN     group3     group3  training  \n",
      "239        0.0039        shh        shh      test  \n",
      "240           NaN     group3     group3  training  \n",
      "241           NaN     group3        shh  training  \n",
      "242           NaN     group3     group3  training  \n",
      "243           NaN     group3     group3  training  \n",
      "244        0.0013        shh        shh  training  \n",
      "245           NaN     group3     group3  training  \n",
      "246           NaN     group3     group3  training  \n",
      "247           NaN     group3     group3  training  \n",
      "248           NaN     group3     group3  training  \n",
      "249        0.0025        shh     group3      test  \n",
      "250        0.0000        shh        shh  training  \n",
      "251           NaN     group3     group3  training  \n",
      "252        0.0002        shh        shh  training  \n",
      "253           NaN     group3     group3  training  \n",
      "254           NaN     group3     group3      test  \n",
      "255           NaN     group3     group3      test  \n",
      "256           NaN     group3     group3  training  \n",
      "257        0.0118        shh        shh  training  \n",
      "258        1.0000        wnt        wnt  training  \n",
      "259           NaN     group3     group3      test  \n",
      "260        0.0051        shh        shh  training  \n",
      "261           NaN     group3     group3  training  \n",
      "262           NaN     group3     group3  training  \n"
     ]
    }
   ],
   "source": [
    "pd.set_option('display.max_rows', None)\n",
    "print(final_df)"
   ]
  },
  {
   "cell_type": "code",
   "execution_count": 82,
   "metadata": {},
   "outputs": [],
   "source": [
    "final_df.to_csv('seq_classification_results.csv')"
   ]
  }
 ],
 "metadata": {
  "kernelspec": {
   "display_name": "Python 3",
   "language": "python",
   "name": "python3"
  },
  "language_info": {
   "codemirror_mode": {
    "name": "ipython",
    "version": 3
   },
   "file_extension": ".py",
   "mimetype": "text/x-python",
   "name": "python",
   "nbconvert_exporter": "python",
   "pygments_lexer": "ipython3",
   "version": "3.8.3"
  }
 },
 "nbformat": 4,
 "nbformat_minor": 4
}
