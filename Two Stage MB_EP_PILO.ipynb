{
 "cells": [
  {
   "cell_type": "markdown",
   "metadata": {},
   "source": [
    "# Import Data"
   ]
  },
  {
   "cell_type": "code",
   "execution_count": 1,
   "metadata": {},
   "outputs": [],
   "source": [
    "import numpy as np\n",
    "import pandas as pd\n",
    "from sklearn import svm\n",
    "from sklearn import preprocessing\n",
    "from sklearn.linear_model import LogisticRegression\n",
    "from sklearn.neighbors import KNeighborsClassifier\n",
    "from sklearn.ensemble import RandomForestClassifier\n",
    "from sklearn.neural_network import MLPClassifier\n",
    "from xgboost import XGBClassifier\n",
    "from sklearn.multiclass import OneVsRestClassifier\n",
    "from sklearn.multiclass import OneVsOneClassifier\n",
    "from sklearn.model_selection import train_test_split\n",
    "from sklearn.model_selection import GridSearchCV\n",
    "from sklearn.model_selection import cross_val_score\n",
    "from sklearn.utils import resample\n",
    "from sklearn.svm import LinearSVC\n",
    "from sklearn.metrics import accuracy_score, precision_score, recall_score, f1_score, roc_curve, roc_auc_score, auc, plot_confusion_matrix\n",
    "from sklearn.metrics import classification_report\n",
    "from sklearn.metrics import confusion_matrix\n",
    "from sklearn.preprocessing import label_binarize\n",
    "from sklearn.metrics._plot.confusion_matrix import ConfusionMatrixDisplay\n",
    "from sklearn.utils.multiclass import unique_labels\n",
    "import matplotlib.pyplot as plt\n",
    "\n",
    "from sklearn.preprocessing import label_binarize\n",
    "\n",
    "\n",
    "from sklearn.decomposition import PCA"
   ]
  },
  {
   "cell_type": "code",
   "execution_count": 2,
   "metadata": {},
   "outputs": [],
   "source": [
    "import seaborn as sns\n",
    "sns.set()"
   ]
  },
  {
   "cell_type": "code",
   "execution_count": 3,
   "metadata": {},
   "outputs": [],
   "source": [
    "def create_confusion_matrix(y_true, y_pred, labels=None, sample_weight=None, normalize=None, display_labels=None,\n",
    "                           include_values=True, xticks_rotation='horizontal', values_format=None,\n",
    "                           cmap='viridis', ax=None, colorbar=True):\n",
    "    \n",
    "    cm = confusion_matrix(y_true, y_pred, normalize=normalize)\n",
    "    \n",
    "    if display_labels is None:\n",
    "        if labels is None:\n",
    "            display_labels = unique_labels(y_true, y_pred)\n",
    "        else:\n",
    "            display_labels = labels\n",
    "\n",
    "    disp = ConfusionMatrixDisplay(confusion_matrix=cm,\n",
    "                             display_labels=display_labels)\n",
    "    return disp.plot(include_values=include_values,\n",
    "                     cmap=cmap, ax=ax, xticks_rotation=xticks_rotation,\n",
    "                     values_format=values_format)"
   ]
  },
  {
   "cell_type": "code",
   "execution_count": 4,
   "metadata": {},
   "outputs": [],
   "source": [
    "def specificity_score(y_true, y_pred):\n",
    "    TN = 0\n",
    "    FP = 0\n",
    "    for i in range(len(y_pred)):\n",
    "        if y_pred[i] == 0 and y_true[i] == 0:\n",
    "            TN += 1\n",
    "        if y_pred[i] == 1 and y_true[i] == 0:\n",
    "            FP += 1\n",
    "    \n",
    "    return TN / (TN + FP)"
   ]
  },
  {
   "cell_type": "code",
   "execution_count": 5,
   "metadata": {},
   "outputs": [],
   "source": [
    "def positive_pv_score(y_true, y_pred):\n",
    "    TP = 0\n",
    "    FP = 0\n",
    "    for i in range(len(y_true)):\n",
    "        if y_true[i] == y_pred[i] == 1:\n",
    "            TP += 1\n",
    "        elif y_true[i] == 0 and y_pred[i] == 1:\n",
    "            FP += 1\n",
    "\n",
    "    return TP/(TP+FP)"
   ]
  },
  {
   "cell_type": "code",
   "execution_count": 6,
   "metadata": {},
   "outputs": [],
   "source": [
    "def negative_pv_score(y_true, y_pred): ##\n",
    "    TN = 0\n",
    "    FN = 0\n",
    "    for i in range(len(y_true)):\n",
    "        if y_true[i] == y_pred[i] == 0:\n",
    "            TN += 1\n",
    "        elif y_true[i] == 1 and y_pred[i] == 0:\n",
    "            FN += 1\n",
    "    \n",
    "    return TN/(TN+FN) "
   ]
  },
  {
   "cell_type": "code",
   "execution_count": 7,
   "metadata": {},
   "outputs": [],
   "source": [
    "def create_ci(bootstrapped_scores, name): ##\n",
    "    for i in range(3):\n",
    "        sorted_scores = np.array(bootstrapped_scores)[:, i]\n",
    "        sorted_scores.sort()\n",
    "    \n",
    "        confidence_lower = sorted_scores[int(0.025 * len(sorted_scores))]\n",
    "        confidence_upper = sorted_scores[int(0.975 * len(sorted_scores))]\n",
    "    \n",
    "        print(\"95% Confidence interval for the {} score for class {}: [{:0.4f} - {:0.4}]\".format(name, i,\n",
    "        confidence_lower, confidence_upper))"
   ]
  },
  {
   "cell_type": "code",
   "execution_count": 8,
   "metadata": {},
   "outputs": [],
   "source": [
    "def my_classification_report(y_test_np, y_pred):\n",
    "\n",
    "    tot_TN = 0\n",
    "    tot_TP = 0\n",
    "    tot_FP = 0\n",
    "    tot_FN = 0\n",
    "\n",
    "    spec_arr = []\n",
    "    ppv_arr = [] ##\n",
    "    npv_arr = [] ##\n",
    "    rec_arr = []\n",
    "    acc_arr = []\n",
    "\n",
    "    print(\"Specificities\")\n",
    "    for group in range(3):\n",
    "        TN = 0\n",
    "        TP = 0 ##\n",
    "        FN = 0 ##\n",
    "        FP = 0\n",
    "        for i in range(len(y_test_np)):\n",
    "            if y_pred[i] != group and y_test_np[i] != group:\n",
    "                TN += 1\n",
    "            if y_pred[i] == group and y_test_np[i] != group:\n",
    "                FP += 1\n",
    "        tot_TN += TN\n",
    "        tot_FP += FP\n",
    "        spec_arr.append(TN/(TN+FP))\n",
    "        print(group, spec_arr[group])\n",
    "\n",
    "    print(\"Macro Avg : \" + str(np.array(spec_arr).mean()))\n",
    "    print(\"Micro Avg : \" + str(tot_TN / (tot_TN + tot_FP)), '\\n') ##\n",
    "\n",
    "    tot_TN = 0\n",
    "    tot_TP = 0\n",
    "    tot_FP = 0\n",
    "    tot_FN = 0\n",
    "\n",
    "    print(\"PPV/Precision\") ##\n",
    "    for group in range(3):\n",
    "        TN = 0\n",
    "        TP = 0 ##\n",
    "        FN = 0 ##\n",
    "        FP = 0\n",
    "        for i in range(len(y_test_np)):\n",
    "            if y_pred[i] == group and y_test_np[i] == group:\n",
    "                TP += 1\n",
    "            if y_pred[i] == group and y_test_np[i] != group:\n",
    "                FP += 1\n",
    "        tot_TP += TP\n",
    "        tot_FP += FP\n",
    "        ppv_arr.append(TP/(TP+FP))\n",
    "        print(group, ppv_arr[group])\n",
    "    \n",
    "    print(\"Macro Avg : \" + str(np.array(ppv_arr).mean()))\n",
    "    prec_for_mic_f1 = tot_TP / (tot_TP + tot_FP)\n",
    "    print(\"Micro Avg : \" + str(prec_for_mic_f1), '\\n')\n",
    "\n",
    "    tot_TN = 0\n",
    "    tot_TP = 0\n",
    "    tot_FP = 0\n",
    "    tot_FN = 0\n",
    "\n",
    "    print(\"NPV\") ##\n",
    "    for group in range(3):\n",
    "        TN = 0\n",
    "        TP = 0 ##\n",
    "        FN = 0 ##\n",
    "        FP = 0\n",
    "        for i in range(len(y_test_np)):\n",
    "            if y_pred[i] != group and y_test_np[i] != group:\n",
    "                TN += 1\n",
    "            if y_pred[i] != group and y_test_np[i] == group:\n",
    "                FN += 1\n",
    "        tot_TN += TN\n",
    "        tot_FN += FN\n",
    "        npv_arr.append(TN/(TN+FN))\n",
    "        print(group, npv_arr[group])\n",
    "    \n",
    "    print(\"Macro Avg : \" + str(np.array(npv_arr).mean()))\n",
    "    print(\"Micro Avg : \" + str(tot_TN / (tot_TN + tot_FN)), '\\n') \n",
    "    \n",
    "    tot_TN = 0\n",
    "    tot_TP = 0\n",
    "    tot_FP = 0\n",
    "    tot_FN = 0\n",
    "\n",
    "    print(\"Recall\") ##\n",
    "    for group in range(3):\n",
    "        TN = 0\n",
    "        TP = 0 ##\n",
    "        FN = 0 ##\n",
    "        FP = 0\n",
    "        for i in range(len(y_test_np)):\n",
    "            if y_pred[i] == group and y_test_np[i] == group:\n",
    "                TP += 1\n",
    "            if y_pred[i] != group and y_test_np[i] == group:\n",
    "                FN += 1\n",
    "        tot_TP += TP\n",
    "        tot_FN += FN\n",
    "        rec_arr.append(TP/(TP+FN))\n",
    "        print(group, rec_arr[group])\n",
    "    \n",
    "    print(\"Macro Avg : \" + str(np.array(rec_arr).mean()))\n",
    "    rec_for_mic_f1 = tot_TP / (tot_TP + tot_FN)\n",
    "    print(\"Micro Avg : \" + str(rec_for_mic_f1), '\\n')\n",
    "    \n",
    "    print(\"F1 Score\") ##\n",
    "    for group in range(3):\n",
    "        print(group, 2 * (rec_arr[group] * ppv_arr[group]) / (rec_arr[group] + ppv_arr[group]))\n",
    "    print(\"Macro Avg : \" + str(2 * (np.array(rec_arr).mean() * np.array(ppv_arr).mean()) \n",
    "                               / (np.array(rec_arr).mean() + np.array(ppv_arr).mean())))\n",
    "    print(\"Micro Avg : \" + str(2 * (prec_for_mic_f1 * rec_for_mic_f1)/ (prec_for_mic_f1 + rec_for_mic_f1)), '\\n')\n",
    "    \n",
    "    tot_TN = 0\n",
    "    tot_TP = 0\n",
    "    tot_FP = 0\n",
    "    tot_FN = 0   \n",
    "    \n",
    "    print(\"Accuracy:\")\n",
    "    for group in range(3):\n",
    "        TN = 0\n",
    "        TP = 0 ##\n",
    "        FN = 0 ##\n",
    "        FP = 0\n",
    "        for i in range(len(y_test_np)):\n",
    "            if y_pred[i] == group and y_test_np[i] == group:\n",
    "                TP += 1\n",
    "            if y_pred[i] != group and y_test_np[i] != group:\n",
    "                TN += 1\n",
    "            if y_pred[i] == group and y_test_np[i] != group:\n",
    "                FP += 1\n",
    "            if y_pred[i] != group and y_test_np[i] == group:\n",
    "                FN += 1\n",
    "        \n",
    "        tot_TP += TP\n",
    "        tot_TN += TN\n",
    "        tot_FP += FP\n",
    "        tot_FN += FN\n",
    "        \n",
    "        acc_arr.append((TP + TN)/(TP + TN + FP + FN))\n",
    "        print(group, acc_arr[group])\n",
    "        #print(\"TP:\" + str(TP))\n",
    "        #print(\"TN:\" + str(TN))\n",
    "        #print(\"FP:\" + str(FP))\n",
    "        #print(\"FN:\" + str(FN))\n",
    "        \n",
    "        #print(TP + TN)\n",
    "        #print(TP + TN + FP + FN, '\\n')\n",
    "        \n",
    "    #print(\"Total TP:\" + str(tot_TP))\n",
    "    #print(\"Total TN:\" + str(tot_TN))\n",
    "    #print(\"Total FP:\" + str(tot_FP))\n",
    "    #print(\"Total FN:\" + str(tot_FN), '\\n')\n",
    "\n",
    "    print(\"Macro Avg : \" + str(np.array(acc_arr).mean()))\n",
    "    print(\"Micro Avg : \" + str((tot_TP + tot_TN)/(tot_TP + tot_TN + tot_FP + tot_FN)), '\\n') ##"
   ]
  },
  {
   "cell_type": "code",
   "execution_count": 9,
   "metadata": {},
   "outputs": [],
   "source": [
    "df = pd.read_excel(\"/Users/michaelzhang/Desktop/multiclass/pilo_ep_mb_features.xlsx\")"
   ]
  },
  {
   "cell_type": "markdown",
   "metadata": {},
   "source": [
    "# First Model (Pilo vs. Non-Pilo) - uses Lasso reduced features"
   ]
  },
  {
   "cell_type": "code",
   "execution_count": 10,
   "metadata": {},
   "outputs": [],
   "source": [
    "first_target = df[\"path\"]"
   ]
  },
  {
   "cell_type": "code",
   "execution_count": 11,
   "metadata": {},
   "outputs": [
    {
     "data": {
      "text/plain": [
       "mb      278\n",
       "pilo    160\n",
       "ep       97\n",
       "Name: path, dtype: int64"
      ]
     },
     "execution_count": 11,
     "metadata": {},
     "output_type": "execute_result"
    }
   ],
   "source": [
    "first_target.value_counts()"
   ]
  },
  {
   "cell_type": "code",
   "execution_count": 12,
   "metadata": {},
   "outputs": [],
   "source": [
    "reduced_features = pd.read_excel(\"/Users/michaelzhang/Desktop/multiclass/LASSO_reduced_features.xlsx\")"
   ]
  },
  {
   "cell_type": "code",
   "execution_count": 13,
   "metadata": {},
   "outputs": [],
   "source": [
    "reduced_features_list = reduced_features.loc[reduced_features['MB/EP/Pilo'].isnull() == False, ['MB/EP/Pilo']].values.tolist()\n",
    "reduced_features_list = [item for sublist in reduced_features_list for item in sublist]"
   ]
  },
  {
   "cell_type": "code",
   "execution_count": 14,
   "metadata": {},
   "outputs": [],
   "source": [
    "first_target = first_target.map(dict(ep = 0, pilo = 1, mb = 2))"
   ]
  },
  {
   "cell_type": "code",
   "execution_count": 15,
   "metadata": {},
   "outputs": [],
   "source": [
    "first_features = df[reduced_features_list]"
   ]
  },
  {
   "cell_type": "code",
   "execution_count": 16,
   "metadata": {},
   "outputs": [
    {
     "data": {
      "text/html": [
       "<div>\n",
       "<style scoped>\n",
       "    .dataframe tbody tr th:only-of-type {\n",
       "        vertical-align: middle;\n",
       "    }\n",
       "\n",
       "    .dataframe tbody tr th {\n",
       "        vertical-align: top;\n",
       "    }\n",
       "\n",
       "    .dataframe thead th {\n",
       "        text-align: right;\n",
       "    }\n",
       "</style>\n",
       "<table border=\"1\" class=\"dataframe\">\n",
       "  <thead>\n",
       "    <tr style=\"text-align: right;\">\n",
       "      <th></th>\n",
       "      <th>t1_log-sigma-1-mm-3D_glcm_MCC</th>\n",
       "      <th>t1_log-sigma-1-mm-3D_glszm_GrayLevelVariance</th>\n",
       "      <th>t1_log-sigma-3-mm-3D_glszm_GrayLevelNonUniformityNormalized</th>\n",
       "      <th>t1_log-sigma-5-mm-3D_glszm_GrayLevelNonUniformity</th>\n",
       "      <th>t1_log-sigma-5-mm-3D_glszm_LargeAreaEmphasis</th>\n",
       "      <th>t1_log-sigma-5-mm-3D_glszm_LargeAreaLowGrayLevelEmphasis</th>\n",
       "      <th>t1_log-sigma-5-mm-3D_glszm_SmallAreaEmphasis</th>\n",
       "      <th>t1_original_firstorder_Minimum</th>\n",
       "      <th>t1_original_shape_Elongation</th>\n",
       "      <th>t1_wavelet-HHL_firstorder_Skewness</th>\n",
       "      <th>...</th>\n",
       "      <th>t2_log-sigma-1-mm-3D_glrlm_LongRunHighGrayLevelEmphasis</th>\n",
       "      <th>t2_wavelet-HHL_glcm_Correlation</th>\n",
       "      <th>t2_wavelet-LLH_glcm_Idn</th>\n",
       "      <th>t2_wavelet-HHH_glszm_GrayLevelNonUniformityNormalized</th>\n",
       "      <th>t1_wavelet-HLH_glszm_GrayLevelNonUniformityNormalized</th>\n",
       "      <th>t1_wavelet-LLL_glszm_SizeZoneNonUniformity</th>\n",
       "      <th>t1_original_glcm_InverseVariance</th>\n",
       "      <th>t1_wavelet-LLH_glszm_SmallAreaLowGrayLevelEmphasis</th>\n",
       "      <th>t2_wavelet-HLL_glcm_Imc2</th>\n",
       "      <th>t2_wavelet-HHH_glszm_SizeZoneNonUniformityNormalized</th>\n",
       "    </tr>\n",
       "  </thead>\n",
       "  <tbody>\n",
       "    <tr>\n",
       "      <th>0</th>\n",
       "      <td>0.631381</td>\n",
       "      <td>5.157547</td>\n",
       "      <td>0.109631</td>\n",
       "      <td>38.884892</td>\n",
       "      <td>1.080805e+04</td>\n",
       "      <td>3.353478e+02</td>\n",
       "      <td>0.145560</td>\n",
       "      <td>-4.748235</td>\n",
       "      <td>0.892308</td>\n",
       "      <td>-0.069369</td>\n",
       "      <td>...</td>\n",
       "      <td>444.118002</td>\n",
       "      <td>-0.003377</td>\n",
       "      <td>0.969373</td>\n",
       "      <td>0.351562</td>\n",
       "      <td>0.185783</td>\n",
       "      <td>4187.047155</td>\n",
       "      <td>0.420038</td>\n",
       "      <td>0.003256</td>\n",
       "      <td>0.524616</td>\n",
       "      <td>0.265625</td>\n",
       "    </tr>\n",
       "    <tr>\n",
       "      <th>1</th>\n",
       "      <td>0.583517</td>\n",
       "      <td>13.048421</td>\n",
       "      <td>0.091918</td>\n",
       "      <td>4.722222</td>\n",
       "      <td>1.501618e+07</td>\n",
       "      <td>4.049815e+05</td>\n",
       "      <td>0.085116</td>\n",
       "      <td>-85.437437</td>\n",
       "      <td>0.911633</td>\n",
       "      <td>-0.428949</td>\n",
       "      <td>...</td>\n",
       "      <td>1469.701274</td>\n",
       "      <td>-0.010681</td>\n",
       "      <td>0.965242</td>\n",
       "      <td>0.137944</td>\n",
       "      <td>0.322314</td>\n",
       "      <td>2609.632464</td>\n",
       "      <td>0.397455</td>\n",
       "      <td>0.021619</td>\n",
       "      <td>0.716722</td>\n",
       "      <td>0.489890</td>\n",
       "    </tr>\n",
       "    <tr>\n",
       "      <th>2</th>\n",
       "      <td>0.546031</td>\n",
       "      <td>12.667014</td>\n",
       "      <td>0.149752</td>\n",
       "      <td>5.300000</td>\n",
       "      <td>1.249911e+07</td>\n",
       "      <td>2.752029e+06</td>\n",
       "      <td>0.073454</td>\n",
       "      <td>-46.531077</td>\n",
       "      <td>0.736559</td>\n",
       "      <td>0.208470</td>\n",
       "      <td>...</td>\n",
       "      <td>1168.409865</td>\n",
       "      <td>-0.028641</td>\n",
       "      <td>0.970563</td>\n",
       "      <td>0.408516</td>\n",
       "      <td>0.295000</td>\n",
       "      <td>1548.133685</td>\n",
       "      <td>0.431136</td>\n",
       "      <td>0.021926</td>\n",
       "      <td>0.621207</td>\n",
       "      <td>0.293411</td>\n",
       "    </tr>\n",
       "    <tr>\n",
       "      <th>3</th>\n",
       "      <td>0.570254</td>\n",
       "      <td>16.956034</td>\n",
       "      <td>0.063894</td>\n",
       "      <td>6.017857</td>\n",
       "      <td>7.504704e+06</td>\n",
       "      <td>1.043434e+05</td>\n",
       "      <td>0.112192</td>\n",
       "      <td>-113.373871</td>\n",
       "      <td>0.727540</td>\n",
       "      <td>0.078434</td>\n",
       "      <td>...</td>\n",
       "      <td>1212.157436</td>\n",
       "      <td>-0.020797</td>\n",
       "      <td>0.968940</td>\n",
       "      <td>0.464506</td>\n",
       "      <td>0.319632</td>\n",
       "      <td>11717.525195</td>\n",
       "      <td>0.358763</td>\n",
       "      <td>0.019926</td>\n",
       "      <td>0.600200</td>\n",
       "      <td>0.242670</td>\n",
       "    </tr>\n",
       "    <tr>\n",
       "      <th>4</th>\n",
       "      <td>0.528618</td>\n",
       "      <td>5.841492</td>\n",
       "      <td>0.131076</td>\n",
       "      <td>3.526316</td>\n",
       "      <td>3.929986e+07</td>\n",
       "      <td>1.569662e+06</td>\n",
       "      <td>0.053808</td>\n",
       "      <td>-37.166013</td>\n",
       "      <td>0.758718</td>\n",
       "      <td>-0.131720</td>\n",
       "      <td>...</td>\n",
       "      <td>920.359524</td>\n",
       "      <td>-0.009366</td>\n",
       "      <td>0.966726</td>\n",
       "      <td>0.358025</td>\n",
       "      <td>0.531250</td>\n",
       "      <td>912.724201</td>\n",
       "      <td>0.465345</td>\n",
       "      <td>0.073983</td>\n",
       "      <td>0.587429</td>\n",
       "      <td>0.203704</td>\n",
       "    </tr>\n",
       "  </tbody>\n",
       "</table>\n",
       "<p>5 rows × 61 columns</p>\n",
       "</div>"
      ],
      "text/plain": [
       "   t1_log-sigma-1-mm-3D_glcm_MCC  \\\n",
       "0                       0.631381   \n",
       "1                       0.583517   \n",
       "2                       0.546031   \n",
       "3                       0.570254   \n",
       "4                       0.528618   \n",
       "\n",
       "   t1_log-sigma-1-mm-3D_glszm_GrayLevelVariance  \\\n",
       "0                                      5.157547   \n",
       "1                                     13.048421   \n",
       "2                                     12.667014   \n",
       "3                                     16.956034   \n",
       "4                                      5.841492   \n",
       "\n",
       "   t1_log-sigma-3-mm-3D_glszm_GrayLevelNonUniformityNormalized  \\\n",
       "0                                           0.109631             \n",
       "1                                           0.091918             \n",
       "2                                           0.149752             \n",
       "3                                           0.063894             \n",
       "4                                           0.131076             \n",
       "\n",
       "   t1_log-sigma-5-mm-3D_glszm_GrayLevelNonUniformity  \\\n",
       "0                                          38.884892   \n",
       "1                                           4.722222   \n",
       "2                                           5.300000   \n",
       "3                                           6.017857   \n",
       "4                                           3.526316   \n",
       "\n",
       "   t1_log-sigma-5-mm-3D_glszm_LargeAreaEmphasis  \\\n",
       "0                                  1.080805e+04   \n",
       "1                                  1.501618e+07   \n",
       "2                                  1.249911e+07   \n",
       "3                                  7.504704e+06   \n",
       "4                                  3.929986e+07   \n",
       "\n",
       "   t1_log-sigma-5-mm-3D_glszm_LargeAreaLowGrayLevelEmphasis  \\\n",
       "0                                       3.353478e+02          \n",
       "1                                       4.049815e+05          \n",
       "2                                       2.752029e+06          \n",
       "3                                       1.043434e+05          \n",
       "4                                       1.569662e+06          \n",
       "\n",
       "   t1_log-sigma-5-mm-3D_glszm_SmallAreaEmphasis  \\\n",
       "0                                      0.145560   \n",
       "1                                      0.085116   \n",
       "2                                      0.073454   \n",
       "3                                      0.112192   \n",
       "4                                      0.053808   \n",
       "\n",
       "   t1_original_firstorder_Minimum  t1_original_shape_Elongation  \\\n",
       "0                       -4.748235                      0.892308   \n",
       "1                      -85.437437                      0.911633   \n",
       "2                      -46.531077                      0.736559   \n",
       "3                     -113.373871                      0.727540   \n",
       "4                      -37.166013                      0.758718   \n",
       "\n",
       "   t1_wavelet-HHL_firstorder_Skewness  ...  \\\n",
       "0                           -0.069369  ...   \n",
       "1                           -0.428949  ...   \n",
       "2                            0.208470  ...   \n",
       "3                            0.078434  ...   \n",
       "4                           -0.131720  ...   \n",
       "\n",
       "   t2_log-sigma-1-mm-3D_glrlm_LongRunHighGrayLevelEmphasis  \\\n",
       "0                                         444.118002         \n",
       "1                                        1469.701274         \n",
       "2                                        1168.409865         \n",
       "3                                        1212.157436         \n",
       "4                                         920.359524         \n",
       "\n",
       "   t2_wavelet-HHL_glcm_Correlation  t2_wavelet-LLH_glcm_Idn  \\\n",
       "0                        -0.003377                 0.969373   \n",
       "1                        -0.010681                 0.965242   \n",
       "2                        -0.028641                 0.970563   \n",
       "3                        -0.020797                 0.968940   \n",
       "4                        -0.009366                 0.966726   \n",
       "\n",
       "   t2_wavelet-HHH_glszm_GrayLevelNonUniformityNormalized  \\\n",
       "0                                           0.351562       \n",
       "1                                           0.137944       \n",
       "2                                           0.408516       \n",
       "3                                           0.464506       \n",
       "4                                           0.358025       \n",
       "\n",
       "   t1_wavelet-HLH_glszm_GrayLevelNonUniformityNormalized  \\\n",
       "0                                           0.185783       \n",
       "1                                           0.322314       \n",
       "2                                           0.295000       \n",
       "3                                           0.319632       \n",
       "4                                           0.531250       \n",
       "\n",
       "   t1_wavelet-LLL_glszm_SizeZoneNonUniformity  \\\n",
       "0                                 4187.047155   \n",
       "1                                 2609.632464   \n",
       "2                                 1548.133685   \n",
       "3                                11717.525195   \n",
       "4                                  912.724201   \n",
       "\n",
       "   t1_original_glcm_InverseVariance  \\\n",
       "0                          0.420038   \n",
       "1                          0.397455   \n",
       "2                          0.431136   \n",
       "3                          0.358763   \n",
       "4                          0.465345   \n",
       "\n",
       "   t1_wavelet-LLH_glszm_SmallAreaLowGrayLevelEmphasis  \\\n",
       "0                                           0.003256    \n",
       "1                                           0.021619    \n",
       "2                                           0.021926    \n",
       "3                                           0.019926    \n",
       "4                                           0.073983    \n",
       "\n",
       "   t2_wavelet-HLL_glcm_Imc2  \\\n",
       "0                  0.524616   \n",
       "1                  0.716722   \n",
       "2                  0.621207   \n",
       "3                  0.600200   \n",
       "4                  0.587429   \n",
       "\n",
       "   t2_wavelet-HHH_glszm_SizeZoneNonUniformityNormalized  \n",
       "0                                           0.265625     \n",
       "1                                           0.489890     \n",
       "2                                           0.293411     \n",
       "3                                           0.242670     \n",
       "4                                           0.203704     \n",
       "\n",
       "[5 rows x 61 columns]"
      ]
     },
     "execution_count": 16,
     "metadata": {},
     "output_type": "execute_result"
    }
   ],
   "source": [
    "first_features.head()"
   ]
  },
  {
   "cell_type": "code",
   "execution_count": 17,
   "metadata": {},
   "outputs": [],
   "source": [
    "X_train_1, X_test_1, y_train_1, y_test_1 = train_test_split(first_features, first_target, \n",
    "                                                   test_size = 0.25, random_state = 42)"
   ]
  },
  {
   "cell_type": "code",
   "execution_count": 18,
   "metadata": {},
   "outputs": [
    {
     "data": {
      "text/plain": [
       "2    218\n",
       "1    115\n",
       "0     68\n",
       "Name: path, dtype: int64"
      ]
     },
     "execution_count": 18,
     "metadata": {},
     "output_type": "execute_result"
    }
   ],
   "source": [
    "y_train_1.value_counts()"
   ]
  },
  {
   "cell_type": "code",
   "execution_count": 19,
   "metadata": {},
   "outputs": [
    {
     "data": {
      "text/plain": [
       "2    60\n",
       "1    45\n",
       "0    29\n",
       "Name: path, dtype: int64"
      ]
     },
     "execution_count": 19,
     "metadata": {},
     "output_type": "execute_result"
    }
   ],
   "source": [
    "y_test_1.value_counts()"
   ]
  },
  {
   "cell_type": "code",
   "execution_count": 20,
   "metadata": {},
   "outputs": [],
   "source": [
    "first_X = pd.concat([X_train_1, y_train_1], axis = 1)\n",
    "first_X_0 = first_X[first_X['path'] == 0]\n",
    "first_X_1 = first_X[first_X['path'] == 1]\n",
    "first_X_2 = first_X[first_X['path'] == 2]"
   ]
  },
  {
   "cell_type": "code",
   "execution_count": 21,
   "metadata": {},
   "outputs": [],
   "source": [
    "upsampled_0 = resample(first_X_0, replace = True, n_samples = len(first_X_2), random_state = 42)\n",
    "upsampled_1 = resample(first_X_1, replace = True, n_samples = len(first_X_2), random_state = 42)\n",
    "upsampled = pd.concat([upsampled_0, upsampled_1, first_X_2])\n",
    "upsampled = upsampled.sample(frac = 1, random_state = 42)"
   ]
  },
  {
   "cell_type": "code",
   "execution_count": 22,
   "metadata": {},
   "outputs": [],
   "source": [
    "X_train_1 = upsampled.iloc[:, :-1]\n",
    "y_train_1 = upsampled.iloc[:, -1]"
   ]
  },
  {
   "cell_type": "code",
   "execution_count": 23,
   "metadata": {},
   "outputs": [
    {
     "data": {
      "text/plain": [
       "2    218\n",
       "1    218\n",
       "0    218\n",
       "Name: path, dtype: int64"
      ]
     },
     "execution_count": 23,
     "metadata": {},
     "output_type": "execute_result"
    }
   ],
   "source": [
    "y_train_1.value_counts()"
   ]
  },
  {
   "cell_type": "code",
   "execution_count": 24,
   "metadata": {},
   "outputs": [],
   "source": [
    "y_train_bin = label_binarize(y_train_1, classes = [0, 1, 2])\n",
    "y_test_bin = label_binarize(y_test_1, classes = [0, 1, 2])\n",
    "\n",
    "y_train_1 = y_train_bin[:, 1]\n",
    "y_test_1 = y_test_bin[:, 1]"
   ]
  },
  {
   "cell_type": "code",
   "execution_count": 25,
   "metadata": {},
   "outputs": [],
   "source": [
    "names = X_train_1.columns\n",
    "first_scaler = preprocessing.StandardScaler()"
   ]
  },
  {
   "cell_type": "markdown",
   "metadata": {},
   "source": [
    "# LR 1"
   ]
  },
  {
   "cell_type": "code",
   "execution_count": 26,
   "metadata": {},
   "outputs": [],
   "source": [
    "X_train_1 = first_scaler.fit_transform(X_train_1)\n",
    "X_train_1 = pd.DataFrame(X_train_1, columns = names)\n",
    "\n",
    "X_test_1 = first_scaler.transform(X_test_1)\n",
    "X_test_1 = pd.DataFrame(X_test_1, columns = names)"
   ]
  },
  {
   "cell_type": "code",
   "execution_count": 27,
   "metadata": {},
   "outputs": [],
   "source": [
    "lr_seq_1_model = LogisticRegression(penalty = 'l2', C = 1, max_iter = 2000, random_state = 42)"
   ]
  },
  {
   "cell_type": "code",
   "execution_count": 28,
   "metadata": {},
   "outputs": [],
   "source": [
    "lr_seq_1_model.fit(X_train_1, y_train_1)\n",
    "y_pred_1 = lr_seq_1_model.predict(X_test_1)"
   ]
  },
  {
   "cell_type": "code",
   "execution_count": 29,
   "metadata": {},
   "outputs": [
    {
     "data": {
      "text/plain": [
       "0.9402985074626866"
      ]
     },
     "execution_count": 29,
     "metadata": {},
     "output_type": "execute_result"
    }
   ],
   "source": [
    "accuracy_score(y_pred_1, y_test_1)"
   ]
  },
  {
   "cell_type": "markdown",
   "metadata": {},
   "source": [
    "# Second Model (MB/EP) - uses all features then PCA (take top 60)"
   ]
  },
  {
   "cell_type": "code",
   "execution_count": 30,
   "metadata": {},
   "outputs": [],
   "source": [
    "second_target = df[\"path\"]"
   ]
  },
  {
   "cell_type": "code",
   "execution_count": 31,
   "metadata": {
    "scrolled": true
   },
   "outputs": [
    {
     "data": {
      "text/plain": [
       "mb      278\n",
       "pilo    160\n",
       "ep       97\n",
       "Name: path, dtype: int64"
      ]
     },
     "execution_count": 31,
     "metadata": {},
     "output_type": "execute_result"
    }
   ],
   "source": [
    "second_target.value_counts()"
   ]
  },
  {
   "cell_type": "code",
   "execution_count": 32,
   "metadata": {},
   "outputs": [],
   "source": [
    "second_features = df.drop(['id', 'path'], axis = 1)"
   ]
  },
  {
   "cell_type": "code",
   "execution_count": 33,
   "metadata": {},
   "outputs": [],
   "source": [
    "second_target = second_target.map(dict(ep = 0, pilo = -1, mb = 1))\n",
    "second_target = second_target[second_target != -1]\n",
    "second_features = second_features.iloc[second_target.index]"
   ]
  },
  {
   "cell_type": "code",
   "execution_count": 34,
   "metadata": {},
   "outputs": [
    {
     "data": {
      "text/plain": [
       "1    278\n",
       "0     97\n",
       "Name: path, dtype: int64"
      ]
     },
     "execution_count": 34,
     "metadata": {},
     "output_type": "execute_result"
    }
   ],
   "source": [
    "second_target.value_counts()"
   ]
  },
  {
   "cell_type": "code",
   "execution_count": 35,
   "metadata": {},
   "outputs": [],
   "source": [
    "second_target = second_target.reset_index(drop = True)\n",
    "second_features = second_features.reset_index(drop = True)"
   ]
  },
  {
   "cell_type": "code",
   "execution_count": 36,
   "metadata": {},
   "outputs": [],
   "source": [
    "names = second_features.columns\n",
    "second_scaler = preprocessing.StandardScaler()\n",
    "\n",
    "second_features = second_scaler.fit_transform(second_features)\n",
    "second_features = pd.DataFrame(second_features, columns = names)"
   ]
  },
  {
   "cell_type": "code",
   "execution_count": 37,
   "metadata": {},
   "outputs": [],
   "source": [
    "second_pca = PCA(n_components=60, random_state = 42)\n",
    "\n",
    "second_principalComponents = second_pca.fit_transform(second_features)\n",
    "second_principaldf = pd.DataFrame(data = second_principalComponents)"
   ]
  },
  {
   "cell_type": "code",
   "execution_count": 38,
   "metadata": {},
   "outputs": [
    {
     "data": {
      "text/html": [
       "<div>\n",
       "<style scoped>\n",
       "    .dataframe tbody tr th:only-of-type {\n",
       "        vertical-align: middle;\n",
       "    }\n",
       "\n",
       "    .dataframe tbody tr th {\n",
       "        vertical-align: top;\n",
       "    }\n",
       "\n",
       "    .dataframe thead th {\n",
       "        text-align: right;\n",
       "    }\n",
       "</style>\n",
       "<table border=\"1\" class=\"dataframe\">\n",
       "  <thead>\n",
       "    <tr style=\"text-align: right;\">\n",
       "      <th></th>\n",
       "      <th>0</th>\n",
       "      <th>1</th>\n",
       "      <th>2</th>\n",
       "      <th>3</th>\n",
       "      <th>4</th>\n",
       "      <th>5</th>\n",
       "      <th>6</th>\n",
       "      <th>7</th>\n",
       "      <th>8</th>\n",
       "      <th>9</th>\n",
       "      <th>...</th>\n",
       "      <th>50</th>\n",
       "      <th>51</th>\n",
       "      <th>52</th>\n",
       "      <th>53</th>\n",
       "      <th>54</th>\n",
       "      <th>55</th>\n",
       "      <th>56</th>\n",
       "      <th>57</th>\n",
       "      <th>58</th>\n",
       "      <th>59</th>\n",
       "    </tr>\n",
       "  </thead>\n",
       "  <tbody>\n",
       "    <tr>\n",
       "      <th>0</th>\n",
       "      <td>-25.548536</td>\n",
       "      <td>-13.450027</td>\n",
       "      <td>5.799684</td>\n",
       "      <td>-0.881771</td>\n",
       "      <td>6.673722</td>\n",
       "      <td>-3.226103</td>\n",
       "      <td>-1.743113</td>\n",
       "      <td>-0.363189</td>\n",
       "      <td>0.533523</td>\n",
       "      <td>5.203355</td>\n",
       "      <td>...</td>\n",
       "      <td>-2.874023</td>\n",
       "      <td>1.167824</td>\n",
       "      <td>-1.991333</td>\n",
       "      <td>2.059639</td>\n",
       "      <td>-0.219616</td>\n",
       "      <td>0.652013</td>\n",
       "      <td>-0.977752</td>\n",
       "      <td>-1.487110</td>\n",
       "      <td>0.753129</td>\n",
       "      <td>-0.486300</td>\n",
       "    </tr>\n",
       "    <tr>\n",
       "      <th>1</th>\n",
       "      <td>-30.420208</td>\n",
       "      <td>-0.343499</td>\n",
       "      <td>18.636295</td>\n",
       "      <td>-12.455904</td>\n",
       "      <td>-11.038866</td>\n",
       "      <td>7.973012</td>\n",
       "      <td>-0.982330</td>\n",
       "      <td>-6.855145</td>\n",
       "      <td>-2.085637</td>\n",
       "      <td>-1.217958</td>\n",
       "      <td>...</td>\n",
       "      <td>-2.847318</td>\n",
       "      <td>1.977531</td>\n",
       "      <td>0.676035</td>\n",
       "      <td>0.397409</td>\n",
       "      <td>-0.624958</td>\n",
       "      <td>3.248757</td>\n",
       "      <td>1.366404</td>\n",
       "      <td>-1.683820</td>\n",
       "      <td>-1.546785</td>\n",
       "      <td>-1.167176</td>\n",
       "    </tr>\n",
       "    <tr>\n",
       "      <th>2</th>\n",
       "      <td>-11.360914</td>\n",
       "      <td>2.634126</td>\n",
       "      <td>-4.719078</td>\n",
       "      <td>-7.999355</td>\n",
       "      <td>4.699300</td>\n",
       "      <td>-2.332016</td>\n",
       "      <td>1.719329</td>\n",
       "      <td>-2.011132</td>\n",
       "      <td>-10.318054</td>\n",
       "      <td>-3.815599</td>\n",
       "      <td>...</td>\n",
       "      <td>0.709726</td>\n",
       "      <td>0.352946</td>\n",
       "      <td>-1.752533</td>\n",
       "      <td>0.123296</td>\n",
       "      <td>-0.742258</td>\n",
       "      <td>0.144875</td>\n",
       "      <td>-1.664786</td>\n",
       "      <td>0.872713</td>\n",
       "      <td>-0.485901</td>\n",
       "      <td>-0.486210</td>\n",
       "    </tr>\n",
       "    <tr>\n",
       "      <th>3</th>\n",
       "      <td>-49.388883</td>\n",
       "      <td>-14.171212</td>\n",
       "      <td>15.727680</td>\n",
       "      <td>1.371515</td>\n",
       "      <td>-6.694525</td>\n",
       "      <td>24.449944</td>\n",
       "      <td>-6.179586</td>\n",
       "      <td>-13.757560</td>\n",
       "      <td>-0.599769</td>\n",
       "      <td>1.322015</td>\n",
       "      <td>...</td>\n",
       "      <td>5.892583</td>\n",
       "      <td>0.622050</td>\n",
       "      <td>5.576365</td>\n",
       "      <td>-1.983500</td>\n",
       "      <td>-2.122576</td>\n",
       "      <td>2.483857</td>\n",
       "      <td>-0.331392</td>\n",
       "      <td>0.999967</td>\n",
       "      <td>0.633136</td>\n",
       "      <td>0.668785</td>\n",
       "    </tr>\n",
       "    <tr>\n",
       "      <th>4</th>\n",
       "      <td>-5.240770</td>\n",
       "      <td>1.247695</td>\n",
       "      <td>2.993072</td>\n",
       "      <td>-11.424567</td>\n",
       "      <td>7.185057</td>\n",
       "      <td>-9.148287</td>\n",
       "      <td>1.337924</td>\n",
       "      <td>-0.562060</td>\n",
       "      <td>5.618455</td>\n",
       "      <td>5.916989</td>\n",
       "      <td>...</td>\n",
       "      <td>-3.659275</td>\n",
       "      <td>0.599485</td>\n",
       "      <td>-0.396623</td>\n",
       "      <td>-0.694648</td>\n",
       "      <td>-0.409341</td>\n",
       "      <td>-0.260053</td>\n",
       "      <td>-1.595189</td>\n",
       "      <td>2.298257</td>\n",
       "      <td>3.875593</td>\n",
       "      <td>0.045962</td>\n",
       "    </tr>\n",
       "  </tbody>\n",
       "</table>\n",
       "<p>5 rows × 60 columns</p>\n",
       "</div>"
      ],
      "text/plain": [
       "          0          1          2          3          4          5         6   \\\n",
       "0 -25.548536 -13.450027   5.799684  -0.881771   6.673722  -3.226103 -1.743113   \n",
       "1 -30.420208  -0.343499  18.636295 -12.455904 -11.038866   7.973012 -0.982330   \n",
       "2 -11.360914   2.634126  -4.719078  -7.999355   4.699300  -2.332016  1.719329   \n",
       "3 -49.388883 -14.171212  15.727680   1.371515  -6.694525  24.449944 -6.179586   \n",
       "4  -5.240770   1.247695   2.993072 -11.424567   7.185057  -9.148287  1.337924   \n",
       "\n",
       "          7          8         9   ...        50        51        52  \\\n",
       "0  -0.363189   0.533523  5.203355  ... -2.874023  1.167824 -1.991333   \n",
       "1  -6.855145  -2.085637 -1.217958  ... -2.847318  1.977531  0.676035   \n",
       "2  -2.011132 -10.318054 -3.815599  ...  0.709726  0.352946 -1.752533   \n",
       "3 -13.757560  -0.599769  1.322015  ...  5.892583  0.622050  5.576365   \n",
       "4  -0.562060   5.618455  5.916989  ... -3.659275  0.599485 -0.396623   \n",
       "\n",
       "         53        54        55        56        57        58        59  \n",
       "0  2.059639 -0.219616  0.652013 -0.977752 -1.487110  0.753129 -0.486300  \n",
       "1  0.397409 -0.624958  3.248757  1.366404 -1.683820 -1.546785 -1.167176  \n",
       "2  0.123296 -0.742258  0.144875 -1.664786  0.872713 -0.485901 -0.486210  \n",
       "3 -1.983500 -2.122576  2.483857 -0.331392  0.999967  0.633136  0.668785  \n",
       "4 -0.694648 -0.409341 -0.260053 -1.595189  2.298257  3.875593  0.045962  \n",
       "\n",
       "[5 rows x 60 columns]"
      ]
     },
     "execution_count": 38,
     "metadata": {},
     "output_type": "execute_result"
    }
   ],
   "source": [
    "second_principaldf.head()"
   ]
  },
  {
   "cell_type": "code",
   "execution_count": 39,
   "metadata": {},
   "outputs": [
    {
     "name": "stdout",
     "output_type": "stream",
     "text": [
      "Explained variation per principal component: [0.23952513 0.16190818 0.08734095 0.07732503 0.05093644 0.03382826\n",
      " 0.02848965 0.02414281 0.02029057 0.01787475 0.01388387 0.01209103\n",
      " 0.01087641 0.01062414 0.00897498 0.00808584 0.00764799 0.00739696\n",
      " 0.00720814 0.00595647 0.00578981 0.00540462 0.00484905 0.00457497\n",
      " 0.00440896 0.00393141 0.00384019 0.00359429 0.0034719  0.00333657\n",
      " 0.00317794 0.00307193 0.00294227 0.00279328 0.00269109 0.00253393\n",
      " 0.00252029 0.00237943 0.00224152 0.00215635 0.00207982 0.00204122\n",
      " 0.0020168  0.00194053 0.00188713 0.00179872 0.00175078 0.0016979\n",
      " 0.00163008 0.00160051 0.00153922 0.00147529 0.00143443 0.00137435\n",
      " 0.00136563 0.00135436 0.00128101 0.0012455  0.0012065  0.00118022]\n"
     ]
    },
    {
     "name": "stderr",
     "output_type": "stream",
     "text": [
      "<ipython-input-39-bfebc9d60640>:2: SettingWithCopyWarning: \n",
      "A value is trying to be set on a copy of a slice from a DataFrame.\n",
      "Try using .loc[row_indexer,col_indexer] = value instead\n",
      "\n",
      "See the caveats in the documentation: https://pandas.pydata.org/pandas-docs/stable/user_guide/indexing.html#returning-a-view-versus-a-copy\n",
      "  dataviz[\"y\"] = second_target\n"
     ]
    }
   ],
   "source": [
    "dataviz = second_principaldf.iloc[:, :3]\n",
    "dataviz[\"y\"] = second_target\n",
    "print('Explained variation per principal component: {}'.format(second_pca.explained_variance_ratio_))"
   ]
  },
  {
   "cell_type": "code",
   "execution_count": 40,
   "metadata": {},
   "outputs": [
    {
     "data": {
      "text/html": [
       "<div>\n",
       "<style scoped>\n",
       "    .dataframe tbody tr th:only-of-type {\n",
       "        vertical-align: middle;\n",
       "    }\n",
       "\n",
       "    .dataframe tbody tr th {\n",
       "        vertical-align: top;\n",
       "    }\n",
       "\n",
       "    .dataframe thead th {\n",
       "        text-align: right;\n",
       "    }\n",
       "</style>\n",
       "<table border=\"1\" class=\"dataframe\">\n",
       "  <thead>\n",
       "    <tr style=\"text-align: right;\">\n",
       "      <th></th>\n",
       "      <th>0</th>\n",
       "      <th>1</th>\n",
       "      <th>2</th>\n",
       "      <th>y</th>\n",
       "    </tr>\n",
       "  </thead>\n",
       "  <tbody>\n",
       "    <tr>\n",
       "      <th>0</th>\n",
       "      <td>-25.548536</td>\n",
       "      <td>-13.450027</td>\n",
       "      <td>5.799684</td>\n",
       "      <td>1</td>\n",
       "    </tr>\n",
       "    <tr>\n",
       "      <th>1</th>\n",
       "      <td>-30.420208</td>\n",
       "      <td>-0.343499</td>\n",
       "      <td>18.636295</td>\n",
       "      <td>1</td>\n",
       "    </tr>\n",
       "    <tr>\n",
       "      <th>2</th>\n",
       "      <td>-11.360914</td>\n",
       "      <td>2.634126</td>\n",
       "      <td>-4.719078</td>\n",
       "      <td>1</td>\n",
       "    </tr>\n",
       "    <tr>\n",
       "      <th>3</th>\n",
       "      <td>-49.388883</td>\n",
       "      <td>-14.171212</td>\n",
       "      <td>15.727680</td>\n",
       "      <td>1</td>\n",
       "    </tr>\n",
       "    <tr>\n",
       "      <th>4</th>\n",
       "      <td>-5.240770</td>\n",
       "      <td>1.247695</td>\n",
       "      <td>2.993072</td>\n",
       "      <td>1</td>\n",
       "    </tr>\n",
       "    <tr>\n",
       "      <th>...</th>\n",
       "      <td>...</td>\n",
       "      <td>...</td>\n",
       "      <td>...</td>\n",
       "      <td>...</td>\n",
       "    </tr>\n",
       "    <tr>\n",
       "      <th>370</th>\n",
       "      <td>-7.072388</td>\n",
       "      <td>-12.459585</td>\n",
       "      <td>5.900566</td>\n",
       "      <td>0</td>\n",
       "    </tr>\n",
       "    <tr>\n",
       "      <th>371</th>\n",
       "      <td>8.485833</td>\n",
       "      <td>-0.595337</td>\n",
       "      <td>-7.731162</td>\n",
       "      <td>0</td>\n",
       "    </tr>\n",
       "    <tr>\n",
       "      <th>372</th>\n",
       "      <td>2.910161</td>\n",
       "      <td>-17.603854</td>\n",
       "      <td>6.053325</td>\n",
       "      <td>0</td>\n",
       "    </tr>\n",
       "    <tr>\n",
       "      <th>373</th>\n",
       "      <td>16.001910</td>\n",
       "      <td>18.218801</td>\n",
       "      <td>3.660133</td>\n",
       "      <td>0</td>\n",
       "    </tr>\n",
       "    <tr>\n",
       "      <th>374</th>\n",
       "      <td>-0.137766</td>\n",
       "      <td>26.961165</td>\n",
       "      <td>-13.691014</td>\n",
       "      <td>0</td>\n",
       "    </tr>\n",
       "  </tbody>\n",
       "</table>\n",
       "<p>375 rows × 4 columns</p>\n",
       "</div>"
      ],
      "text/plain": [
       "             0          1          2  y\n",
       "0   -25.548536 -13.450027   5.799684  1\n",
       "1   -30.420208  -0.343499  18.636295  1\n",
       "2   -11.360914   2.634126  -4.719078  1\n",
       "3   -49.388883 -14.171212  15.727680  1\n",
       "4    -5.240770   1.247695   2.993072  1\n",
       "..         ...        ...        ... ..\n",
       "370  -7.072388 -12.459585   5.900566  0\n",
       "371   8.485833  -0.595337  -7.731162  0\n",
       "372   2.910161 -17.603854   6.053325  0\n",
       "373  16.001910  18.218801   3.660133  0\n",
       "374  -0.137766  26.961165 -13.691014  0\n",
       "\n",
       "[375 rows x 4 columns]"
      ]
     },
     "execution_count": 40,
     "metadata": {},
     "output_type": "execute_result"
    }
   ],
   "source": [
    "dataviz"
   ]
  },
  {
   "cell_type": "code",
   "execution_count": 41,
   "metadata": {},
   "outputs": [
    {
     "data": {
      "image/png": "[encoded data removed]",
      "text/plain": [
       "<Figure size 576x432 with 1 Axes>"
      ]
     },
     "metadata": {},
     "output_type": "display_data"
    }
   ],
   "source": [
    "plt.figure(figsize=(8,6))\n",
    "sns.scatterplot(\n",
    "    x=dataviz[0], y=dataviz[1],\n",
    "    hue = 'y',\n",
    "    data=dataviz,\n",
    "    legend=\"full\",\n",
    "    alpha=0.3\n",
    ")\n",
    "    \n",
    "plt.xlabel('PCA Component 1', fontsize=16)\n",
    "plt.ylabel('PCA Component 2', fontsize=16)\n",
    "plt.title('PCA Top 2 Components from All Features', fontsize=20, fontweight=\"semibold\")\n",
    "plt.show()"
   ]
  },
  {
   "cell_type": "code",
   "execution_count": 42,
   "metadata": {},
   "outputs": [
    {
     "name": "stdout",
     "output_type": "stream",
     "text": [
      "[t-SNE] Computing 121 nearest neighbors...\n",
      "[t-SNE] Indexed 375 samples in 0.000s...\n",
      "[t-SNE] Computed neighbors for 375 samples in 0.008s...\n",
      "[t-SNE] Computed conditional probabilities for sample 375 / 375\n",
      "[t-SNE] Mean sigma: 8.516681\n",
      "[t-SNE] KL divergence after 250 iterations with early exaggeration: 60.225075\n",
      "[t-SNE] KL divergence after 300 iterations: 0.551710\n",
      "t-SNE done! Time elapsed: 0.8251702785491943 seconds\n"
     ]
    },
    {
     "name": "stderr",
     "output_type": "stream",
     "text": [
      "<ipython-input-42-522736304989>:9: SettingWithCopyWarning: \n",
      "A value is trying to be set on a copy of a slice from a DataFrame.\n",
      "Try using .loc[row_indexer,col_indexer] = value instead\n",
      "\n",
      "See the caveats in the documentation: https://pandas.pydata.org/pandas-docs/stable/user_guide/indexing.html#returning-a-view-versus-a-copy\n",
      "  dataviz['tsne-2d-one'] = tsne_results[:,0]\n",
      "<ipython-input-42-522736304989>:10: SettingWithCopyWarning: \n",
      "A value is trying to be set on a copy of a slice from a DataFrame.\n",
      "Try using .loc[row_indexer,col_indexer] = value instead\n",
      "\n",
      "See the caveats in the documentation: https://pandas.pydata.org/pandas-docs/stable/user_guide/indexing.html#returning-a-view-versus-a-copy\n",
      "  dataviz['tsne-2d-two'] = tsne_results[:,1]\n"
     ]
    },
    {
     "data": {
      "text/plain": [
       "Text(0.5, 1.0, 'tSNE from All Features')"
      ]
     },
     "execution_count": 42,
     "metadata": {},
     "output_type": "execute_result"
    },
    {
     "data": {
      "image/png": "[encoded data removed]",
      "text/plain": [
       "<Figure size 576x432 with 1 Axes>"
      ]
     },
     "metadata": {},
     "output_type": "display_data"
    }
   ],
   "source": [
    "import time\n",
    "from sklearn.manifold import TSNE\n",
    "\n",
    "time_start = time.time()\n",
    "tsne = TSNE(n_components=2, verbose=1, perplexity=40, n_iter=300)\n",
    "tsne_results = tsne.fit_transform(dataviz)\n",
    "print('t-SNE done! Time elapsed: {} seconds'.format(time.time()-time_start))\n",
    "\n",
    "dataviz['tsne-2d-one'] = tsne_results[:,0]\n",
    "dataviz['tsne-2d-two'] = tsne_results[:,1]\n",
    "plt.figure(figsize=(8,6))\n",
    "sns.scatterplot(\n",
    "    x=\"tsne-2d-one\", y=\"tsne-2d-two\",\n",
    "    hue= 'y',\n",
    "    data=dataviz,\n",
    "    legend=\"full\",\n",
    "    alpha=0.3\n",
    ")\n",
    "plt.xlabel('tSNE 2D-One', fontsize=16)\n",
    "plt.ylabel('tSNE 2D-Two', fontsize=16)\n",
    "plt.title('tSNE from All Features', fontsize=20, fontweight=\"semibold\")\n"
   ]
  },
  {
   "cell_type": "code",
   "execution_count": 43,
   "metadata": {},
   "outputs": [],
   "source": [
    "X_train_2, X_test_2, y_train_2, y_test_2 = train_test_split(second_principaldf, second_target, \n",
    "                                                    test_size = 0.25, random_state = 42)"
   ]
  },
  {
   "cell_type": "code",
   "execution_count": 44,
   "metadata": {},
   "outputs": [],
   "source": [
    "second_X = pd.concat([X_train_2, y_train_2], axis = 1)\n",
    "second_X_0 = second_X[second_X['path'] == 0]\n",
    "second_X_1 = second_X[second_X['path'] == 1]"
   ]
  },
  {
   "cell_type": "code",
   "execution_count": 45,
   "metadata": {},
   "outputs": [],
   "source": [
    "second_upsampled_0 = resample(second_X_0, replace = True, n_samples = len(second_X_1), random_state = 42)\n",
    "second_upsampled = pd.concat([second_upsampled_0, second_X_1])\n",
    "second_upsampled = second_upsampled.sample(frac = 1, random_state = 42)"
   ]
  },
  {
   "cell_type": "code",
   "execution_count": 46,
   "metadata": {},
   "outputs": [],
   "source": [
    "X_train_2 = second_upsampled.iloc[:, :-1]\n",
    "y_train_2 = second_upsampled.iloc[:, -1]"
   ]
  },
  {
   "cell_type": "code",
   "execution_count": 47,
   "metadata": {},
   "outputs": [],
   "source": [
    "lr_seq_2_model = LogisticRegression(penalty = 'l2', C = 1, max_iter = 2000, random_state = 42)"
   ]
  },
  {
   "cell_type": "code",
   "execution_count": 48,
   "metadata": {},
   "outputs": [],
   "source": [
    "lr_seq_2_model.fit(X_train_2, y_train_2)\n",
    "y_pred_2 = lr_seq_2_model.predict(X_test_2)"
   ]
  },
  {
   "cell_type": "code",
   "execution_count": 49,
   "metadata": {},
   "outputs": [
    {
     "data": {
      "text/plain": [
       "0.8404255319148937"
      ]
     },
     "execution_count": 49,
     "metadata": {},
     "output_type": "execute_result"
    }
   ],
   "source": [
    "accuracy_score(y_test_2, y_pred_2)"
   ]
  },
  {
   "cell_type": "markdown",
   "metadata": {},
   "source": [
    "# Second Model (MB/EP) - uses new Lasso reduction"
   ]
  },
  {
   "cell_type": "code",
   "execution_count": 50,
   "metadata": {},
   "outputs": [],
   "source": [
    "second_target = df[\"path\"]"
   ]
  },
  {
   "cell_type": "code",
   "execution_count": 51,
   "metadata": {},
   "outputs": [
    {
     "data": {
      "text/plain": [
       "mb      278\n",
       "pilo    160\n",
       "ep       97\n",
       "Name: path, dtype: int64"
      ]
     },
     "execution_count": 51,
     "metadata": {},
     "output_type": "execute_result"
    }
   ],
   "source": [
    "second_target.value_counts()"
   ]
  },
  {
   "cell_type": "code",
   "execution_count": 52,
   "metadata": {},
   "outputs": [],
   "source": [
    "second_features = df.drop(['id', 'path'], axis = 1)"
   ]
  },
  {
   "cell_type": "code",
   "execution_count": 53,
   "metadata": {},
   "outputs": [],
   "source": [
    "second_target = second_target.map(dict(ep = 0, pilo = -1, mb = 1))\n",
    "second_target = second_target[second_target != -1]\n",
    "second_features = second_features.iloc[second_target.index]"
   ]
  },
  {
   "cell_type": "code",
   "execution_count": 54,
   "metadata": {},
   "outputs": [
    {
     "data": {
      "text/plain": [
       "1    278\n",
       "0     97\n",
       "Name: path, dtype: int64"
      ]
     },
     "execution_count": 54,
     "metadata": {},
     "output_type": "execute_result"
    }
   ],
   "source": [
    "second_target.value_counts()"
   ]
  },
  {
   "cell_type": "code",
   "execution_count": 55,
   "metadata": {},
   "outputs": [],
   "source": [
    "second_target = second_target.reset_index(drop = True)\n",
    "second_features = second_features.reset_index(drop = True)"
   ]
  },
  {
   "cell_type": "code",
   "execution_count": 56,
   "metadata": {},
   "outputs": [],
   "source": [
    "second_reduced_features_list = reduced_features.loc[reduced_features['MB/EP_2ndstage'].isnull() == False, ['MB/EP_2ndstage']].values.tolist()"
   ]
  },
  {
   "cell_type": "code",
   "execution_count": 57,
   "metadata": {},
   "outputs": [],
   "source": [
    "second_reduced_features_list = [item for sublist in second_reduced_features_list for item in sublist]"
   ]
  },
  {
   "cell_type": "code",
   "execution_count": 58,
   "metadata": {},
   "outputs": [],
   "source": [
    "second_features = second_features[second_reduced_features_list]"
   ]
  },
  {
   "cell_type": "code",
   "execution_count": 59,
   "metadata": {},
   "outputs": [],
   "source": [
    "X_train_2, X_test_2, y_train_2, y_test_2 = train_test_split(second_features, second_target, \n",
    "                                                    test_size = 0.25, random_state = 42)"
   ]
  },
  {
   "cell_type": "code",
   "execution_count": 60,
   "metadata": {},
   "outputs": [],
   "source": [
    "second_X = pd.concat([X_train_2, y_train_2], axis = 1)\n",
    "second_X_0 = second_X[second_X['path'] == 0]\n",
    "second_X_1 = second_X[second_X['path'] == 1]"
   ]
  },
  {
   "cell_type": "code",
   "execution_count": 61,
   "metadata": {},
   "outputs": [],
   "source": [
    "second_upsampled_0 = resample(second_X_0, replace = True, n_samples = len(second_X_1), random_state = 42)\n",
    "second_upsampled = pd.concat([second_upsampled_0, second_X_1])\n",
    "second_upsampled = second_upsampled.sample(frac = 1, random_state = 42)"
   ]
  },
  {
   "cell_type": "code",
   "execution_count": 62,
   "metadata": {},
   "outputs": [],
   "source": [
    "X_train_2 = second_upsampled.iloc[:, :-1]\n",
    "y_train_2 = second_upsampled.iloc[:, -1]"
   ]
  },
  {
   "cell_type": "code",
   "execution_count": 63,
   "metadata": {},
   "outputs": [],
   "source": [
    "second_names = X_train_2.columns\n",
    "second_scaler = preprocessing.StandardScaler()"
   ]
  },
  {
   "cell_type": "code",
   "execution_count": 64,
   "metadata": {},
   "outputs": [],
   "source": [
    "X_train_2 = second_scaler.fit_transform(X_train_2)\n",
    "X_train_2 = pd.DataFrame(X_train_2, columns = second_names)"
   ]
  },
  {
   "cell_type": "code",
   "execution_count": 65,
   "metadata": {},
   "outputs": [],
   "source": [
    "X_test_2 = second_scaler.transform(X_test_2)\n",
    "X_test_2 = pd.DataFrame(X_test_2, columns = second_names)"
   ]
  },
  {
   "cell_type": "code",
   "execution_count": 66,
   "metadata": {},
   "outputs": [],
   "source": [
    "nn_seq_2_model = MLPClassifier(hidden_layer_sizes = (50, 100, 50), learning_rate = 'constant', \n",
    "                         max_iter = 2000, random_state = 42)"
   ]
  },
  {
   "cell_type": "code",
   "execution_count": 67,
   "metadata": {},
   "outputs": [],
   "source": [
    "nn_seq_2_model.fit(X_train_2, y_train_2)\n",
    "y_pred_2 = nn_seq_2_model.predict(X_test_2)"
   ]
  },
  {
   "cell_type": "code",
   "execution_count": 68,
   "metadata": {},
   "outputs": [
    {
     "data": {
      "text/plain": [
       "0.8723404255319149"
      ]
     },
     "execution_count": 68,
     "metadata": {},
     "output_type": "execute_result"
    }
   ],
   "source": [
    "accuracy_score(y_test_2, y_pred_2)"
   ]
  },
  {
   "cell_type": "code",
   "execution_count": 69,
   "metadata": {},
   "outputs": [
    {
     "name": "stdout",
     "output_type": "stream",
     "text": [
      "Accuracy Score: 0.8723404255319149\n",
      "Specificity Score: 0.7\n",
      "Precision: 0.918918918918919\n",
      "Recall: 0.918918918918919\n",
      "F1 Score: 0.918918918918919\n",
      "PPV Score: 0.918918918918919\n",
      "NPV Score: 0.7\n"
     ]
    }
   ],
   "source": [
    "print(\"Accuracy Score: \" + str(accuracy_score(y_test_2, y_pred_2)))\n",
    "print(\"Specificity Score: \" + str(specificity_score(y_test_2.to_numpy(), y_pred_2)))\n",
    "print(\"Precision: \" + str(precision_score(y_test_2, y_pred_2)))\n",
    "print(\"Recall: \" + str(recall_score(y_test_2, y_pred_2)))\n",
    "print(\"F1 Score: \" + str(f1_score(y_test_2, y_pred_2)))\n",
    "\n",
    "print(\"PPV Score: \" + str(positive_pv_score(y_test_2.to_numpy(), y_pred_2)))\n",
    "print(\"NPV Score: \" + str(negative_pv_score(y_test_2.to_numpy(), y_pred_2)))"
   ]
  },
  {
   "cell_type": "code",
   "execution_count": 70,
   "metadata": {},
   "outputs": [
    {
     "data": {
      "image/png": "[encoded data removed]",
      "text/plain": [
       "<Figure size 432x288 with 2 Axes>"
      ]
     },
     "metadata": {},
     "output_type": "display_data"
    }
   ],
   "source": [
    "matrix = plot_confusion_matrix(nn_seq_2_model, X_test_2, y_test_2,\n",
    "                               cmap=plt.cm.Blues)\n",
    "plt.title('Neural Network Confusion Matrix')\n",
    "plt.show(matrix)\n",
    "plt.show()"
   ]
  },
  {
   "cell_type": "code",
   "execution_count": 71,
   "metadata": {},
   "outputs": [
    {
     "data": {
      "image/png": "[encoded data removed]",
      "text/plain": [
       "<Figure size 432x288 with 2 Axes>"
      ]
     },
     "metadata": {},
     "output_type": "display_data"
    }
   ],
   "source": [
    "matrix = plot_confusion_matrix(nn_seq_2_model, X_test_2, y_test_2,\n",
    "                               cmap=plt.cm.Blues,\n",
    "                               normalize = 'true')\n",
    "plt.title('Normalized Neural Network Confusion Matrix')\n",
    "plt.show(matrix)\n",
    "plt.show()"
   ]
  },
  {
   "cell_type": "markdown",
   "metadata": {},
   "source": [
    "# Testing"
   ]
  },
  {
   "cell_type": "code",
   "execution_count": 72,
   "metadata": {},
   "outputs": [],
   "source": [
    "test_features = df.drop(['id', 'path'], axis = 1) \n",
    "test_target = df[\"path\"]"
   ]
  },
  {
   "cell_type": "code",
   "execution_count": 73,
   "metadata": {},
   "outputs": [],
   "source": [
    "#mapping_dict = {0: 'ep', 1: 'pilo', 2: 'mb'}\n",
    "test_target = test_target.map(dict(ep = 0, pilo = 1, mb = 2))"
   ]
  },
  {
   "cell_type": "code",
   "execution_count": 74,
   "metadata": {},
   "outputs": [],
   "source": [
    "X_train, X_test, y_train, y_test = train_test_split(test_features, test_target, \n",
    "                                                    test_size = 0.25, random_state = 42)"
   ]
  },
  {
   "cell_type": "code",
   "execution_count": 75,
   "metadata": {},
   "outputs": [],
   "source": [
    "X_test = X_test.reset_index(drop = True)\n",
    "y_test = y_test.reset_index(drop = True)"
   ]
  },
  {
   "cell_type": "code",
   "execution_count": 76,
   "metadata": {},
   "outputs": [],
   "source": [
    "X_test_reduced = X_test[reduced_features_list]"
   ]
  },
  {
   "cell_type": "code",
   "execution_count": 77,
   "metadata": {},
   "outputs": [],
   "source": [
    "names = X_test_reduced.columns\n",
    "X_test_for_first = first_scaler.transform(X_test_reduced)\n",
    "X_test_for_first = pd.DataFrame(X_test_for_first, columns = names)"
   ]
  },
  {
   "cell_type": "code",
   "execution_count": 78,
   "metadata": {},
   "outputs": [],
   "source": [
    "y_preds_after_first = lr_seq_1_model.predict(X_test_for_first)"
   ]
  },
  {
   "cell_type": "code",
   "execution_count": 79,
   "metadata": {},
   "outputs": [],
   "source": [
    "pilo_indices = np.where(y_preds_after_first == 1)\n",
    "other_indices = np.where(y_preds_after_first != 1)"
   ]
  },
  {
   "cell_type": "code",
   "execution_count": 80,
   "metadata": {},
   "outputs": [],
   "source": [
    "pilo_preds = y_preds_after_first[pilo_indices]\n",
    "y_test_for_pilo = np.array(y_test)[pilo_indices]"
   ]
  },
  {
   "cell_type": "code",
   "execution_count": 81,
   "metadata": {},
   "outputs": [],
   "source": [
    "X_test_after_first_model = X_test.iloc[other_indices].reset_index(drop = True)\n",
    "y_test_after_first_model = y_test.iloc[other_indices].reset_index(drop = True)"
   ]
  },
  {
   "cell_type": "code",
   "execution_count": 82,
   "metadata": {},
   "outputs": [],
   "source": [
    "X_test_after_first_model = X_test_after_first_model[second_reduced_features_list]"
   ]
  },
  {
   "cell_type": "code",
   "execution_count": 83,
   "metadata": {},
   "outputs": [],
   "source": [
    "X_test_after_first_model = second_scaler.transform(X_test_after_first_model)"
   ]
  },
  {
   "cell_type": "code",
   "execution_count": 84,
   "metadata": {},
   "outputs": [],
   "source": [
    "# X_test_after_first_model = second_scaler.transform(X_test_after_first_model)\n",
    "# second_testprincipalComponents = second_pca.transform(X_test_after_first_model)\n",
    "# X_test_after_first_model = pd.DataFrame(data = second_testprincipalComponents)"
   ]
  },
  {
   "cell_type": "code",
   "execution_count": 85,
   "metadata": {},
   "outputs": [],
   "source": [
    "y_test_after_first_model = np.array(y_test_after_first_model)\n",
    "y_test_after_first_model[y_test_after_first_model == 1] = -1\n",
    "y_test_after_first_model[y_test_after_first_model == 2] = 1"
   ]
  },
  {
   "cell_type": "code",
   "execution_count": 86,
   "metadata": {},
   "outputs": [],
   "source": [
    "y_preds_after_second = nn_seq_2_model.predict(X_test_after_first_model)"
   ]
  },
  {
   "cell_type": "code",
   "execution_count": 87,
   "metadata": {},
   "outputs": [
    {
     "data": {
      "text/plain": [
       "0.9032258064516129"
      ]
     },
     "execution_count": 87,
     "metadata": {},
     "output_type": "execute_result"
    }
   ],
   "source": [
    "accuracy_score(y_test_after_first_model, y_preds_after_second)"
   ]
  },
  {
   "cell_type": "code",
   "execution_count": 88,
   "metadata": {},
   "outputs": [],
   "source": [
    "y_preds_after_second[y_preds_after_second == 1] = 2"
   ]
  },
  {
   "cell_type": "code",
   "execution_count": 89,
   "metadata": {},
   "outputs": [],
   "source": [
    "y_test_after_first_model[y_test_after_first_model == 1] = 2\n",
    "y_test_after_first_model[y_test_after_first_model == -1] = 1"
   ]
  },
  {
   "cell_type": "code",
   "execution_count": 90,
   "metadata": {},
   "outputs": [],
   "source": [
    "y_preds_overall = np.concatenate([y_preds_after_second, pilo_preds])\n",
    "y_test_overall = np.concatenate([y_test_after_first_model, y_test_for_pilo])"
   ]
  },
  {
   "cell_type": "code",
   "execution_count": 91,
   "metadata": {},
   "outputs": [
    {
     "data": {
      "text/plain": [
       "0.917910447761194"
      ]
     },
     "execution_count": 91,
     "metadata": {},
     "output_type": "execute_result"
    }
   ],
   "source": [
    "accuracy_score(y_test_overall, y_preds_overall)"
   ]
  },
  {
   "cell_type": "code",
   "execution_count": 92,
   "metadata": {},
   "outputs": [],
   "source": [
    "sns.reset_orig()"
   ]
  },
  {
   "cell_type": "code",
   "execution_count": 93,
   "metadata": {},
   "outputs": [
    {
     "data": {
      "image/png": "[encoded data removed]",
      "text/plain": [
       "<Figure size 432x288 with 2 Axes>"
      ]
     },
     "metadata": {
      "needs_background": "light"
     },
     "output_type": "display_data"
    }
   ],
   "source": [
    "matrix = create_confusion_matrix(y_test_overall, y_preds_overall, cmap=plt.cm.Blues)\n",
    "plt.title('LR + NN Confusion Matrix')\n",
    "plt.show(matrix)\n",
    "plt.show()"
   ]
  },
  {
   "cell_type": "code",
   "execution_count": 94,
   "metadata": {},
   "outputs": [
    {
     "data": {
      "image/png": "[encoded data removed]",
      "text/plain": [
       "<Figure size 432x288 with 2 Axes>"
      ]
     },
     "metadata": {
      "needs_background": "light"
     },
     "output_type": "display_data"
    }
   ],
   "source": [
    "matrix = create_confusion_matrix(y_test_overall, y_preds_overall, cmap=plt.cm.Blues, normalize = 'true')\n",
    "plt.title('Normalized LR + NN Confusion Matrix')\n",
    "plt.show(matrix)\n",
    "plt.show()"
   ]
  },
  {
   "cell_type": "code",
   "execution_count": 95,
   "metadata": {},
   "outputs": [
    {
     "name": "stdout",
     "output_type": "stream",
     "text": [
      "Specificities\n",
      "0 0.9714285714285714\n",
      "1 0.9775280898876404\n",
      "2 0.918918918918919\n",
      "Macro Avg : 0.9559585267450436\n",
      "Micro Avg : 0.9589552238805971 \n",
      "\n",
      "PPV/Precision\n",
      "0 0.896551724137931\n",
      "1 0.9512195121951219\n",
      "2 0.90625\n",
      "Macro Avg : 0.9180070787776843\n",
      "Micro Avg : 0.917910447761194 \n",
      "\n",
      "NPV\n",
      "0 0.9714285714285714\n",
      "1 0.9354838709677419\n",
      "2 0.9714285714285714\n",
      "Macro Avg : 0.9594470046082949\n",
      "Micro Avg : 0.9589552238805971 \n",
      "\n",
      "Recall\n",
      "0 0.896551724137931\n",
      "1 0.8666666666666667\n",
      "2 0.9666666666666667\n",
      "Macro Avg : 0.9099616858237548\n",
      "Micro Avg : 0.917910447761194 \n",
      "\n",
      "F1 Score\n",
      "0 0.896551724137931\n",
      "1 0.9069767441860465\n",
      "2 0.9354838709677419\n",
      "Macro Avg : 0.9139666773078782\n",
      "Micro Avg : 0.917910447761194 \n",
      "\n",
      "Accuracy:\n",
      "0 0.9552238805970149\n",
      "1 0.9402985074626866\n",
      "2 0.9402985074626866\n",
      "Macro Avg : 0.9452736318407959\n",
      "Micro Avg : 0.945273631840796 \n",
      "\n"
     ]
    }
   ],
   "source": [
    "y_test_np = y_test.to_numpy()\n",
    "my_classification_report(y_test_overall, y_preds_overall)"
   ]
  },
  {
   "cell_type": "code",
   "execution_count": 96,
   "metadata": {},
   "outputs": [],
   "source": [
    "y_test_bin = label_binarize(y_test_overall, classes = [0, 1, 2])\n",
    "y_pred_bin = label_binarize(y_preds_overall, classes = [0, 1, 2])"
   ]
  },
  {
   "cell_type": "code",
   "execution_count": 97,
   "metadata": {},
   "outputs": [],
   "source": [
    "n_classes = 3\n",
    "\n",
    "n_bootstraps = 2000\n",
    "rng_seed = 42  # control reproducibility\n",
    "bootstrapped_auc_scores = []\n",
    "bootstrapped_acc_scores = []\n",
    "bootstrapped_spec_scores = []\n",
    "bootstrapped_prec_scores = []\n",
    "bootstrapped_rec_scores = []\n",
    "bootstrapped_f_one_scores = []\n",
    "bootstrapped_ppv_scores = [] ##\n",
    "bootstrapped_npv_scores = [] ##\n",
    "\n",
    "rng = np.random.RandomState(rng_seed)\n",
    "for i in range(n_bootstraps):\n",
    "    # bootstrap by sampling with replacement on the prediction indices\n",
    "    indices = rng.randint(0, len(y_test_overall), len(y_test_overall))\n",
    "    if len(np.unique(y_test_overall[indices])) < 2:\n",
    "        # We need at least one positive and one negative sample for ROC AUC\n",
    "        # to be defined: reject the sample\n",
    "        continue\n",
    "    \n",
    "    one_acc = []\n",
    "    one_spec = []\n",
    "    one_prec = []\n",
    "    one_rec = []\n",
    "    one_f_one = []\n",
    "    one_ppv = [] ##\n",
    "    one_npv = [] ##\n",
    "    for i in range(n_classes):\n",
    "        one_acc.append(accuracy_score(y_test_bin[:, i][indices], y_pred_bin[:, i][indices]))\n",
    "        one_spec.append(specificity_score(y_test_bin[:, i][indices], y_pred_bin[:, i][indices]))\n",
    "        one_prec.append(precision_score(y_test_bin[:, i][indices], y_pred_bin[:, i][indices]))\n",
    "        one_rec.append(recall_score(y_test_bin[:, i][indices], y_pred_bin[:, i][indices]))\n",
    "        one_f_one.append(f1_score(y_test_bin[:, i][indices], y_pred_bin[:, i][indices]))\n",
    "        one_ppv.append(positive_pv_score(y_test_bin[:, i][indices], y_pred_bin[:, i][indices])) ##\n",
    "        one_npv.append(negative_pv_score(y_test_bin[:, i][indices], y_pred_bin[:, i][indices])) ##\n",
    "\n",
    "    bootstrapped_acc_scores.append(one_acc)\n",
    "    bootstrapped_spec_scores.append(one_spec)\n",
    "    bootstrapped_prec_scores.append(one_prec)\n",
    "    bootstrapped_rec_scores.append(one_rec)\n",
    "    bootstrapped_f_one_scores.append(one_f_one)\n",
    "    bootstrapped_ppv_scores.append(one_ppv) ##\n",
    "    bootstrapped_npv_scores.append(one_npv) ##"
   ]
  },
  {
   "cell_type": "code",
   "execution_count": 98,
   "metadata": {},
   "outputs": [
    {
     "name": "stdout",
     "output_type": "stream",
     "text": [
      "95% Confidence interval for the Accuracy score for class 0: [0.9179 - 0.9851]\n",
      "95% Confidence interval for the Accuracy score for class 1: [0.8955 - 0.9776]\n",
      "95% Confidence interval for the Accuracy score for class 2: [0.8955 - 0.9776]\n",
      "95% Confidence interval for the Specificity score for class 0: [0.9358 - 1.0]\n",
      "95% Confidence interval for the Specificity score for class 1: [0.9419 - 1.0]\n",
      "95% Confidence interval for the Specificity score for class 2: [0.8472 - 0.9744]\n",
      "95% Confidence interval for the Precision score for class 0: [0.7692 - 1.0]\n",
      "95% Confidence interval for the Precision score for class 1: [0.8750 - 1.0]\n",
      "95% Confidence interval for the Precision score for class 2: [0.8308 - 0.9701]\n",
      "95% Confidence interval for the Recall score for class 0: [0.7778 - 1.0]\n",
      "95% Confidence interval for the Recall score for class 1: [0.7568 - 0.9556]\n",
      "95% Confidence interval for the Recall score for class 2: [0.9167 - 1.0]\n",
      "95% Confidence interval for the F1 score for class 0: [0.8000 - 0.9677]\n",
      "95% Confidence interval for the F1 score for class 1: [0.8333 - 0.9647]\n",
      "95% Confidence interval for the F1 score for class 2: [0.8905 - 0.9756]\n",
      "95% Confidence interval for the PPV score for class 0: [0.7692 - 1.0]\n",
      "95% Confidence interval for the PPV score for class 1: [0.8750 - 1.0]\n",
      "95% Confidence interval for the PPV score for class 2: [0.8308 - 0.9701]\n",
      "95% Confidence interval for the NPV score for class 0: [0.9368 - 1.0]\n",
      "95% Confidence interval for the NPV score for class 1: [0.8824 - 0.9792]\n",
      "95% Confidence interval for the NPV score for class 2: [0.9273 - 1.0]\n"
     ]
    }
   ],
   "source": [
    "create_ci(bootstrapped_acc_scores, \"Accuracy\")\n",
    "create_ci(bootstrapped_spec_scores, \"Specificity\")\n",
    "create_ci(bootstrapped_prec_scores, \"Precision\")\n",
    "create_ci(bootstrapped_rec_scores, \"Recall\")\n",
    "create_ci(bootstrapped_f_one_scores, \"F1\")\n",
    "create_ci(bootstrapped_ppv_scores, \"PPV\") ##\n",
    "create_ci(bootstrapped_npv_scores, \"NPV\") ##"
   ]
  },
  {
   "cell_type": "code",
   "execution_count": null,
   "metadata": {},
   "outputs": [],
   "source": []
  }
 ],
 "metadata": {
  "kernelspec": {
   "display_name": "Python 3",
   "language": "python",
   "name": "python3"
  },
  "language_info": {
   "codemirror_mode": {
    "name": "ipython",
    "version": 3
   },
   "file_extension": ".py",
   "mimetype": "text/x-python",
   "name": "python",
   "nbconvert_exporter": "python",
   "pygments_lexer": "ipython3",
   "version": "3.8.5"
  }
 },
 "nbformat": 4,
 "nbformat_minor": 4
}
