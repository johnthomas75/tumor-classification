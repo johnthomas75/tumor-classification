{
 "cells": [
  {
   "cell_type": "raw",
   "metadata": {},
   "source": [
    "# hgg_pnet"
   ]
  },
  {
   "cell_type": "code",
   "execution_count": 13,
   "metadata": {},
   "outputs": [],
   "source": [
    "import numpy as np\n",
    "import pandas as pd\n",
    "from sklearn import svm\n",
    "from sklearn import preprocessing\n",
    "from sklearn.linear_model import LogisticRegression\n",
    "from sklearn.neighbors import KNeighborsClassifier\n",
    "from sklearn.ensemble import RandomForestClassifier\n",
    "from sklearn.neural_network import MLPClassifier\n",
    "from xgboost import XGBClassifier\n",
    "from sklearn.multiclass import OneVsRestClassifier\n",
    "from sklearn.multiclass import OneVsOneClassifier\n",
    "from sklearn.model_selection import train_test_split\n",
    "from sklearn.model_selection import GridSearchCV\n",
    "from sklearn.model_selection import cross_val_score\n",
    "from sklearn.utils import resample\n",
    "from sklearn.svm import LinearSVC\n",
    "from sklearn.metrics import accuracy_score, precision_score, recall_score, f1_score, roc_curve, roc_auc_score, plot_confusion_matrix\n",
    "from sklearn.preprocessing import label_binarize\n",
    "import matplotlib.pyplot as plt\n",
    "import matplotlib.ticker as mtick"
   ]
  },
  {
   "cell_type": "code",
   "execution_count": 14,
   "metadata": {},
   "outputs": [],
   "source": [
    "import seaborn as sns\n",
    "sns.set()"
   ]
  },
  {
   "cell_type": "code",
   "execution_count": 15,
   "metadata": {},
   "outputs": [],
   "source": [
    "df = pd.read_excel(\"/Users/michaelzhang/Desktop/pnet_features/pnet-hgg_sp_t1t2.xlsx\")"
   ]
  },
  {
   "cell_type": "code",
   "execution_count": 16,
   "metadata": {},
   "outputs": [
    {
     "data": {
      "text/html": [
       "<div>\n",
       "<style scoped>\n",
       "    .dataframe tbody tr th:only-of-type {\n",
       "        vertical-align: middle;\n",
       "    }\n",
       "\n",
       "    .dataframe tbody tr th {\n",
       "        vertical-align: top;\n",
       "    }\n",
       "\n",
       "    .dataframe thead th {\n",
       "        text-align: right;\n",
       "    }\n",
       "</style>\n",
       "<table border=\"1\" class=\"dataframe\">\n",
       "  <thead>\n",
       "    <tr style=\"text-align: right;\">\n",
       "      <th></th>\n",
       "      <th>path</th>\n",
       "      <th>subgroup</th>\n",
       "      <th>seg_id</th>\n",
       "      <th>id</th>\n",
       "      <th>gender</th>\n",
       "      <th>age</th>\n",
       "      <th>institution</th>\n",
       "      <th>t1_log-sigma-1-mm-3D_firstorder_10Percentile</th>\n",
       "      <th>t1_log-sigma-1-mm-3D_firstorder_90Percentile</th>\n",
       "      <th>t1_log-sigma-1-mm-3D_firstorder_Energy</th>\n",
       "      <th>...</th>\n",
       "      <th>t2_wavelet-LLL_glszm_LargeAreaLowGrayLevelEmphasis</th>\n",
       "      <th>t2_wavelet-LLL_glszm_LowGrayLevelZoneEmphasis</th>\n",
       "      <th>t2_wavelet-LLL_glszm_SizeZoneNonUniformity</th>\n",
       "      <th>t2_wavelet-LLL_glszm_SizeZoneNonUniformityNormalized</th>\n",
       "      <th>t2_wavelet-LLL_glszm_SmallAreaEmphasis</th>\n",
       "      <th>t2_wavelet-LLL_glszm_SmallAreaHighGrayLevelEmphasis</th>\n",
       "      <th>t2_wavelet-LLL_glszm_SmallAreaLowGrayLevelEmphasis</th>\n",
       "      <th>t2_wavelet-LLL_glszm_ZoneEntropy</th>\n",
       "      <th>t2_wavelet-LLL_glszm_ZonePercentage</th>\n",
       "      <th>t2_wavelet-LLL_glszm_ZoneVariance</th>\n",
       "    </tr>\n",
       "  </thead>\n",
       "  <tbody>\n",
       "    <tr>\n",
       "      <th>0</th>\n",
       "      <td>hgg</td>\n",
       "      <td>gbm</td>\n",
       "      <td>SEG_CG_HGG-GBM_U_0001_t1--1</td>\n",
       "      <td>CG_HGG-GBM_U_0001</td>\n",
       "      <td>F</td>\n",
       "      <td>215.15</td>\n",
       "      <td>CG</td>\n",
       "      <td>-81.317188</td>\n",
       "      <td>52.088432</td>\n",
       "      <td>7.419751e+07</td>\n",
       "      <td>...</td>\n",
       "      <td>0.055566</td>\n",
       "      <td>0.000793</td>\n",
       "      <td>7161.758273</td>\n",
       "      <td>0.572483</td>\n",
       "      <td>0.784856</td>\n",
       "      <td>11492.221292</td>\n",
       "      <td>0.000394</td>\n",
       "      <td>8.111180</td>\n",
       "      <td>0.443979</td>\n",
       "      <td>332.667011</td>\n",
       "    </tr>\n",
       "    <tr>\n",
       "      <th>1</th>\n",
       "      <td>hgg</td>\n",
       "      <td>gbm</td>\n",
       "      <td>SEG_CG_HGG-GBM_U_0002_t1--2</td>\n",
       "      <td>CG_HGG-GBM_U_0002</td>\n",
       "      <td>F</td>\n",
       "      <td>173.03</td>\n",
       "      <td>CG</td>\n",
       "      <td>-7.566182</td>\n",
       "      <td>8.172598</td>\n",
       "      <td>6.790207e+06</td>\n",
       "      <td>...</td>\n",
       "      <td>0.212846</td>\n",
       "      <td>0.000455</td>\n",
       "      <td>5301.731773</td>\n",
       "      <td>0.323197</td>\n",
       "      <td>0.587892</td>\n",
       "      <td>2156.228766</td>\n",
       "      <td>0.000306</td>\n",
       "      <td>8.409433</td>\n",
       "      <td>0.209840</td>\n",
       "      <td>701.278242</td>\n",
       "    </tr>\n",
       "    <tr>\n",
       "      <th>2</th>\n",
       "      <td>hgg</td>\n",
       "      <td>gbm</td>\n",
       "      <td>SEG_CG_HGG-GBM_U_0004_t1--4</td>\n",
       "      <td>CG_HGG-GBM_U_0004</td>\n",
       "      <td>F</td>\n",
       "      <td>125.95</td>\n",
       "      <td>CG</td>\n",
       "      <td>-3.567419</td>\n",
       "      <td>7.906178</td>\n",
       "      <td>7.601416e+05</td>\n",
       "      <td>...</td>\n",
       "      <td>0.142862</td>\n",
       "      <td>0.001260</td>\n",
       "      <td>2421.581086</td>\n",
       "      <td>0.435380</td>\n",
       "      <td>0.685791</td>\n",
       "      <td>1561.312002</td>\n",
       "      <td>0.000963</td>\n",
       "      <td>7.738957</td>\n",
       "      <td>0.304734</td>\n",
       "      <td>707.466575</td>\n",
       "    </tr>\n",
       "    <tr>\n",
       "      <th>3</th>\n",
       "      <td>hgg</td>\n",
       "      <td>gbm</td>\n",
       "      <td>SEG_CG_HGG-GBM_U_0005_t1--5</td>\n",
       "      <td>CG_HGG-GBM_U_0005</td>\n",
       "      <td>M</td>\n",
       "      <td>187.69</td>\n",
       "      <td>CG</td>\n",
       "      <td>-21.205755</td>\n",
       "      <td>16.094303</td>\n",
       "      <td>2.224015e+06</td>\n",
       "      <td>...</td>\n",
       "      <td>0.009301</td>\n",
       "      <td>0.000868</td>\n",
       "      <td>2175.391514</td>\n",
       "      <td>0.456919</td>\n",
       "      <td>0.702930</td>\n",
       "      <td>2638.646357</td>\n",
       "      <td>0.000778</td>\n",
       "      <td>7.778781</td>\n",
       "      <td>0.407062</td>\n",
       "      <td>38.388005</td>\n",
       "    </tr>\n",
       "    <tr>\n",
       "      <th>4</th>\n",
       "      <td>hgg</td>\n",
       "      <td>gbm</td>\n",
       "      <td>SEG_CG_HGG-GBM_U_0006_t1--6</td>\n",
       "      <td>CG_HGG-GBM_U_0006</td>\n",
       "      <td>F</td>\n",
       "      <td>178.75</td>\n",
       "      <td>CG</td>\n",
       "      <td>-55.605650</td>\n",
       "      <td>39.201261</td>\n",
       "      <td>3.232483e+07</td>\n",
       "      <td>...</td>\n",
       "      <td>0.028004</td>\n",
       "      <td>0.000851</td>\n",
       "      <td>4260.799827</td>\n",
       "      <td>0.369220</td>\n",
       "      <td>0.630369</td>\n",
       "      <td>1946.390352</td>\n",
       "      <td>0.000543</td>\n",
       "      <td>8.191996</td>\n",
       "      <td>0.366955</td>\n",
       "      <td>36.107462</td>\n",
       "    </tr>\n",
       "  </tbody>\n",
       "</table>\n",
       "<p>5 rows × 1807 columns</p>\n",
       "</div>"
      ],
      "text/plain": [
       "  path subgroup                       seg_id                 id gender  \\\n",
       "0  hgg      gbm  SEG_CG_HGG-GBM_U_0001_t1--1  CG_HGG-GBM_U_0001      F   \n",
       "1  hgg      gbm  SEG_CG_HGG-GBM_U_0002_t1--2  CG_HGG-GBM_U_0002      F   \n",
       "2  hgg      gbm  SEG_CG_HGG-GBM_U_0004_t1--4  CG_HGG-GBM_U_0004      F   \n",
       "3  hgg      gbm  SEG_CG_HGG-GBM_U_0005_t1--5  CG_HGG-GBM_U_0005      M   \n",
       "4  hgg      gbm  SEG_CG_HGG-GBM_U_0006_t1--6  CG_HGG-GBM_U_0006      F   \n",
       "\n",
       "      age institution  t1_log-sigma-1-mm-3D_firstorder_10Percentile  \\\n",
       "0  215.15          CG                                    -81.317188   \n",
       "1  173.03          CG                                     -7.566182   \n",
       "2  125.95          CG                                     -3.567419   \n",
       "3  187.69          CG                                    -21.205755   \n",
       "4  178.75          CG                                    -55.605650   \n",
       "\n",
       "   t1_log-sigma-1-mm-3D_firstorder_90Percentile  \\\n",
       "0                                     52.088432   \n",
       "1                                      8.172598   \n",
       "2                                      7.906178   \n",
       "3                                     16.094303   \n",
       "4                                     39.201261   \n",
       "\n",
       "   t1_log-sigma-1-mm-3D_firstorder_Energy  ...  \\\n",
       "0                            7.419751e+07  ...   \n",
       "1                            6.790207e+06  ...   \n",
       "2                            7.601416e+05  ...   \n",
       "3                            2.224015e+06  ...   \n",
       "4                            3.232483e+07  ...   \n",
       "\n",
       "   t2_wavelet-LLL_glszm_LargeAreaLowGrayLevelEmphasis  \\\n",
       "0                                           0.055566    \n",
       "1                                           0.212846    \n",
       "2                                           0.142862    \n",
       "3                                           0.009301    \n",
       "4                                           0.028004    \n",
       "\n",
       "   t2_wavelet-LLL_glszm_LowGrayLevelZoneEmphasis  \\\n",
       "0                                       0.000793   \n",
       "1                                       0.000455   \n",
       "2                                       0.001260   \n",
       "3                                       0.000868   \n",
       "4                                       0.000851   \n",
       "\n",
       "   t2_wavelet-LLL_glszm_SizeZoneNonUniformity  \\\n",
       "0                                 7161.758273   \n",
       "1                                 5301.731773   \n",
       "2                                 2421.581086   \n",
       "3                                 2175.391514   \n",
       "4                                 4260.799827   \n",
       "\n",
       "   t2_wavelet-LLL_glszm_SizeZoneNonUniformityNormalized  \\\n",
       "0                                           0.572483      \n",
       "1                                           0.323197      \n",
       "2                                           0.435380      \n",
       "3                                           0.456919      \n",
       "4                                           0.369220      \n",
       "\n",
       "   t2_wavelet-LLL_glszm_SmallAreaEmphasis  \\\n",
       "0                                0.784856   \n",
       "1                                0.587892   \n",
       "2                                0.685791   \n",
       "3                                0.702930   \n",
       "4                                0.630369   \n",
       "\n",
       "   t2_wavelet-LLL_glszm_SmallAreaHighGrayLevelEmphasis  \\\n",
       "0                                       11492.221292     \n",
       "1                                        2156.228766     \n",
       "2                                        1561.312002     \n",
       "3                                        2638.646357     \n",
       "4                                        1946.390352     \n",
       "\n",
       "   t2_wavelet-LLL_glszm_SmallAreaLowGrayLevelEmphasis  \\\n",
       "0                                           0.000394    \n",
       "1                                           0.000306    \n",
       "2                                           0.000963    \n",
       "3                                           0.000778    \n",
       "4                                           0.000543    \n",
       "\n",
       "   t2_wavelet-LLL_glszm_ZoneEntropy  t2_wavelet-LLL_glszm_ZonePercentage  \\\n",
       "0                          8.111180                             0.443979   \n",
       "1                          8.409433                             0.209840   \n",
       "2                          7.738957                             0.304734   \n",
       "3                          7.778781                             0.407062   \n",
       "4                          8.191996                             0.366955   \n",
       "\n",
       "   t2_wavelet-LLL_glszm_ZoneVariance  \n",
       "0                         332.667011  \n",
       "1                         701.278242  \n",
       "2                         707.466575  \n",
       "3                          38.388005  \n",
       "4                          36.107462  \n",
       "\n",
       "[5 rows x 1807 columns]"
      ]
     },
     "execution_count": 16,
     "metadata": {},
     "output_type": "execute_result"
    }
   ],
   "source": [
    "df.head()"
   ]
  },
  {
   "cell_type": "code",
   "execution_count": 17,
   "metadata": {},
   "outputs": [],
   "source": [
    "reduced_features = pd.read_excel(\"/Users/michaelzhang/Desktop/pnet_features/pnet-hgg_LASSO.xlsx\")"
   ]
  },
  {
   "cell_type": "code",
   "execution_count": 18,
   "metadata": {},
   "outputs": [],
   "source": [
    "reduced_features_list = reduced_features.loc[reduced_features['pnet_hgg'].isnull() == False, ['pnet_hgg']].values.tolist()"
   ]
  },
  {
   "cell_type": "code",
   "execution_count": 19,
   "metadata": {},
   "outputs": [],
   "source": [
    "reduced_features_list = [item for sublist in reduced_features_list for item in sublist]"
   ]
  },
  {
   "cell_type": "code",
   "execution_count": 20,
   "metadata": {},
   "outputs": [
    {
     "data": {
      "text/plain": [
       "['age',\n",
       " 't1_log-sigma-3-mm-3D_glcm_InverseVariance',\n",
       " 't1_original_shape_Flatness',\n",
       " 't1_wavelet-HHH_glszm_SmallAreaEmphasis',\n",
       " 't1_wavelet-HLH_firstorder_Mean',\n",
       " 't1_wavelet-HLL_firstorder_Median',\n",
       " 't1_wavelet-LHL_firstorder_Median',\n",
       " 't2_log-sigma-1-mm-3D_glcm_ClusterShade',\n",
       " 't2_log-sigma-3-mm-3D_glszm_LargeAreaHighGrayLevelEmphasis',\n",
       " 't2_original_glcm_Imc2',\n",
       " 't2_original_shape_Flatness',\n",
       " 't2_wavelet-HHH_glcm_Idn',\n",
       " 't2_wavelet-HHH_glszm_ZoneVariance',\n",
       " 't2_wavelet-HHL_firstorder_Median',\n",
       " 't2_wavelet-HLH_firstorder_Skewness',\n",
       " 't2_wavelet-LLH_firstorder_Skewness',\n",
       " 't2_wavelet-LLL_firstorder_Skewness',\n",
       " 't1_wavelet-LLH_glcm_Idn',\n",
       " 't2_wavelet-HLL_glcm_InverseVariance',\n",
       " 't1_wavelet-HHH_glszm_SizeZoneNonUniformityNormalized',\n",
       " 't1_wavelet-HHH_glszm_SmallAreaLowGrayLevelEmphasis',\n",
       " 't1_wavelet-LLH_firstorder_Kurtosis',\n",
       " 't2_wavelet-HHL_glrlm_LongRunHighGrayLevelEmphasis']"
      ]
     },
     "execution_count": 20,
     "metadata": {},
     "output_type": "execute_result"
    }
   ],
   "source": [
    "reduced_features_list"
   ]
  },
  {
   "cell_type": "code",
   "execution_count": 21,
   "metadata": {},
   "outputs": [],
   "source": [
    "target = df[\"path\"]"
   ]
  },
  {
   "cell_type": "code",
   "execution_count": 22,
   "metadata": {},
   "outputs": [
    {
     "data": {
      "text/plain": [
       "hgg     134\n",
       "pnet     50\n",
       "Name: path, dtype: int64"
      ]
     },
     "execution_count": 22,
     "metadata": {},
     "output_type": "execute_result"
    }
   ],
   "source": [
    "target.value_counts()"
   ]
  },
  {
   "cell_type": "code",
   "execution_count": 23,
   "metadata": {},
   "outputs": [],
   "source": [
    "#Marking 0 as hgg and 1 pnet\n",
    "mapping_dict = {0: 'hgg', 1: 'pnet'} ##\n",
    "target = target.map(dict(hgg = 0, pnet = 1)) ##"
   ]
  },
  {
   "cell_type": "code",
   "execution_count": 24,
   "metadata": {},
   "outputs": [],
   "source": [
    "features_after_lasso = df[reduced_features_list]"
   ]
  },
  {
   "cell_type": "code",
   "execution_count": 25,
   "metadata": {},
   "outputs": [],
   "source": [
    "X_train, X_test, y_train, y_test = train_test_split(features_after_lasso, target, \n",
    "                                                    test_size = 0.25, random_state = 42)"
   ]
  },
  {
   "cell_type": "code",
   "execution_count": 26,
   "metadata": {},
   "outputs": [
    {
     "data": {
      "text/plain": [
       "0    99\n",
       "1    39\n",
       "Name: path, dtype: int64"
      ]
     },
     "execution_count": 26,
     "metadata": {},
     "output_type": "execute_result"
    }
   ],
   "source": [
    "y_train.value_counts()"
   ]
  },
  {
   "cell_type": "code",
   "execution_count": 27,
   "metadata": {},
   "outputs": [
    {
     "data": {
      "text/plain": [
       "0    35\n",
       "1    11\n",
       "Name: path, dtype: int64"
      ]
     },
     "execution_count": 27,
     "metadata": {},
     "output_type": "execute_result"
    }
   ],
   "source": [
    "y_test.value_counts()"
   ]
  },
  {
   "cell_type": "code",
   "execution_count": 28,
   "metadata": {},
   "outputs": [
    {
     "data": {
      "text/plain": [
       "0.26595744680851063"
      ]
     },
     "execution_count": 28,
     "metadata": {},
     "output_type": "execute_result"
    }
   ],
   "source": [
    "NIR = 50/188\n",
    "NIR"
   ]
  },
  {
   "cell_type": "markdown",
   "metadata": {},
   "source": [
    "# Resampling to Correct for Imbalance"
   ]
  },
  {
   "cell_type": "code",
   "execution_count": 29,
   "metadata": {},
   "outputs": [],
   "source": [
    "X = pd.concat([X_train, y_train], axis = 1)\n",
    "X_0 = X[X['path'] == 0]\n",
    "X_1 = X[X['path'] == 1]"
   ]
  },
  {
   "cell_type": "code",
   "execution_count": 30,
   "metadata": {},
   "outputs": [],
   "source": [
    "upsampled_0 = resample(X_0, replace = True, n_samples = len(X_1), random_state = 42)\n",
    "upsampled = pd.concat([upsampled_0, X_1])\n",
    "upsampled = upsampled.sample(frac = 1, random_state = 42)"
   ]
  },
  {
   "cell_type": "code",
   "execution_count": 31,
   "metadata": {},
   "outputs": [],
   "source": [
    "X_train = upsampled.iloc[:, :-1]\n",
    "y_train = upsampled.iloc[:, -1]"
   ]
  },
  {
   "cell_type": "code",
   "execution_count": 32,
   "metadata": {},
   "outputs": [
    {
     "data": {
      "text/plain": [
       "1    39\n",
       "0    39\n",
       "Name: path, dtype: int64"
      ]
     },
     "execution_count": 32,
     "metadata": {},
     "output_type": "execute_result"
    }
   ],
   "source": [
    "y_train.value_counts()"
   ]
  },
  {
   "cell_type": "markdown",
   "metadata": {},
   "source": [
    "# Standardizing Features"
   ]
  },
  {
   "cell_type": "code",
   "execution_count": 33,
   "metadata": {},
   "outputs": [],
   "source": [
    "names = X_train.columns\n",
    "scaler = preprocessing.StandardScaler()"
   ]
  },
  {
   "cell_type": "code",
   "execution_count": 34,
   "metadata": {},
   "outputs": [],
   "source": [
    "X_train = scaler.fit_transform(X_train)\n",
    "X_train = pd.DataFrame(X_train, columns = names)"
   ]
  },
  {
   "cell_type": "code",
   "execution_count": 35,
   "metadata": {},
   "outputs": [],
   "source": [
    "X_test = scaler.transform(X_test)\n",
    "X_test = pd.DataFrame(X_test, columns = names)"
   ]
  },
  {
   "cell_type": "code",
   "execution_count": 36,
   "metadata": {},
   "outputs": [],
   "source": [
    "def create_ci(bootstrapped_scores, name):\n",
    "    sorted_scores = np.array(bootstrapped_scores)\n",
    "    sorted_scores.sort()\n",
    "    \n",
    "    confidence_lower = sorted_scores[int(0.025 * len(sorted_scores))]\n",
    "    confidence_upper = sorted_scores[int(0.975 * len(sorted_scores))]\n",
    "    \n",
    "    print(\"95% Confidence interval for the {} score: [{:0.4f} - {:0.4}]\".format(name, \n",
    "    confidence_lower, confidence_upper))"
   ]
  },
  {
   "cell_type": "code",
   "execution_count": 37,
   "metadata": {},
   "outputs": [],
   "source": [
    "def specificity_score(y_true, y_pred):\n",
    "    TN = 0\n",
    "    FP = 0\n",
    "    for i in range(len(y_true)):\n",
    "        if y_true[i] == y_pred[i] == 0:\n",
    "            TN += 1\n",
    "        elif y_true[i] == 0 and y_pred[i] == 1:\n",
    "            FP += 1\n",
    "    \n",
    "    return TN / (TN + FP)"
   ]
  },
  {
   "cell_type": "code",
   "execution_count": 38,
   "metadata": {},
   "outputs": [],
   "source": [
    "def positive_pv_score(y_true, y_pred):\n",
    "    TP = 0\n",
    "    FP = 0\n",
    "    for i in range(len(y_true)):\n",
    "        if y_true[i] == y_pred[i] == 1:\n",
    "            TP += 1\n",
    "        elif y_true[i] == 0 and y_pred[i] == 1:\n",
    "            FP += 1\n",
    "    \n",
    "    return TP/(TP+FP)"
   ]
  },
  {
   "cell_type": "code",
   "execution_count": 39,
   "metadata": {},
   "outputs": [],
   "source": [
    "def negative_pv_score(y_true, y_pred):\n",
    "    TN = 0\n",
    "    FN = 0\n",
    "    for i in range(len(y_true)):\n",
    "        if y_true[i] == y_pred[i] == 0:\n",
    "            TN += 1\n",
    "        elif y_true[i] == 1 and y_pred[i] == 0:\n",
    "            FN += 1\n",
    "    \n",
    "    return TN/(TN+FN)        "
   ]
  },
  {
   "cell_type": "markdown",
   "metadata": {},
   "source": [
    "# SVM"
   ]
  },
  {
   "cell_type": "markdown",
   "metadata": {},
   "source": [
    "### Grid Search for Hyperparameters"
   ]
  },
  {
   "cell_type": "code",
   "execution_count": 40,
   "metadata": {},
   "outputs": [],
   "source": [
    "svm_model = svm.SVC()\n",
    "grid_param = {'C': [0.1, 1, 10, 100, 1000],\n",
    "              'gamma': [1, 0.1, 0.01, 0.001, 0.0001],\n",
    "              'kernel': ['rbf', 'sigmoid', 'linear']\n",
    "}\n",
    "\n",
    "svm_grid = GridSearchCV(estimator=svm_model,\n",
    "                     param_grid=grid_param,\n",
    "                     scoring='accuracy',\n",
    "                     cv=5,\n",
    "                     n_jobs=-1)"
   ]
  },
  {
   "cell_type": "code",
   "execution_count": 41,
   "metadata": {},
   "outputs": [
    {
     "data": {
      "text/plain": [
       "GridSearchCV(cv=5, estimator=SVC(), n_jobs=-1,\n",
       "             param_grid={'C': [0.1, 1, 10, 100, 1000],\n",
       "                         'gamma': [1, 0.1, 0.01, 0.001, 0.0001],\n",
       "                         'kernel': ['rbf', 'sigmoid', 'linear']},\n",
       "             scoring='accuracy')"
      ]
     },
     "execution_count": 41,
     "metadata": {},
     "output_type": "execute_result"
    }
   ],
   "source": [
    "svm_grid.fit(X_train, y_train)"
   ]
  },
  {
   "cell_type": "code",
   "execution_count": 42,
   "metadata": {},
   "outputs": [
    {
     "name": "stdout",
     "output_type": "stream",
     "text": [
      "{'C': 10, 'gamma': 0.01, 'kernel': 'rbf'}\n"
     ]
    }
   ],
   "source": [
    "print(svm_grid.best_params_)"
   ]
  },
  {
   "cell_type": "markdown",
   "metadata": {},
   "source": [
    "### Model Performance"
   ]
  },
  {
   "cell_type": "code",
   "execution_count": 43,
   "metadata": {},
   "outputs": [],
   "source": [
    "svm_model = svm.SVC(C = 1, gamma = 1, kernel = 'rbf', probability = True)\n",
    "svm_model.fit(X_train, y_train)\n",
    "y_pred = svm_model.predict(X_test)"
   ]
  },
  {
   "cell_type": "code",
   "execution_count": 44,
   "metadata": {},
   "outputs": [],
   "source": [
    "y_train_pred = svm_model.predict(X_train)"
   ]
  },
  {
   "cell_type": "code",
   "execution_count": 45,
   "metadata": {},
   "outputs": [
    {
     "name": "stdout",
     "output_type": "stream",
     "text": [
      "Accuracy Score: 0.2391304347826087\n",
      "Specificity Score: 0.0\n",
      "Precision: 0.2391304347826087\n",
      "Recall: 1.0\n",
      "F1 Score: 0.3859649122807018\n",
      "PPV Score: 0.2391304347826087\n"
     ]
    }
   ],
   "source": [
    "print(\"Accuracy Score: \" + str(accuracy_score(y_test, y_pred)))\n",
    "print(\"Specificity Score: \" + str(specificity_score(y_test.to_numpy(), y_pred)))\n",
    "print(\"Precision: \" + str(precision_score(y_test, y_pred)))\n",
    "print(\"Recall: \" + str(recall_score(y_test, y_pred)))\n",
    "print(\"F1 Score: \" + str(f1_score(y_test, y_pred)))\n",
    "\n",
    "print(\"PPV Score: \" + str(positive_pv_score(y_test.to_numpy(), y_pred)))\n",
    "#print(\"NPV Score: \" + str(negative_pv_score(y_test.to_numpy(), y_pred)))\n"
   ]
  },
  {
   "cell_type": "code",
   "execution_count": 46,
   "metadata": {},
   "outputs": [
    {
     "name": "stdout",
     "output_type": "stream",
     "text": [
      "AUC: 0.7974025974025974\n"
     ]
    }
   ],
   "source": [
    "svm_probs = svm_model.predict_proba(X_test)[:,1]\n",
    "fpr, tpr, thresholds = roc_curve(y_test, svm_probs)\n",
    "auc = roc_auc_score(y_test, svm_probs)\n",
    "print(\"AUC: \" + str(auc))"
   ]
  },
  {
   "cell_type": "code",
   "execution_count": 47,
   "metadata": {},
   "outputs": [
    {
     "data": {
      "image/png": "[encoded data removed]",
      "text/plain": [
       "<Figure size 504x504 with 1 Axes>"
      ]
     },
     "metadata": {},
     "output_type": "display_data"
    }
   ],
   "source": [
    "plt.figure(figsize=(7, 7)) ##\n",
    "\n",
    "ns_preds = [0 for _ in range(len(y_test))]\n",
    "\n",
    "ns_fpr, ns_tpr, _ = roc_curve(y_test, ns_preds)\n",
    "\n",
    "plt.plot(ns_fpr, ns_tpr, linestyle='--', label='No Skill')\n",
    "plt.plot(fpr, tpr, marker='.', label='SVM')\n",
    "plt.xlabel('1 - Specificity (False Positive Rate)',fontsize=16)\n",
    "plt.ylabel('Sensitivity (True Positive Rate)',fontsize=16)\n",
    "\n",
    "plt.legend(loc='lower right')\n",
    "plt.title('SVM: ROC Curve for Test Set', fontsize=20, fontweight=\"semibold\")\n",
    "short_auc = round(auc,4)\n",
    "plt.text(.93,.1, \"AUC: \" + str(short_auc), \n",
    "        horizontalalignment=\"center\", verticalalignment=\"center\",\n",
    "        fontsize=14, fontweight=\"semibold\")\n",
    "    \n",
    "plt.show()"
   ]
  },
  {
   "cell_type": "code",
   "execution_count": 48,
   "metadata": {},
   "outputs": [],
   "source": [
    "#sns.reset_orig()"
   ]
  },
  {
   "cell_type": "code",
   "execution_count": 49,
   "metadata": {},
   "outputs": [
    {
     "data": {
      "image/png": "[encoded data removed]",
      "text/plain": [
       "<Figure size 432x288 with 2 Axes>"
      ]
     },
     "metadata": {},
     "output_type": "display_data"
    }
   ],
   "source": [
    "matrix = plot_confusion_matrix(svm_model, X_test, y_test,\n",
    "                               cmap=plt.cm.Blues)\n",
    "plt.title('SVM Confusion Matrix')\n",
    "plt.show(matrix)\n",
    "plt.show()"
   ]
  },
  {
   "cell_type": "code",
   "execution_count": 50,
   "metadata": {},
   "outputs": [],
   "source": [
    "#n_bootstraps = 2000\n",
    "#rng_seed = 42  # control reproducibility\n",
    "#bootstrapped_auc_scores = []\n",
    "#bootstrapped_acc_scores = []\n",
    "#bootstrapped_spec_scores = []\n",
    "#bootstrapped_prec_scores = []\n",
    "#bootstrapped_rec_scores = []\n",
    "#bootstrapped_f1_scores = []\n",
    "#bootstrapped_ppv_scores = []\n",
    "#bootstrapped_npv_scores = []\n",
    "\n",
    "#rng = np.random.RandomState(rng_seed)\n",
    "#for i in range(n_bootstraps):\n",
    "#    # bootstrap by sampling with replacement on the prediction indices\n",
    "#    indices = rng.randint(0, len(svm_probs), len(svm_probs))\n",
    "#    if len(np.unique(y_test.to_numpy()[indices])) < 2:\n",
    "#        # We need at least one positive and one negative sample for ROC AUC\n",
    "#        # to be defined: reject the sample\n",
    "#        continue\n",
    "\n",
    "#    auc_score = roc_auc_score(y_test.to_numpy()[indices], svm_probs[indices])\n",
    "#    acc_score = accuracy_score(y_test.to_numpy()[indices], y_pred[indices])\n",
    "#    spec_score = specificity_score(y_test.to_numpy()[indices], y_pred[indices])\n",
    "#    prec_score = precision_score(y_test.to_numpy()[indices], y_pred[indices])\n",
    "#    rec_score = recall_score(y_test.to_numpy()[indices], y_pred[indices])\n",
    "#    f_one_score = f1_score(y_test.to_numpy()[indices].astype('float64'), y_pred[indices].astype('float64'))\n",
    "#    ppv_score = positive_pv_score(y_test.to_numpy()[indices], y_pred[indices])\n",
    "#    npv_score = negative_pv_score(y_test.to_numpy()[indices], y_pred[indices])\n",
    "\n",
    "#    bootstrapped_auc_scores.append(auc_score)\n",
    "#    bootstrapped_acc_scores.append(acc_score)\n",
    "#    bootstrapped_spec_scores.append(spec_score)\n",
    "#    bootstrapped_prec_scores.append(prec_score)\n",
    "#    bootstrapped_rec_scores.append(rec_score)\n",
    "#    bootstrapped_f1_scores.append(f_one_score)\n",
    "#    bootstrapped_ppv_scores.append(ppv_score)\n",
    "#    bootstrapped_npv_scores.append(npv_score)"
   ]
  },
  {
   "cell_type": "code",
   "execution_count": 51,
   "metadata": {},
   "outputs": [],
   "source": [
    "#plt.hist(bootstrapped_auc_scores, bins=50)\n",
    "#plt.title('Histogram of the bootstrapped ROC AUC scores')\n",
    "#plt.show()"
   ]
  },
  {
   "cell_type": "code",
   "execution_count": 52,
   "metadata": {},
   "outputs": [],
   "source": [
    "#create_ci(bootstrapped_auc_scores, \"AUC\")\n",
    "#create_ci(bootstrapped_acc_scores, \"Accuracy\")\n",
    "#create_ci(bootstrapped_spec_scores, \"Specificity\")\n",
    "#create_ci(bootstrapped_prec_scores, \"Precision\")\n",
    "#create_ci(bootstrapped_rec_scores, \"Recall\")\n",
    "#create_ci(bootstrapped_f1_scores, \"F1\")\n",
    "#create_ci(bootstrapped_ppv_scores, \"PPV\")\n",
    "#create_ci(bootstrapped_npv_scores, \"NPV\")"
   ]
  },
  {
   "cell_type": "markdown",
   "metadata": {},
   "source": [
    "# Logistic Regression"
   ]
  },
  {
   "cell_type": "markdown",
   "metadata": {},
   "source": [
    "### Grid Search for Hyperparameters"
   ]
  },
  {
   "cell_type": "code",
   "execution_count": 53,
   "metadata": {},
   "outputs": [],
   "source": [
    "lr_model = LogisticRegression()\n",
    "grid_param = {'penalty': ['l1', 'l2', 'elasticnet', 'none'],\n",
    "              'C': [10, 1, 0.1, 0.01, 0.001]\n",
    "}\n",
    "\n",
    "lr_grid = GridSearchCV(estimator=lr_model,\n",
    "                     param_grid=grid_param,\n",
    "                     scoring='accuracy',\n",
    "                     cv=5,\n",
    "                     n_jobs=-1)"
   ]
  },
  {
   "cell_type": "code",
   "execution_count": 54,
   "metadata": {},
   "outputs": [
    {
     "data": {
      "text/plain": [
       "GridSearchCV(cv=5, estimator=LogisticRegression(), n_jobs=-1,\n",
       "             param_grid={'C': [10, 1, 0.1, 0.01, 0.001],\n",
       "                         'penalty': ['l1', 'l2', 'elasticnet', 'none']},\n",
       "             scoring='accuracy')"
      ]
     },
     "execution_count": 54,
     "metadata": {},
     "output_type": "execute_result"
    }
   ],
   "source": [
    "lr_grid.fit(X_train, y_train)"
   ]
  },
  {
   "cell_type": "code",
   "execution_count": 55,
   "metadata": {},
   "outputs": [
    {
     "name": "stdout",
     "output_type": "stream",
     "text": [
      "{'C': 10, 'penalty': 'l2'}\n"
     ]
    }
   ],
   "source": [
    "print(lr_grid.best_params_)"
   ]
  },
  {
   "cell_type": "markdown",
   "metadata": {},
   "source": [
    "### Model Performance"
   ]
  },
  {
   "cell_type": "code",
   "execution_count": 56,
   "metadata": {},
   "outputs": [],
   "source": [
    "lr_model = LogisticRegression(penalty = 'l2', C = 1)\n",
    "lr_model.fit(X_train, y_train)\n",
    "y_pred = lr_model.predict(X_test)"
   ]
  },
  {
   "cell_type": "code",
   "execution_count": 57,
   "metadata": {},
   "outputs": [
    {
     "name": "stdout",
     "output_type": "stream",
     "text": [
      "Accuracy Score: 0.8695652173913043\n",
      "Specificity Score: 0.8571428571428571\n",
      "Precision: 0.6666666666666666\n",
      "Recall: 0.9090909090909091\n",
      "F1 Score: 0.7692307692307692\n",
      "PPV Score: 0.6666666666666666\n",
      "NPV Score: 0.967741935483871\n"
     ]
    }
   ],
   "source": [
    "print(\"Accuracy Score: \" + str(accuracy_score(y_test, y_pred)))\n",
    "print(\"Specificity Score: \" + str(specificity_score(y_test.to_numpy(), y_pred)))\n",
    "print(\"Precision: \" + str(precision_score(y_test, y_pred)))\n",
    "print(\"Recall: \" + str(recall_score(y_test, y_pred)))\n",
    "print(\"F1 Score: \" + str(f1_score(y_test, y_pred)))\n",
    "\n",
    "print(\"PPV Score: \" + str(positive_pv_score(y_test.to_numpy(), y_pred)))\n",
    "print(\"NPV Score: \" + str(negative_pv_score(y_test.to_numpy(), y_pred)))\n"
   ]
  },
  {
   "cell_type": "code",
   "execution_count": 58,
   "metadata": {},
   "outputs": [
    {
     "name": "stdout",
     "output_type": "stream",
     "text": [
      "AUC: 0.9168831168831169\n"
     ]
    }
   ],
   "source": [
    "lr_probs = lr_model.predict_proba(X_test)[:,1]\n",
    "fpr, tpr, thresholds = roc_curve(y_test, lr_probs)\n",
    "auc = roc_auc_score(y_test, lr_probs)\n",
    "print(\"AUC: \" + str(auc))"
   ]
  },
  {
   "cell_type": "code",
   "execution_count": 59,
   "metadata": {},
   "outputs": [
    {
     "data": {
      "image/png": "[encoded data removed]",
      "text/plain": [
       "<Figure size 504x504 with 1 Axes>"
      ]
     },
     "metadata": {},
     "output_type": "display_data"
    }
   ],
   "source": [
    "plt.figure(figsize=(7, 7)) ##\n",
    "\n",
    "ns_preds = [0 for _ in range(len(y_test))]\n",
    "\n",
    "ns_fpr, ns_tpr, _ = roc_curve(y_test, ns_preds)\n",
    "\n",
    "plt.plot(ns_fpr, ns_tpr, linestyle='--', label='No Skill')\n",
    "plt.plot(fpr, tpr, marker='.', label='Logistic Regression')\n",
    "plt.xlabel('1 - Specificity (False Positive Rate)',fontsize=16)\n",
    "plt.ylabel('Sensitivity (True Positive Rate)',fontsize=16)\n",
    "\n",
    "plt.legend(loc='lower right')\n",
    "plt.title('LR: ROC Curve for Test Set', fontsize=20, fontweight=\"semibold\")\n",
    "short_auc = round(auc,4)\n",
    "plt.text(.93,.1, \"AUC: \" + str(short_auc), \n",
    "        horizontalalignment=\"center\", verticalalignment=\"center\",\n",
    "        fontsize=14, fontweight=\"semibold\")\n",
    "    \n",
    "plt.show()"
   ]
  },
  {
   "cell_type": "code",
   "execution_count": 60,
   "metadata": {},
   "outputs": [
    {
     "data": {
      "image/png": "[encoded data removed]",
      "text/plain": [
       "<Figure size 432x288 with 2 Axes>"
      ]
     },
     "metadata": {},
     "output_type": "display_data"
    }
   ],
   "source": [
    "matrix = plot_confusion_matrix(lr_model, X_test, y_test,\n",
    "                               cmap=plt.cm.Blues)\n",
    "plt.title('Logistic Regression Confusion Matrix')\n",
    "plt.show(matrix)\n",
    "plt.show()"
   ]
  },
  {
   "cell_type": "code",
   "execution_count": 61,
   "metadata": {},
   "outputs": [],
   "source": [
    "#n_bootstraps = 2000\n",
    "#rng_seed = 42  # control reproducibility\n",
    "#bootstrapped_auc_scores = []\n",
    "#bootstrapped_acc_scores = []\n",
    "#bootstrapped_spec_scores = []\n",
    "#bootstrapped_prec_scores = []\n",
    "#bootstrapped_rec_scores = []\n",
    "#bootstrapped_f1_scores = []\n",
    "#bootstrapped_ppv_scores = []\n",
    "#bootstrapped_npv_scores = []\n",
    "\n",
    "#rng = np.random.RandomState(rng_seed)\n",
    "#for i in range(n_bootstraps):\n",
    "#    # bootstrap by sampling with replacement on the prediction indices\n",
    "#    indices = rng.randint(0, len(svm_probs), len(svm_probs))\n",
    "#    if len(np.unique(y_test.to_numpy()[indices])) < 2:\n",
    "#        # We need at least one positive and one negative sample for ROC AUC\n",
    "#        # to be defined: reject the sample\n",
    "#        continue\n",
    "\n",
    "#    auc_score = roc_auc_score(y_test.to_numpy()[indices], svm_probs[indices])\n",
    "#    acc_score = accuracy_score(y_test.to_numpy()[indices], y_pred[indices])\n",
    "#    spec_score = specificity_score(y_test.to_numpy()[indices], y_pred[indices])\n",
    "#    prec_score = precision_score(y_test.to_numpy()[indices], y_pred[indices])\n",
    "#    rec_score = recall_score(y_test.to_numpy()[indices], y_pred[indices])\n",
    "#    f_one_score = f1_score(y_test.to_numpy()[indices].astype('float64'), y_pred[indices].astype('float64'))\n",
    "#    ppv_score = positive_pv_score(y_test.to_numpy()[indices], y_pred[indices])\n",
    "#    npv_score = negative_pv_score(y_test.to_numpy()[indices], y_pred[indices])\n",
    "\n",
    "#    bootstrapped_auc_scores.append(auc_score)\n",
    "#    bootstrapped_acc_scores.append(acc_score)\n",
    "#    bootstrapped_spec_scores.append(spec_score)\n",
    "#    bootstrapped_prec_scores.append(prec_score)\n",
    "#    bootstrapped_rec_scores.append(rec_score)\n",
    "#    bootstrapped_f1_scores.append(f_one_score)\n",
    "#    bootstrapped_ppv_scores.append(ppv_score)\n",
    "#    bootstrapped_npv_scores.append(npv_score)"
   ]
  },
  {
   "cell_type": "code",
   "execution_count": 62,
   "metadata": {},
   "outputs": [],
   "source": [
    "#create_ci(bootstrapped_auc_scores, \"AUC\")\n",
    "#create_ci(bootstrapped_acc_scores, \"Accuracy\")\n",
    "#create_ci(bootstrapped_spec_scores, \"Specificity\")\n",
    "#create_ci(bootstrapped_prec_scores, \"Precision\")\n",
    "#create_ci(bootstrapped_rec_scores, \"Recall\")\n",
    "#create_ci(bootstrapped_f1_scores, \"F1\")\n",
    "#create_ci(bootstrapped_ppv_scores, \"PPV\")\n",
    "#create_ci(bootstrapped_npv_scores, \"NPV\")"
   ]
  },
  {
   "cell_type": "code",
   "execution_count": 63,
   "metadata": {},
   "outputs": [],
   "source": [
    "#feature_labels_dict = {'t1_original_shape_Elongation': 'T1 Original Shape Elongation', \n",
    "#                      't2_log-sigma-5-mm-3D_firstorder_90Percentile': 'T2 Log Sigma 5mm 3D 90th Percentile (1st Order)',\n",
    "#                          't2_original_shape_Elongation': 'T2 Original Shape Elongation',\n",
    "#                          't2_original_shape_Flatness': 'T2 Original Shape Flatness',\n",
    "#                      't2_wavelet-LLL_glcm_Idmn': 'T2 Wavelet LLL Glcm Idmn',\n",
    "#                      't2_wavelet-HLL_firstorder_Kurtosis': 'T2 Wavelet HLL Kurtosis (1st Order)',}"
   ]
  },
  {
   "cell_type": "code",
   "execution_count": 64,
   "metadata": {},
   "outputs": [],
   "source": [
    "sns.set()"
   ]
  },
  {
   "cell_type": "code",
   "execution_count": 65,
   "metadata": {},
   "outputs": [
    {
     "data": {
      "image/png": "[encoded data removed]",
      "text/plain": [
       "<Figure size 720x576 with 1 Axes>"
      ]
     },
     "metadata": {},
     "output_type": "display_data"
    }
   ],
   "source": [
    "feature_names = X_test.columns.to_list()\n",
    "importances = lr_model.coef_[0]\n",
    "importances = np.abs(importances) / np.sum(np.abs(importances))\n",
    "\n",
    "indices = np.argsort(importances)\n",
    "\n",
    "plt.figure(figsize=(10,8))\n",
    "plt.title('Logistic Regression: Feature Importance',fontsize=20, fontweight='semibold')\n",
    "plt.barh(range(len(indices)), importances[indices], color='b', align='center')\n",
    "plt.xlim(0, 0.20)\n",
    "for index, value in enumerate(importances[indices]):\n",
    "    plt.text(value, index, \" {:.1%}\".format(value), fontsize=14)\n",
    "#plt.yticks(range(len(indices)), [feature_labels_dict[feature_names[i]] for i in indices],fontsize=14)\n",
    "plt.yticks(range(len(indices)), [feature_names[i] for i in indices])\n",
    "plt.xlabel('Relative Importance',fontsize=16)\n",
    "plt.gca().xaxis.set_major_formatter(mtick.PercentFormatter(1))\n",
    "\n",
    "plt.show()"
   ]
  },
  {
   "cell_type": "code",
   "execution_count": 66,
   "metadata": {},
   "outputs": [],
   "source": [
    "#sns.reset_orig()"
   ]
  },
  {
   "cell_type": "markdown",
   "metadata": {},
   "source": [
    "# KNN"
   ]
  },
  {
   "cell_type": "markdown",
   "metadata": {},
   "source": [
    "### Grid Search for Hyperparameters"
   ]
  },
  {
   "cell_type": "code",
   "execution_count": 67,
   "metadata": {},
   "outputs": [],
   "source": [
    "knn_model = KNeighborsClassifier()\n",
    "grid_param = {'n_neighbors': [3, 5, 7, 9]\n",
    "}\n",
    "\n",
    "knn_grid = GridSearchCV(estimator=knn_model,\n",
    "                     param_grid=grid_param,\n",
    "                     scoring='accuracy',\n",
    "                     cv=5,\n",
    "                     n_jobs=-1)"
   ]
  },
  {
   "cell_type": "code",
   "execution_count": 68,
   "metadata": {},
   "outputs": [
    {
     "data": {
      "text/plain": [
       "GridSearchCV(cv=5, estimator=KNeighborsClassifier(), n_jobs=-1,\n",
       "             param_grid={'n_neighbors': [3, 5, 7, 9]}, scoring='accuracy')"
      ]
     },
     "execution_count": 68,
     "metadata": {},
     "output_type": "execute_result"
    }
   ],
   "source": [
    "knn_grid.fit(X_train, y_train)"
   ]
  },
  {
   "cell_type": "code",
   "execution_count": 69,
   "metadata": {},
   "outputs": [
    {
     "name": "stdout",
     "output_type": "stream",
     "text": [
      "{'n_neighbors': 7}\n"
     ]
    }
   ],
   "source": [
    "print(knn_grid.best_params_)"
   ]
  },
  {
   "cell_type": "markdown",
   "metadata": {},
   "source": [
    "### Model Performance"
   ]
  },
  {
   "cell_type": "code",
   "execution_count": 70,
   "metadata": {},
   "outputs": [],
   "source": [
    "knn_model = KNeighborsClassifier(n_neighbors = 3)\n",
    "knn_model.fit(X_train, y_train)\n",
    "y_pred = knn_model.predict(X_test)"
   ]
  },
  {
   "cell_type": "code",
   "execution_count": 71,
   "metadata": {},
   "outputs": [
    {
     "name": "stdout",
     "output_type": "stream",
     "text": [
      "Accuracy Score: 0.7391304347826086\n",
      "Specificity Score: 0.7142857142857143\n",
      "Precision: 0.47368421052631576\n",
      "Recall: 0.8181818181818182\n",
      "F1 Score: 0.6\n",
      "PPV Score: 0.47368421052631576\n",
      "NPV Score: 0.9259259259259259\n"
     ]
    }
   ],
   "source": [
    "print(\"Accuracy Score: \" + str(accuracy_score(y_test, y_pred)))\n",
    "print(\"Specificity Score: \" + str(specificity_score(y_test.to_numpy(), y_pred)))\n",
    "print(\"Precision: \" + str(precision_score(y_test, y_pred)))\n",
    "print(\"Recall: \" + str(recall_score(y_test, y_pred)))\n",
    "print(\"F1 Score: \" + str(f1_score(y_test, y_pred)))\n",
    "\n",
    "print(\"PPV Score: \" + str(positive_pv_score(y_test.to_numpy(), y_pred)))\n",
    "print(\"NPV Score: \" + str(negative_pv_score(y_test.to_numpy(), y_pred)))\n"
   ]
  },
  {
   "cell_type": "code",
   "execution_count": 72,
   "metadata": {},
   "outputs": [
    {
     "name": "stdout",
     "output_type": "stream",
     "text": [
      "AUC: 0.7974025974025973\n"
     ]
    }
   ],
   "source": [
    "knn_probs = knn_model.predict_proba(X_test)[:,1]\n",
    "fpr, tpr, thresholds = roc_curve(y_test, knn_probs)\n",
    "auc = roc_auc_score(y_test, knn_probs)\n",
    "print(\"AUC: \" + str(auc))"
   ]
  },
  {
   "cell_type": "code",
   "execution_count": 73,
   "metadata": {},
   "outputs": [
    {
     "data": {
      "image/png": "[encoded data removed]",
      "text/plain": [
       "<Figure size 504x504 with 1 Axes>"
      ]
     },
     "metadata": {},
     "output_type": "display_data"
    }
   ],
   "source": [
    "plt.figure(figsize=(7, 7)) ##\n",
    "\n",
    "ns_preds = [0 for _ in range(len(y_test))]\n",
    "\n",
    "ns_fpr, ns_tpr, _ = roc_curve(y_test, ns_preds)\n",
    "\n",
    "plt.plot(ns_fpr, ns_tpr, linestyle='--', label='No Skill')\n",
    "plt.plot(fpr, tpr, marker='.', label='K Nearest Neighbors')\n",
    "plt.xlabel('1 - Specificity (False Positive Rate)',fontsize=16)\n",
    "plt.ylabel('Sensitivity (True Positive Rate)',fontsize=16)\n",
    "\n",
    "plt.legend(loc='lower right')\n",
    "plt.title('KNN: ROC Curve for Test Set', fontsize=20, fontweight=\"semibold\")\n",
    "short_auc = round(auc,4)\n",
    "plt.text(.93,.1, \"AUC: \" + str(short_auc), \n",
    "        horizontalalignment=\"center\", verticalalignment=\"center\",\n",
    "        fontsize=14, fontweight=\"semibold\")\n",
    "    \n",
    "plt.show()"
   ]
  },
  {
   "cell_type": "code",
   "execution_count": null,
   "metadata": {},
   "outputs": [],
   "source": [
    "matrix = plot_confusion_matrix(knn_model, X_test, y_test,\n",
    "                               cmap=plt.cm.Blues)\n",
    "plt.title('KNN Confusion Matrix')\n",
    "plt.show(matrix)\n",
    "plt.show()"
   ]
  },
  {
   "cell_type": "code",
   "execution_count": null,
   "metadata": {},
   "outputs": [],
   "source": [
    "#n_bootstraps = 2000\n",
    "#rng_seed = 42  # control reproducibility\n",
    "#bootstrapped_auc_scores = []\n",
    "#bootstrapped_acc_scores = []\n",
    "#bootstrapped_spec_scores = []\n",
    "#bootstrapped_prec_scores = []\n",
    "#bootstrapped_rec_scores = []\n",
    "#bootstrapped_f1_scores = []\n",
    "#bootstrapped_ppv_scores = []\n",
    "#bootstrapped_npv_scores = []\n",
    "\n",
    "#rng = np.random.RandomState(rng_seed)\n",
    "#for i in range(n_bootstraps):\n",
    "#    # bootstrap by sampling with replacement on the prediction indices\n",
    "#    indices = rng.randint(0, len(svm_probs), len(svm_probs))\n",
    "#    if len(np.unique(y_test.to_numpy()[indices])) < 2:\n",
    "#        # We need at least one positive and one negative sample for ROC AUC\n",
    "#        # to be defined: reject the sample\n",
    "#        continue\n",
    "\n",
    "#    auc_score = roc_auc_score(y_test.to_numpy()[indices], svm_probs[indices])\n",
    "#    acc_score = accuracy_score(y_test.to_numpy()[indices], y_pred[indices])\n",
    "#    spec_score = specificity_score(y_test.to_numpy()[indices], y_pred[indices])\n",
    "#    prec_score = precision_score(y_test.to_numpy()[indices], y_pred[indices])\n",
    "#    rec_score = recall_score(y_test.to_numpy()[indices], y_pred[indices])\n",
    "#    f_one_score = f1_score(y_test.to_numpy()[indices].astype('float64'), y_pred[indices].astype('float64'))\n",
    "#    ppv_score = positive_pv_score(y_test.to_numpy()[indices], y_pred[indices])\n",
    "#    npv_score = negative_pv_score(y_test.to_numpy()[indices], y_pred[indices])\n",
    "\n",
    "#    bootstrapped_auc_scores.append(auc_score)\n",
    "#    bootstrapped_acc_scores.append(acc_score)\n",
    "#    bootstrapped_spec_scores.append(spec_score)\n",
    "#    bootstrapped_prec_scores.append(prec_score)\n",
    "#    bootstrapped_rec_scores.append(rec_score)\n",
    "#    bootstrapped_f1_scores.append(f_one_score)\n",
    "#    bootstrapped_ppv_scores.append(ppv_score)\n",
    "#    bootstrapped_npv_scores.append(npv_score)"
   ]
  },
  {
   "cell_type": "code",
   "execution_count": null,
   "metadata": {},
   "outputs": [],
   "source": [
    "#create_ci(bootstrapped_auc_scores, \"AUC\")\n",
    "#create_ci(bootstrapped_acc_scores, \"Accuracy\")\n",
    "#create_ci(bootstrapped_spec_scores, \"Specificity\")\n",
    "#create_ci(bootstrapped_prec_scores, \"Precision\")\n",
    "#create_ci(bootstrapped_rec_scores, \"Recall\")\n",
    "#create_ci(bootstrapped_f1_scores, \"F1\")\n",
    "#create_ci(bootstrapped_ppv_scores, \"PPV\")\n",
    "#create_ci(bootstrapped_npv_scores, \"NPV\")"
   ]
  },
  {
   "cell_type": "markdown",
   "metadata": {},
   "source": [
    "# Random Forest"
   ]
  },
  {
   "cell_type": "markdown",
   "metadata": {},
   "source": [
    "### Grid Search for Hyperparameters\n",
    " "
   ]
  },
  {
   "cell_type": "code",
   "execution_count": null,
   "metadata": {},
   "outputs": [],
   "source": [
    "rf_model = RandomForestClassifier(random_state = 42)\n",
    "grid_param = {'n_estimators': [None, 50, 100, 200, 300],\n",
    "              'max_depth': [1, 2, 3, 4]\n",
    "}\n",
    "\n",
    "rf_grid = GridSearchCV(estimator=rf_model,\n",
    "                     param_grid=grid_param,\n",
    "                     scoring='accuracy',\n",
    "                     cv=5,\n",
    "                     n_jobs=-1)"
   ]
  },
  {
   "cell_type": "code",
   "execution_count": null,
   "metadata": {},
   "outputs": [],
   "source": [
    "rf_grid.fit(X_train, y_train)"
   ]
  },
  {
   "cell_type": "code",
   "execution_count": null,
   "metadata": {},
   "outputs": [],
   "source": [
    "print(rf_grid.best_params_)"
   ]
  },
  {
   "cell_type": "markdown",
   "metadata": {},
   "source": [
    "### Model Performance"
   ]
  },
  {
   "cell_type": "code",
   "execution_count": null,
   "metadata": {},
   "outputs": [],
   "source": [
    "rf_model = RandomForestClassifier(max_depth = 3, n_estimators = 200, random_state = 42)\n",
    "rf_model.fit(X_train, y_train)\n",
    "y_pred = rf_model.predict(X_test)"
   ]
  },
  {
   "cell_type": "code",
   "execution_count": null,
   "metadata": {},
   "outputs": [],
   "source": [
    "print(\"Accuracy Score: \" + str(accuracy_score(y_test, y_pred)))\n",
    "print(\"Specificity Score: \" + str(specificity_score(y_test.to_numpy(), y_pred)))\n",
    "print(\"Precision: \" + str(precision_score(y_test, y_pred)))\n",
    "print(\"Recall: \" + str(recall_score(y_test, y_pred)))\n",
    "print(\"F1 Score: \" + str(f1_score(y_test, y_pred)))\n",
    "\n",
    "print(\"PPV Score: \" + str(positive_pv_score(y_test.to_numpy(), y_pred)))\n",
    "print(\"NPV Score: \" + str(negative_pv_score(y_test.to_numpy(), y_pred)))\n"
   ]
  },
  {
   "cell_type": "code",
   "execution_count": null,
   "metadata": {},
   "outputs": [],
   "source": [
    "rf_probs = rf_model.predict_proba(X_test)[:,1]\n",
    "fpr, tpr, thresholds = roc_curve(y_test, rf_probs)\n",
    "auc = roc_auc_score(y_test, rf_probs)\n",
    "print(\"AUC: \" + str(auc))"
   ]
  },
  {
   "cell_type": "code",
   "execution_count": null,
   "metadata": {},
   "outputs": [],
   "source": [
    "plt.figure(figsize=(7, 7)) ##\n",
    "\n",
    "ns_preds = [0 for _ in range(len(y_test))]\n",
    "\n",
    "ns_fpr, ns_tpr, _ = roc_curve(y_test, ns_preds)\n",
    "\n",
    "plt.plot(ns_fpr, ns_tpr, linestyle='--', label='No Skill')\n",
    "plt.plot(fpr, tpr, marker='.', label='Random Forest')\n",
    "plt.xlabel('1 - Specificity (False Positive Rate)',fontsize=16)\n",
    "plt.ylabel('Sensitivity (True Positive Rate)',fontsize=16)\n",
    "\n",
    "plt.legend(loc='lower right')\n",
    "plt.title('RF: ROC Curve for Test Set', fontsize=20, fontweight=\"semibold\")\n",
    "short_auc = round(auc,4)\n",
    "plt.text(.93,.1, \"AUC: \" + str(short_auc), \n",
    "        horizontalalignment=\"center\", verticalalignment=\"center\",\n",
    "        fontsize=14, fontweight=\"semibold\")\n",
    "    \n",
    "plt.show()"
   ]
  },
  {
   "cell_type": "code",
   "execution_count": null,
   "metadata": {},
   "outputs": [],
   "source": [
    "matrix = plot_confusion_matrix(rf_model, X_test, y_test,\n",
    "                               cmap=plt.cm.Blues)\n",
    "plt.title('Random Forest Confusion Matrix')\n",
    "plt.show(matrix)\n",
    "plt.show()"
   ]
  },
  {
   "cell_type": "code",
   "execution_count": null,
   "metadata": {},
   "outputs": [],
   "source": [
    "#n_bootstraps = 2000\n",
    "#rng_seed = 42  # control reproducibility\n",
    "#bootstrapped_auc_scores = []\n",
    "#bootstrapped_acc_scores = []\n",
    "#bootstrapped_spec_scores = []\n",
    "#bootstrapped_prec_scores = []\n",
    "#bootstrapped_rec_scores = []\n",
    "#bootstrapped_f1_scores = []\n",
    "#bootstrapped_ppv_scores = []\n",
    "#bootstrapped_npv_scores = []\n",
    "\n",
    "#rng = np.random.RandomState(rng_seed)\n",
    "#for i in range(n_bootstraps):\n",
    "#    # bootstrap by sampling with replacement on the prediction indices\n",
    "#    indices = rng.randint(0, len(svm_probs), len(svm_probs))\n",
    "#    if len(np.unique(y_test.to_numpy()[indices])) < 2:\n",
    "#        # We need at least one positive and one negative sample for ROC AUC\n",
    "#        # to be defined: reject the sample\n",
    "#        continue\n",
    "\n",
    "#    auc_score = roc_auc_score(y_test.to_numpy()[indices], svm_probs[indices])\n",
    "#    acc_score = accuracy_score(y_test.to_numpy()[indices], y_pred[indices])\n",
    "#    spec_score = specificity_score(y_test.to_numpy()[indices], y_pred[indices])\n",
    "#    prec_score = precision_score(y_test.to_numpy()[indices], y_pred[indices])\n",
    "#    rec_score = recall_score(y_test.to_numpy()[indices], y_pred[indices])\n",
    "#    f_one_score = f1_score(y_test.to_numpy()[indices].astype('float64'), y_pred[indices].astype('float64'))\n",
    "#    ppv_score = positive_pv_score(y_test.to_numpy()[indices], y_pred[indices])\n",
    "#    npv_score = negative_pv_score(y_test.to_numpy()[indices], y_pred[indices])\n",
    "\n",
    "#    bootstrapped_auc_scores.append(auc_score)\n",
    "#    bootstrapped_acc_scores.append(acc_score)\n",
    "#    bootstrapped_spec_scores.append(spec_score)\n",
    "#    bootstrapped_prec_scores.append(prec_score)\n",
    "#    bootstrapped_rec_scores.append(rec_score)\n",
    "#    bootstrapped_f1_scores.append(f_one_score)\n",
    "#    bootstrapped_ppv_scores.append(ppv_score)\n",
    "#    bootstrapped_npv_scores.append(npv_score)"
   ]
  },
  {
   "cell_type": "code",
   "execution_count": null,
   "metadata": {},
   "outputs": [],
   "source": [
    "#create_ci(bootstrapped_auc_scores, \"AUC\")\n",
    "#create_ci(bootstrapped_acc_scores, \"Accuracy\")\n",
    "#create_ci(bootstrapped_spec_scores, \"Specificity\")\n",
    "#create_ci(bootstrapped_prec_scores, \"Precision\")\n",
    "#create_ci(bootstrapped_rec_scores, \"Recall\")\n",
    "#create_ci(bootstrapped_f1_scores, \"F1\")\n",
    "#create_ci(bootstrapped_ppv_scores, \"PPV\")\n",
    "#create_ci(bootstrapped_npv_scores, \"NPV\")"
   ]
  },
  {
   "cell_type": "code",
   "execution_count": null,
   "metadata": {},
   "outputs": [],
   "source": [
    "sns.set()"
   ]
  },
  {
   "cell_type": "code",
   "execution_count": null,
   "metadata": {},
   "outputs": [],
   "source": [
    "feature_names = X_test.columns.to_list()\n",
    "importances = rf_model.feature_importances_\n",
    "indices = np.argsort(importances)\n",
    "\n",
    "plt.figure(figsize=(10,8))\n",
    "plt.title('Random Forest: Feature Importance',fontsize=20, fontweight='semibold')\n",
    "plt.barh(range(len(indices)), importances[indices], color='b', align='center')\n",
    "plt.xlim(0, 0.15)\n",
    "for index, value in enumerate(importances[indices]):\n",
    "    plt.text(value, index, \" {:.1%}\".format(value), fontsize=14)\n",
    "#plt.yticks(range(len(indices)), [feature_labels_dict[feature_names[i]] for i in indices],fontsize=14)\n",
    "plt.yticks(range(len(indices)), [feature_names[i] for i in indices])\n",
    "plt.xlabel('Relative Importance',fontsize=16)\n",
    "plt.gca().xaxis.set_major_formatter(mtick.PercentFormatter(1))\n",
    "\n",
    "plt.show()"
   ]
  },
  {
   "cell_type": "code",
   "execution_count": null,
   "metadata": {},
   "outputs": [],
   "source": [
    "#sns.reset_orig()"
   ]
  },
  {
   "cell_type": "markdown",
   "metadata": {},
   "source": [
    "# XGBoost"
   ]
  },
  {
   "cell_type": "markdown",
   "metadata": {},
   "source": [
    "### Grid Search for Hyperparameters"
   ]
  },
  {
   "cell_type": "code",
   "execution_count": null,
   "metadata": {},
   "outputs": [],
   "source": [
    "xgb_model = XGBClassifier(random_state = 42)\n",
    "grid_param = {'learning_rate': [0.1, 0.2, 0.3, 0.4, 0.5],\n",
    "              'max_depth': [3, 4, 5, 6]\n",
    "}\n",
    "\n",
    "xgb_grid = GridSearchCV(estimator=xgb_model,\n",
    "                     param_grid=grid_param,\n",
    "                     scoring='accuracy',\n",
    "                     cv=5,\n",
    "                     n_jobs=-1)"
   ]
  },
  {
   "cell_type": "code",
   "execution_count": null,
   "metadata": {},
   "outputs": [],
   "source": [
    "xgb_grid.fit(X_train, y_train)"
   ]
  },
  {
   "cell_type": "code",
   "execution_count": null,
   "metadata": {},
   "outputs": [],
   "source": [
    "print(xgb_grid.best_params_)"
   ]
  },
  {
   "cell_type": "markdown",
   "metadata": {},
   "source": [
    "### Model Performance"
   ]
  },
  {
   "cell_type": "code",
   "execution_count": null,
   "metadata": {},
   "outputs": [],
   "source": [
    "xgb_model = XGBClassifier(learning_rate = 0.5, max_depth = 4, random_state = 42)\n",
    "xgb_model.fit(X_train, y_train)\n",
    "y_pred = xgb_model.predict(X_test)"
   ]
  },
  {
   "cell_type": "code",
   "execution_count": null,
   "metadata": {},
   "outputs": [],
   "source": [
    "print(\"Accuracy Score: \" + str(accuracy_score(y_test, y_pred)))\n",
    "print(\"Specificity Score: \" + str(specificity_score(y_test.to_numpy(), y_pred)))\n",
    "print(\"Precision: \" + str(precision_score(y_test, y_pred)))\n",
    "print(\"Recall: \" + str(recall_score(y_test, y_pred)))\n",
    "print(\"F1 Score: \" + str(f1_score(y_test, y_pred)))\n",
    "\n",
    "print(\"PPV Score: \" + str(positive_pv_score(y_test.to_numpy(), y_pred)))\n",
    "print(\"NPV Score: \" + str(negative_pv_score(y_test.to_numpy(), y_pred)))\n"
   ]
  },
  {
   "cell_type": "code",
   "execution_count": null,
   "metadata": {},
   "outputs": [],
   "source": [
    "xgb_probs = xgb_model.predict_proba(X_test)[:,1]\n",
    "fpr, tpr, thresholds = roc_curve(y_test, xgb_probs)\n",
    "auc = roc_auc_score(y_test, xgb_probs)\n",
    "print(\"AUC: \" + str(auc))"
   ]
  },
  {
   "cell_type": "code",
   "execution_count": null,
   "metadata": {},
   "outputs": [],
   "source": [
    "f = 'gain'\n",
    "xgb_model.get_booster().get_score(importance_type = f)"
   ]
  },
  {
   "cell_type": "code",
   "execution_count": null,
   "metadata": {},
   "outputs": [],
   "source": [
    "feature_important = xgb_model.get_booster().get_score(importance_type='weight')\n",
    "keys = list(feature_important.keys())\n",
    "values = list(feature_important.values())\n",
    "\n",
    "data = pd.DataFrame(data=values, index=keys, columns=[\"weight\"]).sort_values(by = \"weight\", ascending=True)\n",
    "data.plot(kind='barh'); #semi colon to hide AxesSubplot\n",
    "plt.title('XGB: Feature Importance by Weight', fontsize = 20, fontweight='semibold')\n",
    "\n",
    "for i, v in enumerate(sorted(values)):\n",
    "    plt.text(v, i, \" \" + str(v), color='black', va = 'center')"
   ]
  },
  {
   "cell_type": "code",
   "execution_count": null,
   "metadata": {},
   "outputs": [],
   "source": [
    "feature_important = xgb_model.get_booster().get_score(importance_type='gain')\n",
    "keys = list(feature_important.keys())\n",
    "values = list(feature_important.values())\n",
    "\n",
    "data = pd.DataFrame(data=values, index=keys, columns=[\"gain\"]).sort_values(by = \"gain\", ascending=True)\n",
    "data.plot(kind='barh'); #semi colon to hide AxesSubplot\n",
    "plt.title('XGB: Feature Importance by Gain', fontsize = 20, fontweight='semibold')\n",
    "\n",
    "for i, v in enumerate(sorted(values)):\n",
    "    plt.text(v, i, \" {:.2}%\".format(v), fontsize=12, color='black', va = 'center')\n"
   ]
  },
  {
   "cell_type": "code",
   "execution_count": null,
   "metadata": {
    "scrolled": true
   },
   "outputs": [],
   "source": [
    "feature_important = xgb_model.get_booster().get_score(importance_type='cover')\n",
    "keys = list(feature_important.keys())\n",
    "values = list(feature_important.values())\n",
    "\n",
    "data = pd.DataFrame(data=values, index=keys, columns=[\"cover\"]).sort_values(by = \"cover\", ascending=True)\n",
    "data.plot(kind='barh'); #semi colon to hide AxesSubplot\n",
    "plt.title('XGB: Feature Importance by Cover', fontsize = 20, fontweight='semibold')\n",
    "\n",
    "for i, v in enumerate(sorted(values)):\n",
    "    plt.text(v, i, \" {:.3}%\".format(v), fontsize=12, color='black', va = 'center')"
   ]
  },
  {
   "cell_type": "code",
   "execution_count": null,
   "metadata": {},
   "outputs": [],
   "source": [
    "plt.figure(figsize=(7, 7)) ##\n",
    "\n",
    "ns_preds = [0 for _ in range(len(y_test))]\n",
    "\n",
    "ns_fpr, ns_tpr, _ = roc_curve(y_test, ns_preds)\n",
    "\n",
    "plt.plot(ns_fpr, ns_tpr, linestyle='--', label='No Skill')\n",
    "plt.plot(fpr, tpr, marker='.', label='XGBoost')\n",
    "plt.xlabel('1 - Specificity (False Positive Rate)',fontsize=16)\n",
    "plt.ylabel('Sensitivity (True Positive Rate)',fontsize=16)\n",
    "\n",
    "plt.legend(loc='lower right')\n",
    "plt.title('XGB: ROC Curve for Test Set', fontsize=20, fontweight=\"semibold\")\n",
    "short_auc = round(auc,4)\n",
    "plt.text(.93,.1, \"AUC: \" + str(short_auc), \n",
    "        horizontalalignment=\"center\", verticalalignment=\"center\",\n",
    "        fontsize=14, fontweight=\"semibold\")\n",
    "    \n",
    "plt.show()"
   ]
  },
  {
   "cell_type": "code",
   "execution_count": null,
   "metadata": {},
   "outputs": [],
   "source": [
    "matrix = plot_confusion_matrix(xgb_model, X_test, y_test,\n",
    "                               cmap=plt.cm.Blues)\n",
    "plt.title('XGBoost Confusion Matrix')\n",
    "plt.show(matrix)\n",
    "plt.show()"
   ]
  },
  {
   "cell_type": "code",
   "execution_count": null,
   "metadata": {},
   "outputs": [],
   "source": [
    "#n_bootstraps = 2000\n",
    "#rng_seed = 42  # control reproducibility\n",
    "#bootstrapped_auc_scores = []\n",
    "#bootstrapped_acc_scores = []\n",
    "#bootstrapped_spec_scores = []\n",
    "#bootstrapped_prec_scores = []\n",
    "#bootstrapped_rec_scores = []\n",
    "#bootstrapped_f1_scores = []\n",
    "#bootstrapped_ppv_scores = []\n",
    "#bootstrapped_npv_scores = []\n",
    "\n",
    "#rng = np.random.RandomState(rng_seed)\n",
    "#for i in range(n_bootstraps):\n",
    "#    # bootstrap by sampling with replacement on the prediction indices\n",
    "#    indices = rng.randint(0, len(svm_probs), len(svm_probs))\n",
    "#    if len(np.unique(y_test.to_numpy()[indices])) < 2:\n",
    "#        # We need at least one positive and one negative sample for ROC AUC\n",
    "#        # to be defined: reject the sample\n",
    "#        continue\n",
    "\n",
    "#    auc_score = roc_auc_score(y_test.to_numpy()[indices], svm_probs[indices])\n",
    "#    acc_score = accuracy_score(y_test.to_numpy()[indices], y_pred[indices])\n",
    "#    spec_score = specificity_score(y_test.to_numpy()[indices], y_pred[indices])\n",
    "#    prec_score = precision_score(y_test.to_numpy()[indices], y_pred[indices])\n",
    "#    rec_score = recall_score(y_test.to_numpy()[indices], y_pred[indices])\n",
    "#    f_one_score = f1_score(y_test.to_numpy()[indices].astype('float64'), y_pred[indices].astype('float64'))\n",
    "#    ppv_score = positive_pv_score(y_test.to_numpy()[indices], y_pred[indices])\n",
    "#    npv_score = negative_pv_score(y_test.to_numpy()[indices], y_pred[indices])\n",
    "\n",
    "#    bootstrapped_auc_scores.append(auc_score)\n",
    "#    bootstrapped_acc_scores.append(acc_score)\n",
    "#    bootstrapped_spec_scores.append(spec_score)\n",
    "#    bootstrapped_prec_scores.append(prec_score)\n",
    "#    bootstrapped_rec_scores.append(rec_score)\n",
    "#    bootstrapped_f1_scores.append(f_one_score)\n",
    "#    bootstrapped_ppv_scores.append(ppv_score)\n",
    "#    bootstrapped_npv_scores.append(npv_score)"
   ]
  },
  {
   "cell_type": "code",
   "execution_count": null,
   "metadata": {},
   "outputs": [],
   "source": [
    "#create_ci(bootstrapped_auc_scores, \"AUC\")\n",
    "#create_ci(bootstrapped_acc_scores, \"Accuracy\")\n",
    "#create_ci(bootstrapped_spec_scores, \"Specificity\")\n",
    "#create_ci(bootstrapped_prec_scores, \"Precision\")\n",
    "#create_ci(bootstrapped_rec_scores, \"Recall\")\n",
    "#create_ci(bootstrapped_f1_scores, \"F1\")\n",
    "#create_ci(bootstrapped_ppv_scores, \"PPV\")\n",
    "#create_ci(bootstrapped_npv_scores, \"NPV\")"
   ]
  },
  {
   "cell_type": "code",
   "execution_count": null,
   "metadata": {},
   "outputs": [],
   "source": [
    "sns.set()"
   ]
  },
  {
   "cell_type": "code",
   "execution_count": null,
   "metadata": {},
   "outputs": [],
   "source": [
    "feature_names = X_test.columns.to_list()\n",
    "importances = xgb_model.feature_importances_\n",
    "indices = np.argsort(importances)\n",
    "\n",
    "plt.figure(figsize=(10,8))\n",
    "plt.title('eXtreme Gradient Boosting: Feature Importance',fontsize=20, fontweight='semibold')\n",
    "plt.barh(range(len(indices)), importances[indices], color='b', align='center')\n",
    "plt.xlim(0, 0.17)\n",
    "for index, value in enumerate(importances[indices]):\n",
    "    plt.text(value, index, \" {:.1%}\".format(value), fontsize=14)\n",
    "#plt.yticks(range(len(indices)), [feature_labels_dict[feature_names[i]] for i in indices],fontsize=14)\n",
    "plt.yticks(range(len(indices)), [feature_names[i] for i in indices])\n",
    "\n",
    "plt.xlabel('Relative Importance',fontsize=16)\n",
    "plt.gca().xaxis.set_major_formatter(mtick.PercentFormatter(1))\n",
    "\n",
    "plt.show()"
   ]
  },
  {
   "cell_type": "code",
   "execution_count": null,
   "metadata": {},
   "outputs": [],
   "source": [
    "#sns.reset_orig()"
   ]
  },
  {
   "cell_type": "markdown",
   "metadata": {},
   "source": [
    "# Neural Net"
   ]
  },
  {
   "cell_type": "markdown",
   "metadata": {},
   "source": [
    "### Grid Search for Hyperparameters"
   ]
  },
  {
   "cell_type": "code",
   "execution_count": null,
   "metadata": {},
   "outputs": [],
   "source": [
    "nn_model = MLPClassifier(max_iter = 2000, random_state = 42)\n",
    "grid_param = {'hidden_layer_sizes': [(100, 100, 50), (50, 100, 50), (100, 50, 100)],\n",
    "              'learning_rate': ['constant', 'invscaling', 'adaptive']\n",
    "}\n",
    "\n",
    "nn_grid = GridSearchCV(estimator=nn_model,\n",
    "                     param_grid=grid_param,\n",
    "                     scoring='accuracy',\n",
    "                     cv=5,\n",
    "                     n_jobs=-1)"
   ]
  },
  {
   "cell_type": "code",
   "execution_count": null,
   "metadata": {},
   "outputs": [],
   "source": [
    "nn_grid.fit(X_train, y_train)"
   ]
  },
  {
   "cell_type": "code",
   "execution_count": null,
   "metadata": {},
   "outputs": [],
   "source": [
    "print(nn_grid.best_params_)"
   ]
  },
  {
   "cell_type": "markdown",
   "metadata": {},
   "source": [
    "### Model Performance"
   ]
  },
  {
   "cell_type": "code",
   "execution_count": null,
   "metadata": {},
   "outputs": [],
   "source": [
    "nn_model = MLPClassifier(hidden_layer_sizes = (50, 100, 50), learning_rate = 'constant', \n",
    "                         max_iter = 2000, random_state = 42)\n",
    "nn_model.fit(X_train, y_train)\n",
    "y_pred = nn_model.predict(X_test)"
   ]
  },
  {
   "cell_type": "code",
   "execution_count": null,
   "metadata": {},
   "outputs": [],
   "source": [
    "print(\"Accuracy Score: \" + str(accuracy_score(y_test, y_pred)))\n",
    "print(\"Specificity Score: \" + str(specificity_score(y_test.to_numpy(), y_pred)))\n",
    "print(\"Precision: \" + str(precision_score(y_test, y_pred)))\n",
    "print(\"Recall: \" + str(recall_score(y_test, y_pred)))\n",
    "print(\"F1 Score: \" + str(f1_score(y_test, y_pred)))\n",
    "\n",
    "print(\"PPV Score: \" + str(positive_pv_score(y_test.to_numpy(), y_pred)))\n",
    "print(\"NPV Score: \" + str(negative_pv_score(y_test.to_numpy(), y_pred)))\n"
   ]
  },
  {
   "cell_type": "code",
   "execution_count": null,
   "metadata": {},
   "outputs": [],
   "source": [
    "nn_probs = nn_model.predict_proba(X_test)[:,1]\n",
    "fpr, tpr, thresholds = roc_curve(y_test, nn_probs)\n",
    "auc = roc_auc_score(y_test, nn_probs)\n",
    "print(\"AUC: \" + str(auc))"
   ]
  },
  {
   "cell_type": "code",
   "execution_count": null,
   "metadata": {},
   "outputs": [],
   "source": [
    "plt.figure(figsize=(7, 7)) ##\n",
    "\n",
    "ns_preds = [0 for _ in range(len(y_test))]\n",
    "\n",
    "ns_fpr, ns_tpr, _ = roc_curve(y_test, ns_preds)\n",
    "\n",
    "plt.plot(ns_fpr, ns_tpr, linestyle='--', label='No Skill')\n",
    "plt.plot(fpr, tpr, marker='.', label='Neural Network')\n",
    "plt.xlabel('1 - Specificity (False Positive Rate)',fontsize=16)\n",
    "plt.ylabel('Sensitivity (True Positive Rate)',fontsize=16)\n",
    "\n",
    "plt.legend(loc='lower right')\n",
    "plt.title('NN: ROC Curve for Test Set', fontsize=20, fontweight=\"semibold\")\n",
    "short_auc = round(auc,4)\n",
    "plt.text(.93,.1, \"AUC: \" + str(short_auc), \n",
    "        horizontalalignment=\"center\", verticalalignment=\"center\",\n",
    "        fontsize=14, fontweight=\"semibold\")\n",
    "    \n",
    "plt.show()"
   ]
  },
  {
   "cell_type": "code",
   "execution_count": null,
   "metadata": {},
   "outputs": [],
   "source": [
    "matrix = plot_confusion_matrix(nn_model, X_test, y_test,\n",
    "                               cmap=plt.cm.Blues)\n",
    "plt.title('Neural Network Confusion Matrix')\n",
    "plt.show(matrix)\n",
    "plt.show()"
   ]
  },
  {
   "cell_type": "code",
   "execution_count": null,
   "metadata": {},
   "outputs": [],
   "source": [
    "#n_bootstraps = 2000\n",
    "#rng_seed = 42  # control reproducibility\n",
    "#bootstrapped_auc_scores = []\n",
    "#bootstrapped_acc_scores = []\n",
    "#bootstrapped_spec_scores = []\n",
    "#bootstrapped_prec_scores = []\n",
    "#bootstrapped_rec_scores = []\n",
    "#bootstrapped_f1_scores = []\n",
    "#bootstrapped_ppv_scores = []\n",
    "#bootstrapped_npv_scores = []\n",
    "\n",
    "#rng = np.random.RandomState(rng_seed)\n",
    "#for i in range(n_bootstraps):\n",
    "#    # bootstrap by sampling with replacement on the prediction indices\n",
    "#    indices = rng.randint(0, len(svm_probs), len(svm_probs))\n",
    "#    if len(np.unique(y_test.to_numpy()[indices])) < 2:\n",
    "#        # We need at least one positive and one negative sample for ROC AUC\n",
    "#        # to be defined: reject the sample\n",
    "#        continue\n",
    "\n",
    "#    auc_score = roc_auc_score(y_test.to_numpy()[indices], svm_probs[indices])\n",
    "#    acc_score = accuracy_score(y_test.to_numpy()[indices], y_pred[indices])\n",
    "#    spec_score = specificity_score(y_test.to_numpy()[indices], y_pred[indices])\n",
    "#    prec_score = precision_score(y_test.to_numpy()[indices], y_pred[indices])\n",
    "#    rec_score = recall_score(y_test.to_numpy()[indices], y_pred[indices])\n",
    "#    f_one_score = f1_score(y_test.to_numpy()[indices].astype('float64'), y_pred[indices].astype('float64'))\n",
    "#    ppv_score = positive_pv_score(y_test.to_numpy()[indices], y_pred[indices])\n",
    "#    npv_score = negative_pv_score(y_test.to_numpy()[indices], y_pred[indices])\n",
    "\n",
    "#    bootstrapped_auc_scores.append(auc_score)\n",
    "#    bootstrapped_acc_scores.append(acc_score)\n",
    "#    bootstrapped_spec_scores.append(spec_score)\n",
    "#    bootstrapped_prec_scores.append(prec_score)\n",
    "#    bootstrapped_rec_scores.append(rec_score)\n",
    "#    bootstrapped_f1_scores.append(f_one_score)\n",
    "#    bootstrapped_ppv_scores.append(ppv_score)\n",
    "#    bootstrapped_npv_scores.append(npv_score)"
   ]
  },
  {
   "cell_type": "code",
   "execution_count": null,
   "metadata": {},
   "outputs": [],
   "source": [
    "#create_ci(bootstrapped_auc_scores, \"AUC\")\n",
    "#create_ci(bootstrapped_acc_scores, \"Accuracy\")\n",
    "#create_ci(bootstrapped_spec_scores, \"Specificity\")\n",
    "#create_ci(bootstrapped_prec_scores, \"Precision\")\n",
    "#create_ci(bootstrapped_rec_scores, \"Recall\")\n",
    "#create_ci(bootstrapped_f1_scores, \"F1\")\n",
    "#create_ci(bootstrapped_ppv_scores, \"PPV\")\n",
    "#create_ci(bootstrapped_npv_scores, \"NPV\")"
   ]
  },
  {
   "cell_type": "markdown",
   "metadata": {},
   "source": [
    "# "
   ]
  },
  {
   "cell_type": "code",
   "execution_count": null,
   "metadata": {},
   "outputs": [],
   "source": [
    "metadata_df = df['path']\n",
    "target_for_table = df['path']\n",
    "\n",
    "metadata_df\n",
    "\n",
    "features_for_table = df.drop(['path','subgroup','seg_id','id','institution'], axis = 1)\n",
    "target_for_table = target_for_table.map(dict(hgg = 0, pnet = 1))\n",
    "\n",
    "target_for_table\n",
    "\n",
    "X_train_for_table, X_test_for_table, _, _ = train_test_split(features_for_table, target_for_table, \n",
    "                                                    test_size = 0.25, random_state = 42)\n",
    "\n",
    "X_train_for_table['Set'] = 'training'\n",
    "X_test_for_table['Set'] = 'test'\n",
    "\n",
    "X_for_table = pd.concat([X_train_for_table, X_test_for_table])\n",
    "X_for_table = pd.merge(metadata_df, X_for_table, left_index = True, right_index = True)\n",
    "\n",
    "final_df = X_for_table[['path', 'Set']]\n",
    "features_for_table = df.drop(['path','subgroup','seg_id','id','institution'], axis = 1)\n",
    "target_for_table = X_for_table['path']\n",
    "target_for_table = target_for_table.map(dict(hgg = 0, pnet = 1))\n",
    "\n",
    "#features_for_table\n",
    "\n",
    "X_table_reduced = features_for_table[reduced_features_list]\n",
    "\n",
    "#sex_binarized = X_table_reduced['sex'].map(dict(M = 1, F = 0)).to_numpy()\n",
    "#X_table_reduced['sex'] = sex_binarized\n",
    "\n",
    "X_table_reduced\n",
    "\n",
    "names = X_table_reduced.columns\n",
    "X_table_for_probs = scaler.transform(X_table_reduced)\n",
    "X_table_for_probs = pd.DataFrame(X_table_for_probs, columns = names)\n",
    "\n",
    "y_probs = xgb_model.predict_proba(X_table_for_probs)\n",
    "\n",
    "xgb_table = pd.DataFrame(y_probs, columns = ['HGG Prob','PNET Prob'])\n",
    "\n",
    "final_df['HGG Prob'] = xgb_table['HGG Prob']\n",
    "final_df['PNET Prob'] = xgb_table['PNET Prob']\n",
    "\n",
    "\n",
    "final_df['id'] = df['id']\n",
    "final_df = final_df.round(4)\n",
    "\n",
    "final_df\n",
    "final_df.to_csv('xgb_pnet-hgg_classification_results.csv')"
   ]
  },
  {
   "cell_type": "code",
   "execution_count": null,
   "metadata": {},
   "outputs": [],
   "source": []
  }
 ],
 "metadata": {
  "kernelspec": {
   "display_name": "Python 3",
   "language": "python",
   "name": "python3"
  },
  "language_info": {
   "codemirror_mode": {
    "name": "ipython",
    "version": 3
   },
   "file_extension": ".py",
   "mimetype": "text/x-python",
   "name": "python",
   "nbconvert_exporter": "python",
   "pygments_lexer": "ipython3",
   "version": "3.8.5"
  }
 },
 "nbformat": 4,
 "nbformat_minor": 4
}
