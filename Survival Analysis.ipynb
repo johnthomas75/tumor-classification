{
 "cells": [
  {
   "cell_type": "markdown",
   "metadata": {},
   "source": [
    "# Group 3/4 Combined"
   ]
  },
  {
   "cell_type": "code",
   "execution_count": 1,
   "metadata": {},
   "outputs": [],
   "source": [
    "import numpy as np\n",
    "import pandas as pd\n",
    "from matplotlib import pyplot as plt\n",
    "%matplotlib inline \n",
    "import scipy\n",
    "from sklearn.preprocessing import StandardScaler\n",
    "from sklearn.pipeline import make_pipeline\n",
    "from sklearn.model_selection import train_test_split\n",
    "from sklearn.model_selection import KFold\n",
    "from sklearn import metrics\n",
    "from collections import Counter\n",
    "\n",
    "from sksurv.linear_model import CoxPHSurvivalAnalysis\n",
    "from sksurv.metrics import concordance_index_censored\n",
    "from sksurv.util import Surv\n",
    "\n",
    "import pymrmre"
   ]
  },
  {
   "cell_type": "code",
   "execution_count": 2,
   "metadata": {},
   "outputs": [],
   "source": [
    "df = pd.read_excel(\"/Users/samwwong/Desktop/Michael Zhang/mb_t1_t2_3way.xlsx\")"
   ]
  },
  {
   "cell_type": "code",
   "execution_count": 3,
   "metadata": {},
   "outputs": [],
   "source": [
    "df_group34 = df[df['molecular'] == 'group3']\n",
    "df_group34 = df_group34[df_group34['alive'].notnull() | df_group34['os'].notnull()]\n",
    "df_group34['alive'] = df_group34['alive'].replace({'Alive ': 0, \"alive\": 0, \"Alive\": 0, 'Deceased': 1, \"deceased\": 1})\n",
    "df_group34['alive'] = df_group34['alive'].fillna(0)\n",
    "df_group34['t2_original_shape_VoxelVolume'] = df_group34['t2_original_shape_VoxelVolume'] / 1.0\n",
    "df_group34 = df_group34[df_group34['os'].apply(lambda x: type(x) == int or type(x) == float)]\n",
    "df_group34 = df_group34[df_group34['os'] > 1].reset_index(drop=True)"
   ]
  },
  {
   "cell_type": "code",
   "execution_count": 4,
   "metadata": {},
   "outputs": [],
   "source": [
    "y_cols = ['alive', 'os']\n",
    "x_cols = df_group34.columns[9:]    #should we include sex and age as well?\n",
    "\n",
    "feature_cols = x_cols\n",
    "y_name = ['alive', 'os']\n",
    "num_features = 5\n",
    "\n",
    "Cs = []\n",
    "feats = []\n",
    "folds = []"
   ]
  },
  {
   "cell_type": "code",
   "execution_count": 5,
   "metadata": {},
   "outputs": [],
   "source": [
    "#outer loop of nested CV\n",
    "fold_size = len(df_group34) // 5\n",
    "fold1 = df_group34[:fold_size]\n",
    "fold2 = df_group34[fold_size:2*fold_size]\n",
    "fold3 = df_group34[2*fold_size:3*fold_size]\n",
    "fold4 = df_group34[3*fold_size:4*fold_size]\n",
    "fold5 = df_group34[4*fold_size:]"
   ]
  },
  {
   "cell_type": "code",
   "execution_count": 6,
   "metadata": {
    "scrolled": false
   },
   "outputs": [
    {
     "name": "stderr",
     "output_type": "stream",
     "text": [
      "/opt/anaconda3/lib/python3.8/site-packages/pymrmre/MrmreFilter.py:158: RuntimeWarning: invalid value encountered in greater\n",
      "  causality_dropped = np.where(np.array(self._causality_list.loc[target_index]) > causality_threshold)\n",
      "/opt/anaconda3/lib/python3.8/site-packages/pymrmre/MrmreFilter.py:159: RuntimeWarning: invalid value encountered in less\n",
      "  mi_dropped = np.where(-.5 * np.log(1 - np.square(self._mi_matrix[:, target_index])) < mi_threshold)\n",
      "/opt/anaconda3/lib/python3.8/site-packages/pymrmre/MrmreFilter.py:158: RuntimeWarning: invalid value encountered in greater\n",
      "  causality_dropped = np.where(np.array(self._causality_list.loc[target_index]) > causality_threshold)\n",
      "/opt/anaconda3/lib/python3.8/site-packages/pymrmre/MrmreFilter.py:159: RuntimeWarning: invalid value encountered in less\n",
      "  mi_dropped = np.where(-.5 * np.log(1 - np.square(self._mi_matrix[:, target_index])) < mi_threshold)\n",
      "/opt/anaconda3/lib/python3.8/site-packages/pymrmre/MrmreFilter.py:158: RuntimeWarning: invalid value encountered in greater\n",
      "  causality_dropped = np.where(np.array(self._causality_list.loc[target_index]) > causality_threshold)\n",
      "/opt/anaconda3/lib/python3.8/site-packages/pymrmre/MrmreFilter.py:159: RuntimeWarning: invalid value encountered in less\n",
      "  mi_dropped = np.where(-.5 * np.log(1 - np.square(self._mi_matrix[:, target_index])) < mi_threshold)\n",
      "/opt/anaconda3/lib/python3.8/site-packages/pymrmre/MrmreFilter.py:158: RuntimeWarning: invalid value encountered in greater\n",
      "  causality_dropped = np.where(np.array(self._causality_list.loc[target_index]) > causality_threshold)\n",
      "/opt/anaconda3/lib/python3.8/site-packages/pymrmre/MrmreFilter.py:159: RuntimeWarning: invalid value encountered in less\n",
      "  mi_dropped = np.where(-.5 * np.log(1 - np.square(self._mi_matrix[:, target_index])) < mi_threshold)\n",
      "/opt/anaconda3/lib/python3.8/site-packages/pymrmre/MrmreFilter.py:158: RuntimeWarning: invalid value encountered in greater\n",
      "  causality_dropped = np.where(np.array(self._causality_list.loc[target_index]) > causality_threshold)\n",
      "/opt/anaconda3/lib/python3.8/site-packages/pymrmre/MrmreFilter.py:159: RuntimeWarning: invalid value encountered in less\n",
      "  mi_dropped = np.where(-.5 * np.log(1 - np.square(self._mi_matrix[:, target_index])) < mi_threshold)\n"
     ]
    }
   ],
   "source": [
    "for i in range(5):\n",
    "    all_folds = [fold1, fold2, fold3, fold4, fold5]\n",
    "    test = all_folds.pop(i)\n",
    "    train = pd.concat(all_folds)\n",
    "    test.reset_index(inplace=True, drop=True)\n",
    "    train.reset_index(inplace=True, drop=True)\n",
    "    X_train = train[x_cols]\n",
    "    y_train = train[y_cols]\n",
    "    X_test = test[x_cols]\n",
    "    y_test = test[y_cols]\n",
    "    \n",
    "    #K-fold\n",
    "    kf_inner = KFold(n_splits = 5)\n",
    "    best_features = []\n",
    "    inner_auc = []\n",
    "    \n",
    "    for train_index_inner, test_index_inner in kf_inner.split(X_train):\n",
    "        X_train_inner = X_train.iloc[train_index_inner][feature_cols]\n",
    "        y_train_inner = y_train.iloc[train_index_inner][y_name]\n",
    "        X_val = X_train.iloc[test_index_inner][feature_cols]\n",
    "        y_val = y_train.iloc[test_index_inner][y_name]\n",
    "        \n",
    "        surv = Surv.from_arrays(y_train_inner[[\"alive\"]].values.flatten(), y_train_inner[[\"os\"]].values.flatten())\n",
    "        \n",
    "        solutions = pymrmre.mrmr.mrmr_ensemble(features=X_train_inner, targets=pd.DataFrame(surv).astype('double'),\\\n",
    "                                               solution_length=num_features, solution_count=5)\n",
    "        \n",
    "        flat_solution = [item for sublist in solutions.iloc[0] for item in sublist]\n",
    "        flat_solution = list(filter((\"time\").__ne__, flat_solution))\n",
    "        \n",
    "        best_features.append(flat_solution)\n",
    "    \n",
    "    chosen_features = []\n",
    "    flat_features = [item for sublist in best_features for item in sublist]\n",
    "    c = Counter(flat_features)\n",
    "    mc = c.most_common(num_features)\n",
    "    for features in mc:\n",
    "        chosen_features.append(features[0])\n",
    "    \n",
    "    y = Surv.from_arrays(y_train[['alive']].values.flatten(), y_train[['os']].values.flatten())\n",
    "    \n",
    "    estimator = CoxPHSurvivalAnalysis().fit(X_train[chosen_features].values, y)\n",
    "    pred = estimator.predict(X_test[chosen_features].values)\n",
    "    \n",
    "    event_indicators = []\n",
    "    event_time = []\n",
    "    for j in range(len(y_test.values)):\n",
    "        event_indicators.append(bool(y_test.values[j][0]))\n",
    "        event_time.append(y_test.values[j][1])\n",
    "    \n",
    "    C = (concordance_index_censored(event_indicators, event_time, pred))\n",
    "    \n",
    "    Cs.append(C[0])\n",
    "    feats.append(chosen_features)\n",
    "    folds.append(i+1)"
   ]
  },
  {
   "cell_type": "code",
   "execution_count": 7,
   "metadata": {},
   "outputs": [],
   "source": [
    "d = {'Concordance':Cs,'Features':feats, \"Fold\":folds}\n",
    "result_df = pd.DataFrame(d)"
   ]
  },
  {
   "cell_type": "code",
   "execution_count": 8,
   "metadata": {},
   "outputs": [
    {
     "data": {
      "text/html": [
       "<div>\n",
       "<style scoped>\n",
       "    .dataframe tbody tr th:only-of-type {\n",
       "        vertical-align: middle;\n",
       "    }\n",
       "\n",
       "    .dataframe tbody tr th {\n",
       "        vertical-align: top;\n",
       "    }\n",
       "\n",
       "    .dataframe thead th {\n",
       "        text-align: right;\n",
       "    }\n",
       "</style>\n",
       "<table border=\"1\" class=\"dataframe\">\n",
       "  <thead>\n",
       "    <tr style=\"text-align: right;\">\n",
       "      <th></th>\n",
       "      <th>Concordance</th>\n",
       "      <th>Features</th>\n",
       "      <th>Fold</th>\n",
       "    </tr>\n",
       "  </thead>\n",
       "  <tbody>\n",
       "    <tr>\n",
       "      <th>0</th>\n",
       "      <td>0.736842</td>\n",
       "      <td>[t1_wavelet-HHH_firstorder_Median, t1_wavelet-...</td>\n",
       "      <td>1</td>\n",
       "    </tr>\n",
       "    <tr>\n",
       "      <th>1</th>\n",
       "      <td>0.925000</td>\n",
       "      <td>[t1_wavelet-HHH_glszm_SizeZoneNonUniformityNor...</td>\n",
       "      <td>2</td>\n",
       "    </tr>\n",
       "    <tr>\n",
       "      <th>2</th>\n",
       "      <td>0.552083</td>\n",
       "      <td>[t2_wavelet-HHH_glszm_SmallAreaLowGrayLevelEmp...</td>\n",
       "      <td>3</td>\n",
       "    </tr>\n",
       "    <tr>\n",
       "      <th>3</th>\n",
       "      <td>0.521739</td>\n",
       "      <td>[t1_wavelet-HHH_glszm_SmallAreaLowGrayLevelEmp...</td>\n",
       "      <td>4</td>\n",
       "    </tr>\n",
       "    <tr>\n",
       "      <th>4</th>\n",
       "      <td>0.432203</td>\n",
       "      <td>[t1_wavelet-HLH_firstorder_Mean, t2_wavelet-HH...</td>\n",
       "      <td>5</td>\n",
       "    </tr>\n",
       "  </tbody>\n",
       "</table>\n",
       "</div>"
      ],
      "text/plain": [
       "   Concordance                                           Features  Fold\n",
       "0     0.736842  [t1_wavelet-HHH_firstorder_Median, t1_wavelet-...     1\n",
       "1     0.925000  [t1_wavelet-HHH_glszm_SizeZoneNonUniformityNor...     2\n",
       "2     0.552083  [t2_wavelet-HHH_glszm_SmallAreaLowGrayLevelEmp...     3\n",
       "3     0.521739  [t1_wavelet-HHH_glszm_SmallAreaLowGrayLevelEmp...     4\n",
       "4     0.432203  [t1_wavelet-HLH_firstorder_Mean, t2_wavelet-HH...     5"
      ]
     },
     "execution_count": 8,
     "metadata": {},
     "output_type": "execute_result"
    }
   ],
   "source": [
    "result_df"
   ]
  },
  {
   "cell_type": "code",
   "execution_count": null,
   "metadata": {},
   "outputs": [],
   "source": []
  }
 ],
 "metadata": {
  "kernelspec": {
   "display_name": "Python 3",
   "language": "python",
   "name": "python3"
  },
  "language_info": {
   "codemirror_mode": {
    "name": "ipython",
    "version": 3
   },
   "file_extension": ".py",
   "mimetype": "text/x-python",
   "name": "python",
   "nbconvert_exporter": "python",
   "pygments_lexer": "ipython3",
   "version": "3.8.3"
  }
 },
 "nbformat": 4,
 "nbformat_minor": 4
}
